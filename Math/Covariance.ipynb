{
 "cells": [
  {
   "cell_type": "markdown",
   "metadata": {},
   "source": [
    "### TO LEARN\n",
    "- dot product/ matrix multiplication /  inner product\n",
    "- np.dot\n",
    "For 2-D arrays it is equivalent to matrix multiplication, and for 1-D arrays to inner product of vectors (without complex conjugation). [link](https://stackoverflow.com/questions/34142485/difference-between-numpy-dot-and-python-3-5-matrix-multiplication)"
   ]
  },
  {
   "cell_type": "markdown",
   "metadata": {},
   "source": [
    "### Info\n",
    "1. [np.cov](https://numpy.org/doc/stable/reference/generated/numpy.cov.html)\n",
    "2. [covariance matrix](https://www.itl.nist.gov/div898/handbook/pmc/section5/pmc541.htm)\n",
    "3. [TO READ, covariance, cross-covariance, auto-/cross-correliation and power spectrum density](https://stats.stackexchange.com/questions/49901/intuitive-understanding-covariance-cross-covariance-auto-cross-correliation-a)"
   ]
  },
  {
   "cell_type": "code",
   "execution_count": 1,
   "metadata": {},
   "outputs": [],
   "source": [
    "import numpy as np\n",
    "import torch\n",
    "import tensorflow as tf"
   ]
  },
  {
   "cell_type": "code",
   "execution_count": 2,
   "metadata": {},
   "outputs": [],
   "source": [
    "X = np.array([[4.0,2.0,0.60],\n",
    "               [4.2,2.1,0.59],\n",
    "               [3.9,2.0,0.58],\n",
    "               [4.3,2.1,0.62],\n",
    "               [4.1,2.2,0.63]])\n",
    "# X = np.array([[0, 2], [1, 1], [2, 0]])"
   ]
  },
  {
   "cell_type": "code",
   "execution_count": 3,
   "metadata": {},
   "outputs": [
    {
     "data": {
      "text/plain": [
       "array([4.1  , 2.08 , 0.604])"
      ]
     },
     "execution_count": 3,
     "metadata": {},
     "output_type": "execute_result"
    }
   ],
   "source": [
    "X_=np.mean(X, axis=0)\n",
    "X_"
   ]
  },
  {
   "cell_type": "code",
   "execution_count": 4,
   "metadata": {},
   "outputs": [
    {
     "data": {
      "text/plain": [
       "array([[-0.1  , -0.08 , -0.004],\n",
       "       [ 0.1  ,  0.02 , -0.014],\n",
       "       [-0.2  , -0.08 , -0.024],\n",
       "       [ 0.2  ,  0.02 ,  0.016],\n",
       "       [ 0.   ,  0.12 ,  0.026]])"
      ]
     },
     "execution_count": 4,
     "metadata": {},
     "output_type": "execute_result"
    }
   ],
   "source": [
    "diff = (X-X_)\n",
    "diff"
   ]
  },
  {
   "cell_type": "markdown",
   "metadata": {},
   "source": [
    "### Same formular for variance-covariance matrix (or covariance matrix) and np.cov"
   ]
  },
  {
   "cell_type": "markdown",
   "metadata": {},
   "source": [
    "![image.png](./imgs/covariance.png)"
   ]
  },
  {
   "cell_type": "markdown",
   "metadata": {},
   "source": [
    "From the formular the ij are the opposite so need to switch the transpose"
   ]
  },
  {
   "cell_type": "code",
   "execution_count": 5,
   "metadata": {},
   "outputs": [
    {
     "data": {
      "text/plain": [
       "array([[0.025  , 0.0075 , 0.00175],\n",
       "       [0.0075 , 0.007  , 0.00135],\n",
       "       [0.00175, 0.00135, 0.00043]])"
      ]
     },
     "execution_count": 5,
     "metadata": {},
     "output_type": "execute_result"
    }
   ],
   "source": [
    "np.dot(diff.T, diff)/(X.shape[0]-1)"
   ]
  },
  {
   "cell_type": "code",
   "execution_count": 6,
   "metadata": {},
   "outputs": [
    {
     "data": {
      "text/plain": [
       "array([[0.025  , 0.0075 , 0.00175],\n",
       "       [0.0075 , 0.007  , 0.00135],\n",
       "       [0.00175, 0.00135, 0.00043]])"
      ]
     },
     "execution_count": 6,
     "metadata": {},
     "output_type": "execute_result"
    }
   ],
   "source": [
    "np.cov(X.T)"
   ]
  }
 ],
 "metadata": {
  "kernelspec": {
   "display_name": "Python 3",
   "language": "python",
   "name": "python3"
  },
  "language_info": {
   "codemirror_mode": {
    "name": "ipython",
    "version": 3
   },
   "file_extension": ".py",
   "mimetype": "text/x-python",
   "name": "python",
   "nbconvert_exporter": "python",
   "pygments_lexer": "ipython3",
   "version": "3.8.5"
  }
 },
 "nbformat": 4,
 "nbformat_minor": 4
}
