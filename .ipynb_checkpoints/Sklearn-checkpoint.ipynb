{
 "cells": [
  {
   "cell_type": "markdown",
   "metadata": {},
   "source": [
    "### Min Max Scaler"
   ]
  },
  {
   "cell_type": "code",
   "execution_count": 2,
   "metadata": {},
   "outputs": [
    {
     "data": {
      "text/plain": [
       "array([[41, 60],\n",
       "       [ 9, 73],\n",
       "       [27,  0],\n",
       "       [45, 70],\n",
       "       [18, 25],\n",
       "       [33, 69],\n",
       "       [65, 17],\n",
       "       [93, 83],\n",
       "       [28, 91],\n",
       "       [49, 13]])"
      ]
     },
     "execution_count": 2,
     "metadata": {},
     "output_type": "execute_result"
    }
   ],
   "source": [
    "import numpy as np\n",
    "from sklearn.preprocessing import MinMaxScaler\n",
    "\n",
    "data = np.random.randint(0,100,(10,2))\n",
    "data"
   ]
  },
  {
   "cell_type": "code",
   "execution_count": 3,
   "metadata": {},
   "outputs": [
    {
     "name": "stderr",
     "output_type": "stream",
     "text": [
      "/Users/epinyoanun/anaconda3/lib/python3.6/site-packages/sklearn/utils/validation.py:475: DataConversionWarning: Data with input dtype int64 was converted to float64 by MinMaxScaler.\n",
      "  warnings.warn(msg, DataConversionWarning)\n"
     ]
    },
    {
     "data": {
      "text/plain": [
       "array([[ 0.38095238,  0.65934066],\n",
       "       [ 0.        ,  0.8021978 ],\n",
       "       [ 0.21428571,  0.        ],\n",
       "       [ 0.42857143,  0.76923077],\n",
       "       [ 0.10714286,  0.27472527],\n",
       "       [ 0.28571429,  0.75824176],\n",
       "       [ 0.66666667,  0.18681319],\n",
       "       [ 1.        ,  0.91208791],\n",
       "       [ 0.22619048,  1.        ],\n",
       "       [ 0.47619048,  0.14285714]])"
      ]
     },
     "execution_count": 3,
     "metadata": {},
     "output_type": "execute_result"
    }
   ],
   "source": [
    "scaler_model = MinMaxScaler()\n",
    "scaler_model.fit(data) # fit to train set\n",
    "scaled_data = scaler_model.transform(data) # and transform for both test & train\n",
    "scaled_data"
   ]
  },
  {
   "cell_type": "code",
   "execution_count": 4,
   "metadata": {},
   "outputs": [
    {
     "name": "stdout",
     "output_type": "stream",
     "text": [
      "max: [ 41.   9.  27.  45.  18.  33.  65.  93.  28.  49.]\n",
      "min: [ 60.  73.   0.  70.  25.  69.  17.  83.  91.  13.]\n"
     ]
    }
   ],
   "source": [
    "# Try to reverse engineer the the result\n",
    "data_max = np.ndarray.max(data,0)\n",
    "data_min = np.ndarray.min(data,0)\n",
    "print('max:', scaled_data[:,0]*(data_max[0]-data_min[0])+data_min[0])\n",
    "print('min:', scaled_data[:,1]*(data_max[1]-data_min[1])+data_min[1])"
   ]
  },
  {
   "cell_type": "code",
   "execution_count": null,
   "metadata": {
    "collapsed": true
   },
   "outputs": [],
   "source": [
    "# In the case, that data is DataFrame we need to initate the DataFrame again (return type is np.array)\n",
    "# X_train = pd.DataFrame(data=scaler.transform(X_train),columns = X_train.columns,index=X_train.index)"
   ]
  },
  {
   "cell_type": "markdown",
   "metadata": {},
   "source": [
    "### Train Test Split"
   ]
  },
  {
   "cell_type": "code",
   "execution_count": 5,
   "metadata": {},
   "outputs": [
    {
     "data": {
      "text/plain": [
       "(35, 3)"
      ]
     },
     "execution_count": 5,
     "metadata": {},
     "output_type": "execute_result"
    }
   ],
   "source": [
    "from sklearn.model_selection import train_test_split\n",
    "import pandas as pd\n",
    "data = pd.DataFrame(\n",
    "    data=np.random.randint(0,101,(50,4)),\n",
    "    columns=['f1','f2','f3','label']\n",
    ")\n",
    "X_data = data.drop('label',axis=1)\n",
    "y_data = data['label']\n",
    "\n",
    "X_train,X_test,y_train,y_test = train_test_split(X_data,y_data,test_size=0.3,random_state=101)\n",
    "\n",
    "X_train.shape"
   ]
  },
  {
   "cell_type": "code",
   "execution_count": null,
   "metadata": {
    "collapsed": true
   },
   "outputs": [],
   "source": []
  }
 ],
 "metadata": {
  "kernelspec": {
   "display_name": "Python 3",
   "language": "python",
   "name": "python3"
  },
  "language_info": {
   "codemirror_mode": {
    "name": "ipython",
    "version": 3
   },
   "file_extension": ".py",
   "mimetype": "text/x-python",
   "name": "python",
   "nbconvert_exporter": "python",
   "pygments_lexer": "ipython3",
   "version": "3.6.3"
  }
 },
 "nbformat": 4,
 "nbformat_minor": 2
}
