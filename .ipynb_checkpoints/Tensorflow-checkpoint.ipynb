{
 "cells": [
  {
   "cell_type": "code",
   "execution_count": 12,
   "metadata": {
    "collapsed": true
   },
   "outputs": [],
   "source": [
    "import tensorflow as tf\n",
    "import numpy as np\n",
    "\n",
    "# Using session \"InteractiveSession\" instead\n",
    "# def runTensor(tensor):\n",
    "#     with tf.Session() as sess:\n",
    "#         return sess.run(tensor)\n",
    "sess = tf.InteractiveSession()"
   ]
  },
  {
   "cell_type": "markdown",
   "metadata": {},
   "source": [
    "### Resize"
   ]
  },
  {
   "cell_type": "code",
   "execution_count": 28,
   "metadata": {},
   "outputs": [
    {
     "name": "stdout",
     "output_type": "stream",
     "text": [
      "a= [[1 2]\n",
      " [3 4]]\n",
      "b= [[1 2]\n",
      " [3 4]\n",
      " [5 6]]\n"
     ]
    }
   ],
   "source": [
    "a = tf.reshape([1,2,3,4],shape=[2,2])\n",
    "print('a=', a.eval())\n",
    "\n",
    "b = tf.reshape([1,2,3,4,5,6],shape=[-1,2]) # -1 means what ever that fit\n",
    "print('b=', b.eval())"
   ]
  },
  {
   "cell_type": "markdown",
   "metadata": {},
   "source": [
    "### Convolution"
   ]
  },
  {
   "cell_type": "code",
   "execution_count": 26,
   "metadata": {},
   "outputs": [
    {
     "name": "stdout",
     "output_type": "stream",
     "text": [
      "x.shape =  (1, 2, 2, 3)\n",
      "W.shape =  (1, 1, 3, 1)\n",
      "conv.shape =  (1, 2, 2, 1)\n"
     ]
    }
   ],
   "source": [
    "x=np.array([[[[1,2,3],[4,5,6]],\n",
    "           [[7,8,9],[10,11,12]]]],dtype=np.float32)\n",
    "W=np.array([[[[1],[1],[1]]]],dtype=np.float32)\n",
    "\n",
    "print('x.shape = ', x.shape)\n",
    "print('W.shape = ', W.shape)\n",
    "\n",
    "# conv\n",
    "#  - stride = [batch, height(row), width(col), channel] >>> typically batch and channel should be 1 \n",
    "#             because no skip batch and apply to all channel\n",
    "#  - padding = 'SAME' add padding 0\n",
    "conv = tf.nn.conv2d(x,W,strides=[1,1,1,1], padding='SAME')\n",
    "print('conv.shape = ', conv.shape)"
   ]
  },
  {
   "cell_type": "markdown",
   "metadata": {
    "collapsed": true
   },
   "source": [
    "#### Pooling"
   ]
  },
  {
   "cell_type": "code",
   "execution_count": 30,
   "metadata": {},
   "outputs": [
    {
     "name": "stdout",
     "output_type": "stream",
     "text": [
      "batch   : 1\n",
      "height  : 2\n",
      "width   : 3\n",
      "channels: 4\n"
     ]
    },
    {
     "data": {
      "text/plain": [
       "array([[[[13, 14, 15, 16],\n",
       "         [17, 18, 19, 20],\n",
       "         [21, 22, 23, 24]],\n",
       "\n",
       "        [[13, 14, 15, 16],\n",
       "         [17, 18, 19, 20],\n",
       "         [21, 22, 23, 24]]]])"
      ]
     },
     "execution_count": 30,
     "metadata": {},
     "output_type": "execute_result"
    }
   ],
   "source": [
    "# [batch, height, width, channels]\n",
    "x = list(range(1,25))\n",
    "x = np.reshape(x,[1,2,3,4])\n",
    "\n",
    "print('batch   :',len(x))\n",
    "print('height  :',len(x[0]))\n",
    "print('width   :',len(x[0][0]))\n",
    "print('channels:',len(x[0][0][0]))\n",
    "# # Try to adjust height/width/channel of ksize and strides to make you more understand.\n",
    "# >>> typically batch and channel should be 1\n",
    "max_pool = tf.nn.max_pool( x, ksize=[1, 2, 1, 1], # size of window : [batch, height, width, channels]\n",
    "                            strides=[1, 1, 1, 1], # stride (skip) : [batch, height, width, channels]\n",
    "                            padding='SAME')\n",
    "max_pool.eval()"
   ]
  },
  {
   "cell_type": "markdown",
   "metadata": {},
   "source": [
    "### Dropout\n",
    "```python\n",
    "tf.nn.dropout(full_layer_one, keep_prob=hold_prob)\n",
    "```\n",
    "It's only dropout in layer, not the whole network."
   ]
  },
  {
   "cell_type": "markdown",
   "metadata": {},
   "source": [
    "### Basic"
   ]
  },
  {
   "cell_type": "code",
   "execution_count": 35,
   "metadata": {},
   "outputs": [],
   "source": [
    "ph = tf.placeholder(tf.float32, name=\"yo\")\n",
    "x = tf.Variable(1)\n",
    "c = tf.constant(5.0)"
   ]
  },
  {
   "cell_type": "markdown",
   "metadata": {},
   "source": [
    "### Util"
   ]
  },
  {
   "cell_type": "code",
   "execution_count": 40,
   "metadata": {},
   "outputs": [
    {
     "data": {
      "text/plain": [
       "array([2, 5], dtype=int32)"
      ]
     },
     "execution_count": 40,
     "metadata": {},
     "output_type": "execute_result"
    }
   ],
   "source": [
    "tf.reduce_mean([[1,2,3],[4,5,6]],axis=1).eval()"
   ]
  },
  {
   "cell_type": "code",
   "execution_count": null,
   "metadata": {
    "collapsed": true
   },
   "outputs": [],
   "source": []
  }
 ],
 "metadata": {
  "kernelspec": {
   "display_name": "Python 3",
   "language": "python",
   "name": "python3"
  },
  "language_info": {
   "codemirror_mode": {
    "name": "ipython",
    "version": 3
   },
   "file_extension": ".py",
   "mimetype": "text/x-python",
   "name": "python",
   "nbconvert_exporter": "python",
   "pygments_lexer": "ipython3",
   "version": "3.5.4"
  }
 },
 "nbformat": 4,
 "nbformat_minor": 2
}
