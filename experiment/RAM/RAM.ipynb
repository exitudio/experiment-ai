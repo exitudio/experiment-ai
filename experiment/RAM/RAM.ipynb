{
 "cells": [
  {
   "cell_type": "code",
   "execution_count": 435,
   "metadata": {},
   "outputs": [],
   "source": [
    "%matplotlib inline\n",
    "%reload_ext autoreload\n",
    "%autoreload 2\n",
    "\n",
    "import torch\n",
    "from torch.utils.data import DataLoader\n",
    "import torchvision.datasets as datasets\n",
    "from torchvision import transforms\n",
    "from matplotlib import pyplot as plt\n",
    "from torchvision import transforms\n",
    "import torch.nn.functional as F\n",
    "from torch.autograd import Variable\n",
    "\n",
    "pilImage = transforms.ToPILImage()\n",
    "\n",
    "from models import GlimpseSensor, GlimpseNetwork, CoreNetwork\n",
    "\n"
   ]
  },
  {
   "cell_type": "markdown",
   "metadata": {},
   "source": [
    "### Load Images"
   ]
  },
  {
   "cell_type": "code",
   "execution_count": 278,
   "metadata": {},
   "outputs": [],
   "source": [
    "mnist_trainset = datasets.MNIST('../../data', train=False, download=True,\n",
    "                                   transform=transforms.Compose([\n",
    "                                       transforms.ToTensor(),\n",
    "#                                        transforms.Normalize((0.1307,), (0.3081,))\n",
    "                                   ]))\n",
    "data_loader_train = DataLoader(mnist_trainset, 64, shuffle=True, num_workers=8)"
   ]
  },
  {
   "cell_type": "code",
   "execution_count": 279,
   "metadata": {},
   "outputs": [
    {
     "data": {
      "image/png": "[encoded data removed]",
      "text/plain": [
       "<PIL.Image.Image image mode=L size=28x28 at 0x11D25FC88>"
      ]
     },
     "execution_count": 279,
     "metadata": {},
     "output_type": "execute_result"
    }
   ],
   "source": [
    "data, target = next(iter(data_loader_train))\n",
    "pilImage(data[0])"
   ]
  },
  {
   "cell_type": "markdown",
   "metadata": {},
   "source": [
    "### Test GlimpseSensor"
   ]
  },
  {
   "cell_type": "code",
   "execution_count": 434,
   "metadata": {},
   "outputs": [
    {
     "data": {
      "image/png": "[encoded data removed]",
      "text/plain": [
       "<PIL.Image.Image image mode=L size=28x28 at 0x11CB5FCC0>"
      ]
     },
     "execution_count": 434,
     "metadata": {},
     "output_type": "execute_result"
    }
   ],
   "source": [
    "mock_location = torch.Tensor((1, 0)).repeat(1,64).view(64, 2)\n",
    "g = GlimpseSensor(retina_size=28)\n",
    "a = g.foveate(data, locations=mock_location)\n",
    "a = a.view(-1, 3, 1, 28, 28) # (batch, num_glimpse, channel, H, W)\n",
    "pilImage(a[0][0])"
   ]
  },
  {
   "cell_type": "markdown",
   "metadata": {},
   "source": [
    "### GlimpseNetwork"
   ]
  },
  {
   "cell_type": "code",
   "execution_count": 441,
   "metadata": {},
   "outputs": [
    {
     "data": {
      "text/plain": [
       "tensor([[0.0000, 0.0000, 0.2695,  ..., 0.5554, 0.0514, 0.0204],\n",
       "        [0.0000, 0.0000, 0.2695,  ..., 0.5412, 0.0514, 0.0258],\n",
       "        [0.0000, 0.0000, 0.2695,  ..., 0.5546, 0.0514, 0.0273],\n",
       "        ...,\n",
       "        [0.0000, 0.0000, 0.2695,  ..., 0.5923, 0.0514, 0.0646],\n",
       "        [0.0000, 0.0000, 0.2695,  ..., 0.5384, 0.0514, 0.0324],\n",
       "        [0.0000, 0.0000, 0.2695,  ..., 0.5763, 0.0514, 0.0098]],\n",
       "       grad_fn=<ReluBackward>)"
      ]
     },
     "execution_count": 441,
     "metadata": {},
     "output_type": "execute_result"
    }
   ],
   "source": [
    "glimseNetwork = GlimpseNetwork(\n",
    "                     num_hidden_glimpse = 128,\n",
    "                     num_hidden_location = 128,\n",
    "                     retina_size = 7,\n",
    "                     num_glimpse = 3,\n",
    "                     scale = 2,\n",
    "                     channel = 1)\n",
    "glimpse_location = glimseNetwork(data, mock_location)\n",
    "glimpse_location"
   ]
  },
  {
   "cell_type": "markdown",
   "metadata": {},
   "source": [
    "### Core Network"
   ]
  },
  {
   "cell_type": "code",
   "execution_count": 438,
   "metadata": {},
   "outputs": [],
   "source": [
    "h_prev = torch.zeros((256))"
   ]
  },
  {
   "cell_type": "code",
   "execution_count": 442,
   "metadata": {},
   "outputs": [
    {
     "data": {
      "text/plain": [
       "torch.Size([64, 256])"
      ]
     },
     "execution_count": 442,
     "metadata": {},
     "output_type": "execute_result"
    }
   ],
   "source": [
    "coreNetwork = CoreNetwork(num_glimpse_location = 256, num_h=256)\n",
    "c = coreNetwork(glimpse_location = glimpse_location, h_prev = h_prev)\n",
    "c.shape"
   ]
  }
 ],
 "metadata": {
  "kernelspec": {
   "display_name": "Python 3",
   "language": "python",
   "name": "python3"
  },
  "language_info": {
   "codemirror_mode": {
    "name": "ipython",
    "version": 3
   },
   "file_extension": ".py",
   "mimetype": "text/x-python",
   "name": "python",
   "nbconvert_exporter": "python",
   "pygments_lexer": "ipython3",
   "version": "3.6.7"
  }
 },
 "nbformat": 4,
 "nbformat_minor": 2
}
