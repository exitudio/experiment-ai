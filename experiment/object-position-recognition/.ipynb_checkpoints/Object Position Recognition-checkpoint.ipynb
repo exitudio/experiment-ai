{
 "cells": [
  {
   "cell_type": "markdown",
   "metadata": {},
   "source": [
    "### Copy model from\n",
    "[link](https://github.com/lars76/object-localization)"
   ]
  },
  {
   "cell_type": "code",
   "execution_count": 89,
   "metadata": {},
   "outputs": [
    {
     "name": "stdout",
     "output_type": "stream",
     "text": [
      "The autoreload extension is already loaded. To reload it, use:\n",
      "  %reload_ext autoreload\n"
     ]
    }
   ],
   "source": [
    "%load_ext autoreload\n",
    "%autoreload 2\n",
    "from keras.utils import to_categorical\n",
    "import numpy as np\n",
    "import pandas as pd\n",
    "from sklearn.model_selection import train_test_split\n",
    "import tensorflow as tf"
   ]
  },
  {
   "cell_type": "code",
   "execution_count": 244,
   "metadata": {
    "scrolled": false
   },
   "outputs": [],
   "source": [
    "img_rows = img_cols = 128\n",
    "input_shape = (img_rows, img_cols, 3)"
   ]
  },
  {
   "cell_type": "code",
   "execution_count": 254,
   "metadata": {
    "scrolled": true
   },
   "outputs": [],
   "source": [
    "import getimages\n",
    "X_train = getimages.load_images_in_folder_to_nparray(\"./data/circles_train/\")/255\n",
    "X_test = getimages.load_images_in_folder_to_nparray(\"./data/circles_test/\")/255\n",
    "X_val = getimages.load_images_in_folder_to_nparray(\"./data/circles_val/\")/255"
   ]
  },
  {
   "cell_type": "code",
   "execution_count": 255,
   "metadata": {},
   "outputs": [],
   "source": [
    "from numpy import genfromtxt\n",
    "y_train = genfromtxt('./data/circles_train/locations.csv', delimiter=',')/img_rows\n",
    "y_test = genfromtxt('./data/circles_test/locations.csv', delimiter=',')/img_rows\n",
    "y_val = genfromtxt('./data/circles_val/locations.csv', delimiter=',')/img_rows"
   ]
  },
  {
   "cell_type": "markdown",
   "metadata": {},
   "source": [
    "### 1. Keras"
   ]
  },
  {
   "cell_type": "code",
   "execution_count": null,
   "metadata": {},
   "outputs": [],
   "source": [
    "import keras\n",
    "from keras.models import Sequential\n",
    "from keras.layers import Dense, Dropout, Flatten, Conv2D, MaxPooling2D, core\n",
    "from keras.layers.normalization import BatchNormalization\n",
    "from keras.applications.mobilenet import MobileNet, _depthwise_conv_block\n",
    "from keras.engine import training\n",
    "\n",
    "\n",
    "batch_size = 32\n",
    "num_classes = 2\n",
    "epochs = 4000\n",
    "\n",
    "# model = Sequential()\n",
    "# model.add(Conv2D(32, kernel_size=(3, 3),\n",
    "#                  activation='relu',\n",
    "#                  kernel_initializer='he_normal',\n",
    "#                  input_shape=input_shape))\n",
    "# model.add(MaxPooling2D((2, 2)))\n",
    "# model.add(Dropout(0.25))\n",
    "# model.add(Conv2D(64, (3, 3), activation='relu'))\n",
    "# model.add(MaxPooling2D(pool_size=(2, 2)))\n",
    "# model.add(Dropout(0.25))\n",
    "# model.add(Conv2D(128, (3, 3), activation='relu'))\n",
    "# model.add(Dropout(0.4))\n",
    "# model.add(Flatten())\n",
    "# model.add(Dense(128, activation='relu'))\n",
    "# model.add(Dropout(0.3))\n",
    "# model.add(Dense(num_classes, activation='softmax'))\n",
    "# model.add(Dense(4))\n",
    "\n",
    "alpha = 0.25\n",
    "model_net = MobileNet(input_shape=input_shape, include_top=False, alpha=alpha)\n",
    "x = _depthwise_conv_block(model_net.layers[-1].output, 1024, alpha, 1, block_id=14)\n",
    "x = MaxPooling2D(pool_size=(3, 3))(x)\n",
    "x = Conv2D(4, kernel_size=(1, 1), padding=\"same\")(x)\n",
    "x = core.Reshape((4,))(x)\n",
    "\n",
    "model = training.Model(inputs=model_net.input, outputs=x)\n",
    "\n",
    "model.compile(loss='mean_squared_error',\n",
    "              optimizer=keras.optimizers.Adam(),\n",
    "              metrics=['accuracy'])"
   ]
  },
  {
   "cell_type": "code",
   "execution_count": null,
   "metadata": {
    "scrolled": true
   },
   "outputs": [],
   "source": [
    "import os\n",
    "directory = \"data/weights\"\n",
    "if not os.path.exists(directory):\n",
    "    os.makedirs(directory)\n",
    "\n",
    "checkpoint = ModelCheckpoint(\"data/weights/model-{val_acc:.2f}.h5\", monitor=\"val_acc\", verbose=1, save_best_only=True,\n",
    "                                 save_weights_only=True, mode=\"auto\", period=1)\n",
    "\n",
    "\n",
    "history = model.fit(X_train, y_train,\n",
    "          batch_size=batch_size,\n",
    "          epochs=epochs,\n",
    "          verbose=1,\n",
    "          validation_data=(X_val, y_val),\n",
    "          callbacks=[checkpoint])\n",
    "score = model.evaluate(X_test, y_test, verbose=0)"
   ]
  },
  {
   "cell_type": "code",
   "execution_count": 253,
   "metadata": {},
   "outputs": [
    {
     "data": {
      "text/plain": [
       "[0.00017363207007292658, 0.921875]"
      ]
     },
     "execution_count": 253,
     "metadata": {},
     "output_type": "execute_result"
    }
   ],
   "source": [
    "score = model.evaluate(X_test, y_test, verbose=0)\n",
    "score"
   ]
  },
  {
   "cell_type": "code",
   "execution_count": 155,
   "metadata": {},
   "outputs": [
    {
     "data": {
      "text/plain": [
       "<matplotlib.image.AxesImage at 0x188d37c18>"
      ]
     },
     "execution_count": 155,
     "metadata": {},
     "output_type": "execute_result"
    },
    {
     "data": {
      "image/png": "[encoded data removed]",
      "text/plain": [
       "<Figure size 432x288 with 1 Axes>"
      ]
     },
     "metadata": {},
     "output_type": "display_data"
    }
   ],
   "source": [
    "%matplotlib inline\n",
    "import matplotlib.pyplot as plt\n",
    "plt.imshow(X_test[0]*img_rows)"
   ]
  },
  {
   "cell_type": "code",
   "execution_count": 222,
   "metadata": {},
   "outputs": [],
   "source": [
    "model.load_weights('data/weights/model-0.80.h5')"
   ]
  },
  {
   "cell_type": "code",
   "execution_count": 233,
   "metadata": {},
   "outputs": [
    {
     "data": {
      "text/plain": [
       "[0.2920135259628296, 0.453125]"
      ]
     },
     "execution_count": 233,
     "metadata": {},
     "output_type": "execute_result"
    }
   ],
   "source": [
    "score = model.evaluate(X_test, y_test, verbose=0)\n",
    "score"
   ]
  },
  {
   "cell_type": "code",
   "execution_count": 224,
   "metadata": {},
   "outputs": [
    {
     "data": {
      "text/plain": [
       "array([[107.54822  ,  74.33942  ,  12.885097 ,  38.782696 ],\n",
       "       [189.9042   ,  39.784824 ,  64.883446 ,  82.18874  ],\n",
       "       [111.49127  ,  63.33598  ,   6.7409773,  27.84951  ],\n",
       "       [196.76804  ,  50.715443 ,  39.610027 ,  77.52666  ],\n",
       "       [101.03614  ,  71.51645  ,   7.369563 ,  34.777122 ],\n",
       "       [160.7457   ,  53.55865  ,  63.82712  ,  59.56056  ],\n",
       "       [145.04706  ,  76.69173  ,  -2.6962786,  52.76259  ],\n",
       "       [167.86528  ,  51.912235 ,  15.106746 ,  67.06177  ],\n",
       "       [158.51672  ,  30.206003 ,  68.35494  ,  65.85654  ],\n",
       "       [178.02858  ,  25.166872 ,  29.982481 ,  94.112076 ]],\n",
       "      dtype=float32)"
      ]
     },
     "execution_count": 224,
     "metadata": {},
     "output_type": "execute_result"
    }
   ],
   "source": [
    "model.predict(X_test[:10])*img_rows"
   ]
  },
  {
   "cell_type": "code",
   "execution_count": 225,
   "metadata": {},
   "outputs": [
    {
     "data": {
      "text/plain": [
       "array([[57., 76., 56., 56.],\n",
       "       [84., 44., 56., 56.],\n",
       "       [85., 57., 36., 36.],\n",
       "       [59., 49., 44., 44.],\n",
       "       [63., 44., 30., 30.],\n",
       "       [82., 76., 30., 30.],\n",
       "       [50., 77., 54., 54.],\n",
       "       [58., 74., 50., 50.],\n",
       "       [83., 85., 48., 48.],\n",
       "       [73., 76., 64., 64.]])"
      ]
     },
     "execution_count": 225,
     "metadata": {},
     "output_type": "execute_result"
    }
   ],
   "source": [
    "y_test[:10]*img_rows"
   ]
  },
  {
   "cell_type": "code",
   "execution_count": null,
   "metadata": {},
   "outputs": [],
   "source": []
  }
 ],
 "metadata": {
  "kernelspec": {
   "display_name": "Python 3",
   "language": "python",
   "name": "python3"
  },
  "language_info": {
   "codemirror_mode": {
    "name": "ipython",
    "version": 3
   },
   "file_extension": ".py",
   "mimetype": "text/x-python",
   "name": "python",
   "nbconvert_exporter": "python",
   "pygments_lexer": "ipython3",
   "version": "3.6.4"
  }
 },
 "nbformat": 4,
 "nbformat_minor": 2
}
