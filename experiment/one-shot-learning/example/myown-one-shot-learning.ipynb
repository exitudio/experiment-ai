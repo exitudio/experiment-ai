{
 "cells": [
  {
   "cell_type": "code",
   "execution_count": 1,
   "metadata": {},
   "outputs": [],
   "source": [
    "%matplotlib inline\n",
    "import torchvision\n",
    "import torchvision.datasets as datasets\n",
    "import torchvision.transforms as transforms\n",
    "from torch.utils.data import DataLoader, Dataset\n",
    "import matplotlib.pyplot as plt\n",
    "import torchvision.utils\n",
    "import numpy as np\n",
    "import random\n",
    "from PIL import Image\n",
    "import torch\n",
    "from torch.autograd import Variable\n",
    "import PIL.ImageOps    \n",
    "import torch.nn as nn\n",
    "from torch import optim\n",
    "import torch.nn.functional as F"
   ]
  },
  {
   "cell_type": "code",
   "execution_count": 2,
   "metadata": {},
   "outputs": [],
   "source": [
    "device = torch.device(\"cuda\" if torch.cuda.is_available() else \"cpu\")"
   ]
  },
  {
   "cell_type": "code",
   "execution_count": 3,
   "metadata": {},
   "outputs": [],
   "source": [
    "class SiameseNetwork(nn.Module):\n",
    "    def __init__(self):\n",
    "        super(SiameseNetwork, self).__init__()\n",
    "        self.cnn1 = nn.Sequential(\n",
    "            nn.ReflectionPad2d(1),\n",
    "            nn.Conv2d(1, 4, kernel_size=3),\n",
    "            nn.ReLU(inplace=True),\n",
    "            nn.BatchNorm2d(4),\n",
    "            nn.Dropout2d(p=.2),\n",
    "            \n",
    "            nn.ReflectionPad2d(1),\n",
    "            nn.Conv2d(4, 8, kernel_size=3),\n",
    "            nn.ReLU(inplace=True),\n",
    "            nn.BatchNorm2d(8),\n",
    "            nn.Dropout2d(p=.2),\n",
    "\n",
    "            nn.ReflectionPad2d(1),\n",
    "            nn.Conv2d(8, 8, kernel_size=3),\n",
    "            nn.ReLU(inplace=True),\n",
    "            nn.BatchNorm2d(8),\n",
    "            nn.Dropout2d(p=.2),\n",
    "        )\n",
    "\n",
    "        self.fc1 = nn.Sequential(\n",
    "            nn.Linear(8*100*100, 500),\n",
    "            nn.ReLU(inplace=True),\n",
    "\n",
    "            nn.Linear(500, 500),\n",
    "            nn.ReLU(inplace=True),\n",
    "\n",
    "            nn.Linear(500, 5)\n",
    "        )\n",
    "\n",
    "    def forward_once(self, x):\n",
    "        output = self.cnn1(x)\n",
    "        output = output.view(output.size()[0], -1)\n",
    "        output = self.fc1(output)\n",
    "        return output\n",
    "\n",
    "    def forward(self, input1, input2):\n",
    "        output1 = self.forward_once(input1)\n",
    "        output2 = self.forward_once(input2)\n",
    "        return output1, output2"
   ]
  },
  {
   "cell_type": "code",
   "execution_count": 4,
   "metadata": {},
   "outputs": [],
   "source": [
    "class ContrastiveLoss(nn.Module):\n",
    "    \"\"\"\n",
    "    Contrastive loss function.\n",
    "    Based on: http://yann.lecun.com/exdb/publis/pdf/hadsell-chopra-lecun-06.pdf\n",
    "    \"\"\"\n",
    "\n",
    "    def __init__(self, margin=2.0):\n",
    "        super(ContrastiveLoss, self).__init__()\n",
    "        self.margin = margin\n",
    "\n",
    "    def forward(self, output1, output2, label):\n",
    "        euclidean_distance = F.pairwise_distance(output1, output2)\n",
    "        loss_contrastive = torch.mean((1-label) * torch.pow(euclidean_distance, 2) +\n",
    "                                      (label) * torch.pow(torch.clamp(self.margin - euclidean_distance, min=0.0), 2))\n",
    "        return loss_contrastive\n"
   ]
  },
  {
   "cell_type": "code",
   "execution_count": 5,
   "metadata": {},
   "outputs": [],
   "source": [
    "class Config():\n",
    "    training_dir = \"./data/faces/training/\"\n",
    "    testing_dir = \"./data/faces/testing/\"\n",
    "    train_batch_size = 64\n",
    "    train_number_epochs = 10"
   ]
  },
  {
   "cell_type": "code",
   "execution_count": 6,
   "metadata": {},
   "outputs": [],
   "source": [
    "class SiameseNetworkDataset(Dataset):\n",
    "    \n",
    "    def __init__(self, root):\n",
    "        self.class_dict = {}\n",
    "        self.image_folder = datasets.ImageFolder(root)\n",
    "        transform = transforms.Compose([\n",
    "                        transforms.Resize((100,100)),\n",
    "                        transforms.ToTensor()\n",
    "                    ])\n",
    "        self.all_images = []\n",
    "        \n",
    "        # 1. separate paths by index, open image, and transform\n",
    "        for path, class_index in self.image_folder.imgs:\n",
    "            if class_index not in self.class_dict:\n",
    "                self.class_dict[class_index] = []\n",
    "            image = transform(\n",
    "                        Image.open(path).convert('L') # L is grayscale mode\n",
    "                    )\n",
    "            self.class_dict[class_index].append(image)\n",
    "            self.all_images.append((image, class_index))\n",
    "            \n",
    "        # 2. prepare dict of other indexes that are not current index (for random)\n",
    "        indexes = [self.image_folder.class_to_idx[class_name]\n",
    "                   for class_name in self.image_folder.classes]\n",
    "        self.not_index = {}\n",
    "        for index in indexes:\n",
    "            new_indexes = indexes[:]\n",
    "            new_indexes.remove(index)\n",
    "            self.not_index[index] = new_indexes\n",
    "        \n",
    "    def get_images_by_class_index(self, class_index):\n",
    "        return self.class_dict[class_index]\n",
    "    \n",
    "    def __getitem__(self, index):\n",
    "        image_0, class_index_0 = random.choice(self.all_images)\n",
    "        is_same_class = random.randint(0, 1)\n",
    "        if is_same_class:\n",
    "            class_index_1 = class_index_0\n",
    "        else:\n",
    "            # to make sure getting images from same class 50%\n",
    "            class_index_1 = random.choice(self.not_index[class_index_0])\n",
    "        image_1 = random.choice(self.get_images_by_class_index(class_index_1))\n",
    "        \n",
    "        return image_0, image_1, torch.tensor(is_same_class, dtype=torch.float32)\n",
    "    def __len__(self):\n",
    "        return len(self.image_folder.imgs)"
   ]
  },
  {
   "cell_type": "code",
   "execution_count": 7,
   "metadata": {},
   "outputs": [],
   "source": [
    "siamese_dataset = SiameseNetworkDataset(root=Config.testing_dir)\n",
    "data_loader = DataLoader(siamese_dataset, shuffle=True, num_workers=8, batch_size=8)\n",
    "example_batch = next(iter(data_loader))"
   ]
  },
  {
   "cell_type": "code",
   "execution_count": 8,
   "metadata": {},
   "outputs": [
    {
     "data": {
      "image/png": "[encoded data removed]",
      "text/plain": [
       "<Figure size 432x288 with 1 Axes>"
      ]
     },
     "metadata": {},
     "output_type": "display_data"
    },
    {
     "name": "stdout",
     "output_type": "stream",
     "text": [
      "tensor([1., 0., 1., 1., 1., 1., 1., 1.])\n"
     ]
    }
   ],
   "source": [
    "concatenated = torch.cat((example_batch[0],example_batch[1]),0)\n",
    "img = torchvision.utils.make_grid(concatenated)\n",
    "img = img.numpy()\n",
    "\n",
    "plt.imshow(np.transpose(img, (1, 2, 0)))\n",
    "plt.show()\n",
    "print(example_batch[2])"
   ]
  },
  {
   "cell_type": "markdown",
   "metadata": {},
   "source": [
    "### Train"
   ]
  },
  {
   "cell_type": "code",
   "execution_count": 9,
   "metadata": {},
   "outputs": [],
   "source": [
    "train_dataset = SiameseNetworkDataset(root=Config.training_dir)\n",
    "train_dataloader = DataLoader(train_dataset, shuffle=True, num_workers=8, batch_size=Config.train_batch_size)"
   ]
  },
  {
   "cell_type": "code",
   "execution_count": 10,
   "metadata": {},
   "outputs": [],
   "source": [
    "net = SiameseNetwork().to(device)\n",
    "criterion = ContrastiveLoss()\n",
    "optimizer = optim.Adam(net.parameters(), lr=0.0005)"
   ]
  },
  {
   "cell_type": "code",
   "execution_count": 11,
   "metadata": {},
   "outputs": [
    {
     "name": "stdout",
     "output_type": "stream",
     "text": [
      "Epoch 0, loss: 1.4041286706924438\n",
      "Epoch 1, loss: 2.0179762840270996\n",
      "Epoch 2, loss: 1.3373695611953735\n",
      "Epoch 3, loss: 1.1263149976730347\n",
      "Epoch 4, loss: 1.3761565685272217\n",
      "Epoch 5, loss: 1.3797950744628906\n",
      "Epoch 6, loss: 1.2662760019302368\n",
      "Epoch 7, loss: 1.2956444025039673\n",
      "Epoch 8, loss: 1.1280430555343628\n",
      "Epoch 9, loss: 1.0192490816116333\n"
     ]
    }
   ],
   "source": [
    "counter = []\n",
    "loss_history = [] \n",
    "for epoch in range(0, Config.train_number_epochs):\n",
    "    for i, (image_1, image_2, is_same) in enumerate(train_dataloader):\n",
    "        image_1 = image_1.to(device)\n",
    "        image_2 = image_2.to(device)\n",
    "        is_same = is_same.to(device)\n",
    "        optimizer.zero_grad()\n",
    "        y1, y2 = net(image_1, image_2)\n",
    "        loss_contrastive = criterion(y1, y2, is_same)\n",
    "        loss_contrastive.backward()\n",
    "        optimizer.step()\n",
    "    print(f'Epoch {epoch}, loss: {loss_contrastive.item()}')\n",
    "    counter.append(epoch)\n",
    "    loss_history.append(loss_contrastive.item())"
   ]
  },
  {
   "cell_type": "code",
   "execution_count": 12,
   "metadata": {},
   "outputs": [
    {
     "name": "stdout",
     "output_type": "stream",
     "text": [
      "threshold: 0.0\n",
      "0.6\n",
      "threshold: 0.1\n",
      "0.5333333333333333\n",
      "threshold: 0.2\n",
      "0.3333333333333333\n",
      "threshold: 0.3\n",
      "0.5666666666666667\n",
      "threshold: 0.4\n",
      "0.36666666666666664\n",
      "threshold: 0.5\n",
      "0.36666666666666664\n",
      "threshold: 0.6\n",
      "0.36666666666666664\n",
      "threshold: 0.7\n",
      "0.5\n",
      "threshold: 0.8\n",
      "0.4666666666666667\n",
      "threshold: 0.9\n",
      "0.4666666666666667\n"
     ]
    }
   ],
   "source": [
    "test_dataloader = DataLoader(siamese_dataset,num_workers=6,batch_size=1000,shuffle=True)\n",
    "for i in range(10):\n",
    "    threshold = i/10\n",
    "    print('threshold:',threshold)\n",
    "    correct = 0\n",
    "    for i, data in enumerate(test_dataloader,0):\n",
    "        img0, img1 , label = data\n",
    "        img0, img1 , label = img0.cuda(), img1.cuda() , label.cuda()\n",
    "        output1,output2 = net(img0,img1)\n",
    "        euclidean_distance = F.pairwise_distance(output1, output2)\n",
    "        predict = (euclidean_distance > threshold).float()\n",
    "        correct = predict.eq(label.squeeze()).sum().item()\n",
    "    print(correct/len(test_dataloader.dataset))\n"
   ]
  }
 ],
 "metadata": {
  "kernelspec": {
   "display_name": "Python 3",
   "language": "python",
   "name": "python3"
  },
  "language_info": {
   "codemirror_mode": {
    "name": "ipython",
    "version": 3
   },
   "file_extension": ".py",
   "mimetype": "text/x-python",
   "name": "python",
   "nbconvert_exporter": "python",
   "pygments_lexer": "ipython3",
   "version": "3.6.7"
  }
 },
 "nbformat": 4,
 "nbformat_minor": 2
}
