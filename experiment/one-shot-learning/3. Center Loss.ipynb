{
 "cells": [
  {
   "cell_type": "markdown",
   "metadata": {},
   "source": [
    "### Detail\n",
    "- paper [here](http://ydwen.github.io/papers/WenECCV16.pdf)\n",
    "- not just separate but discriminate \n",
    "- softmax loss = cross entrophy\n",
    "- dataset MegaFace also [Labeled Faces in the Wild (LFW), and YouTube Faces (YTF)]\n"
   ]
  }
 ],
 "metadata": {
  "kernelspec": {
   "display_name": "conda_pytorch_p36",
   "language": "python",
   "name": "conda_pytorch_p36"
  },
  "language_info": {
   "codemirror_mode": {
    "name": "ipython",
    "version": 3
   },
   "file_extension": ".py",
   "mimetype": "text/x-python",
   "name": "python",
   "nbconvert_exporter": "python",
   "pygments_lexer": "ipython3",
   "version": "3.6.5"
  }
 },
 "nbformat": 4,
 "nbformat_minor": 2
}
