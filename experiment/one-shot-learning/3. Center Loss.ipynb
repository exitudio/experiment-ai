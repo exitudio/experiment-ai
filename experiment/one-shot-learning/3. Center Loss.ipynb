{
 "cells": [
  {
   "cell_type": "markdown",
   "metadata": {},
   "source": [
    "### Detail\n",
    "- paper [here](http://ydwen.github.io/papers/WenECCV16.pdf)\n",
    "- not just separate but discriminate \n",
    "- softmax loss = cross entrophy\n",
    "- dataset MegaFace also [Labeled Faces in the Wild (LFW), and YouTube Faces (YTF)]\n",
    "- use 5 landmarks (two eyes, nose and mouth corners) for similarity transformation by this [algorithm](https://arxiv.org/pdf/1604.02878.pdf)\n",
    "- cropped to 112 × 96\n",
    "\n",
    "TODO\n",
    "- pretrain with softmax loss\n",
    "- MTCNN to face align\n",
    "- freeze/unfreeze\n",
    "- "
   ]
  },
  {
   "cell_type": "code",
   "execution_count": 1,
   "metadata": {},
   "outputs": [
    {
     "data": {
      "text/plain": [
       "tensor([[10, 20],\n",
       "        [30, 40]])"
      ]
     },
     "execution_count": 1,
     "metadata": {},
     "output_type": "execute_result"
    }
   ],
   "source": [
    "import torch\n",
    "t = torch.tensor([[10,20],\n",
    "                  [30,40]])\n",
    "torch.gather(t, 0, torch.tensor([[0, 0],\n",
    "                                 [1, 1]]))"
   ]
  },
  {
   "cell_type": "code",
   "execution_count": 2,
   "metadata": {},
   "outputs": [
    {
     "data": {
      "text/plain": [
       "(array([1, 2, 3]), array([0, 1, 2, 0, 1, 1]), array([2, 3, 1]))"
      ]
     },
     "execution_count": 2,
     "metadata": {},
     "output_type": "execute_result"
    }
   ],
   "source": [
    "import numpy as np\n",
    "np.unique(np.array([1,2,3,1,2,2]), return_inverse=True, return_counts=True)"
   ]
  },
  {
   "cell_type": "code",
   "execution_count": 3,
   "metadata": {},
   "outputs": [],
   "source": [
    "%reload_ext autoreload\n",
    "%autoreload 2\n",
    "from torchvision import transforms\n",
    "import torchvision.datasets as datasets\n",
    "from torch.utils.data import DataLoader, Dataset\n",
    "import torch.nn as nn\n",
    "import torch.nn.functional as F\n",
    "import numpy as np\n",
    "from exitai.learner import Learner\n",
    "from sklearn.decomposition import PCA\n",
    "import numpy as np"
   ]
  },
  {
   "cell_type": "code",
   "execution_count": 4,
   "metadata": {},
   "outputs": [],
   "source": [
    "transform_train = transforms.Compose([\n",
    "                                   transforms.RandomAffine(15, scale=(.9,1.2)),\n",
    "                                   transforms.ToTensor(),\n",
    "                                   transforms.Normalize((0.5,), (1,))\n",
    "                               ])\n",
    "transform_test = transforms.Compose([\n",
    "                                   transforms.ToTensor(),\n",
    "                                   transforms.Normalize((0.5,), (1,))\n",
    "                               ])\n",
    "dataset_train = datasets.MNIST(root='../../data/', train=True, download=True, transform=transform_train)\n",
    "dataset_test = datasets.MNIST(root='../../data/', train=True, download=True, transform=transform_train)\n",
    "data_loader_train = DataLoader(dataset_train, batch_size=128, shuffle=True, num_workers=8)\n",
    "data_loader_test = DataLoader(dataset_test, batch_size=128, shuffle=True, num_workers=8)"
   ]
  },
  {
   "cell_type": "code",
   "execution_count": 12,
   "metadata": {},
   "outputs": [],
   "source": [
    "class LeNet(nn.Module):\n",
    "    def __init__(self):\n",
    "        super(LeNet, self).__init__()\n",
    "        self.cnn = nn.Sequential(\n",
    "            nn.Conv2d(1, 20, 5, 1),\n",
    "            nn.ReLU(inplace=True),\n",
    "            nn.MaxPool2d(2, 2),\n",
    "            nn.Conv2d(20, 50, 5, 1),\n",
    "            nn.ReLU(inplace=True),\n",
    "            nn.MaxPool2d(2, 2),\n",
    "        )\n",
    "        self.fc = nn.Sequential(\n",
    "            nn.Linear(4*4*50, 500),\n",
    "            nn.Linear(500, 10)\n",
    "        )\n",
    "        self.is_classification = True\n",
    "        \n",
    "    def forward(self, x):\n",
    "        output = self.cnn(x)\n",
    "        vector_embedded = output.view(-1, 50*4*4)\n",
    "        output = self.fc(vector_embedded)\n",
    "        return output, vector_embedded\n",
    "    \n",
    "    def name(self):\n",
    "        return \"LeNet\""
   ]
  },
  {
   "cell_type": "code",
   "execution_count": 13,
   "metadata": {},
   "outputs": [],
   "source": [
    "criterion = nn.CrossEntropyLoss()\n",
    "def model_loss_func(input_data, model, phase):\n",
    "    input, target = input_data\n",
    "    output, _ = model(input)\n",
    "    return output, criterion(output, target)"
   ]
  },
  {
   "cell_type": "code",
   "execution_count": 10,
   "metadata": {},
   "outputs": [
    {
     "data": {
      "image/png": "[encoded data removed]",
      "text/plain": [
       "<Figure size 432x288 with 1 Axes>"
      ]
     },
     "metadata": {},
     "output_type": "display_data"
    }
   ],
   "source": [
    "model = LeNet()\n",
    "learner = Learner(data_loader_train, data_loader_test, model)\n",
    "learner.lr_find(model_loss_func, 1e-7, 0.3)"
   ]
  },
  {
   "cell_type": "code",
   "execution_count": 40,
   "metadata": {},
   "outputs": [
    {
     "name": "stdout",
     "output_type": "stream",
     "text": [
      "---- epoch:0 ------\n",
      "   [train] Average loss: 0.1327, acc: 94.71%\n",
      "   [test] Average loss: 0.0461, acc: 98.21%\n"
     ]
    }
   ],
   "source": [
    "model = LeNet()\n",
    "learner = Learner(data_loader_train, data_loader_test, model)\n",
    "learner.fit(model_loss_func, 0.002, num_epochs=1)"
   ]
  },
  {
   "cell_type": "code",
   "execution_count": 73,
   "metadata": {},
   "outputs": [
    {
     "data": {
      "text/plain": [
       "array([], shape=(3, 0), dtype=float64)"
      ]
     },
     "execution_count": 73,
     "metadata": {},
     "output_type": "execute_result"
    }
   ],
   "source": [
    "target, vector_embedded\n",
    "classes_data = np.array([[],[],[]])\n",
    "target = np.array([1,3,2])-1\n",
    "data = np.array([\n",
    "    [11,11,11],\n",
    "    [31,31,31],\n",
    "    [21,21,21]\n",
    "])\n",
    "np.concatenate((classes_data[target], data))\n",
    "classes_data[target]\n",
    "\n",
    "# for data in data_loader_test:\n",
    "#     print(data[1])\n",
    "#     break"
   ]
  },
  {
   "cell_type": "code",
   "execution_count": 17,
   "metadata": {},
   "outputs": [],
   "source": [
    "%matplotlib inline\n",
    "import numpy as np\n",
    "import matplotlib.pyplot as plt\n",
    "from sklearn.decomposition import PCA"
   ]
  },
  {
   "cell_type": "code",
   "execution_count": 32,
   "metadata": {},
   "outputs": [],
   "source": [
    "rng = np.random.RandomState(1)\n",
    "X = np.dot(rng.rand(3, 3), rng.randn(3, 200)).T\n",
    "# plt.scatter(X[:, 0], X[:, 1])\n",
    "# plt.axis('equal');"
   ]
  },
  {
   "cell_type": "code",
   "execution_count": 33,
   "metadata": {},
   "outputs": [],
   "source": [
    "pca = PCA(n_components=2)\n",
    "pca.fit(X)\n",
    "X_pca = pca.transform(X)"
   ]
  },
  {
   "cell_type": "code",
   "execution_count": 34,
   "metadata": {},
   "outputs": [
    {
     "data": {
      "image/png": "[encoded data removed]",
      "text/plain": [
       "<Figure size 432x288 with 1 Axes>"
      ]
     },
     "metadata": {},
     "output_type": "display_data"
    }
   ],
   "source": [
    "plt.scatter(X[:, 0], X[:, 1], alpha=0.2)\n",
    "plt.scatter(X_pca[:, 0], X_pca[:, 1], alpha=0.8)\n",
    "plt.axis('equal');"
   ]
  },
  {
   "cell_type": "code",
   "execution_count": null,
   "metadata": {},
   "outputs": [],
   "source": []
  }
 ],
 "metadata": {
  "kernelspec": {
   "display_name": "conda_pytorch_p36",
   "language": "python",
   "name": "conda_pytorch_p36"
  },
  "language_info": {
   "codemirror_mode": {
    "name": "ipython",
    "version": 3
   },
   "file_extension": ".py",
   "mimetype": "text/x-python",
   "name": "python",
   "nbconvert_exporter": "python",
   "pygments_lexer": "ipython3",
   "version": "3.6.5"
  }
 },
 "nbformat": 4,
 "nbformat_minor": 2
}
