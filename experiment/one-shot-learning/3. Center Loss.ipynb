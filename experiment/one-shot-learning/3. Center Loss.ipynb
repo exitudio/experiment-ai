{
 "cells": [
  {
   "cell_type": "markdown",
   "metadata": {},
   "source": [
    "- [visiualize center loss MNIST](https://github.com/jxgu1016/MNIST_center_loss_pytorch)\n",
    "### Detail\n",
    "- paper [here](http://ydwen.github.io/papers/WenECCV16.pdf)\n",
    "- not just separate but discriminate \n",
    "- softmax loss = cross entrophy\n",
    "- dataset MegaFace also [Labeled Faces in the Wild (LFW), and YouTube Faces (YTF)]\n",
    "- use 5 landmarks (two eyes, nose and mouth corners) for similarity transformation by this [algorithm](https://arxiv.org/pdf/1604.02878.pdf)\n",
    "- cropped to 112 × 96\n",
    "\n",
    "TODO\n",
    "- pretrain with softmax loss\n",
    "- MTCNN to face align\n",
    "- freeze/unfreeze\n",
    "- "
   ]
  },
  {
   "cell_type": "code",
   "execution_count": 21,
   "metadata": {},
   "outputs": [],
   "source": [
    "%reload_ext autoreload\n",
    "%autoreload 2\n",
    "%matplotlib inline\n",
    "import matplotlib.pyplot as plt\n",
    "from torchvision import transforms\n",
    "import torchvision.datasets as datasets\n",
    "from torch.utils.data import DataLoader, Dataset\n",
    "import torch.nn as nn\n",
    "import torch.nn.functional as F\n",
    "import torch\n",
    "import numpy as np\n",
    "from exitai.learner import Learner\n",
    "from exitai.callbacks import Callback\n",
    "from exitai.losses import CenterLoss\n",
    "from sklearn.decomposition import PCA\n",
    "import numpy as np\n",
    "import random"
   ]
  },
  {
   "cell_type": "code",
   "execution_count": 2,
   "metadata": {},
   "outputs": [],
   "source": [
    "class TestDataset(Dataset):\n",
    "    def __init__(self, dataset, length=10):\n",
    "        self.dataset = dataset\n",
    "        self.length = length\n",
    "    def __getitem__(self, index):\n",
    "        return random.choice(self.dataset)\n",
    "    def __len__(self):\n",
    "        return self.length"
   ]
  },
  {
   "cell_type": "code",
   "execution_count": 3,
   "metadata": {},
   "outputs": [],
   "source": [
    "transform_train = transforms.Compose([\n",
    "#                                    transforms.RandomAffine(15, scale=(.9,1.2)), # TODO add me\n",
    "                                   transforms.ToTensor(),\n",
    "                                   transforms.Normalize((0.5,), (1,))\n",
    "                               ])\n",
    "transform_test = transforms.Compose([\n",
    "                                   transforms.ToTensor(),\n",
    "                                   transforms.Normalize((0.5,), (1,))\n",
    "                               ])\n",
    "dataset_train = TestDataset( # TODO remove Test data\n",
    "                    datasets.MNIST(root='../../data/', train=True, download=True, transform=transform_train), \n",
    "                    500)\n",
    "dataset_test = TestDataset( # TODO remove Test data\n",
    "                    datasets.MNIST(root='../../data/', train=True, download=True, transform=transform_test), \n",
    "                    500)\n",
    "data_loader_train = DataLoader(dataset_train, batch_size=128, shuffle=True, num_workers=8)\n",
    "data_loader_test = DataLoader(dataset_test, batch_size=128, shuffle=True, num_workers=8)"
   ]
  },
  {
   "cell_type": "code",
   "execution_count": 4,
   "metadata": {},
   "outputs": [],
   "source": [
    "class LeNet(nn.Module):\n",
    "    def __init__(self):\n",
    "        super(LeNet, self).__init__()\n",
    "        self.cnn = nn.Sequential(\n",
    "            nn.Conv2d(1, 20, 5, 1),\n",
    "            nn.ReLU(inplace=True),\n",
    "            nn.MaxPool2d(2, 2),\n",
    "            nn.Conv2d(20, 50, 5, 1),\n",
    "            nn.ReLU(inplace=True),\n",
    "            nn.MaxPool2d(2, 2),\n",
    "        )\n",
    "        self.fc_1 = nn.Linear(4*4*50, 500)\n",
    "        self.fc_embedding = nn.Linear(500, 2)\n",
    "        self.fc_classes = nn.Linear(2, 10)\n",
    "        \n",
    "    def forward(self, x):\n",
    "        output = self.cnn(x)\n",
    "        output = output.view(-1, 50*4*4)\n",
    "        output = self.fc_1(output)\n",
    "        vector_embedding = self.fc_embedding(output)\n",
    "        output = self.fc_classes(vector_embedding)\n",
    "        return output, vector_embedding\n",
    "    \n",
    "    def name(self):\n",
    "        return \"LeNet\""
   ]
  },
  {
   "cell_type": "code",
   "execution_count": 5,
   "metadata": {},
   "outputs": [],
   "source": [
    "def visualize(vectors_embedding, target, epoch):\n",
    "    plt.ion()\n",
    "    c = ['#ff0000', '#ffff00', '#00ff00', '#00ffff', '#0000ff',\n",
    "         '#ff00ff', '#990000', '#999900', '#009900', '#009999']\n",
    "    plt.clf()\n",
    "    for i in range(10):\n",
    "        plt.plot(vectors_embedding[target == i, 0], vectors_embedding[target == i, 1], '.', c=c[i])\n",
    "    plt.legend(['0', '1', '2', '3', '4', '5', '6', '7', '8', '9'], loc = 'upper right')\n",
    "    plt.xlim(xmin=-18,xmax=18)\n",
    "    plt.ylim(ymin=-18,ymax=18)\n",
    "    plt.text(-7.8,7.3,\"epoch=%d\" % epoch)\n",
    "#     plt.savefig('./images/epoch=%d.jpg' % epoch)\n",
    "    plt.draw()\n",
    "    plt.pause(0.001)"
   ]
  },
  {
   "cell_type": "code",
   "execution_count": 60,
   "metadata": {},
   "outputs": [],
   "source": [
    "class Plottracker(Callback):\n",
    "    def __init__(self):\n",
    "        self.target = []\n",
    "        self.vectors_embedding = []\n",
    "        self.epoch = 0\n",
    "        \n",
    "    def add(self, target, vector_embedding):\n",
    "        self.target.append((target))\n",
    "        self.vectors_embedding.append((vector_embedding))\n",
    "        \n",
    "    def on_epoch_end(self, phase, num_data):\n",
    "        vectors_embedding = torch.cat(self.vectors_embedding, 0)\n",
    "        targets = torch.cat(self.target, 0)\n",
    "        self.epoch += 1\n",
    "        visualize(vectors_embedding.data.cpu().numpy(), targets.data.cpu().numpy(), self.epoch)"
   ]
  },
  {
   "cell_type": "code",
   "execution_count": 69,
   "metadata": {},
   "outputs": [],
   "source": [
    "plottracker = Plottracker()\n",
    "center_loss = CenterLoss(10, 2)\n",
    "def model_loss_func(input_data, model, phase):\n",
    "    input, target = input_data\n",
    "    output, vector_embedding = model(input)\n",
    "    plottracker.add(target, vector_embedding)\n",
    "    \n",
    "    # Loss\n",
    "    loss = F.cross_entropy(output, target) + 0.1*center_loss(target, vector_embedding)\n",
    "    return output, loss"
   ]
  },
  {
   "cell_type": "code",
   "execution_count": 70,
   "metadata": {},
   "outputs": [],
   "source": [
    "###### Learning Rate Finder ######\n",
    "\n",
    "# model = LeNet()\n",
    "# learner = Learner(data_loader_train, data_loader_test, model)\n",
    "# learner.lr_find(model_loss_func, 1e-7, 0.3)"
   ]
  },
  {
   "cell_type": "code",
   "execution_count": 71,
   "metadata": {},
   "outputs": [],
   "source": [
    "class CenterLossOptimHook(Callback):\n",
    "    def __init__(self):\n",
    "        self.optim = torch.optim.SGD(center_loss.parameters(), lr=0.5)\n",
    "    def on_batch_end(self, phase, input_data, output, loss):\n",
    "        if phase is 'train':\n",
    "            self.optim.step()\n",
    "            self.optim.zero_grad()\n",
    "            "
   ]
  },
  {
   "cell_type": "code",
   "execution_count": 72,
   "metadata": {},
   "outputs": [
    {
     "name": "stdout",
     "output_type": "stream",
     "text": [
      "---- epoch:0 ------\n",
      "   [train] Average loss: 6.5791, acc: 11.40%\n"
     ]
    },
    {
     "data": {
      "image/png": "[encoded data removed]",
      "text/plain": [
       "<Figure size 432x288 with 1 Axes>"
      ]
     },
     "metadata": {},
     "output_type": "display_data"
    },
    {
     "name": "stdout",
     "output_type": "stream",
     "text": [
      "---- epoch:1 ------\n",
      "   [train] Average loss: 1.9163, acc: 21.00%\n"
     ]
    },
    {
     "data": {
      "image/png": "[encoded data removed]",
      "text/plain": [
       "<Figure size 432x288 with 1 Axes>"
      ]
     },
     "metadata": {},
     "output_type": "display_data"
    },
    {
     "name": "stdout",
     "output_type": "stream",
     "text": [
      "---- epoch:2 ------\n",
      "   [train] Average loss: 1.8663, acc: 13.20%\n"
     ]
    },
    {
     "data": {
      "image/png": "[encoded data removed]",
      "text/plain": [
       "<Figure size 432x288 with 1 Axes>"
      ]
     },
     "metadata": {},
     "output_type": "display_data"
    },
    {
     "name": "stdout",
     "output_type": "stream",
     "text": [
      "---- epoch:3 ------\n",
      "   [train] Average loss: 1.8747, acc: 10.80%\n"
     ]
    },
    {
     "data": {
      "image/png": "[encoded data removed]",
      "text/plain": [
       "<Figure size 432x288 with 1 Axes>"
      ]
     },
     "metadata": {},
     "output_type": "display_data"
    },
    {
     "name": "stdout",
     "output_type": "stream",
     "text": [
      "---- epoch:4 ------\n",
      "   [train] Average loss: 1.8950, acc: 7.80%\n"
     ]
    },
    {
     "data": {
      "image/png": "[encoded data removed]",
      "text/plain": [
       "<Figure size 432x288 with 1 Axes>"
      ]
     },
     "metadata": {},
     "output_type": "display_data"
    }
   ],
   "source": [
    "model = LeNet()\n",
    "learner = Learner(data_loader_train, data_loader_test, model)\n",
    "learner.fit(model_loss_func, 0.002, num_epochs=5, callbacks=[plottracker, CenterLossOptimHook()], is_run_test=False)"
   ]
  },
  {
   "cell_type": "code",
   "execution_count": 17,
   "metadata": {},
   "outputs": [
    {
     "data": {
      "text/plain": [
       "(tensor([[100, 100, 100],\n",
       "         [100, 100, 100]]), tensor([[1, 2],\n",
       "         [3, 4],\n",
       "         [5, 6]]))"
      ]
     },
     "execution_count": 17,
     "metadata": {},
     "output_type": "execute_result"
    }
   ],
   "source": [
    "a = torch.tensor([[1,2],[3,4],[5,6]])\n",
    "a.new_empty((2,3)).fill_(100)"
   ]
  },
  {
   "cell_type": "code",
   "execution_count": null,
   "metadata": {},
   "outputs": [],
   "source": []
  }
 ],
 "metadata": {
  "kernelspec": {
   "display_name": "Python 3",
   "language": "python",
   "name": "python3"
  },
  "language_info": {
   "codemirror_mode": {
    "name": "ipython",
    "version": 3
   },
   "file_extension": ".py",
   "mimetype": "text/x-python",
   "name": "python",
   "nbconvert_exporter": "python",
   "pygments_lexer": "ipython3",
   "version": "3.6.7"
  }
 },
 "nbformat": 4,
 "nbformat_minor": 2
}
