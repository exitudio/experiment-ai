{
 "cells": [
  {
   "cell_type": "markdown",
   "metadata": {},
   "source": [
    "### 1. Train"
   ]
  },
  {
   "cell_type": "code",
   "execution_count": 3,
   "metadata": {},
   "outputs": [],
   "source": [
    "TRAIN_FOLDER = './data/train'\n",
    "VAL_FOLDER = './data/val'\n",
    "TEST_FOLDER = './data/test'\n",
    "IMAGE_SIZE = 224\n",
    "\n",
    "ALPHA = 0.25\n",
    "EPOCHS = 5000\n",
    "PATIENCE = 100"
   ]
  },
  {
   "cell_type": "code",
   "execution_count": null,
   "metadata": {},
   "outputs": [
    {
     "name": "stdout",
     "output_type": "stream",
     "text": [
      "Epoch 1/5000\n",
      " 105/1028 [==>...........................] - ETA: 9:25 - loss: 2279.6251 - acc: 0.7276"
     ]
    }
   ],
   "source": [
    "import csv\n",
    "import math\n",
    "\n",
    "import cv2\n",
    "from keras.applications.mobilenet import MobileNet, _depthwise_conv_block\n",
    "from keras.callbacks import ModelCheckpoint, EarlyStopping\n",
    "from keras.layers import *\n",
    "from keras.models import *\n",
    "from keras.preprocessing.image import *\n",
    "from keras.utils import Sequence\n",
    "\n",
    "\n",
    "class DataSequence(Sequence):\n",
    "\n",
    "    def __load_images(self, dataset):\n",
    "        out = []\n",
    "        for file_name in dataset:\n",
    "            im = cv2.resize(cv2.imread(file_name), (self.image_size, self.image_size))\n",
    "            out.append(im)\n",
    "\n",
    "        return np.array(out)\n",
    "\n",
    "    def __init__(self, csv_file, image_path, image_size, batch_size=32, feature_scaling=False):\n",
    "        self.csv_file = csv_file\n",
    "        with open(self.csv_file, \"r\") as file:\n",
    "            reader = csv.reader(file, delimiter=\",\")\n",
    "            arr = list(reader)\n",
    "\n",
    "        self.y = np.zeros((len(arr), 8))\n",
    "        self.x = []\n",
    "        self.image_size = image_size\n",
    "\n",
    "        # for index, (path, class_id, width, height, x0, y0, x1, y1) in enumerate(arr):\n",
    "        for index, coner_points in enumerate(arr):\n",
    "            self.y[index] = np.array(coner_points)\n",
    "            self.x.append(f'{image_path}/object_image{index}.png')\n",
    "\n",
    "        self.batch_size = batch_size\n",
    "        self.feature_scaling = feature_scaling\n",
    "        if self.feature_scaling:\n",
    "            dataset = self.__load_images(self.x)\n",
    "            broadcast_shape = [1, 1, 1]\n",
    "            broadcast_shape[2] = dataset.shape[3]\n",
    "\n",
    "            self.mean = np.mean(dataset, axis=(0, 1, 2))\n",
    "            self.mean = np.reshape(self.mean, broadcast_shape)\n",
    "            self.std = np.std(dataset, axis=(0, 1, 2))\n",
    "            self.std = np.reshape(self.std, broadcast_shape) + K.epsilon()\n",
    "\n",
    "    def __len__(self):\n",
    "        return math.ceil(len(self.x) / self.batch_size)\n",
    "\n",
    "    def __getitem__(self, idx):\n",
    "        batch_x = self.x[idx * self.batch_size:(idx + 1) * self.batch_size]\n",
    "        batch_y = self.y[idx * self.batch_size:(idx + 1) * self.batch_size]\n",
    "\n",
    "        images = self.__load_images(batch_x).astype('float32')\n",
    "        if self.feature_scaling:\n",
    "            images -= self.mean\n",
    "            images /= self.std\n",
    "\n",
    "        return images, batch_y\n",
    "    \n",
    "def create_mobile_net_model(size, alpha):\n",
    "    mobile_net = MobileNet(input_shape=(size, size, 3), include_top=False, alpha=alpha)\n",
    "    x = _depthwise_conv_block(mobile_net.layers[-1].output, 1024, alpha, 1, block_id=14)\n",
    "    x = Conv2D(64, (3, 3), activation='relu')(x)\n",
    "    x = MaxPooling2D(pool_size=(4, 4))(x)\n",
    "    x = Conv2D(8, kernel_size=(1, 1), padding=\"same\")(x)\n",
    "    x = Reshape((8,))(x)\n",
    "    return Model(inputs=mobile_net.input, outputs=x)\n",
    "\n",
    "\n",
    "def train(model, epochs, image_size):\n",
    "    train_datagen = DataSequence(\"./data/train/corners.csv\", \"./data/train\", image_size)\n",
    "    validation_datagen = DataSequence(\"./data/val/corners.csv\", \"./data/val\", image_size)\n",
    "\n",
    "    model.compile(loss=\"mean_squared_error\", optimizer=\"adam\", metrics=[\"accuracy\"])\n",
    "    checkpoint = ModelCheckpoint(\"model-{val_acc:.2f}.h5\", monitor=\"val_acc\", verbose=1, save_best_only=True,\n",
    "                                 save_weights_only=True, mode=\"auto\", period=1)\n",
    "    stop = EarlyStopping(monitor=\"val_acc\", patience=PATIENCE, mode=\"auto\")\n",
    "\n",
    "    model.fit_generator(train_datagen, steps_per_epoch=1028, epochs=epochs, validation_data=validation_datagen,\n",
    "                        validation_steps=22, callbacks=[checkpoint, stop])\n",
    "\n",
    "model = create_mobile_net_model(IMAGE_SIZE, ALPHA)\n",
    "train(model, EPOCHS, IMAGE_SIZE)"
   ]
  },
  {
   "cell_type": "code",
   "execution_count": null,
   "metadata": {},
   "outputs": [],
   "source": []
  }
 ],
 "metadata": {
  "kernelspec": {
   "display_name": "Python 3",
   "language": "python",
   "name": "python3"
  },
  "language_info": {
   "codemirror_mode": {
    "name": "ipython",
    "version": 3
   },
   "file_extension": ".py",
   "mimetype": "text/x-python",
   "name": "python",
   "nbconvert_exporter": "python",
   "pygments_lexer": "ipython3",
   "version": "3.6.4"
  }
 },
 "nbformat": 4,
 "nbformat_minor": 2
}
