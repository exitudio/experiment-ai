{
 "cells": [
  {
   "cell_type": "markdown",
   "metadata": {},
   "source": [
    "# *\n",
    "# how softmax works : [link](https://stackoverflow.com/questions/34968722/how-to-implement-the-softmax-function-in-python?utm_medium=organic&utm_source=google_rich_qa&utm_campaign=google_rich_qa)\n",
    "\n",
    "# *"
   ]
  },
  {
   "cell_type": "code",
   "execution_count": 262,
   "metadata": {},
   "outputs": [
    {
     "data": {
      "text/html": [
       "<script>requirejs.config({paths: { 'plotly': ['https://cdn.plot.ly/plotly-latest.min']},});if(!window.Plotly) {{require(['plotly'],function(plotly) {window.Plotly=plotly;});}}</script>"
      ],
      "text/vnd.plotly.v1+html": [
       "<script>requirejs.config({paths: { 'plotly': ['https://cdn.plot.ly/plotly-latest.min']},});if(!window.Plotly) {{require(['plotly'],function(plotly) {window.Plotly=plotly;});}}</script>"
      ]
     },
     "metadata": {},
     "output_type": "display_data"
    }
   ],
   "source": [
    "import tensorflow as tf\n",
    "import numpy as np\n",
    "import pandas as pd\n",
    "import matplotlib.pyplot as plt\n",
    "%matplotlib inline\n",
    "\n",
    "# plotly (interactive plot)\n",
    "from plotly.offline import init_notebook_mode, iplot\n",
    "import plotly.plotly as py\n",
    "import plotly.graph_objs as go\n",
    "init_notebook_mode(connected=True)\n",
    "\n",
    "import math"
   ]
  },
  {
   "cell_type": "code",
   "execution_count": 2,
   "metadata": {},
   "outputs": [
    {
     "data": {
      "text/plain": [
       "array([[0., 1., 0., 0.],\n",
       "       [1., 0., 0., 0.],\n",
       "       [0., 0., 0., 1.]])"
      ]
     },
     "execution_count": 2,
     "metadata": {},
     "output_type": "execute_result"
    }
   ],
   "source": [
    "def one_hot_factory(values):\n",
    "    n_values = np.max(values) + 1\n",
    "    return np.eye(n_values)[values]\n",
    "one_hot_factory([1,0,3])"
   ]
  },
  {
   "cell_type": "code",
   "execution_count": 482,
   "metadata": {},
   "outputs": [
    {
     "data": {
      "text/plain": [
       "Text(0,0.5,'value')"
      ]
     },
     "execution_count": 482,
     "metadata": {},
     "output_type": "execute_result"
    },
    {
     "data": {
      "image/png": "[encoded data removed]",
      "text/plain": [
       "<Figure size 432x288 with 1 Axes>"
      ]
     },
     "metadata": {},
     "output_type": "display_data"
    }
   ],
   "source": [
    "np.random.seed(0)\n",
    "num_data_in_class = 10\n",
    "num_classes = 3\n",
    "\n",
    "class_data = []\n",
    "y_raw = []\n",
    "for i in range(num_classes):\n",
    "#     points = np.linspace(start=(num_data_in_class*i), stop=num_data_in_class*(i+1), num=num_data_in_class)\n",
    "    points = np.random.randint(low=(num_data_in_class*i), high=num_data_in_class*(i+1), size=[num_data_in_class])\n",
    "    class_data.append(points)\n",
    "    y_raw = np.append( y_raw, np.full((num_data_in_class), i) ).astype(np.int32)\n",
    "\n",
    "y_one_hot = one_hot_factory(y_raw)\n",
    "X = np.array(class_data).reshape((-1,1))\n",
    "\n",
    "plt.scatter(X, y_raw, c= y_raw)\n",
    "plt.xlabel('feature1')\n",
    "plt.ylabel('value')"
   ]
  },
  {
   "cell_type": "markdown",
   "metadata": {},
   "source": [
    "### 1. Model"
   ]
  },
  {
   "cell_type": "code",
   "execution_count": 485,
   "metadata": {
    "scrolled": true
   },
   "outputs": [
    {
     "name": "stdout",
     "output_type": "stream",
     "text": [
      "num_input_features: 1 num_output_features: 3\n",
      "mean_loss at step  0 : loss_val: 8.4167385\n",
      "mean_loss at step  100 : loss_val: 0.36278918\n",
      "mean_loss at step  200 : loss_val: 0.2628742\n",
      "mean_loss at step  300 : loss_val: 0.20964323\n",
      "mean_loss at step  400 : loss_val: 0.17657939\n",
      "mean_loss at step  500 : loss_val: 0.15387067\n",
      "mean_loss at step  600 : loss_val: 0.13711411\n",
      "mean_loss at step  700 : loss_val: 0.12407063\n",
      "mean_loss at step  800 : loss_val: 0.11349377\n",
      "mean_loss at step  900 : loss_val: 0.104640685\n",
      "mean_loss at step  1000 : loss_val: 0.09704399\n",
      "mean_loss at step  1100 : loss_val: 0.090396784\n",
      "mean_loss at step  1200 : loss_val: 0.08449006\n",
      "mean_loss at step  1300 : loss_val: 0.07917682\n",
      "mean_loss at step  1400 : loss_val: 0.07435072\n",
      "mean_loss at step  1500 : loss_val: 0.0699331\n",
      "mean_loss at step  1600 : loss_val: 0.06586418\n",
      "mean_loss at step  1700 : loss_val: 0.062097885\n",
      "mean_loss at step  1800 : loss_val: 0.058597755\n",
      "mean_loss at step  1900 : loss_val: 0.05533452\n",
      "mean_loss at step  2000 : loss_val: 0.05228405\n",
      "mean_loss at step  2100 : loss_val: 0.049426597\n",
      "mean_loss at step  2200 : loss_val: 0.046745233\n",
      "mean_loss at step  2300 : loss_val: 0.044225518\n",
      "mean_loss at step  2400 : loss_val: 0.04185492\n",
      "mean_loss at step  2500 : loss_val: 0.03962254\n",
      "mean_loss at step  2600 : loss_val: 0.037518486\n",
      "mean_loss at step  2700 : loss_val: 0.035534184\n",
      "mean_loss at step  2800 : loss_val: 0.033661608\n",
      "mean_loss at step  2900 : loss_val: 0.03189367\n",
      "mean_loss at step  3000 : loss_val: 0.030223794\n",
      "mean_loss at step  3100 : loss_val: 0.028645927\n",
      "mean_loss at step  3200 : loss_val: 0.027154537\n",
      "mean_loss at step  3300 : loss_val: 0.025744451\n",
      "mean_loss at step  3400 : loss_val: 0.024410864\n",
      "mean_loss at step  3500 : loss_val: 0.0231493\n",
      "mean_loss at step  3600 : loss_val: 0.02195571\n",
      "mean_loss at step  3700 : loss_val: 0.02082603\n",
      "mean_loss at step  3800 : loss_val: 0.019756697\n",
      "mean_loss at step  3900 : loss_val: 0.018744284\n",
      "mean_loss at step  4000 : loss_val: 0.017785626\n",
      "mean_loss at step  4100 : loss_val: 0.016877634\n",
      "mean_loss at step  4200 : loss_val: 0.016017621\n",
      "mean_loss at step  4300 : loss_val: 0.015202826\n",
      "mean_loss at step  4400 : loss_val: 0.014430773\n",
      "mean_loss at step  4500 : loss_val: 0.0136991\n",
      "mean_loss at step  4600 : loss_val: 0.013005615\n",
      "mean_loss at step  4700 : loss_val: 0.012348243\n",
      "mean_loss at step  4800 : loss_val: 0.011725004\n",
      "mean_loss at step  4900 : loss_val: 0.011134084\n",
      "w_final: [-3.4919202  -0.10812676  2.985584  ] b_final: [ 45.479435  12.096207 -46.866673]\n"
     ]
    }
   ],
   "source": [
    "def linearMultiClassification(X_, y_, sess):\n",
    "    num_input = X_.shape[0]\n",
    "    num_input_features = X_.shape[1]\n",
    "    num_output_features = y_.shape[1]\n",
    "    print('num_input_features:',num_input_features, 'num_output_features:',num_output_features)\n",
    "    \n",
    "    # intialize variable\n",
    "    X_placeholder = tf.placeholder(tf.float32, shape=[None, num_input_features])\n",
    "    y_placeholder = tf.placeholder(tf.float32, shape=[None, num_output_features])\n",
    "    W = tf.get_variable(name=\"W\", \n",
    "                        shape=(num_input_features, num_output_features), \n",
    "                        initializer=tf.contrib.layers.xavier_initializer())\n",
    "    b = tf.get_variable(name=\"b\", \n",
    "                        shape=(1, num_output_features), \n",
    "                        initializer=tf.contrib.layers.xavier_initializer())\n",
    "\n",
    "    y_regression = tf.matmul(X_placeholder, W) + b\n",
    "    \n",
    "    # tf sigmoid cross entropy\n",
    "    x_entropy = tf.nn.softmax_cross_entropy_with_logits(labels=y_placeholder, logits=y_regression)\n",
    "    loss = tf.reduce_mean(x_entropy) # this line can be skip, I am not sure why\n",
    "    train_op = tf.train.AdamOptimizer(0.1).minimize(loss)\n",
    "    sess.run(tf.global_variables_initializer())\n",
    "    for i in range(5000):\n",
    "        _, loss_val = sess.run([train_op, loss], {X_placeholder: X_, y_placeholder:y_ })\n",
    "        if i%100 == 0:\n",
    "            print('mean_loss at step ', i,':','loss_val:',np.mean(loss_val))\n",
    "            \n",
    "    global w_final, b_final\n",
    "    w_final = W.eval().flatten()\n",
    "    b_final = b.eval().flatten()\n",
    "    print('w_final:', w_final, 'b_final:',b_final)\n",
    "tf.reset_default_graph()\n",
    "with tf.Session() as sess:\n",
    "    linearMultiClassification(X, y_one_hot, sess)"
   ]
  },
  {
   "cell_type": "markdown",
   "metadata": {},
   "source": [
    "### 2. Accuracy"
   ]
  },
  {
   "cell_type": "code",
   "execution_count": 486,
   "metadata": {
    "scrolled": true
   },
   "outputs": [
    {
     "name": "stdout",
     "output_type": "stream",
     "text": [
      "acc: 1.0\n"
     ]
    }
   ],
   "source": [
    "def accuracy(X_, y_, sess):\n",
    "    num_input_features = X_.shape[1]\n",
    "    X_placeholder = tf.placeholder(tf.float32, shape=[None, num_input_features])\n",
    "    y_placeholder = tf.placeholder(tf.int64, shape=[None])\n",
    "    \n",
    "    y_regression = tf.matmul(X_placeholder, w_final.reshape(1,-1)) + b_final.reshape(1,-1)\n",
    "    prediction = tf.nn.softmax(y_regression)\n",
    "    correct_pred = tf.equal(tf.argmax(prediction, 1), y_placeholder)\n",
    "    acc = tf.reduce_mean(tf.cast(correct_pred, tf.float32))\n",
    "    \n",
    "    [acc] = sess.run([acc], {X_placeholder: X_, y_placeholder:y_ })\n",
    "    print('acc:',acc)\n",
    "with tf.Session() as sess:\n",
    "    acc_func = accuracy(X, y_raw, sess)"
   ]
  },
  {
   "cell_type": "markdown",
   "metadata": {},
   "source": [
    "### Debugging"
   ]
  },
  {
   "cell_type": "code",
   "execution_count": 487,
   "metadata": {},
   "outputs": [
    {
     "name": "stdout",
     "output_type": "stream",
     "text": [
      "X: [[ 0]\n",
      " [16]\n",
      " [29]]\n",
      "y_reg: [[ 45.47943497  12.09620667 -46.86667252]\n",
      " [-10.39128876  10.36617851   0.90267181]\n",
      " [-55.78625178   8.96053064  39.71526408]]\n",
      "prediction: [[1.00000000e+00 3.17576355e-15 7.84503878e-41]\n",
      " [9.66301806e-10 9.99922371e-01 7.76278479e-05]\n",
      " [3.34363333e-42 4.39935465e-14 1.00000000e+00]]\n",
      "[[0]\n",
      " [1]\n",
      " [2]]\n"
     ]
    }
   ],
   "source": [
    "# 2 of these softmax functions are the same (-x_max will cancel out) see the link in the top of the notebook\n",
    "def softmax(x):\n",
    "    \"\"\"Compute softmax values for each sets of scores in x.\"\"\"\n",
    "    x_max = np.max(x)\n",
    "    e_x = np.exp(x - x_max)\n",
    "    return e_x / e_x.sum(axis=1).reshape((-1,1))\n",
    "def softmax2(x):\n",
    "    e_x = np.exp(x)\n",
    "    return e_x / e_x.sum(axis=1).reshape((-1,1))\n",
    "def accuracy_numpy(X, y):\n",
    "    W = w_final.reshape(1,-1)\n",
    "    b = b_final.reshape(1,-1)    \n",
    "    y_reg = np.matmul(X, W) + b\n",
    "    prediction = softmax2(y_reg)\n",
    "    \n",
    "    print('X:',X)\n",
    "    print('y_reg:',y_reg)\n",
    "    print('prediction:',prediction)\n",
    "    \n",
    "accuracy_numpy(X[[1,11,21]], y_raw.reshape(-1,1))\n",
    "print( y_raw.reshape(-1,1)[[1,11,21]])"
   ]
  },
  {
   "cell_type": "markdown",
   "metadata": {},
   "source": [
    "### 3. Plot"
   ]
  },
  {
   "cell_type": "code",
   "execution_count": 488,
   "metadata": {
    "scrolled": true
   },
   "outputs": [
    {
     "data": {
      "text/plain": [
       "Text(0,0.5,'value')"
      ]
     },
     "execution_count": 488,
     "metadata": {},
     "output_type": "execute_result"
    },
    {
     "data": {
      "image/png": "[encoded data removed]",
      "text/plain": [
       "<Figure size 432x288 with 1 Axes>"
      ]
     },
     "metadata": {},
     "output_type": "display_data"
    }
   ],
   "source": [
    "W = w_final.reshape(1,-1)\n",
    "b = b_final.reshape(1,-1)    \n",
    "y_reg = np.matmul(X, W) + b\n",
    "plt.plot(X, y_reg)\n",
    "    \n",
    "plt.scatter(X, np.zeros((num_data_in_class*num_classes)), c= y_raw)\n",
    "plt.xlabel('feature1')\n",
    "plt.ylabel('value')"
   ]
  },
  {
   "cell_type": "code",
   "execution_count": 489,
   "metadata": {},
   "outputs": [
    {
     "data": {
      "text/plain": [
       "[<matplotlib.lines.Line2D at 0x1234cea90>]"
      ]
     },
     "execution_count": 489,
     "metadata": {},
     "output_type": "execute_result"
    },
    {
     "data": {
      "image/png": "[encoded data removed]",
      "text/plain": [
       "<Figure size 432x288 with 1 Axes>"
      ]
     },
     "metadata": {},
     "output_type": "display_data"
    }
   ],
   "source": [
    "x_exp = np.linspace(-5, 5, num=100)\n",
    "y_exp = np.exp(x_exp)\n",
    "plt.plot(x_exp, y_exp)"
   ]
  },
  {
   "cell_type": "code",
   "execution_count": null,
   "metadata": {},
   "outputs": [],
   "source": []
  }
 ],
 "metadata": {
  "kernelspec": {
   "display_name": "Python 3",
   "language": "python",
   "name": "python3"
  },
  "language_info": {
   "codemirror_mode": {
    "name": "ipython",
    "version": 3
   },
   "file_extension": ".py",
   "mimetype": "text/x-python",
   "name": "python",
   "nbconvert_exporter": "python",
   "pygments_lexer": "ipython3",
   "version": "3.6.4"
  }
 },
 "nbformat": 4,
 "nbformat_minor": 2
}
