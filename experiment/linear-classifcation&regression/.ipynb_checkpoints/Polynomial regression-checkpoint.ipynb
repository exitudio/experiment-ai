{
 "cells": [
  {
   "cell_type": "code",
   "execution_count": 1,
   "metadata": {},
   "outputs": [
    {
     "name": "stderr",
     "output_type": "stream",
     "text": [
      "/Users/epinyoanun/miniconda3/lib/python3.6/site-packages/h5py/__init__.py:36: FutureWarning: Conversion of the second argument of issubdtype from `float` to `np.floating` is deprecated. In future, it will be treated as `np.float64 == np.dtype(float).type`.\n",
      "  from ._conv import register_converters as _register_converters\n"
     ]
    }
   ],
   "source": [
    "import pandas as pd\n",
    "import numpy as np\n",
    "import tensorflow as tf\n",
    "import matplotlib.pyplot as plt\n",
    "%matplotlib inline"
   ]
  },
  {
   "cell_type": "code",
   "execution_count": 132,
   "metadata": {},
   "outputs": [],
   "source": [
    "x1 = np.arange(-100,100)\n",
    "y = np.power(x1,3)"
   ]
  },
  {
   "cell_type": "code",
   "execution_count": 133,
   "metadata": {},
   "outputs": [
    {
     "data": {
      "text/plain": [
       "[<matplotlib.lines.Line2D at 0x1351dec18>]"
      ]
     },
     "execution_count": 133,
     "metadata": {},
     "output_type": "execute_result"
    },
    {
     "data": {
      "image/png": "[encoded data removed]",
      "text/plain": [
       "<Figure size 432x288 with 1 Axes>"
      ]
     },
     "metadata": {},
     "output_type": "display_data"
    }
   ],
   "source": [
    "plt.plot(x1,y)"
   ]
  },
  {
   "cell_type": "code",
   "execution_count": 52,
   "metadata": {},
   "outputs": [
    {
     "data": {
      "text/html": [
       "<div>\n",
       "<style scoped>\n",
       "    .dataframe tbody tr th:only-of-type {\n",
       "        vertical-align: middle;\n",
       "    }\n",
       "\n",
       "    .dataframe tbody tr th {\n",
       "        vertical-align: top;\n",
       "    }\n",
       "\n",
       "    .dataframe thead th {\n",
       "        text-align: right;\n",
       "    }\n",
       "</style>\n",
       "<table border=\"1\" class=\"dataframe\">\n",
       "  <thead>\n",
       "    <tr style=\"text-align: right;\">\n",
       "      <th></th>\n",
       "      <th>x1</th>\n",
       "      <th>y</th>\n",
       "    </tr>\n",
       "  </thead>\n",
       "  <tbody>\n",
       "    <tr>\n",
       "      <th>0</th>\n",
       "      <td>-100</td>\n",
       "      <td>-1000000</td>\n",
       "    </tr>\n",
       "    <tr>\n",
       "      <th>1</th>\n",
       "      <td>-99</td>\n",
       "      <td>-970299</td>\n",
       "    </tr>\n",
       "    <tr>\n",
       "      <th>2</th>\n",
       "      <td>-98</td>\n",
       "      <td>-941192</td>\n",
       "    </tr>\n",
       "    <tr>\n",
       "      <th>3</th>\n",
       "      <td>-97</td>\n",
       "      <td>-912673</td>\n",
       "    </tr>\n",
       "    <tr>\n",
       "      <th>4</th>\n",
       "      <td>-96</td>\n",
       "      <td>-884736</td>\n",
       "    </tr>\n",
       "  </tbody>\n",
       "</table>\n",
       "</div>"
      ],
      "text/plain": [
       "    x1        y\n",
       "0 -100 -1000000\n",
       "1  -99  -970299\n",
       "2  -98  -941192\n",
       "3  -97  -912673\n",
       "4  -96  -884736"
      ]
     },
     "execution_count": 52,
     "metadata": {},
     "output_type": "execute_result"
    }
   ],
   "source": [
    "pd.DataFrame(data=np.array((x1,y)).T, columns=['x1','y']).head()"
   ]
  },
  {
   "cell_type": "markdown",
   "metadata": {},
   "source": [
    "### Linear Classification"
   ]
  },
  {
   "cell_type": "markdown",
   "metadata": {},
   "source": [
    "### 1. Train"
   ]
  },
  {
   "cell_type": "code",
   "execution_count": 62,
   "metadata": {
    "scrolled": true
   },
   "outputs": [
    {
     "name": "stdout",
     "output_type": "stream",
     "text": [
      "INFO:tensorflow:Using default config.\n",
      "WARNING:tensorflow:Using temporary folder as model directory: /var/folders/sr/9k0jqkfs33q22ppyt_t7yjt9716826/T/tmppwy5ne2q\n",
      "INFO:tensorflow:Using config: {'_model_dir': '/var/folders/sr/9k0jqkfs33q22ppyt_t7yjt9716826/T/tmppwy5ne2q', '_tf_random_seed': None, '_save_summary_steps': 100, '_save_checkpoints_steps': None, '_save_checkpoints_secs': 600, '_session_config': None, '_keep_checkpoint_max': 5, '_keep_checkpoint_every_n_hours': 10000, '_log_step_count_steps': 100, '_service': None, '_cluster_spec': <tensorflow.python.training.server_lib.ClusterSpec object at 0x131ea6940>, '_task_type': 'worker', '_task_id': 0, '_global_id_in_cluster': 0, '_master': '', '_evaluation_master': '', '_is_chief': True, '_num_ps_replicas': 0, '_num_worker_replicas': 1}\n",
      "INFO:tensorflow:Calling model_fn.\n",
      "INFO:tensorflow:Done calling model_fn.\n",
      "INFO:tensorflow:Create CheckpointSaverHook.\n",
      "INFO:tensorflow:Graph was finalized.\n",
      "INFO:tensorflow:Running local_init_op.\n",
      "INFO:tensorflow:Done running local_init_op.\n",
      "INFO:tensorflow:Saving checkpoints for 1 into /var/folders/sr/9k0jqkfs33q22ppyt_t7yjt9716826/T/tmppwy5ne2q/model.ckpt.\n",
      "INFO:tensorflow:loss = 14910398000000.0, step = 1\n",
      "INFO:tensorflow:global_step/sec: 814.458\n",
      "INFO:tensorflow:loss = 20483260000000.0, step = 101 (0.123 sec)\n",
      "INFO:tensorflow:global_step/sec: 995.312\n",
      "INFO:tensorflow:loss = 12132662000000.0, step = 201 (0.100 sec)\n",
      "INFO:tensorflow:global_step/sec: 1072.06\n",
      "INFO:tensorflow:loss = 12718498000000.0, step = 301 (0.093 sec)\n",
      "INFO:tensorflow:global_step/sec: 1162.05\n",
      "INFO:tensorflow:loss = 15210193000000.0, step = 401 (0.086 sec)\n",
      "INFO:tensorflow:global_step/sec: 1009.38\n",
      "INFO:tensorflow:loss = 14105320000000.0, step = 501 (0.099 sec)\n",
      "INFO:tensorflow:global_step/sec: 1061.74\n",
      "INFO:tensorflow:loss = 12494122000000.0, step = 601 (0.094 sec)\n",
      "INFO:tensorflow:global_step/sec: 1128.62\n",
      "INFO:tensorflow:loss = 20193393000000.0, step = 701 (0.089 sec)\n",
      "INFO:tensorflow:global_step/sec: 970.015\n",
      "INFO:tensorflow:loss = 9494328000000.0, step = 801 (0.103 sec)\n",
      "INFO:tensorflow:global_step/sec: 1152.79\n",
      "INFO:tensorflow:loss = 10070241000000.0, step = 901 (0.087 sec)\n",
      "INFO:tensorflow:Saving checkpoints for 1000 into /var/folders/sr/9k0jqkfs33q22ppyt_t7yjt9716826/T/tmppwy5ne2q/model.ckpt.\n",
      "INFO:tensorflow:Loss for final step: 10039937000000.0.\n"
     ]
    },
    {
     "data": {
      "text/plain": [
       "<tensorflow.python.estimator.canned.linear.LinearRegressor at 0x131ea6c88>"
      ]
     },
     "execution_count": 62,
     "metadata": {},
     "output_type": "execute_result"
    }
   ],
   "source": [
    "feature_x1 = tf.feature_column.numeric_column('x1')\n",
    "input_func = tf.estimator.inputs.numpy_input_fn( x={'x1':x1},\n",
    "                                                 y=y,\n",
    "                                                 batch_size=100,\n",
    "                                                 num_epochs=999999,\n",
    "                                                 shuffle=True)\n",
    "optimizer = tf.train.AdamOptimizer(learning_rate=0.3)\n",
    "model = tf.estimator.LinearRegressor(feature_columns=[feature_x1], optimizer=optimizer)\n",
    "model.train(input_fn=input_func,steps=1000)"
   ]
  },
  {
   "cell_type": "markdown",
   "metadata": {},
   "source": [
    "### 2. Predict"
   ]
  },
  {
   "cell_type": "code",
   "execution_count": 63,
   "metadata": {},
   "outputs": [
    {
     "name": "stdout",
     "output_type": "stream",
     "text": [
      "INFO:tensorflow:Calling model_fn.\n",
      "INFO:tensorflow:Done calling model_fn.\n",
      "INFO:tensorflow:Graph was finalized.\n",
      "INFO:tensorflow:Restoring parameters from /var/folders/sr/9k0jqkfs33q22ppyt_t7yjt9716826/T/tmppwy5ne2q/model.ckpt-1000\n",
      "INFO:tensorflow:Running local_init_op.\n",
      "INFO:tensorflow:Done running local_init_op.\n"
     ]
    },
    {
     "data": {
      "text/plain": [
       "[-29499.629,\n",
       " -29205.03,\n",
       " -28910.432,\n",
       " -28615.832,\n",
       " -28321.232,\n",
       " -28026.633,\n",
       " -27732.033,\n",
       " -27437.436,\n",
       " -27142.836,\n",
       " -26848.236,\n",
       " -26553.637,\n",
       " -26259.037,\n",
       " -25964.44,\n",
       " -25669.84,\n",
       " -25375.24,\n",
       " -25080.64,\n",
       " -24786.041,\n",
       " -24491.441,\n",
       " -24196.844,\n",
       " -23902.244,\n",
       " -23607.645,\n",
       " -23313.045,\n",
       " -23018.445,\n",
       " -22723.848,\n",
       " -22429.248,\n",
       " -22134.648,\n",
       " -21840.049,\n",
       " -21545.45,\n",
       " -21250.85,\n",
       " -20956.252,\n",
       " -20661.652,\n",
       " -20367.053,\n",
       " -20072.453,\n",
       " -19777.854,\n",
       " -19483.256,\n",
       " -19188.656,\n",
       " -18894.057,\n",
       " -18599.457,\n",
       " -18304.857,\n",
       " -18010.26,\n",
       " -17715.66,\n",
       " -17421.06,\n",
       " -17126.46,\n",
       " -16831.861,\n",
       " -16537.264,\n",
       " -16242.662,\n",
       " -15948.063,\n",
       " -15653.464,\n",
       " -15358.864,\n",
       " -15064.266,\n",
       " -14769.666,\n",
       " -14475.067,\n",
       " -14180.468,\n",
       " -13885.868,\n",
       " -13591.27,\n",
       " -13296.67,\n",
       " -13002.071,\n",
       " -12707.472,\n",
       " -12412.872,\n",
       " -12118.273,\n",
       " -11823.674,\n",
       " -11529.074,\n",
       " -11234.476,\n",
       " -10939.876,\n",
       " -10645.276,\n",
       " -10350.678,\n",
       " -10056.078,\n",
       " -9761.4795,\n",
       " -9466.88,\n",
       " -9172.28,\n",
       " -8877.682,\n",
       " -8583.082,\n",
       " -8288.483,\n",
       " -7993.8843,\n",
       " -7699.2847,\n",
       " -7404.6855,\n",
       " -7110.0864,\n",
       " -6815.4873,\n",
       " -6520.888,\n",
       " -6226.2886,\n",
       " -5931.6895,\n",
       " -5637.0903,\n",
       " -5342.4907,\n",
       " -5047.8916,\n",
       " -4753.2925,\n",
       " -4458.6934,\n",
       " -4164.094,\n",
       " -3869.4946,\n",
       " -3574.8955,\n",
       " -3280.2964,\n",
       " -2985.697,\n",
       " -2691.0977,\n",
       " -2396.4985,\n",
       " -2101.8994,\n",
       " -1807.2999,\n",
       " -1512.7007,\n",
       " -1218.1014,\n",
       " -923.50226,\n",
       " -628.903,\n",
       " -334.30377,\n",
       " -39.70452,\n",
       " 254.89471,\n",
       " 549.49396,\n",
       " 844.0932,\n",
       " 1138.6925,\n",
       " 1433.2917,\n",
       " 1727.891,\n",
       " 2022.4904,\n",
       " 2317.0894,\n",
       " 2611.6885,\n",
       " 2906.2878,\n",
       " 3200.8872,\n",
       " 3495.4863,\n",
       " 3790.0854,\n",
       " 4084.685,\n",
       " 4379.284,\n",
       " 4673.8833,\n",
       " 4968.4824,\n",
       " 5263.0815,\n",
       " 5557.681,\n",
       " 5852.2803,\n",
       " 6146.8794,\n",
       " 6441.479,\n",
       " 6736.078,\n",
       " 7030.6772,\n",
       " 7325.2764,\n",
       " 7619.8755,\n",
       " 7914.475,\n",
       " 8209.075,\n",
       " 8503.674,\n",
       " 8798.273,\n",
       " 9092.872,\n",
       " 9387.472,\n",
       " 9682.071,\n",
       " 9976.67,\n",
       " 10271.27,\n",
       " 10565.868,\n",
       " 10860.468,\n",
       " 11155.067,\n",
       " 11449.666,\n",
       " 11744.266,\n",
       " 12038.865,\n",
       " 12333.464,\n",
       " 12628.063,\n",
       " 12922.663,\n",
       " 13217.262,\n",
       " 13511.861,\n",
       " 13806.46,\n",
       " 14101.06,\n",
       " 14395.659,\n",
       " 14690.258,\n",
       " 14984.857,\n",
       " 15279.456,\n",
       " 15574.056,\n",
       " 15868.655,\n",
       " 16163.254,\n",
       " 16457.854,\n",
       " 16752.451,\n",
       " 17047.05,\n",
       " 17341.65,\n",
       " 17636.25,\n",
       " 17930.85,\n",
       " 18225.447,\n",
       " 18520.047,\n",
       " 18814.646,\n",
       " 19109.246,\n",
       " 19403.846,\n",
       " 19698.443,\n",
       " 19993.043,\n",
       " 20287.643,\n",
       " 20582.242,\n",
       " 20876.842,\n",
       " 21171.44,\n",
       " 21466.04,\n",
       " 21760.639,\n",
       " 22055.238,\n",
       " 22349.838,\n",
       " 22644.438,\n",
       " 22939.035,\n",
       " 23233.635,\n",
       " 23528.234,\n",
       " 23822.834,\n",
       " 24117.434,\n",
       " 24412.031,\n",
       " 24706.63,\n",
       " 25001.23,\n",
       " 25295.83,\n",
       " 25590.43,\n",
       " 25885.03,\n",
       " 26179.627,\n",
       " 26474.227,\n",
       " 26768.826,\n",
       " 27063.426,\n",
       " 27358.025,\n",
       " 27652.623,\n",
       " 27947.223,\n",
       " 28241.822,\n",
       " 28536.422,\n",
       " 28831.021,\n",
       " 29125.62]"
      ]
     },
     "execution_count": 63,
     "metadata": {},
     "output_type": "execute_result"
    }
   ],
   "source": [
    "input_func_predict = tf.estimator.inputs.numpy_input_fn(x={\n",
    "    'x1':x1\n",
    "},shuffle=False)\n",
    "predict = model.predict(input_fn=input_func_predict)\n",
    "\n",
    "predict_result = []\n",
    "for i,p in enumerate(predict):\n",
    "    predict_result.append(p['predictions'][0])\n",
    "predict_result"
   ]
  },
  {
   "cell_type": "code",
   "execution_count": 64,
   "metadata": {},
   "outputs": [
    {
     "data": {
      "text/plain": [
       "[<matplotlib.lines.Line2D at 0x131bf3668>]"
      ]
     },
     "execution_count": 64,
     "metadata": {},
     "output_type": "execute_result"
    },
    {
     "data": {
      "image/png": "[encoded data removed]",
      "text/plain": [
       "<Figure size 432x288 with 1 Axes>"
      ]
     },
     "metadata": {},
     "output_type": "display_data"
    }
   ],
   "source": [
    "plt.plot(x1,predict_result)\n",
    "plt.plot(x1,y)"
   ]
  },
  {
   "cell_type": "markdown",
   "metadata": {},
   "source": [
    "### DNN Regression"
   ]
  },
  {
   "cell_type": "markdown",
   "metadata": {},
   "source": [
    "### 1. Train"
   ]
  },
  {
   "cell_type": "code",
   "execution_count": 76,
   "metadata": {
    "scrolled": true
   },
   "outputs": [
    {
     "name": "stdout",
     "output_type": "stream",
     "text": [
      "INFO:tensorflow:Using default config.\n",
      "INFO:tensorflow:Using config: {'_model_dir': 'tmp/tensorboard', '_tf_random_seed': None, '_save_summary_steps': 100, '_save_checkpoints_steps': None, '_save_checkpoints_secs': 600, '_session_config': None, '_keep_checkpoint_max': 5, '_keep_checkpoint_every_n_hours': 10000, '_log_step_count_steps': 100, '_service': None, '_cluster_spec': <tensorflow.python.training.server_lib.ClusterSpec object at 0x13272e550>, '_task_type': 'worker', '_task_id': 0, '_global_id_in_cluster': 0, '_master': '', '_evaluation_master': '', '_is_chief': True, '_num_ps_replicas': 0, '_num_worker_replicas': 1}\n",
      "INFO:tensorflow:Calling model_fn.\n",
      "INFO:tensorflow:Done calling model_fn.\n",
      "INFO:tensorflow:Create CheckpointSaverHook.\n",
      "INFO:tensorflow:Graph was finalized.\n",
      "INFO:tensorflow:Running local_init_op.\n",
      "INFO:tensorflow:Done running local_init_op.\n",
      "INFO:tensorflow:Saving checkpoints for 1 into tmp/tensorboard/model.ckpt.\n",
      "INFO:tensorflow:loss = 20457101000000.0, step = 1\n",
      "INFO:tensorflow:global_step/sec: 809.644\n",
      "INFO:tensorflow:loss = 15105889000000.0, step = 101 (0.124 sec)\n",
      "INFO:tensorflow:global_step/sec: 1203.93\n",
      "INFO:tensorflow:loss = 11249411000000.0, step = 201 (0.083 sec)\n",
      "INFO:tensorflow:global_step/sec: 1167.45\n",
      "INFO:tensorflow:loss = 5906996700000.0, step = 301 (0.086 sec)\n",
      "INFO:tensorflow:global_step/sec: 1082.67\n",
      "INFO:tensorflow:loss = 2756463800000.0, step = 401 (0.092 sec)\n",
      "INFO:tensorflow:global_step/sec: 1085.29\n",
      "INFO:tensorflow:loss = 2355452400000.0, step = 501 (0.092 sec)\n",
      "INFO:tensorflow:global_step/sec: 1167.8\n",
      "INFO:tensorflow:loss = 2943162000000.0, step = 601 (0.086 sec)\n",
      "INFO:tensorflow:global_step/sec: 1160.21\n",
      "INFO:tensorflow:loss = 3248744600000.0, step = 701 (0.086 sec)\n",
      "INFO:tensorflow:global_step/sec: 1085.33\n",
      "INFO:tensorflow:loss = 3221718600000.0, step = 801 (0.092 sec)\n",
      "INFO:tensorflow:global_step/sec: 1182.82\n",
      "INFO:tensorflow:loss = 2902359300000.0, step = 901 (0.085 sec)\n",
      "INFO:tensorflow:global_step/sec: 1168.32\n",
      "INFO:tensorflow:loss = 3079881400000.0, step = 1001 (0.086 sec)\n",
      "INFO:tensorflow:global_step/sec: 1169.1\n",
      "INFO:tensorflow:loss = 3285542500000.0, step = 1101 (0.086 sec)\n",
      "INFO:tensorflow:global_step/sec: 1180.3\n",
      "INFO:tensorflow:loss = 2447917000000.0, step = 1201 (0.085 sec)\n",
      "INFO:tensorflow:global_step/sec: 954.016\n",
      "INFO:tensorflow:loss = 3272814600000.0, step = 1301 (0.105 sec)\n",
      "INFO:tensorflow:global_step/sec: 1020.13\n",
      "INFO:tensorflow:loss = 2299611300000.0, step = 1401 (0.098 sec)\n",
      "INFO:tensorflow:global_step/sec: 1169.28\n",
      "INFO:tensorflow:loss = 2458899400000.0, step = 1501 (0.086 sec)\n",
      "INFO:tensorflow:global_step/sec: 1123.21\n",
      "INFO:tensorflow:loss = 2644750600000.0, step = 1601 (0.089 sec)\n",
      "INFO:tensorflow:global_step/sec: 1180.01\n",
      "INFO:tensorflow:loss = 3133208500000.0, step = 1701 (0.085 sec)\n",
      "INFO:tensorflow:global_step/sec: 1193.28\n",
      "INFO:tensorflow:loss = 2717430600000.0, step = 1801 (0.084 sec)\n",
      "INFO:tensorflow:global_step/sec: 1031.14\n",
      "INFO:tensorflow:loss = 2523340200000.0, step = 1901 (0.097 sec)\n",
      "INFO:tensorflow:global_step/sec: 1175.94\n",
      "INFO:tensorflow:loss = 2515661800000.0, step = 2001 (0.085 sec)\n",
      "INFO:tensorflow:global_step/sec: 1146.71\n",
      "INFO:tensorflow:loss = 3001264000000.0, step = 2101 (0.087 sec)\n",
      "INFO:tensorflow:global_step/sec: 1139.95\n",
      "INFO:tensorflow:loss = 2612484600000.0, step = 2201 (0.088 sec)\n",
      "INFO:tensorflow:global_step/sec: 1142.74\n",
      "INFO:tensorflow:loss = 2758491800000.0, step = 2301 (0.088 sec)\n",
      "INFO:tensorflow:global_step/sec: 1145.77\n",
      "INFO:tensorflow:loss = 3045387000000.0, step = 2401 (0.087 sec)\n",
      "INFO:tensorflow:global_step/sec: 1110.85\n",
      "INFO:tensorflow:loss = 2188024900000.0, step = 2501 (0.090 sec)\n",
      "INFO:tensorflow:global_step/sec: 1167.5\n",
      "INFO:tensorflow:loss = 2768311400000.0, step = 2601 (0.086 sec)\n",
      "INFO:tensorflow:global_step/sec: 1176.73\n",
      "INFO:tensorflow:loss = 2845310700000.0, step = 2701 (0.085 sec)\n",
      "INFO:tensorflow:global_step/sec: 1168.65\n",
      "INFO:tensorflow:loss = 2466618500000.0, step = 2801 (0.086 sec)\n",
      "INFO:tensorflow:global_step/sec: 981.555\n",
      "INFO:tensorflow:loss = 2316415000000.0, step = 2901 (0.103 sec)\n",
      "INFO:tensorflow:global_step/sec: 826.508\n",
      "INFO:tensorflow:loss = 2682589800000.0, step = 3001 (0.121 sec)\n",
      "INFO:tensorflow:global_step/sec: 804.576\n",
      "INFO:tensorflow:loss = 2538609300000.0, step = 3101 (0.124 sec)\n",
      "INFO:tensorflow:global_step/sec: 811.992\n",
      "INFO:tensorflow:loss = 2849373200000.0, step = 3201 (0.124 sec)\n",
      "INFO:tensorflow:global_step/sec: 745.791\n",
      "INFO:tensorflow:loss = 2466997300000.0, step = 3301 (0.135 sec)\n",
      "INFO:tensorflow:global_step/sec: 670.241\n",
      "INFO:tensorflow:loss = 2396517000000.0, step = 3401 (0.148 sec)\n",
      "INFO:tensorflow:global_step/sec: 797.83\n",
      "INFO:tensorflow:loss = 2463284900000.0, step = 3501 (0.126 sec)\n",
      "INFO:tensorflow:global_step/sec: 801.019\n",
      "INFO:tensorflow:loss = 2399678000000.0, step = 3601 (0.124 sec)\n",
      "INFO:tensorflow:global_step/sec: 788.805\n",
      "INFO:tensorflow:loss = 2646470800000.0, step = 3701 (0.127 sec)\n",
      "INFO:tensorflow:global_step/sec: 805.717\n",
      "INFO:tensorflow:loss = 2264733000000.0, step = 3801 (0.124 sec)\n",
      "INFO:tensorflow:global_step/sec: 1004.74\n",
      "INFO:tensorflow:loss = 2333286000000.0, step = 3901 (0.099 sec)\n",
      "INFO:tensorflow:global_step/sec: 1026.05\n",
      "INFO:tensorflow:loss = 2635322000000.0, step = 4001 (0.098 sec)\n",
      "INFO:tensorflow:global_step/sec: 976.275\n",
      "INFO:tensorflow:loss = 2786352700000.0, step = 4101 (0.102 sec)\n",
      "INFO:tensorflow:global_step/sec: 1062.45\n",
      "INFO:tensorflow:loss = 2349177800000.0, step = 4201 (0.094 sec)\n",
      "INFO:tensorflow:global_step/sec: 1082.41\n",
      "INFO:tensorflow:loss = 2363993600000.0, step = 4301 (0.092 sec)\n",
      "INFO:tensorflow:global_step/sec: 1009.18\n",
      "INFO:tensorflow:loss = 2100900800000.0, step = 4401 (0.099 sec)\n",
      "INFO:tensorflow:global_step/sec: 1058.72\n",
      "INFO:tensorflow:loss = 2365155400000.0, step = 4501 (0.094 sec)\n",
      "INFO:tensorflow:global_step/sec: 1082.53\n",
      "INFO:tensorflow:loss = 2567074000000.0, step = 4601 (0.092 sec)\n",
      "INFO:tensorflow:global_step/sec: 1086.54\n",
      "INFO:tensorflow:loss = 2163251300000.0, step = 4701 (0.092 sec)\n",
      "INFO:tensorflow:global_step/sec: 1079.03\n",
      "INFO:tensorflow:loss = 2417791000000.0, step = 4801 (0.093 sec)\n",
      "INFO:tensorflow:global_step/sec: 1077.9\n",
      "INFO:tensorflow:loss = 2170418400000.0, step = 4901 (0.093 sec)\n",
      "INFO:tensorflow:global_step/sec: 1075.44\n",
      "INFO:tensorflow:loss = 1492991300000.0, step = 5001 (0.093 sec)\n",
      "INFO:tensorflow:global_step/sec: 1074.66\n",
      "INFO:tensorflow:loss = 2324649700000.0, step = 5101 (0.093 sec)\n",
      "INFO:tensorflow:global_step/sec: 1072.5\n",
      "INFO:tensorflow:loss = 1914492300000.0, step = 5201 (0.093 sec)\n",
      "INFO:tensorflow:global_step/sec: 973.351\n",
      "INFO:tensorflow:loss = 2054470500000.0, step = 5301 (0.103 sec)\n",
      "INFO:tensorflow:global_step/sec: 1018.7\n",
      "INFO:tensorflow:loss = 2388492000000.0, step = 5401 (0.098 sec)\n",
      "INFO:tensorflow:global_step/sec: 992.97\n",
      "INFO:tensorflow:loss = 1723415900000.0, step = 5501 (0.101 sec)\n",
      "INFO:tensorflow:global_step/sec: 1024.59\n",
      "INFO:tensorflow:loss = 1954678300000.0, step = 5601 (0.098 sec)\n",
      "INFO:tensorflow:global_step/sec: 1014.51\n",
      "INFO:tensorflow:loss = 2292568600000.0, step = 5701 (0.099 sec)\n",
      "INFO:tensorflow:global_step/sec: 945.504\n",
      "INFO:tensorflow:loss = 2062420700000.0, step = 5801 (0.106 sec)\n",
      "INFO:tensorflow:global_step/sec: 914.862\n",
      "INFO:tensorflow:loss = 2589667600000.0, step = 5901 (0.109 sec)\n",
      "INFO:tensorflow:global_step/sec: 993.353\n",
      "INFO:tensorflow:loss = 1601356200000.0, step = 6001 (0.100 sec)\n",
      "INFO:tensorflow:global_step/sec: 1016.48\n",
      "INFO:tensorflow:loss = 1701311300000.0, step = 6101 (0.098 sec)\n",
      "INFO:tensorflow:global_step/sec: 973.805\n",
      "INFO:tensorflow:loss = 1958875200000.0, step = 6201 (0.103 sec)\n",
      "INFO:tensorflow:global_step/sec: 1076\n",
      "INFO:tensorflow:loss = 1673873900000.0, step = 6301 (0.093 sec)\n",
      "INFO:tensorflow:global_step/sec: 1017.28\n",
      "INFO:tensorflow:loss = 1774807700000.0, step = 6401 (0.098 sec)\n",
      "INFO:tensorflow:global_step/sec: 961.972\n",
      "INFO:tensorflow:loss = 1602965700000.0, step = 6501 (0.104 sec)\n",
      "INFO:tensorflow:global_step/sec: 893.824\n",
      "INFO:tensorflow:loss = 1875038600000.0, step = 6601 (0.112 sec)\n",
      "INFO:tensorflow:global_step/sec: 1059.43\n",
      "INFO:tensorflow:loss = 1663163400000.0, step = 6701 (0.094 sec)\n",
      "INFO:tensorflow:global_step/sec: 978.75\n",
      "INFO:tensorflow:loss = 1493477800000.0, step = 6801 (0.102 sec)\n",
      "INFO:tensorflow:global_step/sec: 892.937\n",
      "INFO:tensorflow:loss = 1944191800000.0, step = 6901 (0.112 sec)\n"
     ]
    },
    {
     "name": "stdout",
     "output_type": "stream",
     "text": [
      "INFO:tensorflow:global_step/sec: 910.043\n",
      "INFO:tensorflow:loss = 1498657800000.0, step = 7001 (0.110 sec)\n",
      "INFO:tensorflow:global_step/sec: 984.96\n",
      "INFO:tensorflow:loss = 1195853600000.0, step = 7101 (0.101 sec)\n",
      "INFO:tensorflow:global_step/sec: 1112.62\n",
      "INFO:tensorflow:loss = 1474513000000.0, step = 7201 (0.090 sec)\n",
      "INFO:tensorflow:global_step/sec: 1087.3\n",
      "INFO:tensorflow:loss = 1445903000000.0, step = 7301 (0.092 sec)\n",
      "INFO:tensorflow:global_step/sec: 1088.4\n",
      "INFO:tensorflow:loss = 1431497900000.0, step = 7401 (0.092 sec)\n",
      "INFO:tensorflow:global_step/sec: 1100.15\n",
      "INFO:tensorflow:loss = 1409627700000.0, step = 7501 (0.091 sec)\n",
      "INFO:tensorflow:global_step/sec: 1088.02\n",
      "INFO:tensorflow:loss = 1249370800000.0, step = 7601 (0.092 sec)\n",
      "INFO:tensorflow:global_step/sec: 1090.51\n",
      "INFO:tensorflow:loss = 1134631700000.0, step = 7701 (0.092 sec)\n",
      "INFO:tensorflow:global_step/sec: 1011.1\n",
      "INFO:tensorflow:loss = 1074944540000.0, step = 7801 (0.099 sec)\n",
      "INFO:tensorflow:global_step/sec: 1092.56\n",
      "INFO:tensorflow:loss = 1355859900000.0, step = 7901 (0.092 sec)\n",
      "INFO:tensorflow:global_step/sec: 1123\n",
      "INFO:tensorflow:loss = 934791100000.0, step = 8001 (0.089 sec)\n",
      "INFO:tensorflow:global_step/sec: 919.626\n",
      "INFO:tensorflow:loss = 1115423900000.0, step = 8101 (0.109 sec)\n",
      "INFO:tensorflow:global_step/sec: 971.635\n",
      "INFO:tensorflow:loss = 1194926300000.0, step = 8201 (0.103 sec)\n",
      "INFO:tensorflow:global_step/sec: 1178.04\n",
      "INFO:tensorflow:loss = 1001239400000.0, step = 8301 (0.085 sec)\n",
      "INFO:tensorflow:global_step/sec: 1179.4\n",
      "INFO:tensorflow:loss = 1159992700000.0, step = 8401 (0.085 sec)\n",
      "INFO:tensorflow:global_step/sec: 1170.59\n",
      "INFO:tensorflow:loss = 1219303400000.0, step = 8501 (0.085 sec)\n",
      "INFO:tensorflow:global_step/sec: 997.466\n",
      "INFO:tensorflow:loss = 1022290600000.0, step = 8601 (0.100 sec)\n",
      "INFO:tensorflow:global_step/sec: 1189.84\n",
      "INFO:tensorflow:loss = 630853700000.0, step = 8701 (0.084 sec)\n",
      "INFO:tensorflow:global_step/sec: 1175.35\n",
      "INFO:tensorflow:loss = 861657760000.0, step = 8801 (0.085 sec)\n",
      "INFO:tensorflow:global_step/sec: 1183.64\n",
      "INFO:tensorflow:loss = 596346000000.0, step = 8901 (0.084 sec)\n",
      "INFO:tensorflow:global_step/sec: 1198.01\n",
      "INFO:tensorflow:loss = 721132200000.0, step = 9001 (0.083 sec)\n",
      "INFO:tensorflow:global_step/sec: 998.42\n",
      "INFO:tensorflow:loss = 667188800000.0, step = 9101 (0.100 sec)\n",
      "INFO:tensorflow:global_step/sec: 1121.14\n",
      "INFO:tensorflow:loss = 666248540000.0, step = 9201 (0.089 sec)\n",
      "INFO:tensorflow:global_step/sec: 1178.98\n",
      "INFO:tensorflow:loss = 711649900000.0, step = 9301 (0.085 sec)\n",
      "INFO:tensorflow:global_step/sec: 1191.07\n",
      "INFO:tensorflow:loss = 658882100000.0, step = 9401 (0.084 sec)\n",
      "INFO:tensorflow:global_step/sec: 1175.83\n",
      "INFO:tensorflow:loss = 624124400000.0, step = 9501 (0.085 sec)\n",
      "INFO:tensorflow:global_step/sec: 1170.45\n",
      "INFO:tensorflow:loss = 747267300000.0, step = 9601 (0.085 sec)\n",
      "INFO:tensorflow:global_step/sec: 1173.89\n",
      "INFO:tensorflow:loss = 571199650000.0, step = 9701 (0.085 sec)\n",
      "INFO:tensorflow:global_step/sec: 1164.93\n",
      "INFO:tensorflow:loss = 549548850000.0, step = 9801 (0.086 sec)\n",
      "INFO:tensorflow:global_step/sec: 1169.21\n",
      "INFO:tensorflow:loss = 559677440000.0, step = 9901 (0.086 sec)\n",
      "INFO:tensorflow:Saving checkpoints for 10000 into tmp/tensorboard/model.ckpt.\n",
      "INFO:tensorflow:Loss for final step: 436664070000.0.\n"
     ]
    },
    {
     "data": {
      "text/plain": [
       "<tensorflow.python.estimator.canned.dnn.DNNRegressor at 0x131e8d5c0>"
      ]
     },
     "execution_count": 76,
     "metadata": {},
     "output_type": "execute_result"
    }
   ],
   "source": [
    "feature_x1 = tf.feature_column.numeric_column('x1')\n",
    "input_func_dnn = tf.estimator.inputs.numpy_input_fn(\n",
    "    x={'x1':x1},\n",
    "    y=y,\n",
    "    batch_size=128,\n",
    "    num_epochs=10000,\n",
    "    shuffle=True)\n",
    "dnn_model = tf.estimator.DNNRegressor(hidden_units=[4],\n",
    "                                     feature_columns=[feature_x1],\n",
    "                                     optimizer = tf.train.AdamOptimizer(learning_rate=0.1),\n",
    "                                     model_dir='tmp/tensorboard')\n",
    "dnn_model.train(input_fn=input_func_dnn,steps=10000)"
   ]
  },
  {
   "cell_type": "markdown",
   "metadata": {},
   "source": [
    "### 2. Evaluate"
   ]
  },
  {
   "cell_type": "code",
   "execution_count": 54,
   "metadata": {},
   "outputs": [
    {
     "name": "stdout",
     "output_type": "stream",
     "text": [
      "INFO:tensorflow:Calling model_fn.\n",
      "INFO:tensorflow:Done calling model_fn.\n",
      "INFO:tensorflow:Starting evaluation at 2018-04-30-01:26:57\n",
      "INFO:tensorflow:Graph was finalized.\n",
      "INFO:tensorflow:Restoring parameters from /var/folders/sr/9k0jqkfs33q22ppyt_t7yjt9716826/T/tmpi_pl97a3/model.ckpt-10000\n",
      "INFO:tensorflow:Running local_init_op.\n",
      "INFO:tensorflow:Done running local_init_op.\n",
      "INFO:tensorflow:Finished evaluation at 2018-04-30-01:26:57\n",
      "INFO:tensorflow:Saving dict for global step 10000: average_loss = 6455109000.0, global_step = 10000, loss = 1291021800000.0\n"
     ]
    },
    {
     "data": {
      "text/plain": [
       "{'average_loss': 6455109000.0, 'loss': 1291021800000.0, 'global_step': 10000}"
      ]
     },
     "execution_count": 54,
     "metadata": {},
     "output_type": "execute_result"
    }
   ],
   "source": [
    "test_input_func = tf.estimator.inputs.numpy_input_fn(\n",
    "    x={'x1':x1},\n",
    "    y=y,\n",
    "    batch_size=1000,\n",
    "    num_epochs=1,\n",
    "    shuffle=False)\n",
    "dnn_model.evaluate(input_fn=test_input_func,steps=1000)"
   ]
  },
  {
   "cell_type": "markdown",
   "metadata": {},
   "source": [
    "### 3. Predict"
   ]
  },
  {
   "cell_type": "code",
   "execution_count": 55,
   "metadata": {},
   "outputs": [
    {
     "name": "stdout",
     "output_type": "stream",
     "text": [
      "INFO:tensorflow:Calling model_fn.\n",
      "INFO:tensorflow:Done calling model_fn.\n",
      "INFO:tensorflow:Graph was finalized.\n",
      "INFO:tensorflow:Restoring parameters from /var/folders/sr/9k0jqkfs33q22ppyt_t7yjt9716826/T/tmpi_pl97a3/model.ckpt-10000\n",
      "INFO:tensorflow:Running local_init_op.\n",
      "INFO:tensorflow:Done running local_init_op.\n"
     ]
    },
    {
     "data": {
      "text/plain": [
       "[-692378.8,\n",
       " -683651.8,\n",
       " -674924.75,\n",
       " -666197.75,\n",
       " -657470.75,\n",
       " -648743.7,\n",
       " -640016.7,\n",
       " -631289.7,\n",
       " -622562.6,\n",
       " -613835.7,\n",
       " -605108.6,\n",
       " -596381.6,\n",
       " -587654.6,\n",
       " -578927.56,\n",
       " -570200.56,\n",
       " -561473.56,\n",
       " -552746.56,\n",
       " -544019.56,\n",
       " -535292.56,\n",
       " -526565.5,\n",
       " -517838.47,\n",
       " -509111.44,\n",
       " -500384.44,\n",
       " -491657.4,\n",
       " -482930.38,\n",
       " -474203.4,\n",
       " -465476.4,\n",
       " -456749.38,\n",
       " -448022.34,\n",
       " -439295.34,\n",
       " -430568.3,\n",
       " -421841.28,\n",
       " -413114.3,\n",
       " -404387.3,\n",
       " -395660.28,\n",
       " -386933.25,\n",
       " -378206.25,\n",
       " -369479.22,\n",
       " -360752.2,\n",
       " -352025.2,\n",
       " -343298.16,\n",
       " -334571.2,\n",
       " -325844.2,\n",
       " -317117.16,\n",
       " -308390.12,\n",
       " -299663.12,\n",
       " -290936.1,\n",
       " -282209.06,\n",
       " -273482.1,\n",
       " -264755.03,\n",
       " -256028.06,\n",
       " -247301.05,\n",
       " -238574.02,\n",
       " -229847.0,\n",
       " -221119.97,\n",
       " -212392.97,\n",
       " -203665.95,\n",
       " -194938.92,\n",
       " -186211.94,\n",
       " -177484.92,\n",
       " -168757.89,\n",
       " -160030.88,\n",
       " -151303.86,\n",
       " -142576.86,\n",
       " -133849.84,\n",
       " -125122.83,\n",
       " -116395.83,\n",
       " -107668.81,\n",
       " -98941.79,\n",
       " -90214.766,\n",
       " -81487.75,\n",
       " -72760.76,\n",
       " -64033.734,\n",
       " -55306.715,\n",
       " -46579.72,\n",
       " -37852.7,\n",
       " -29125.676,\n",
       " -20398.654,\n",
       " -11671.648,\n",
       " -2944.6414,\n",
       " 414.89944,\n",
       " 414.89944,\n",
       " 414.89944,\n",
       " 414.89944,\n",
       " 414.89944,\n",
       " 414.89944,\n",
       " 414.89944,\n",
       " 414.89944,\n",
       " 414.89944,\n",
       " 414.89944,\n",
       " 414.89944,\n",
       " 414.89944,\n",
       " 414.89944,\n",
       " 414.89944,\n",
       " 414.89944,\n",
       " 414.89944,\n",
       " 414.89944,\n",
       " 414.89944,\n",
       " 414.89944,\n",
       " 414.89944,\n",
       " 414.89944,\n",
       " 414.89944,\n",
       " 414.89944,\n",
       " 414.89944,\n",
       " 414.89944,\n",
       " 414.89944,\n",
       " 414.89944,\n",
       " 414.89944,\n",
       " 414.89944,\n",
       " 414.89944,\n",
       " 414.89944,\n",
       " 414.89944,\n",
       " 414.89944,\n",
       " 414.89944,\n",
       " 414.89944,\n",
       " 414.89944,\n",
       " 414.89944,\n",
       " 414.89944,\n",
       " 414.89944,\n",
       " 414.89944,\n",
       " 414.89944,\n",
       " 414.89944,\n",
       " 414.89944,\n",
       " 414.89944,\n",
       " 414.89944,\n",
       " 414.89944,\n",
       " 414.89944,\n",
       " 414.89944,\n",
       " 414.89944,\n",
       " 414.89944,\n",
       " 3785.328,\n",
       " 10115.604,\n",
       " 16445.879,\n",
       " 22776.154,\n",
       " 29106.43,\n",
       " 35436.703,\n",
       " 41766.977,\n",
       " 48097.254,\n",
       " 54427.527,\n",
       " 60757.805,\n",
       " 67088.08,\n",
       " 73418.336,\n",
       " 79748.625,\n",
       " 86078.92,\n",
       " 92409.18,\n",
       " 98739.44,\n",
       " 105069.73,\n",
       " 111400.02,\n",
       " 117730.28,\n",
       " 124060.54,\n",
       " 130390.83,\n",
       " 137246.1,\n",
       " 149627.45,\n",
       " 163959.39,\n",
       " 178291.34,\n",
       " 192623.3,\n",
       " 206955.22,\n",
       " 221287.12,\n",
       " 235619.08,\n",
       " 249951.03,\n",
       " 264282.97,\n",
       " 278614.88,\n",
       " 292946.8,\n",
       " 307278.78,\n",
       " 321610.7,\n",
       " 335942.62,\n",
       " 350274.6,\n",
       " 364606.53,\n",
       " 378938.4,\n",
       " 393270.34,\n",
       " 407602.3,\n",
       " 421934.25,\n",
       " 436266.16,\n",
       " 450598.03,\n",
       " 464930.1,\n",
       " 479262.0,\n",
       " 493593.94,\n",
       " 507925.84,\n",
       " 522257.78,\n",
       " 536589.6,\n",
       " 550921.6,\n",
       " 565253.56,\n",
       " 579585.5,\n",
       " 593917.44,\n",
       " 608249.4,\n",
       " 622581.3,\n",
       " 636913.25,\n",
       " 651245.2,\n",
       " 665577.1,\n",
       " 679909.0,\n",
       " 694241.0,\n",
       " 708572.94,\n",
       " 722904.8,\n",
       " 737236.8,\n",
       " 751568.75,\n",
       " 765900.7,\n",
       " 780232.56,\n",
       " 794564.5,\n",
       " 808896.44,\n",
       " 823228.4]"
      ]
     },
     "execution_count": 55,
     "metadata": {},
     "output_type": "execute_result"
    }
   ],
   "source": [
    "input_fn_predict = tf.estimator.inputs.numpy_input_fn(x={\n",
    "    'x1':x1\n",
    "},shuffle=False)\n",
    "predict = dnn_model.predict(input_fn=input_fn_predict)\n",
    "\n",
    "predict_result = []\n",
    "for i,p in enumerate(predict):\n",
    "    predict_result.append(p['predictions'][0])\n",
    "predict_result"
   ]
  },
  {
   "cell_type": "code",
   "execution_count": 56,
   "metadata": {},
   "outputs": [
    {
     "data": {
      "text/plain": [
       "[<matplotlib.lines.Line2D at 0x131975898>]"
      ]
     },
     "execution_count": 56,
     "metadata": {},
     "output_type": "execute_result"
    },
    {
     "data": {
      "image/png": "[encoded data removed]",
      "text/plain": [
       "<Figure size 432x288 with 1 Axes>"
      ]
     },
     "metadata": {},
     "output_type": "display_data"
    }
   ],
   "source": [
    "plt.plot(x1,predict_result)\n",
    "plt.plot(x1,y)"
   ]
  },
  {
   "cell_type": "code",
   "execution_count": 75,
   "metadata": {},
   "outputs": [
    {
     "name": "stdout",
     "output_type": "stream",
     "text": [
      "[[-39.914764  25.56305   15.033222  15.105981]]\n",
      "[[-218.64125]\n",
      " [ 247.6338 ]\n",
      " [ 268.56256]\n",
      " [ 262.43246]]\n"
     ]
    }
   ],
   "source": [
    "tf.estimator.DNNRegressor.get_variable_names(dnn_model)\n",
    "print(tf.estimator.LinearClassifier.get_variable_value(dnn_model, 'dnn/hiddenlayer_0/kernel'))\n",
    "print(tf.estimator.LinearClassifier.get_variable_value(dnn_model, 'dnn/logits/kernel'))"
   ]
  },
  {
   "cell_type": "markdown",
   "metadata": {},
   "source": [
    "### Raw Net"
   ]
  },
  {
   "cell_type": "code",
   "execution_count": 166,
   "metadata": {
    "scrolled": true
   },
   "outputs": [
    {
     "name": "stdout",
     "output_type": "stream",
     "text": [
      "Current Step: 1, error:142899953664.0\n",
      "Current Step: 100, error:23072251904.0\n",
      "Current Step: 200, error:22102505472.0\n",
      "Current Step: 300, error:21082384384.0\n",
      "Current Step: 400, error:19809419264.0\n",
      "Current Step: 500, error:18116370432.0\n",
      "Current Step: 600, error:16023256064.0\n",
      "Current Step: 700, error:13786332160.0\n",
      "Current Step: 800, error:11646465024.0\n",
      "Current Step: 900, error:9703360512.0\n",
      "Current Step: 1000, error:7982118400.0\n"
     ]
    }
   ],
   "source": [
    "def get_scope_variable(scope, name, shape=None):\n",
    "    with tf.variable_scope(scope, reuse=tf.AUTO_REUSE):\n",
    "        v = tf.get_variable(name, shape, initializer=tf.contrib.layers.xavier_initializer())\n",
    "    return v\n",
    "def normal_full_layer(input_layer, size, layer_name):\n",
    "    input_size = int(input_layer.get_shape()[1])\n",
    "    W = get_scope_variable(layer_name, name='w', shape=[input_size, size])\n",
    "    b = get_scope_variable(layer_name, name='b', shape=[size])\n",
    "    return (tf.matmul(input_layer, W) + b)\n",
    "\n",
    "tf.reset_default_graph()\n",
    "x = tf.placeholder(tf.float32, shape=[None, 1], name=\"x\")\n",
    "y_true = tf.placeholder(tf.float32, shape=[None, 1], name=\"y_true\")\n",
    "\n",
    "# layers\n",
    "layer1 = tf.nn.relu(normal_full_layer(x, 4, 'layer_1'))\n",
    "y_pred = normal_full_layer(layer1, 1, 'to_activation')\n",
    "# or using tf function\n",
    "# layer1 = tf.layers.dense(x, 10, tf.nn.relu)\n",
    "# y_pred = tf.layers.dense(layer1, 1)\n",
    "\n",
    "\n",
    "# optimization\n",
    "error = tf.reduce_sum( tf.square(y_pred - y_true) ) # tf.losses.mean_squared_error(y_true, y_pred)\n",
    "optimizer = tf.train.AdamOptimizer(learning_rate=1)\n",
    "train = optimizer.minimize(error)\n",
    "\n",
    "# Session\n",
    "sess = tf.InteractiveSession()\n",
    "sess.run(tf.global_variables_initializer())\n",
    "\n",
    "steps = 1000\n",
    "for i in range(steps):\n",
    "    _, error_val = sess.run([train, error], feed_dict={x:x1.reshape([-1,1]), y_true:y.reshape([-1,1])})\n",
    "    if(i==0 or (i+1)%100==0):\n",
    "        print('Current Step: {}, error:{}'.format(i+1,error_val))"
   ]
  },
  {
   "cell_type": "code",
   "execution_count": 149,
   "metadata": {},
   "outputs": [
    {
     "data": {
      "text/plain": [
       "[<tf.Variable 'dense/kernel:0' shape=(1, 10) dtype=float32_ref>,\n",
       " <tf.Variable 'dense/bias:0' shape=(10,) dtype=float32_ref>,\n",
       " <tf.Variable 'dense_1/kernel:0' shape=(10, 1) dtype=float32_ref>,\n",
       " <tf.Variable 'dense_1/bias:0' shape=(1,) dtype=float32_ref>,\n",
       " <tf.Variable 'beta1_power:0' shape=() dtype=float32_ref>,\n",
       " <tf.Variable 'beta2_power:0' shape=() dtype=float32_ref>,\n",
       " <tf.Variable 'dense/kernel/Adam:0' shape=(1, 10) dtype=float32_ref>,\n",
       " <tf.Variable 'dense/kernel/Adam_1:0' shape=(1, 10) dtype=float32_ref>,\n",
       " <tf.Variable 'dense/bias/Adam:0' shape=(10,) dtype=float32_ref>,\n",
       " <tf.Variable 'dense/bias/Adam_1:0' shape=(10,) dtype=float32_ref>,\n",
       " <tf.Variable 'dense_1/kernel/Adam:0' shape=(10, 1) dtype=float32_ref>,\n",
       " <tf.Variable 'dense_1/kernel/Adam_1:0' shape=(10, 1) dtype=float32_ref>,\n",
       " <tf.Variable 'dense_1/bias/Adam:0' shape=(1,) dtype=float32_ref>,\n",
       " <tf.Variable 'dense_1/bias/Adam_1:0' shape=(1,) dtype=float32_ref>]"
      ]
     },
     "execution_count": 149,
     "metadata": {},
     "output_type": "execute_result"
    }
   ],
   "source": [
    "tf.global_variables()"
   ]
  },
  {
   "cell_type": "code",
   "execution_count": 168,
   "metadata": {},
   "outputs": [
    {
     "data": {
      "text/plain": [
       "(array([[-46.994   ,  30.464832,  20.462803,  19.235226]], dtype=float32),\n",
       " array([-870.84344, -787.2448 , -868.4942 , -806.80725], dtype=float32))"
      ]
     },
     "execution_count": 168,
     "metadata": {},
     "output_type": "execute_result"
    }
   ],
   "source": [
    "w_b = [v for v in tf.global_variables() if v.name == 'layer_1/w:0' or v.name == 'layer_1/b:0']\n",
    "w_val = w_b[0].eval()\n",
    "b_val = w_b[1].eval()\n",
    "w_val, b_val"
   ]
  },
  {
   "cell_type": "code",
   "execution_count": 169,
   "metadata": {},
   "outputs": [
    {
     "data": {
      "text/plain": [
       "[<matplotlib.lines.Line2D at 0x136dfa7f0>]"
      ]
     },
     "execution_count": 169,
     "metadata": {},
     "output_type": "execute_result"
    },
    {
     "data": {
      "image/png": "[encoded data removed]",
      "text/plain": [
       "<Figure size 432x288 with 1 Axes>"
      ]
     },
     "metadata": {},
     "output_type": "display_data"
    }
   ],
   "source": [
    "y_pred_val = sess.run([y_pred], feed_dict={x:x1.reshape([-1,1]), y_true:y.reshape([-1,1])})\n",
    "plt.plot(x1, np.array(y_pred_val).reshape(-1))\n",
    "plt.plot(x1,y)"
   ]
  },
  {
   "cell_type": "code",
   "execution_count": null,
   "metadata": {},
   "outputs": [],
   "source": []
  }
 ],
 "metadata": {
  "kernelspec": {
   "display_name": "Python 3",
   "language": "python",
   "name": "python3"
  },
  "language_info": {
   "codemirror_mode": {
    "name": "ipython",
    "version": 3
   },
   "file_extension": ".py",
   "mimetype": "text/x-python",
   "name": "python",
   "nbconvert_exporter": "python",
   "pygments_lexer": "ipython3",
   "version": "3.6.4"
  }
 },
 "nbformat": 4,
 "nbformat_minor": 2
}
