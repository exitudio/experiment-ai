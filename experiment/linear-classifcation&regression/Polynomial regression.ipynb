{
 "cells": [
  {
   "cell_type": "code",
   "execution_count": 1,
   "metadata": {},
   "outputs": [
    {
     "name": "stderr",
     "output_type": "stream",
     "text": [
      "/Users/epinyoanun/miniconda3/lib/python3.6/site-packages/h5py/__init__.py:36: FutureWarning: Conversion of the second argument of issubdtype from `float` to `np.floating` is deprecated. In future, it will be treated as `np.float64 == np.dtype(float).type`.\n",
      "  from ._conv import register_converters as _register_converters\n"
     ]
    }
   ],
   "source": [
    "import pandas as pd\n",
    "import numpy as np\n",
    "import tensorflow as tf\n",
    "import matplotlib.pyplot as plt\n",
    "%matplotlib inline"
   ]
  },
  {
   "cell_type": "code",
   "execution_count": 132,
   "metadata": {},
   "outputs": [],
   "source": [
    "x1 = np.arange(-100,100)\n",
    "y = np.power(x1,3)"
   ]
  },
  {
   "cell_type": "code",
   "execution_count": 133,
   "metadata": {},
   "outputs": [
    {
     "data": {
      "text/plain": [
       "[<matplotlib.lines.Line2D at 0x1351dec18>]"
      ]
     },
     "execution_count": 133,
     "metadata": {},
     "output_type": "execute_result"
    },
    {
     "data": {
      "image/png": "[encoded data removed]",
      "text/plain": [
       "<Figure size 432x288 with 1 Axes>"
      ]
     },
     "metadata": {},
     "output_type": "display_data"
    }
   ],
   "source": [
    "plt.plot(x1,y)"
   ]
  },
  {
   "cell_type": "code",
   "execution_count": 52,
   "metadata": {},
   "outputs": [
    {
     "data": {
      "text/html": [
       "<div>\n",
       "<style scoped>\n",
       "    .dataframe tbody tr th:only-of-type {\n",
       "        vertical-align: middle;\n",
       "    }\n",
       "\n",
       "    .dataframe tbody tr th {\n",
       "        vertical-align: top;\n",
       "    }\n",
       "\n",
       "    .dataframe thead th {\n",
       "        text-align: right;\n",
       "    }\n",
       "</style>\n",
       "<table border=\"1\" class=\"dataframe\">\n",
       "  <thead>\n",
       "    <tr style=\"text-align: right;\">\n",
       "      <th></th>\n",
       "      <th>x1</th>\n",
       "      <th>y</th>\n",
       "    </tr>\n",
       "  </thead>\n",
       "  <tbody>\n",
       "    <tr>\n",
       "      <th>0</th>\n",
       "      <td>-100</td>\n",
       "      <td>-1000000</td>\n",
       "    </tr>\n",
       "    <tr>\n",
       "      <th>1</th>\n",
       "      <td>-99</td>\n",
       "      <td>-970299</td>\n",
       "    </tr>\n",
       "    <tr>\n",
       "      <th>2</th>\n",
       "      <td>-98</td>\n",
       "      <td>-941192</td>\n",
       "    </tr>\n",
       "    <tr>\n",
       "      <th>3</th>\n",
       "      <td>-97</td>\n",
       "      <td>-912673</td>\n",
       "    </tr>\n",
       "    <tr>\n",
       "      <th>4</th>\n",
       "      <td>-96</td>\n",
       "      <td>-884736</td>\n",
       "    </tr>\n",
       "  </tbody>\n",
       "</table>\n",
       "</div>"
      ],
      "text/plain": [
       "    x1        y\n",
       "0 -100 -1000000\n",
       "1  -99  -970299\n",
       "2  -98  -941192\n",
       "3  -97  -912673\n",
       "4  -96  -884736"
      ]
     },
     "execution_count": 52,
     "metadata": {},
     "output_type": "execute_result"
    }
   ],
   "source": [
    "pd.DataFrame(data=np.array((x1,y)).T, columns=['x1','y']).head()"
   ]
  },
  {
   "cell_type": "markdown",
   "metadata": {},
   "source": [
    "### Linear Classification"
   ]
  },
  {
   "cell_type": "markdown",
   "metadata": {},
   "source": [
    "### 1. Train"
   ]
  },
  {
   "cell_type": "code",
   "execution_count": 62,
   "metadata": {
    "scrolled": true
   },
   "outputs": [
    {
     "name": "stdout",
     "output_type": "stream",
     "text": [
      "INFO:tensorflow:Using default config.\n",
      "WARNING:tensorflow:Using temporary folder as model directory: /var/folders/sr/9k0jqkfs33q22ppyt_t7yjt9716826/T/tmppwy5ne2q\n",
      "INFO:tensorflow:Using config: {'_model_dir': '/var/folders/sr/9k0jqkfs33q22ppyt_t7yjt9716826/T/tmppwy5ne2q', '_tf_random_seed': None, '_save_summary_steps': 100, '_save_checkpoints_steps': None, '_save_checkpoints_secs': 600, '_session_config': None, '_keep_checkpoint_max': 5, '_keep_checkpoint_every_n_hours': 10000, '_log_step_count_steps': 100, '_service': None, '_cluster_spec': <tensorflow.python.training.server_lib.ClusterSpec object at 0x131ea6940>, '_task_type': 'worker', '_task_id': 0, '_global_id_in_cluster': 0, '_master': '', '_evaluation_master': '', '_is_chief': True, '_num_ps_replicas': 0, '_num_worker_replicas': 1}\n",
      "INFO:tensorflow:Calling model_fn.\n",
      "INFO:tensorflow:Done calling model_fn.\n",
      "INFO:tensorflow:Create CheckpointSaverHook.\n",
      "INFO:tensorflow:Graph was finalized.\n",
      "INFO:tensorflow:Running local_init_op.\n",
      "INFO:tensorflow:Done running local_init_op.\n",
      "INFO:tensorflow:Saving checkpoints for 1 into /var/folders/sr/9k0jqkfs33q22ppyt_t7yjt9716826/T/tmppwy5ne2q/model.ckpt.\n",
      "INFO:tensorflow:loss = 14910398000000.0, step = 1\n",
      "INFO:tensorflow:global_step/sec: 814.458\n",
      "INFO:tensorflow:loss = 20483260000000.0, step = 101 (0.123 sec)\n",
      "INFO:tensorflow:global_step/sec: 995.312\n",
      "INFO:tensorflow:loss = 12132662000000.0, step = 201 (0.100 sec)\n",
      "INFO:tensorflow:global_step/sec: 1072.06\n",
      "INFO:tensorflow:loss = 12718498000000.0, step = 301 (0.093 sec)\n",
      "INFO:tensorflow:global_step/sec: 1162.05\n",
      "INFO:tensorflow:loss = 15210193000000.0, step = 401 (0.086 sec)\n",
      "INFO:tensorflow:global_step/sec: 1009.38\n",
      "INFO:tensorflow:loss = 14105320000000.0, step = 501 (0.099 sec)\n",
      "INFO:tensorflow:global_step/sec: 1061.74\n",
      "INFO:tensorflow:loss = 12494122000000.0, step = 601 (0.094 sec)\n",
      "INFO:tensorflow:global_step/sec: 1128.62\n",
      "INFO:tensorflow:loss = 20193393000000.0, step = 701 (0.089 sec)\n",
      "INFO:tensorflow:global_step/sec: 970.015\n",
      "INFO:tensorflow:loss = 9494328000000.0, step = 801 (0.103 sec)\n",
      "INFO:tensorflow:global_step/sec: 1152.79\n",
      "INFO:tensorflow:loss = 10070241000000.0, step = 901 (0.087 sec)\n",
      "INFO:tensorflow:Saving checkpoints for 1000 into /var/folders/sr/9k0jqkfs33q22ppyt_t7yjt9716826/T/tmppwy5ne2q/model.ckpt.\n",
      "INFO:tensorflow:Loss for final step: 10039937000000.0.\n"
     ]
    },
    {
     "data": {
      "text/plain": [
       "<tensorflow.python.estimator.canned.linear.LinearRegressor at 0x131ea6c88>"
      ]
     },
     "execution_count": 62,
     "metadata": {},
     "output_type": "execute_result"
    }
   ],
   "source": [
    "feature_x1 = tf.feature_column.numeric_column('x1')\n",
    "input_func = tf.estimator.inputs.numpy_input_fn( x={'x1':x1},\n",
    "                                                 y=y,\n",
    "                                                 batch_size=100,\n",
    "                                                 num_epochs=999999,\n",
    "                                                 shuffle=True)\n",
    "optimizer = tf.train.AdamOptimizer(learning_rate=0.3)\n",
    "model = tf.estimator.LinearRegressor(feature_columns=[feature_x1], optimizer=optimizer)\n",
    "model.train(input_fn=input_func,steps=1000)"
   ]
  },
  {
   "cell_type": "markdown",
   "metadata": {},
   "source": [
    "### 2. Predict"
   ]
  },
  {
   "cell_type": "code",
   "execution_count": 63,
   "metadata": {},
   "outputs": [
    {
     "name": "stdout",
     "output_type": "stream",
     "text": [
      "INFO:tensorflow:Calling model_fn.\n",
      "INFO:tensorflow:Done calling model_fn.\n",
      "INFO:tensorflow:Graph was finalized.\n",
      "INFO:tensorflow:Restoring parameters from /var/folders/sr/9k0jqkfs33q22ppyt_t7yjt9716826/T/tmppwy5ne2q/model.ckpt-1000\n",
      "INFO:tensorflow:Running local_init_op.\n",
      "INFO:tensorflow:Done running local_init_op.\n"
     ]
    },
    {
     "data": {
      "text/plain": [
       "[-29499.629,\n",
       " -29205.03,\n",
       " -28910.432,\n",
       " -28615.832,\n",
       " -28321.232,\n",
       " -28026.633,\n",
       " -27732.033,\n",
       " -27437.436,\n",
       " -27142.836,\n",
       " -26848.236,\n",
       " -26553.637,\n",
       " -26259.037,\n",
       " -25964.44,\n",
       " -25669.84,\n",
       " -25375.24,\n",
       " -25080.64,\n",
       " -24786.041,\n",
       " -24491.441,\n",
       " -24196.844,\n",
       " -23902.244,\n",
       " -23607.645,\n",
       " -23313.045,\n",
       " -23018.445,\n",
       " -22723.848,\n",
       " -22429.248,\n",
       " -22134.648,\n",
       " -21840.049,\n",
       " -21545.45,\n",
       " -21250.85,\n",
       " -20956.252,\n",
       " -20661.652,\n",
       " -20367.053,\n",
       " -20072.453,\n",
       " -19777.854,\n",
       " -19483.256,\n",
       " -19188.656,\n",
       " -18894.057,\n",
       " -18599.457,\n",
       " -18304.857,\n",
       " -18010.26,\n",
       " -17715.66,\n",
       " -17421.06,\n",
       " -17126.46,\n",
       " -16831.861,\n",
       " -16537.264,\n",
       " -16242.662,\n",
       " -15948.063,\n",
       " -15653.464,\n",
       " -15358.864,\n",
       " -15064.266,\n",
       " -14769.666,\n",
       " -14475.067,\n",
       " -14180.468,\n",
       " -13885.868,\n",
       " -13591.27,\n",
       " -13296.67,\n",
       " -13002.071,\n",
       " -12707.472,\n",
       " -12412.872,\n",
       " -12118.273,\n",
       " -11823.674,\n",
       " -11529.074,\n",
       " -11234.476,\n",
       " -10939.876,\n",
       " -10645.276,\n",
       " -10350.678,\n",
       " -10056.078,\n",
       " -9761.4795,\n",
       " -9466.88,\n",
       " -9172.28,\n",
       " -8877.682,\n",
       " -8583.082,\n",
       " -8288.483,\n",
       " -7993.8843,\n",
       " -7699.2847,\n",
       " -7404.6855,\n",
       " -7110.0864,\n",
       " -6815.4873,\n",
       " -6520.888,\n",
       " -6226.2886,\n",
       " -5931.6895,\n",
       " -5637.0903,\n",
       " -5342.4907,\n",
       " -5047.8916,\n",
       " -4753.2925,\n",
       " -4458.6934,\n",
       " -4164.094,\n",
       " -3869.4946,\n",
       " -3574.8955,\n",
       " -3280.2964,\n",
       " -2985.697,\n",
       " -2691.0977,\n",
       " -2396.4985,\n",
       " -2101.8994,\n",
       " -1807.2999,\n",
       " -1512.7007,\n",
       " -1218.1014,\n",
       " -923.50226,\n",
       " -628.903,\n",
       " -334.30377,\n",
       " -39.70452,\n",
       " 254.89471,\n",
       " 549.49396,\n",
       " 844.0932,\n",
       " 1138.6925,\n",
       " 1433.2917,\n",
       " 1727.891,\n",
       " 2022.4904,\n",
       " 2317.0894,\n",
       " 2611.6885,\n",
       " 2906.2878,\n",
       " 3200.8872,\n",
       " 3495.4863,\n",
       " 3790.0854,\n",
       " 4084.685,\n",
       " 4379.284,\n",
       " 4673.8833,\n",
       " 4968.4824,\n",
       " 5263.0815,\n",
       " 5557.681,\n",
       " 5852.2803,\n",
       " 6146.8794,\n",
       " 6441.479,\n",
       " 6736.078,\n",
       " 7030.6772,\n",
       " 7325.2764,\n",
       " 7619.8755,\n",
       " 7914.475,\n",
       " 8209.075,\n",
       " 8503.674,\n",
       " 8798.273,\n",
       " 9092.872,\n",
       " 9387.472,\n",
       " 9682.071,\n",
       " 9976.67,\n",
       " 10271.27,\n",
       " 10565.868,\n",
       " 10860.468,\n",
       " 11155.067,\n",
       " 11449.666,\n",
       " 11744.266,\n",
       " 12038.865,\n",
       " 12333.464,\n",
       " 12628.063,\n",
       " 12922.663,\n",
       " 13217.262,\n",
       " 13511.861,\n",
       " 13806.46,\n",
       " 14101.06,\n",
       " 14395.659,\n",
       " 14690.258,\n",
       " 14984.857,\n",
       " 15279.456,\n",
       " 15574.056,\n",
       " 15868.655,\n",
       " 16163.254,\n",
       " 16457.854,\n",
       " 16752.451,\n",
       " 17047.05,\n",
       " 17341.65,\n",
       " 17636.25,\n",
       " 17930.85,\n",
       " 18225.447,\n",
       " 18520.047,\n",
       " 18814.646,\n",
       " 19109.246,\n",
       " 19403.846,\n",
       " 19698.443,\n",
       " 19993.043,\n",
       " 20287.643,\n",
       " 20582.242,\n",
       " 20876.842,\n",
       " 21171.44,\n",
       " 21466.04,\n",
       " 21760.639,\n",
       " 22055.238,\n",
       " 22349.838,\n",
       " 22644.438,\n",
       " 22939.035,\n",
       " 23233.635,\n",
       " 23528.234,\n",
       " 23822.834,\n",
       " 24117.434,\n",
       " 24412.031,\n",
       " 24706.63,\n",
       " 25001.23,\n",
       " 25295.83,\n",
       " 25590.43,\n",
       " 25885.03,\n",
       " 26179.627,\n",
       " 26474.227,\n",
       " 26768.826,\n",
       " 27063.426,\n",
       " 27358.025,\n",
       " 27652.623,\n",
       " 27947.223,\n",
       " 28241.822,\n",
       " 28536.422,\n",
       " 28831.021,\n",
       " 29125.62]"
      ]
     },
     "execution_count": 63,
     "metadata": {},
     "output_type": "execute_result"
    }
   ],
   "source": [
    "input_func_predict = tf.estimator.inputs.numpy_input_fn(x={\n",
    "    'x1':x1\n",
    "},shuffle=False)\n",
    "predict = model.predict(input_fn=input_func_predict)\n",
    "\n",
    "predict_result = []\n",
    "for i,p in enumerate(predict):\n",
    "    predict_result.append(p['predictions'][0])\n",
    "predict_result"
   ]
  },
  {
   "cell_type": "code",
   "execution_count": 64,
   "metadata": {},
   "outputs": [
    {
     "data": {
      "text/plain": [
       "[<matplotlib.lines.Line2D at 0x131bf3668>]"
      ]
     },
     "execution_count": 64,
     "metadata": {},
     "output_type": "execute_result"
    },
    {
     "data": {
      "image/png": "[encoded data removed]",
      "text/plain": [
       "<Figure size 432x288 with 1 Axes>"
      ]
     },
     "metadata": {},
     "output_type": "display_data"
    }
   ],
   "source": [
    "plt.plot(x1,predict_result)\n",
    "plt.plot(x1,y)"
   ]
  },
  {
   "cell_type": "markdown",
   "metadata": {},
   "source": [
    "### DNN Regression"
   ]
  },
  {
   "cell_type": "markdown",
   "metadata": {},
   "source": [
    "### 1. Train"
   ]
  },
  {
   "cell_type": "code",
   "execution_count": 189,
   "metadata": {
    "scrolled": true
   },
   "outputs": [
    {
     "name": "stdout",
     "output_type": "stream",
     "text": [
      "INFO:tensorflow:Using default config.\n",
      "INFO:tensorflow:Using config: {'_model_dir': 'tmp/tensorboard', '_tf_random_seed': None, '_save_summary_steps': 100, '_save_checkpoints_steps': None, '_save_checkpoints_secs': 600, '_session_config': None, '_keep_checkpoint_max': 5, '_keep_checkpoint_every_n_hours': 10000, '_log_step_count_steps': 100, '_service': None, '_cluster_spec': <tensorflow.python.training.server_lib.ClusterSpec object at 0x137cc4da0>, '_task_type': 'worker', '_task_id': 0, '_global_id_in_cluster': 0, '_master': '', '_evaluation_master': '', '_is_chief': True, '_num_ps_replicas': 0, '_num_worker_replicas': 1}\n",
      "INFO:tensorflow:Calling model_fn.\n",
      "INFO:tensorflow:Done calling model_fn.\n",
      "INFO:tensorflow:Create CheckpointSaverHook.\n",
      "INFO:tensorflow:Graph was finalized.\n",
      "INFO:tensorflow:Restoring parameters from tmp/tensorboard/model.ckpt-10000\n",
      "INFO:tensorflow:Running local_init_op.\n",
      "INFO:tensorflow:Done running local_init_op.\n",
      "INFO:tensorflow:Saving checkpoints for 10001 into tmp/tensorboard/model.ckpt.\n",
      "INFO:tensorflow:loss = 550291050000.0, step = 10001\n",
      "INFO:tensorflow:global_step/sec: 756.636\n",
      "INFO:tensorflow:loss = 344532420000.0, step = 10101 (0.133 sec)\n",
      "INFO:tensorflow:global_step/sec: 1095.85\n",
      "INFO:tensorflow:loss = 385510670000.0, step = 10201 (0.091 sec)\n",
      "INFO:tensorflow:global_step/sec: 1071.49\n",
      "INFO:tensorflow:loss = 443844800000.0, step = 10301 (0.093 sec)\n",
      "INFO:tensorflow:global_step/sec: 1047.48\n",
      "INFO:tensorflow:loss = 383547570000.0, step = 10401 (0.095 sec)\n",
      "INFO:tensorflow:global_step/sec: 1163.27\n",
      "INFO:tensorflow:loss = 467105300000.0, step = 10501 (0.086 sec)\n",
      "INFO:tensorflow:global_step/sec: 1125.1\n",
      "INFO:tensorflow:loss = 407482500000.0, step = 10601 (0.090 sec)\n",
      "INFO:tensorflow:global_step/sec: 786.54\n",
      "INFO:tensorflow:loss = 396245500000.0, step = 10701 (0.127 sec)\n",
      "INFO:tensorflow:global_step/sec: 809.061\n",
      "INFO:tensorflow:loss = 381384130000.0, step = 10801 (0.124 sec)\n",
      "INFO:tensorflow:global_step/sec: 806.785\n",
      "INFO:tensorflow:loss = 443190400000.0, step = 10901 (0.124 sec)\n",
      "INFO:tensorflow:global_step/sec: 712.793\n",
      "INFO:tensorflow:loss = 433811550000.0, step = 11001 (0.140 sec)\n",
      "INFO:tensorflow:global_step/sec: 690.369\n",
      "INFO:tensorflow:loss = 311084020000.0, step = 11101 (0.145 sec)\n",
      "INFO:tensorflow:global_step/sec: 807.37\n",
      "INFO:tensorflow:loss = 317225340000.0, step = 11201 (0.124 sec)\n",
      "INFO:tensorflow:global_step/sec: 1009.79\n",
      "INFO:tensorflow:loss = 253929550000.0, step = 11301 (0.098 sec)\n",
      "INFO:tensorflow:global_step/sec: 1064.69\n",
      "INFO:tensorflow:loss = 305575620000.0, step = 11401 (0.094 sec)\n",
      "INFO:tensorflow:global_step/sec: 987.439\n",
      "INFO:tensorflow:loss = 198915870000.0, step = 11501 (0.102 sec)\n",
      "INFO:tensorflow:global_step/sec: 962.177\n",
      "INFO:tensorflow:loss = 405830170000.0, step = 11601 (0.103 sec)\n",
      "INFO:tensorflow:global_step/sec: 794.401\n",
      "INFO:tensorflow:loss = 325949030000.0, step = 11701 (0.126 sec)\n",
      "INFO:tensorflow:global_step/sec: 833.737\n",
      "INFO:tensorflow:loss = 223502140000.0, step = 11801 (0.120 sec)\n",
      "INFO:tensorflow:global_step/sec: 900.162\n",
      "INFO:tensorflow:loss = 191474800000.0, step = 11901 (0.111 sec)\n",
      "INFO:tensorflow:global_step/sec: 1031.98\n",
      "INFO:tensorflow:loss = 206965370000.0, step = 12001 (0.097 sec)\n",
      "INFO:tensorflow:global_step/sec: 1083.77\n",
      "INFO:tensorflow:loss = 218337870000.0, step = 12101 (0.092 sec)\n",
      "INFO:tensorflow:global_step/sec: 1066.19\n",
      "INFO:tensorflow:loss = 200054730000.0, step = 12201 (0.094 sec)\n",
      "INFO:tensorflow:global_step/sec: 1062.52\n",
      "INFO:tensorflow:loss = 248328670000.0, step = 12301 (0.094 sec)\n",
      "INFO:tensorflow:global_step/sec: 1042.59\n",
      "INFO:tensorflow:loss = 210856440000.0, step = 12401 (0.096 sec)\n",
      "INFO:tensorflow:global_step/sec: 880.319\n",
      "INFO:tensorflow:loss = 270597570000.0, step = 12501 (0.114 sec)\n",
      "INFO:tensorflow:global_step/sec: 1045.33\n",
      "INFO:tensorflow:loss = 214721000000.0, step = 12601 (0.095 sec)\n",
      "INFO:tensorflow:global_step/sec: 967.276\n",
      "INFO:tensorflow:loss = 188910810000.0, step = 12701 (0.104 sec)\n",
      "INFO:tensorflow:global_step/sec: 960.182\n",
      "INFO:tensorflow:loss = 195191010000.0, step = 12801 (0.104 sec)\n",
      "INFO:tensorflow:global_step/sec: 1027.03\n",
      "INFO:tensorflow:loss = 140392580000.0, step = 12901 (0.098 sec)\n",
      "INFO:tensorflow:global_step/sec: 1014.39\n",
      "INFO:tensorflow:loss = 159991630000.0, step = 13001 (0.098 sec)\n",
      "INFO:tensorflow:global_step/sec: 1042.08\n",
      "INFO:tensorflow:loss = 172735900000.0, step = 13101 (0.096 sec)\n",
      "INFO:tensorflow:global_step/sec: 1031.08\n",
      "INFO:tensorflow:loss = 138875490000.0, step = 13201 (0.097 sec)\n",
      "INFO:tensorflow:global_step/sec: 999.979\n",
      "INFO:tensorflow:loss = 177686400000.0, step = 13301 (0.100 sec)\n",
      "INFO:tensorflow:global_step/sec: 992.683\n",
      "INFO:tensorflow:loss = 158522210000.0, step = 13401 (0.101 sec)\n",
      "INFO:tensorflow:global_step/sec: 981.335\n",
      "INFO:tensorflow:loss = 160334020000.0, step = 13501 (0.102 sec)\n",
      "INFO:tensorflow:global_step/sec: 1031.89\n",
      "INFO:tensorflow:loss = 124663250000.0, step = 13601 (0.098 sec)\n",
      "INFO:tensorflow:global_step/sec: 858.633\n",
      "INFO:tensorflow:loss = 125914790000.0, step = 13701 (0.115 sec)\n",
      "INFO:tensorflow:global_step/sec: 1082.76\n",
      "INFO:tensorflow:loss = 107196270000.0, step = 13801 (0.092 sec)\n",
      "INFO:tensorflow:global_step/sec: 1076.02\n",
      "INFO:tensorflow:loss = 126580670000.0, step = 13901 (0.093 sec)\n",
      "INFO:tensorflow:global_step/sec: 1055.99\n",
      "INFO:tensorflow:loss = 161431780000.0, step = 14001 (0.095 sec)\n",
      "INFO:tensorflow:global_step/sec: 1063.03\n",
      "INFO:tensorflow:loss = 143247620000.0, step = 14101 (0.094 sec)\n",
      "INFO:tensorflow:global_step/sec: 1062.79\n",
      "INFO:tensorflow:loss = 162540960000.0, step = 14201 (0.094 sec)\n",
      "INFO:tensorflow:global_step/sec: 1093.04\n",
      "INFO:tensorflow:loss = 126809840000.0, step = 14301 (0.091 sec)\n",
      "INFO:tensorflow:global_step/sec: 1094.09\n",
      "INFO:tensorflow:loss = 95327670000.0, step = 14401 (0.092 sec)\n",
      "INFO:tensorflow:global_step/sec: 1069.24\n",
      "INFO:tensorflow:loss = 91945110000.0, step = 14501 (0.093 sec)\n",
      "INFO:tensorflow:global_step/sec: 1080.63\n",
      "INFO:tensorflow:loss = 82600490000.0, step = 14601 (0.092 sec)\n",
      "INFO:tensorflow:global_step/sec: 1186.53\n",
      "INFO:tensorflow:loss = 124698860000.0, step = 14701 (0.084 sec)\n",
      "INFO:tensorflow:global_step/sec: 1069.86\n",
      "INFO:tensorflow:loss = 101068470000.0, step = 14801 (0.093 sec)\n",
      "INFO:tensorflow:global_step/sec: 1160.4\n",
      "INFO:tensorflow:loss = 108808266000.0, step = 14901 (0.086 sec)\n",
      "INFO:tensorflow:global_step/sec: 1182.51\n",
      "INFO:tensorflow:loss = 108737070000.0, step = 15001 (0.084 sec)\n",
      "INFO:tensorflow:global_step/sec: 1181.11\n",
      "INFO:tensorflow:loss = 106650420000.0, step = 15101 (0.085 sec)\n",
      "INFO:tensorflow:global_step/sec: 1151.91\n",
      "INFO:tensorflow:loss = 103152300000.0, step = 15201 (0.087 sec)\n",
      "INFO:tensorflow:global_step/sec: 1072.45\n",
      "INFO:tensorflow:loss = 88832080000.0, step = 15301 (0.093 sec)\n",
      "INFO:tensorflow:global_step/sec: 1115.06\n",
      "INFO:tensorflow:loss = 108208380000.0, step = 15401 (0.090 sec)\n",
      "INFO:tensorflow:global_step/sec: 1088.01\n",
      "INFO:tensorflow:loss = 98365590000.0, step = 15501 (0.092 sec)\n",
      "INFO:tensorflow:global_step/sec: 1064.02\n",
      "INFO:tensorflow:loss = 75409870000.0, step = 15601 (0.094 sec)\n",
      "INFO:tensorflow:global_step/sec: 1062.94\n",
      "INFO:tensorflow:loss = 74102096000.0, step = 15701 (0.094 sec)\n",
      "INFO:tensorflow:global_step/sec: 1063.48\n",
      "INFO:tensorflow:loss = 81715770000.0, step = 15801 (0.094 sec)\n",
      "INFO:tensorflow:global_step/sec: 1090.08\n",
      "INFO:tensorflow:loss = 97500020000.0, step = 15901 (0.091 sec)\n",
      "INFO:tensorflow:global_step/sec: 1045.14\n",
      "INFO:tensorflow:loss = 57731555000.0, step = 16001 (0.096 sec)\n",
      "INFO:tensorflow:global_step/sec: 1049.38\n",
      "INFO:tensorflow:loss = 77044390000.0, step = 16101 (0.095 sec)\n",
      "INFO:tensorflow:global_step/sec: 1068.62\n",
      "INFO:tensorflow:loss = 87746110000.0, step = 16201 (0.094 sec)\n",
      "INFO:tensorflow:global_step/sec: 1037.59\n",
      "INFO:tensorflow:loss = 74475000000.0, step = 16301 (0.097 sec)\n",
      "INFO:tensorflow:global_step/sec: 1012.05\n",
      "INFO:tensorflow:loss = 77199530000.0, step = 16401 (0.098 sec)\n",
      "INFO:tensorflow:global_step/sec: 1078.33\n",
      "INFO:tensorflow:loss = 69593220000.0, step = 16501 (0.092 sec)\n",
      "INFO:tensorflow:global_step/sec: 1068.28\n",
      "INFO:tensorflow:loss = 78962380000.0, step = 16601 (0.094 sec)\n",
      "INFO:tensorflow:global_step/sec: 1068\n",
      "INFO:tensorflow:loss = 52001935000.0, step = 16701 (0.094 sec)\n",
      "INFO:tensorflow:global_step/sec: 1046.75\n",
      "INFO:tensorflow:loss = 51038945000.0, step = 16801 (0.095 sec)\n",
      "INFO:tensorflow:global_step/sec: 1057.97\n"
     ]
    },
    {
     "name": "stdout",
     "output_type": "stream",
     "text": [
      "INFO:tensorflow:loss = 71425410000.0, step = 16901 (0.095 sec)\n",
      "INFO:tensorflow:global_step/sec: 1067.43\n",
      "INFO:tensorflow:loss = 40704606000.0, step = 17001 (0.094 sec)\n",
      "INFO:tensorflow:global_step/sec: 1091.68\n",
      "INFO:tensorflow:loss = 83093774000.0, step = 17101 (0.092 sec)\n",
      "INFO:tensorflow:global_step/sec: 1053.46\n",
      "INFO:tensorflow:loss = 50181374000.0, step = 17201 (0.095 sec)\n",
      "INFO:tensorflow:global_step/sec: 941.187\n",
      "INFO:tensorflow:loss = 58310410000.0, step = 17301 (0.106 sec)\n",
      "INFO:tensorflow:global_step/sec: 964.878\n",
      "INFO:tensorflow:loss = 65590910000.0, step = 17401 (0.104 sec)\n",
      "INFO:tensorflow:global_step/sec: 1088.86\n",
      "INFO:tensorflow:loss = 53827936000.0, step = 17501 (0.092 sec)\n",
      "INFO:tensorflow:global_step/sec: 990.503\n",
      "INFO:tensorflow:loss = 56999290000.0, step = 17601 (0.101 sec)\n",
      "INFO:tensorflow:global_step/sec: 1029.26\n",
      "INFO:tensorflow:loss = 67625130000.0, step = 17701 (0.097 sec)\n",
      "INFO:tensorflow:global_step/sec: 1058.4\n",
      "INFO:tensorflow:loss = 70078710000.0, step = 17801 (0.094 sec)\n",
      "INFO:tensorflow:global_step/sec: 1094.22\n",
      "INFO:tensorflow:loss = 52633230000.0, step = 17901 (0.091 sec)\n",
      "INFO:tensorflow:global_step/sec: 1080.64\n",
      "INFO:tensorflow:loss = 44917400000.0, step = 18001 (0.093 sec)\n",
      "INFO:tensorflow:global_step/sec: 1126.11\n",
      "INFO:tensorflow:loss = 57808876000.0, step = 18101 (0.088 sec)\n",
      "INFO:tensorflow:global_step/sec: 1188.18\n",
      "INFO:tensorflow:loss = 46564940000.0, step = 18201 (0.084 sec)\n",
      "INFO:tensorflow:global_step/sec: 1178.84\n",
      "INFO:tensorflow:loss = 48005226000.0, step = 18301 (0.085 sec)\n",
      "INFO:tensorflow:global_step/sec: 1162.16\n",
      "INFO:tensorflow:loss = 63730598000.0, step = 18401 (0.086 sec)\n",
      "INFO:tensorflow:global_step/sec: 1136.54\n",
      "INFO:tensorflow:loss = 56415166000.0, step = 18501 (0.088 sec)\n",
      "INFO:tensorflow:global_step/sec: 1107.19\n",
      "INFO:tensorflow:loss = 50320167000.0, step = 18601 (0.090 sec)\n",
      "INFO:tensorflow:global_step/sec: 1098.51\n",
      "INFO:tensorflow:loss = 44052152000.0, step = 18701 (0.091 sec)\n",
      "INFO:tensorflow:global_step/sec: 1036.79\n",
      "INFO:tensorflow:loss = 56843977000.0, step = 18801 (0.097 sec)\n",
      "INFO:tensorflow:global_step/sec: 1000.27\n",
      "INFO:tensorflow:loss = 47963967000.0, step = 18901 (0.100 sec)\n",
      "INFO:tensorflow:global_step/sec: 1070.54\n",
      "INFO:tensorflow:loss = 51900770000.0, step = 19001 (0.093 sec)\n",
      "INFO:tensorflow:global_step/sec: 1033.28\n",
      "INFO:tensorflow:loss = 43839500000.0, step = 19101 (0.097 sec)\n",
      "INFO:tensorflow:global_step/sec: 1008.78\n",
      "INFO:tensorflow:loss = 38625630000.0, step = 19201 (0.099 sec)\n",
      "INFO:tensorflow:global_step/sec: 1098.48\n",
      "INFO:tensorflow:loss = 41215110000.0, step = 19301 (0.091 sec)\n",
      "INFO:tensorflow:global_step/sec: 1161.86\n",
      "INFO:tensorflow:loss = 34207212000.0, step = 19401 (0.086 sec)\n",
      "INFO:tensorflow:global_step/sec: 1131.13\n",
      "INFO:tensorflow:loss = 45496790000.0, step = 19501 (0.088 sec)\n",
      "INFO:tensorflow:global_step/sec: 1152.39\n",
      "INFO:tensorflow:loss = 46384410000.0, step = 19601 (0.087 sec)\n",
      "INFO:tensorflow:global_step/sec: 1129.32\n",
      "INFO:tensorflow:loss = 44450685000.0, step = 19701 (0.088 sec)\n",
      "INFO:tensorflow:global_step/sec: 1129.75\n",
      "INFO:tensorflow:loss = 46442488000.0, step = 19801 (0.089 sec)\n",
      "INFO:tensorflow:global_step/sec: 1003.34\n",
      "INFO:tensorflow:loss = 38231695000.0, step = 19901 (0.100 sec)\n",
      "INFO:tensorflow:Saving checkpoints for 20000 into tmp/tensorboard/model.ckpt.\n",
      "INFO:tensorflow:Loss for final step: 37904245000.0.\n"
     ]
    },
    {
     "data": {
      "text/plain": [
       "<tensorflow.python.estimator.canned.dnn.DNNRegressor at 0x137cc4550>"
      ]
     },
     "execution_count": 189,
     "metadata": {},
     "output_type": "execute_result"
    }
   ],
   "source": [
    "feature_x1 = tf.feature_column.numeric_column('x1')\n",
    "input_func_dnn = tf.estimator.inputs.numpy_input_fn(\n",
    "    x={'x1':x1},\n",
    "    y=y,\n",
    "    batch_size=128,\n",
    "    num_epochs=10000,\n",
    "    shuffle=True)\n",
    "dnn_model = tf.estimator.DNNRegressor(hidden_units=[4],\n",
    "                                     feature_columns=[feature_x1],\n",
    "                                     optimizer = tf.train.AdamOptimizer(learning_rate=0.1),\n",
    "                                     model_dir='tmp/tensorboard')\n",
    "dnn_model.train(input_fn=input_func_dnn,steps=10000)"
   ]
  },
  {
   "cell_type": "markdown",
   "metadata": {},
   "source": [
    "### 2. Evaluate"
   ]
  },
  {
   "cell_type": "code",
   "execution_count": 54,
   "metadata": {},
   "outputs": [
    {
     "name": "stdout",
     "output_type": "stream",
     "text": [
      "INFO:tensorflow:Calling model_fn.\n",
      "INFO:tensorflow:Done calling model_fn.\n",
      "INFO:tensorflow:Starting evaluation at 2018-04-30-01:26:57\n",
      "INFO:tensorflow:Graph was finalized.\n",
      "INFO:tensorflow:Restoring parameters from /var/folders/sr/9k0jqkfs33q22ppyt_t7yjt9716826/T/tmpi_pl97a3/model.ckpt-10000\n",
      "INFO:tensorflow:Running local_init_op.\n",
      "INFO:tensorflow:Done running local_init_op.\n",
      "INFO:tensorflow:Finished evaluation at 2018-04-30-01:26:57\n",
      "INFO:tensorflow:Saving dict for global step 10000: average_loss = 6455109000.0, global_step = 10000, loss = 1291021800000.0\n"
     ]
    },
    {
     "data": {
      "text/plain": [
       "{'average_loss': 6455109000.0, 'loss': 1291021800000.0, 'global_step': 10000}"
      ]
     },
     "execution_count": 54,
     "metadata": {},
     "output_type": "execute_result"
    }
   ],
   "source": [
    "test_input_func = tf.estimator.inputs.numpy_input_fn(\n",
    "    x={'x1':x1},\n",
    "    y=y,\n",
    "    batch_size=1000,\n",
    "    num_epochs=1,\n",
    "    shuffle=False)\n",
    "dnn_model.evaluate(input_fn=test_input_func,steps=1000)"
   ]
  },
  {
   "cell_type": "markdown",
   "metadata": {},
   "source": [
    "### 3. Predict"
   ]
  },
  {
   "cell_type": "code",
   "execution_count": 190,
   "metadata": {},
   "outputs": [
    {
     "name": "stdout",
     "output_type": "stream",
     "text": [
      "INFO:tensorflow:Calling model_fn.\n",
      "INFO:tensorflow:Done calling model_fn.\n",
      "INFO:tensorflow:Graph was finalized.\n",
      "INFO:tensorflow:Restoring parameters from tmp/tensorboard/model.ckpt-20000\n",
      "INFO:tensorflow:Running local_init_op.\n",
      "INFO:tensorflow:Done running local_init_op.\n"
     ]
    },
    {
     "data": {
      "text/plain": [
       "[-948962.8,\n",
       " -927877.6,\n",
       " -906792.56,\n",
       " -885707.56,\n",
       " -864622.3,\n",
       " -843537.2,\n",
       " -822452.1,\n",
       " -801367.0,\n",
       " -780281.8,\n",
       " -759196.75,\n",
       " -738111.7,\n",
       " -717026.5,\n",
       " -695941.4,\n",
       " -674856.25,\n",
       " -653771.25,\n",
       " -632686.06,\n",
       " -611600.94,\n",
       " -590515.8,\n",
       " -569430.7,\n",
       " -548345.56,\n",
       " -527260.56,\n",
       " -506175.38,\n",
       " -485090.28,\n",
       " -464005.16,\n",
       " -442920.03,\n",
       " -421834.9,\n",
       " -400749.8,\n",
       " -379664.72,\n",
       " -358579.53,\n",
       " -337494.4,\n",
       " -326236.2,\n",
       " -316546.94,\n",
       " -306857.75,\n",
       " -297168.5,\n",
       " -287479.25,\n",
       " -277790.03,\n",
       " -268100.78,\n",
       " -258411.53,\n",
       " -248722.33,\n",
       " -239033.08,\n",
       " -229343.84,\n",
       " -219654.64,\n",
       " -209965.39,\n",
       " -200276.19,\n",
       " -190586.94,\n",
       " -180897.69,\n",
       " -171208.48,\n",
       " -161519.25,\n",
       " -151830.0,\n",
       " -142140.8,\n",
       " -132451.55,\n",
       " -122762.3,\n",
       " -113073.1,\n",
       " -103383.85,\n",
       " -93694.6,\n",
       " -84005.4,\n",
       " -74316.16,\n",
       " -64626.953,\n",
       " -54937.707,\n",
       " -45248.46,\n",
       " -35559.258,\n",
       " -25870.014,\n",
       " -16180.766,\n",
       " -6491.5415,\n",
       " 61.42043,\n",
       " 61.42043,\n",
       " 61.42043,\n",
       " 61.42043,\n",
       " 61.42043,\n",
       " 61.42043,\n",
       " 61.42043,\n",
       " 61.42043,\n",
       " 61.42043,\n",
       " 61.42043,\n",
       " 61.42043,\n",
       " 61.42043,\n",
       " 61.42043,\n",
       " 61.42043,\n",
       " 61.42043,\n",
       " 61.42043,\n",
       " 61.42043,\n",
       " 61.42043,\n",
       " 61.42043,\n",
       " 61.42043,\n",
       " 61.42043,\n",
       " 61.42043,\n",
       " 61.42043,\n",
       " 61.42043,\n",
       " 61.42043,\n",
       " 61.42043,\n",
       " 61.42043,\n",
       " 61.42043,\n",
       " 61.42043,\n",
       " 61.42043,\n",
       " 61.42043,\n",
       " 61.42043,\n",
       " 61.42043,\n",
       " 61.42043,\n",
       " 61.42043,\n",
       " 61.42043,\n",
       " 61.42043,\n",
       " 61.42043,\n",
       " 61.42043,\n",
       " 61.42043,\n",
       " 61.42043,\n",
       " 61.42043,\n",
       " 61.42043,\n",
       " 61.42043,\n",
       " 61.42043,\n",
       " 61.42043,\n",
       " 61.42043,\n",
       " 61.42043,\n",
       " 61.42043,\n",
       " 61.42043,\n",
       " 61.42043,\n",
       " 61.42043,\n",
       " 61.42043,\n",
       " 61.42043,\n",
       " 61.42043,\n",
       " 61.42043,\n",
       " 61.42043,\n",
       " 61.42043,\n",
       " 61.42043,\n",
       " 61.42043,\n",
       " 61.42043,\n",
       " 61.42043,\n",
       " 61.42043,\n",
       " 61.42043,\n",
       " 61.42043,\n",
       " 61.42043,\n",
       " 61.42043,\n",
       " 61.42043,\n",
       " 61.42043,\n",
       " 61.42043,\n",
       " 61.42043,\n",
       " 61.42043,\n",
       " 61.42043,\n",
       " 8766.851,\n",
       " 18380.324,\n",
       " 27993.777,\n",
       " 37607.277,\n",
       " 47220.73,\n",
       " 56834.184,\n",
       " 66447.68,\n",
       " 76061.13,\n",
       " 85674.63,\n",
       " 95288.086,\n",
       " 104901.54,\n",
       " 114515.04,\n",
       " 124128.49,\n",
       " 133741.98,\n",
       " 143355.44,\n",
       " 152968.89,\n",
       " 162582.39,\n",
       " 172195.84,\n",
       " 181809.3,\n",
       " 191422.8,\n",
       " 201036.25,\n",
       " 210649.75,\n",
       " 220263.2,\n",
       " 229876.66,\n",
       " 239490.16,\n",
       " 249103.61,\n",
       " 258717.1,\n",
       " 268330.53,\n",
       " 277944.0,\n",
       " 287557.5,\n",
       " 297170.94,\n",
       " 306784.44,\n",
       " 316397.9,\n",
       " 326011.34,\n",
       " 341164.1,\n",
       " 361897.56,\n",
       " 382630.94,\n",
       " 403364.38,\n",
       " 424097.84,\n",
       " 444831.22,\n",
       " 465564.66,\n",
       " 486298.1,\n",
       " 507031.44,\n",
       " 527765.0,\n",
       " 548498.44,\n",
       " 569231.8,\n",
       " 589965.25,\n",
       " 610698.7,\n",
       " 631432.1,\n",
       " 652165.56,\n",
       " 672899.06,\n",
       " 693632.4,\n",
       " 714365.8,\n",
       " 735099.3,\n",
       " 755832.8,\n",
       " 776566.2,\n",
       " 797299.6,\n",
       " 818033.06,\n",
       " 838766.5,\n",
       " 859499.94,\n",
       " 880233.3,\n",
       " 900966.75,\n",
       " 921700.2]"
      ]
     },
     "execution_count": 190,
     "metadata": {},
     "output_type": "execute_result"
    }
   ],
   "source": [
    "input_fn_predict = tf.estimator.inputs.numpy_input_fn(x={\n",
    "    'x1':x1\n",
    "},shuffle=False)\n",
    "predict = dnn_model.predict(input_fn=input_fn_predict)\n",
    "\n",
    "predict_result = []\n",
    "for i,p in enumerate(predict):\n",
    "    predict_result.append(p['predictions'][0])\n",
    "predict_result"
   ]
  },
  {
   "cell_type": "code",
   "execution_count": 192,
   "metadata": {},
   "outputs": [
    {
     "data": {
      "text/plain": [
       "[<matplotlib.lines.Line2D at 0x137cc4cf8>]"
      ]
     },
     "execution_count": 192,
     "metadata": {},
     "output_type": "execute_result"
    },
    {
     "data": {
      "image/png": "[encoded data removed]",
      "text/plain": [
       "<Figure size 432x288 with 1 Axes>"
      ]
     },
     "metadata": {},
     "output_type": "display_data"
    }
   ],
   "source": [
    "plt.plot(x1,predict_result)\n",
    "plt.plot(x1,y)"
   ]
  },
  {
   "cell_type": "code",
   "execution_count": 75,
   "metadata": {},
   "outputs": [
    {
     "name": "stdout",
     "output_type": "stream",
     "text": [
      "[[-39.914764  25.56305   15.033222  15.105981]]\n",
      "[[-218.64125]\n",
      " [ 247.6338 ]\n",
      " [ 268.56256]\n",
      " [ 262.43246]]\n"
     ]
    }
   ],
   "source": [
    "tf.estimator.DNNRegressor.get_variable_names(dnn_model)\n",
    "print(tf.estimator.LinearClassifier.get_variable_value(dnn_model, 'dnn/hiddenlayer_0/kernel'))\n",
    "print(tf.estimator.LinearClassifier.get_variable_value(dnn_model, 'dnn/logits/kernel'))"
   ]
  },
  {
   "cell_type": "markdown",
   "metadata": {},
   "source": [
    "### Raw Net"
   ]
  },
  {
   "cell_type": "code",
   "execution_count": 185,
   "metadata": {
    "scrolled": true
   },
   "outputs": [
    {
     "name": "stdout",
     "output_type": "stream",
     "text": [
      "Current Step: 1, error:28581824561152.0\n",
      "Current Step: 100, error:4183857037312.0\n",
      "Current Step: 200, error:2261595455488.0\n",
      "Current Step: 300, error:294638780416.0\n",
      "Current Step: 400, error:134812155904.0\n",
      "Current Step: 500, error:99499524096.0\n",
      "Current Step: 600, error:79475884032.0\n",
      "Current Step: 700, error:89594544128.0\n",
      "Current Step: 800, error:94197252096.0\n",
      "Current Step: 900, error:57283575808.0\n",
      "Current Step: 1000, error:56526667776.0\n"
     ]
    }
   ],
   "source": [
    "def get_scope_variable(scope, name, shape=None):\n",
    "    with tf.variable_scope(scope, reuse=tf.AUTO_REUSE):\n",
    "        v = tf.get_variable(name, shape, initializer=tf.contrib.layers.xavier_initializer())\n",
    "    return v\n",
    "def normal_full_layer(input_layer, size, layer_name):\n",
    "    input_size = int(input_layer.get_shape()[1])\n",
    "    W = get_scope_variable(layer_name, name='w', shape=[input_size, size])\n",
    "    b = get_scope_variable(layer_name, name='b', shape=[size])\n",
    "    return (tf.matmul(input_layer, W) + b)\n",
    "\n",
    "tf.reset_default_graph()\n",
    "x = tf.placeholder(tf.float32, shape=[None, 1], name=\"x\")\n",
    "y_true = tf.placeholder(tf.float32, shape=[None, 1], name=\"y_true\")\n",
    "\n",
    "# layers\n",
    "layer1 = tf.nn.relu(normal_full_layer(x, 4, 'layer_1'))\n",
    "layer2 = tf.nn.relu(normal_full_layer(layer1, 4, 'layer_2'))\n",
    "y_pred = normal_full_layer(layer2, 1, 'to_activation')\n",
    "# or using tf function\n",
    "# layer1 = tf.layers.dense(x, 10, tf.nn.relu)\n",
    "# y_pred = tf.layers.dense(layer1, 1)\n",
    "\n",
    "\n",
    "# optimization\n",
    "error = tf.reduce_sum( tf.square(y_pred - y_true) ) # tf.losses.mean_squared_error(y_true, y_pred)\n",
    "optimizer = tf.train.AdamOptimizer(learning_rate=1)\n",
    "train = optimizer.minimize(error)\n",
    "\n",
    "# Session\n",
    "sess = tf.InteractiveSession()\n",
    "sess.run(tf.global_variables_initializer())\n",
    "\n",
    "steps = 1000\n",
    "for i in range(steps):\n",
    "    _, error_val = sess.run([train, error], feed_dict={x:x1.reshape([-1,1]), y_true:y.reshape([-1,1])})\n",
    "    if(i==0 or (i+1)%100==0):\n",
    "        print('Current Step: {}, error:{}'.format(i+1,error_val))"
   ]
  },
  {
   "cell_type": "code",
   "execution_count": 182,
   "metadata": {},
   "outputs": [
    {
     "data": {
      "text/plain": [
       "[<tf.Variable 'layer_1/w:0' shape=(1, 4) dtype=float32_ref>,\n",
       " <tf.Variable 'layer_1/b:0' shape=(4,) dtype=float32_ref>,\n",
       " <tf.Variable 'to_activation/w:0' shape=(4, 1) dtype=float32_ref>,\n",
       " <tf.Variable 'to_activation/b:0' shape=(1,) dtype=float32_ref>,\n",
       " <tf.Variable 'beta1_power:0' shape=() dtype=float32_ref>,\n",
       " <tf.Variable 'beta2_power:0' shape=() dtype=float32_ref>,\n",
       " <tf.Variable 'layer_1/w/Adam:0' shape=(1, 4) dtype=float32_ref>,\n",
       " <tf.Variable 'layer_1/w/Adam_1:0' shape=(1, 4) dtype=float32_ref>,\n",
       " <tf.Variable 'layer_1/b/Adam:0' shape=(4,) dtype=float32_ref>,\n",
       " <tf.Variable 'layer_1/b/Adam_1:0' shape=(4,) dtype=float32_ref>,\n",
       " <tf.Variable 'to_activation/w/Adam:0' shape=(4, 1) dtype=float32_ref>,\n",
       " <tf.Variable 'to_activation/w/Adam_1:0' shape=(4, 1) dtype=float32_ref>,\n",
       " <tf.Variable 'to_activation/b/Adam:0' shape=(1,) dtype=float32_ref>,\n",
       " <tf.Variable 'to_activation/b/Adam_1:0' shape=(1,) dtype=float32_ref>]"
      ]
     },
     "execution_count": 182,
     "metadata": {},
     "output_type": "execute_result"
    }
   ],
   "source": [
    "tf.global_variables()"
   ]
  },
  {
   "cell_type": "code",
   "execution_count": 183,
   "metadata": {},
   "outputs": [
    {
     "data": {
      "text/plain": [
       "(array([[ 1.4114380e-03,  2.5528532e+01,  3.2637684e+01, -4.7869476e+01]],\n",
       "       dtype=float32),\n",
       " array([-4.6450573e-01, -8.7432294e+02, -8.3879303e+02, -8.5998944e+02],\n",
       "       dtype=float32))"
      ]
     },
     "execution_count": 183,
     "metadata": {},
     "output_type": "execute_result"
    }
   ],
   "source": [
    "w_b = [v for v in tf.global_variables() if v.name == 'layer_1/w:0' or v.name == 'layer_1/b:0']\n",
    "w_val = w_b[0].eval()\n",
    "b_val = w_b[1].eval()\n",
    "w_val, b_val"
   ]
  },
  {
   "cell_type": "code",
   "execution_count": 186,
   "metadata": {},
   "outputs": [
    {
     "data": {
      "text/plain": [
       "[<matplotlib.lines.Line2D at 0x137981908>]"
      ]
     },
     "execution_count": 186,
     "metadata": {},
     "output_type": "execute_result"
    },
    {
     "data": {
      "image/png": "[encoded data removed]",
      "text/plain": [
       "<Figure size 432x288 with 1 Axes>"
      ]
     },
     "metadata": {},
     "output_type": "display_data"
    }
   ],
   "source": [
    "y_pred_val = sess.run([y_pred], feed_dict={x:x1.reshape([-1,1]), y_true:y.reshape([-1,1])})\n",
    "plt.plot(x1, np.array(y_pred_val).reshape(-1))\n",
    "plt.plot(x1,y)"
   ]
  },
  {
   "cell_type": "code",
   "execution_count": null,
   "metadata": {},
   "outputs": [],
   "source": []
  }
 ],
 "metadata": {
  "kernelspec": {
   "display_name": "Python 3",
   "language": "python",
   "name": "python3"
  },
  "language_info": {
   "codemirror_mode": {
    "name": "ipython",
    "version": 3
   },
   "file_extension": ".py",
   "mimetype": "text/x-python",
   "name": "python",
   "nbconvert_exporter": "python",
   "pygments_lexer": "ipython3",
   "version": "3.6.4"
  }
 },
 "nbformat": 4,
 "nbformat_minor": 2
}
