{
 "cells": [
  {
   "cell_type": "markdown",
   "metadata": {},
   "source": [
    "### RMSProps Problem\n",
    "because W is a lot bigger that b when update W will pass the optima"
   ]
  },
  {
   "cell_type": "code",
   "execution_count": 23,
   "metadata": {},
   "outputs": [],
   "source": [
    "import pandas as pd\n",
    "import numpy as np\n",
    "import tensorflow as tf\n",
    "import matplotlib.pyplot as plt\n",
    "%matplotlib inline"
   ]
  },
  {
   "cell_type": "code",
   "execution_count": 40,
   "metadata": {},
   "outputs": [
    {
     "data": {
      "text/plain": [
       "[<matplotlib.lines.Line2D at 0x1261a6cc0>]"
      ]
     },
     "execution_count": 40,
     "metadata": {},
     "output_type": "execute_result"
    },
    {
     "data": {
      "image/png": "[encoded data removed]",
      "text/plain": [
       "<Figure size 432x288 with 1 Axes>"
      ]
     },
     "metadata": {},
     "output_type": "display_data"
    }
   ],
   "source": [
    "x1 = np.linspace(0,100,100)\n",
    "y = x1\n",
    "plt.plot(x1,y)"
   ]
  },
  {
   "cell_type": "code",
   "execution_count": 46,
   "metadata": {},
   "outputs": [
    {
     "name": "stdout",
     "output_type": "stream",
     "text": [
      "Current Step: 1 \n",
      "  error: 902956.5 W: [[109998.28]] b: [1636.9624]\n",
      "Current Step: 2 \n",
      "  error: 4055304400000000.0 W: [[-7.371715e+09]] b: [-1.10028376e+08]\n",
      "Current Step: 3 \n",
      "  error: 1.8213658e+25 W: [[4.940324e+14]] b: [7.373806e+12]\n",
      "Current Step: 4 \n",
      "  error: 8.180333e+34 W: [[-3.3108718e+19]] b: [-4.941725e+17]\n",
      "Current Step: 5 \n",
      "  error: inf W: [[2.2188565e+24]] b: [3.3118107e+22]\n"
     ]
    }
   ],
   "source": [
    "def get_scope_variable(scope, name, shape=None):\n",
    "    with tf.variable_scope(scope, reuse=tf.AUTO_REUSE):\n",
    "        v = tf.get_variable(name, shape, initializer=tf.contrib.layers.xavier_initializer())\n",
    "    return v\n",
    "def normal_full_layer(input_layer, size):\n",
    "    input_size = int(input_layer.get_shape()[1])\n",
    "    W = get_scope_variable('linear_basic', name='w', shape=[input_size, size])\n",
    "    b = get_scope_variable('linear_basic', name='b', shape=[size])\n",
    "    return (tf.matmul(input_layer, W) + b), W, b\n",
    "\n",
    "tf.reset_default_graph()\n",
    "x = tf.placeholder(tf.float32, shape=[None, 1], name=\"x\")\n",
    "y_pred, W,b = normal_full_layer(x, 1)\n",
    "y_true = tf.placeholder(tf.float32, shape=[None, 1], name=\"y_true\")\n",
    "\n",
    "error = tf.reduce_sum( tf.square(y_pred - y_true) )\n",
    "optimizer = tf.train.GradientDescentOptimizer(learning_rate=0.1) # need to change to Adam (or RMSprops)\n",
    "train = optimizer.minimize(error)\n",
    "\n",
    "# Session\n",
    "sess = tf.InteractiveSession()\n",
    "sess.run(tf.global_variables_initializer())\n",
    "\n",
    "steps = 5\n",
    "for i in range(steps):\n",
    "    _, error_val, W_val, b_val = sess.run([train, error, W, b], feed_dict={x:x1.reshape([-1,1]), y_true:y.reshape([-1,1])})\n",
    "    print('Current Step: {} '.format(i+1))\n",
    "    print('  error:', error_val, 'W:',W_val, 'b:', b_val)\n"
   ]
  },
  {
   "cell_type": "code",
   "execution_count": null,
   "metadata": {},
   "outputs": [],
   "source": []
  },
  {
   "cell_type": "code",
   "execution_count": null,
   "metadata": {},
   "outputs": [],
   "source": []
  }
 ],
 "metadata": {
  "kernelspec": {
   "display_name": "Python 3",
   "language": "python",
   "name": "python3"
  },
  "language_info": {
   "codemirror_mode": {
    "name": "ipython",
    "version": 3
   },
   "file_extension": ".py",
   "mimetype": "text/x-python",
   "name": "python",
   "nbconvert_exporter": "python",
   "pygments_lexer": "ipython3",
   "version": "3.6.4"
  }
 },
 "nbformat": 4,
 "nbformat_minor": 2
}
