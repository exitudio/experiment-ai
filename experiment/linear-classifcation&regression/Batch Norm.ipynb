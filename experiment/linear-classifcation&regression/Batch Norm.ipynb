{
 "cells": [
  {
   "cell_type": "markdown",
   "metadata": {},
   "source": [
    "[http://ruishu.io/2016/12/27/batchnorm/](http://ruishu.io/2016/12/27/batchnorm/)"
   ]
  },
  {
   "cell_type": "code",
   "execution_count": 10,
   "metadata": {},
   "outputs": [],
   "source": [
    "import tensorflow as tf\n",
    "import numpy as np\n",
    "import matplotlib.pyplot as plt\n",
    "%matplotlib inline\n",
    "%reload_ext autoreload\n",
    "%autoreload 2"
   ]
  },
  {
   "cell_type": "markdown",
   "metadata": {},
   "source": [
    "### No batch norm"
   ]
  },
  {
   "cell_type": "code",
   "execution_count": 19,
   "metadata": {
    "scrolled": true
   },
   "outputs": [
    {
     "name": "stdout",
     "output_type": "stream",
     "text": [
      "Current Step: 1  error: 981006.5\n",
      "Current Step: 2  error: 2405601.8\n",
      "Current Step: 3  error: 1849848.4\n",
      "Current Step: 4  error: 2680704.0\n",
      "Current Step: 5  error: 3038563.5\n",
      "Current Step: 6  error: 3874767.5\n",
      "Current Step: 7  error: 1859793.4\n",
      "Current Step: 8  error: 432706.78\n",
      "Current Step: 9  error: 2898445.0\n",
      "Current Step: 10  error: 589586.56\n",
      "Current Step: 11  error: 2330722.2\n",
      "Current Step: 12  error: 475449.34\n",
      "Current Step: 13  error: 284886.06\n",
      "Current Step: 14  error: 928545.4\n",
      "Current Step: 15  error: 223773.44\n",
      "Current Step: 16  error: 1211471.4\n",
      "Current Step: 17  error: 539866.56\n",
      "Current Step: 18  error: 841360.75\n",
      "Current Step: 19  error: 1056411.0\n",
      "Current Step: 20  error: 121892.84\n",
      "Current Step: 21  error: 837545.3\n",
      "Current Step: 22  error: 172761.75\n",
      "Current Step: 23  error: 361181.5\n",
      "Current Step: 24  error: 310923.62\n",
      "Current Step: 25  error: 287783.6\n",
      "Current Step: 26  error: 302221.8\n",
      "Current Step: 27  error: 481689.7\n",
      "Current Step: 28  error: 413293.5\n",
      "Current Step: 29  error: 433541.75\n",
      "Current Step: 30  error: 419490.75\n",
      "Current Step: 31  error: 434330.0\n",
      "Current Step: 32  error: 433106.34\n",
      "Current Step: 33  error: 426371.25\n",
      "Current Step: 34  error: 285561.56\n",
      "Current Step: 35  error: 291989.5\n",
      "Current Step: 36  error: 329953.12\n",
      "Current Step: 37  error: 530012.25\n",
      "Current Step: 38  error: 274429.34\n",
      "Current Step: 39  error: 429338.25\n",
      "Current Step: 40  error: 225979.72\n",
      "Current Step: 41  error: 197223.14\n",
      "Current Step: 42  error: 263324.8\n",
      "Current Step: 43  error: 274272.44\n",
      "Current Step: 44  error: 183784.25\n",
      "Current Step: 45  error: 185561.03\n",
      "Current Step: 46  error: 289435.88\n",
      "Current Step: 47  error: 158543.56\n",
      "Current Step: 48  error: 237580.75\n",
      "Current Step: 49  error: 739117.2\n",
      "Current Step: 50  error: 368548.6\n",
      "Current Step: 51  error: 297691.84\n",
      "Current Step: 52  error: 119113.72\n",
      "Current Step: 53  error: 334359.75\n",
      "Current Step: 54  error: 222305.84\n",
      "Current Step: 55  error: 190247.5\n",
      "Current Step: 56  error: 215515.75\n",
      "Current Step: 57  error: 130553.86\n",
      "Current Step: 58  error: 131444.0\n",
      "Current Step: 59  error: 221577.12\n",
      "Current Step: 60  error: 353084.5\n",
      "Current Step: 61  error: 139700.47\n",
      "Current Step: 62  error: 163877.44\n",
      "Current Step: 63  error: 218494.84\n",
      "Current Step: 64  error: 384915.5\n",
      "Current Step: 65  error: 277387.3\n",
      "Current Step: 66  error: 180781.44\n",
      "Current Step: 67  error: 342890.5\n",
      "Current Step: 68  error: 268195.3\n",
      "Current Step: 69  error: 170523.22\n",
      "Current Step: 70  error: 301153.3\n",
      "Current Step: 71  error: 350481.8\n",
      "Current Step: 72  error: 190050.62\n",
      "Current Step: 73  error: 274962.06\n",
      "Current Step: 74  error: 326245.25\n",
      "Current Step: 75  error: 185493.31\n",
      "Current Step: 76  error: 177338.94\n",
      "Current Step: 77  error: 317747.78\n",
      "Current Step: 78  error: 161452.66\n",
      "Current Step: 79  error: 221366.1\n",
      "Current Step: 80  error: 160476.94\n",
      "Current Step: 81  error: 134073.66\n",
      "Current Step: 82  error: 275930.8\n",
      "Current Step: 83  error: 125001.84\n",
      "Current Step: 84  error: 120075.16\n",
      "Current Step: 85  error: 142309.48\n",
      "Current Step: 86  error: 105719.375\n",
      "Current Step: 87  error: 96952.34\n",
      "Current Step: 88  error: 130727.05\n",
      "Current Step: 89  error: 426360.5\n",
      "Current Step: 90  error: 371223.2\n",
      "Current Step: 91  error: 75738.48\n",
      "Current Step: 92  error: 73376.25\n",
      "Current Step: 93  error: 140413.33\n",
      "Current Step: 94  error: 72692.016\n",
      "Current Step: 95  error: 397050.03\n",
      "Current Step: 96  error: 144714.88\n",
      "Current Step: 97  error: 469874.47\n",
      "Current Step: 98  error: 97285.02\n",
      "Current Step: 99  error: 98632.92\n",
      "Current Step: 100  error: 166723.08\n"
     ]
    }
   ],
   "source": [
    "tf.reset_default_graph()\n",
    "def get_scope_variable(scope, name, shape=None):\n",
    "    with tf.variable_scope(scope, reuse=tf.AUTO_REUSE):\n",
    "        v = tf.get_variable(name, shape, initializer=tf.contrib.layers.xavier_initializer())\n",
    "    return v\n",
    "def normal_full_layer(input_layer, size, scope):\n",
    "    return tf.contrib.layers.fully_connected(input_layer, size, activation_fn=None, scope=scope)\n",
    "\n",
    "tf.reset_default_graph()\n",
    "x = tf.placeholder(tf.float32, shape=[None, 1], name=\"x\")\n",
    "layer1 = tf.nn.relu(normal_full_layer(x, 6, 'layer1'))\n",
    "y_pred = normal_full_layer(layer1, 1, 'layer2')\n",
    "y_true = tf.placeholder(tf.float32, shape=[None, 1], name=\"y_true\")\n",
    "\n",
    "error = tf.reduce_sum( tf.square(y_pred - y_true) )\n",
    "optimizer = tf.train.AdamOptimizer(learning_rate=0.1) # need to change to Adam (or RMSprops)\n",
    "train = optimizer.minimize(error)\n",
    "\n",
    "# Session\n",
    "sess = tf.InteractiveSession()\n",
    "sess.run(tf.global_variables_initializer())\n",
    "\n",
    "steps = 100\n",
    "history = []\n",
    "for i in range(steps):\n",
    "    min = np.random.uniform(-20, -10)\n",
    "    max = np.random.uniform(10, 20)\n",
    "    input = np.random.uniform(min, max, (200, 1))\n",
    "    output = np.power(input, 2) - 5\n",
    "    _, error_val = sess.run([train, error], feed_dict={\n",
    "                                              x:input, \n",
    "                                              y_true:output\n",
    "                                          })\n",
    "    history += [error_val]\n",
    "    print('Current Step: {} '.format(i+1), 'error:', error_val)\n"
   ]
  },
  {
   "cell_type": "code",
   "execution_count": 20,
   "metadata": {},
   "outputs": [
    {
     "data": {
      "text/plain": [
       "[<matplotlib.lines.Line2D at 0x12612cba8>]"
      ]
     },
     "execution_count": 20,
     "metadata": {},
     "output_type": "execute_result"
    },
    {
     "data": {
      "image/png": "[encoded data removed]",
      "text/plain": [
       "<Figure size 432x288 with 1 Axes>"
      ]
     },
     "metadata": {},
     "output_type": "display_data"
    }
   ],
   "source": [
    "input = np.arange(-20,20).reshape(-1, 1)\n",
    "output = np.power(input, 2) - 5\n",
    "y_pred_val = sess.run([y_pred], feed_dict={ x:input })\n",
    "y_pred_val = np.array(y_pred_val).reshape((-1, 1))\n",
    "plt.plot(input, output)\n",
    "plt.plot(input, y_pred_val)"
   ]
  },
  {
   "cell_type": "markdown",
   "metadata": {},
   "source": [
    "### Batch norm before Activation"
   ]
  },
  {
   "cell_type": "code",
   "execution_count": 16,
   "metadata": {
    "scrolled": true
   },
   "outputs": [
    {
     "name": "stdout",
     "output_type": "stream",
     "text": [
      "Current Step: 1  error: 2701198.0\n",
      "Current Step: 2  error: 2074893.2\n",
      "Current Step: 3  error: 274848.2\n",
      "Current Step: 4  error: 675536.5\n",
      "Current Step: 5  error: 487507.9\n",
      "Current Step: 6  error: 198150.25\n",
      "Current Step: 7  error: 1097970.1\n",
      "Current Step: 8  error: 81794.74\n",
      "Current Step: 9  error: 650995.4\n",
      "Current Step: 10  error: 834015.56\n",
      "Current Step: 11  error: 741137.06\n",
      "Current Step: 12  error: 330585.5\n",
      "Current Step: 13  error: 386518.47\n",
      "Current Step: 14  error: 409943.75\n",
      "Current Step: 15  error: 427631.25\n",
      "Current Step: 16  error: 300613.8\n",
      "Current Step: 17  error: 185860.25\n",
      "Current Step: 18  error: 148300.11\n",
      "Current Step: 19  error: 400419.53\n",
      "Current Step: 20  error: 47306.438\n",
      "Current Step: 21  error: 16390.299\n",
      "Current Step: 22  error: 38945.266\n",
      "Current Step: 23  error: 339357.7\n",
      "Current Step: 24  error: 588203.7\n",
      "Current Step: 25  error: 106586.484\n",
      "Current Step: 26  error: 337965.0\n",
      "Current Step: 27  error: 368093.06\n",
      "Current Step: 28  error: 235852.16\n",
      "Current Step: 29  error: 117658.22\n",
      "Current Step: 30  error: 47051.824\n",
      "Current Step: 31  error: 338448.3\n",
      "Current Step: 32  error: 274514.62\n",
      "Current Step: 33  error: 18798.707\n",
      "Current Step: 34  error: 38106.93\n",
      "Current Step: 35  error: 37286.977\n",
      "Current Step: 36  error: 65659.64\n",
      "Current Step: 37  error: 134909.55\n",
      "Current Step: 38  error: 132982.97\n",
      "Current Step: 39  error: 58744.58\n",
      "Current Step: 40  error: 240582.5\n",
      "Current Step: 41  error: 161694.73\n",
      "Current Step: 42  error: 121132.58\n",
      "Current Step: 43  error: 153007.06\n",
      "Current Step: 44  error: 191282.81\n",
      "Current Step: 45  error: 36634.668\n",
      "Current Step: 46  error: 186032.08\n",
      "Current Step: 47  error: 124331.29\n",
      "Current Step: 48  error: 112067.96\n",
      "Current Step: 49  error: 123182.36\n",
      "Current Step: 50  error: 41876.734\n",
      "Current Step: 51  error: 115151.5\n",
      "Current Step: 52  error: 94489.02\n",
      "Current Step: 53  error: 20347.98\n",
      "Current Step: 54  error: 159832.47\n",
      "Current Step: 55  error: 25060.402\n",
      "Current Step: 56  error: 106754.23\n",
      "Current Step: 57  error: 243779.44\n",
      "Current Step: 58  error: 57300.043\n",
      "Current Step: 59  error: 72036.19\n",
      "Current Step: 60  error: 99383.664\n",
      "Current Step: 61  error: 145984.42\n",
      "Current Step: 62  error: 25629.541\n",
      "Current Step: 63  error: 48593.023\n",
      "Current Step: 64  error: 180814.4\n",
      "Current Step: 65  error: 94588.54\n",
      "Current Step: 66  error: 128169.414\n",
      "Current Step: 67  error: 329824.7\n",
      "Current Step: 68  error: 86569.08\n",
      "Current Step: 69  error: 20669.926\n",
      "Current Step: 70  error: 218862.75\n",
      "Current Step: 71  error: 505540.62\n",
      "Current Step: 72  error: 100723.375\n",
      "Current Step: 73  error: 57048.18\n",
      "Current Step: 74  error: 26348.834\n",
      "Current Step: 75  error: 90283.03\n",
      "Current Step: 76  error: 400758.44\n",
      "Current Step: 77  error: 206890.47\n",
      "Current Step: 78  error: 52133.766\n",
      "Current Step: 79  error: 187060.75\n",
      "Current Step: 80  error: 99025.94\n",
      "Current Step: 81  error: 413278.2\n",
      "Current Step: 82  error: 54529.09\n",
      "Current Step: 83  error: 22956.1\n",
      "Current Step: 84  error: 62723.496\n",
      "Current Step: 85  error: 506028.97\n",
      "Current Step: 86  error: 70865.48\n",
      "Current Step: 87  error: 35286.02\n",
      "Current Step: 88  error: 33367.56\n",
      "Current Step: 89  error: 147044.02\n",
      "Current Step: 90  error: 123091.305\n",
      "Current Step: 91  error: 20052.227\n",
      "Current Step: 92  error: 100224.91\n",
      "Current Step: 93  error: 14791.001\n",
      "Current Step: 94  error: 84901.47\n",
      "Current Step: 95  error: 109652.266\n",
      "Current Step: 96  error: 54137.344\n",
      "Current Step: 97  error: 76288.21\n",
      "Current Step: 98  error: 117988.22\n",
      "Current Step: 99  error: 60095.293\n",
      "Current Step: 100  error: 14169.178\n"
     ]
    }
   ],
   "source": [
    "tf.reset_default_graph()\n",
    "def get_scope_variable(scope, name, shape=None):\n",
    "    with tf.variable_scope(scope, reuse=tf.AUTO_REUSE):\n",
    "        v = tf.get_variable(name, shape, initializer=tf.contrib.layers.xavier_initializer())\n",
    "    return v\n",
    "def normal_full_layer(input_layer, size, scope, phase):\n",
    "    return tf.contrib.layers.fully_connected(input_layer, size, activation_fn=None, scope=scope)\n",
    "    return tf.contrib.layers.batch_norm(linear, \n",
    "                              center=True, scale=True, \n",
    "                              is_training=phase,\n",
    "                              scope='bn_'+scope)\n",
    "\n",
    "tf.reset_default_graph()\n",
    "phase = tf.placeholder(tf.bool, name='phase')\n",
    "x = tf.placeholder(tf.float32, shape=[None, 1], name=\"x\")\n",
    "layer1 = tf.nn.relu(normal_full_layer(x, 6, 'layer1', phase))\n",
    "y_pred = normal_full_layer(layer1, 1, 'layer2', phase)\n",
    "y_true = tf.placeholder(tf.float32, shape=[None, 1], name=\"y_true\")\n",
    "\n",
    "\n",
    "error = tf.reduce_sum( tf.square(y_pred - y_true) )\n",
    "optimizer = tf.train.AdamOptimizer(learning_rate=1) # need to change to Adam (or RMSprops)\n",
    "train = optimizer.minimize(error)\n",
    "\n",
    "# Session\n",
    "sess = tf.InteractiveSession()\n",
    "sess.run(tf.global_variables_initializer())\n",
    "\n",
    "steps = 100\n",
    "history_bn = []\n",
    "for i in range(steps):\n",
    "    min = np.random.uniform(-20, -10)\n",
    "    max = np.random.uniform(10, 20)\n",
    "    input = np.random.uniform(min, max, (200, 1))\n",
    "    output = np.power(input, 2) - 5\n",
    "    _, error_val = sess.run([train, error], feed_dict={\n",
    "                                              x:input, \n",
    "                                              y_true:output,\n",
    "                                              phase: True\n",
    "                                          })\n",
    "    history_bn += [error_val]\n",
    "    print('Current Step: {} '.format(i+1), 'error:', error_val)\n"
   ]
  },
  {
   "cell_type": "code",
   "execution_count": 17,
   "metadata": {
    "scrolled": true
   },
   "outputs": [
    {
     "data": {
      "text/plain": [
       "[<matplotlib.lines.Line2D at 0x125a86390>]"
      ]
     },
     "execution_count": 17,
     "metadata": {},
     "output_type": "execute_result"
    },
    {
     "data": {
      "image/png": "[encoded data removed]",
      "text/plain": [
       "<Figure size 432x288 with 1 Axes>"
      ]
     },
     "metadata": {},
     "output_type": "display_data"
    }
   ],
   "source": [
    "input = np.arange(-20,20).reshape(-1, 1)\n",
    "output = np.power(input, 2) - 5\n",
    "y_pred_val = sess.run([y_pred], feed_dict={ x:input, phase:False })\n",
    "y_pred_val = np.array(y_pred_val).reshape((-1, 1))\n",
    "plt.plot(input, output)\n",
    "plt.plot(input, y_pred_val)"
   ]
  },
  {
   "cell_type": "code",
   "execution_count": 21,
   "metadata": {
    "scrolled": false
   },
   "outputs": [
    {
     "data": {
      "text/plain": [
       "[<matplotlib.lines.Line2D at 0x125f15940>]"
      ]
     },
     "execution_count": 21,
     "metadata": {},
     "output_type": "execute_result"
    },
    {
     "data": {
      "image/png": "[encoded data removed]",
      "text/plain": [
       "<Figure size 432x288 with 1 Axes>"
      ]
     },
     "metadata": {},
     "output_type": "display_data"
    }
   ],
   "source": [
    "plt.plot(history, label=\"normal\")\n",
    "plt.plot(history_bn, label=\"batch norm\")"
   ]
  },
  {
   "cell_type": "code",
   "execution_count": null,
   "metadata": {},
   "outputs": [],
   "source": []
  }
 ],
 "metadata": {
  "kernelspec": {
   "display_name": "Python 3",
   "language": "python",
   "name": "python3"
  },
  "language_info": {
   "codemirror_mode": {
    "name": "ipython",
    "version": 3
   },
   "file_extension": ".py",
   "mimetype": "text/x-python",
   "name": "python",
   "nbconvert_exporter": "python",
   "pygments_lexer": "ipython3",
   "version": "3.6.7"
  }
 },
 "nbformat": 4,
 "nbformat_minor": 2
}
