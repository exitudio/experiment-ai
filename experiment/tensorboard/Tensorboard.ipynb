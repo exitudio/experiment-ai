{
 "cells": [
  {
   "cell_type": "markdown",
   "metadata": {},
   "source": [
    "### Start Tensorboard\n",
    "\n",
    "Start tensorboard server:\n",
    "```cli\n",
    "$tensorboard --logdir=path/to/log-directory\n",
    "```\n",
    "\n",
    "Link:\n",
    " [overall](https://www.tensorflow.org/api_docs/python/tf/summary/FileWriter)"
   ]
  },
  {
   "cell_type": "code",
   "execution_count": 2,
   "metadata": {},
   "outputs": [],
   "source": [
    "import tensorflow as tf\n",
    "import numpy as np\n",
    "import matplotlib.pyplot as plt\n",
    "%matplotlib inline\n",
    "import math\n",
    "import pandas as pd"
   ]
  },
  {
   "cell_type": "code",
   "execution_count": 12,
   "metadata": {},
   "outputs": [
    {
     "data": {
      "text/plain": [
       "<absl.flags._flagvalues.FlagValues at 0x111298748>"
      ]
     },
     "execution_count": 12,
     "metadata": {},
     "output_type": "execute_result"
    }
   ],
   "source": [
    "tf.app.flags.FLAGS"
   ]
  },
  {
   "cell_type": "markdown",
   "metadata": {},
   "source": [
    "### Basic summary\n",
    "\n",
    "```python\n",
    "X = tf.placeholder(tf.float32, (None, 2), name='X')\n",
    "y = tf.placeholder(tf.float32, (2, 1), name='y')\n",
    "\n",
    "with tf.name_scope('this_is_scope'):\n",
    "    re = tf.matmul(X, y)\n",
    "    tf.summary.scalar('mean', re)\n",
    "    tf.summary.histogram('histogram', re)\n",
    "\n",
    "sess = tf.InteractiveSession()\n",
    "\n",
    "sess.run(re, feed_dict={X:[[1,2],[3,4],[5,6]], y:[[2],[2]]})\n",
    "\n",
    "\n",
    "train_writer = tf.summary.FileWriter('./plus',\n",
    "                                      sess.graph)\n",
    "```"
   ]
  },
  {
   "cell_type": "markdown",
   "metadata": {},
   "source": [
    "### model_dir in estimator"
   ]
  },
  {
   "cell_type": "code",
   "execution_count": 2,
   "metadata": {},
   "outputs": [
    {
     "data": {
      "text/plain": [
       "((10000,), (10000,), (10000,))"
      ]
     },
     "execution_count": 2,
     "metadata": {},
     "output_type": "execute_result"
    },
    {
     "data": {
      "image/png": "[encoded data removed]",
      "text/plain": [
       "<Figure size 432x288 with 1 Axes>"
      ]
     },
     "metadata": {},
     "output_type": "display_data"
    }
   ],
   "source": [
    "x1 = np.arange(start=0, stop=100, step=0.01)\n",
    "x2 = 10*np.random.rand(x1.shape[0])+10*np.random.rand(x1.shape[0]) + 40\n",
    "y_bound = 3*x1-100\n",
    "y = x1+2>y_bound\n",
    "plt.plot(x1,y_bound)\n",
    "plt.scatter(x1, x2)\n",
    "x1.shape, x2.shape, y.shape"
   ]
  },
  {
   "cell_type": "code",
   "execution_count": 6,
   "metadata": {
    "scrolled": true
   },
   "outputs": [
    {
     "name": "stdout",
     "output_type": "stream",
     "text": [
      "INFO:tensorflow:Using default config.\n",
      "INFO:tensorflow:Using config: {'_model_dir': 'tmp/tensorboard', '_tf_random_seed': None, '_save_summary_steps': 100, '_save_checkpoints_steps': None, '_save_checkpoints_secs': 600, '_session_config': None, '_keep_checkpoint_max': 5, '_keep_checkpoint_every_n_hours': 10000, '_log_step_count_steps': 100, '_service': None, '_cluster_spec': <tensorflow.python.training.server_lib.ClusterSpec object at 0x123bf6588>, '_task_type': 'worker', '_task_id': 0, '_global_id_in_cluster': 0, '_master': '', '_evaluation_master': '', '_is_chief': True, '_num_ps_replicas': 0, '_num_worker_replicas': 1}\n",
      "INFO:tensorflow:Calling model_fn.\n",
      "INFO:tensorflow:Done calling model_fn.\n",
      "INFO:tensorflow:Create CheckpointSaverHook.\n",
      "INFO:tensorflow:Graph was finalized.\n",
      "INFO:tensorflow:Restoring parameters from tmp/tensorboard/model.ckpt-100\n",
      "INFO:tensorflow:Running local_init_op.\n",
      "INFO:tensorflow:Done running local_init_op.\n",
      "INFO:tensorflow:Saving checkpoints for 101 into tmp/tensorboard/model.ckpt.\n",
      "INFO:tensorflow:loss = 0.0, step = 101\n",
      "INFO:tensorflow:global_step/sec: 195.186\n",
      "INFO:tensorflow:loss = 454.28897, step = 201 (0.513 sec)\n",
      "INFO:tensorflow:global_step/sec: 232.013\n",
      "INFO:tensorflow:loss = 1074.8826, step = 301 (0.431 sec)\n",
      "INFO:tensorflow:global_step/sec: 232.85\n",
      "INFO:tensorflow:loss = 446.75842, step = 401 (0.430 sec)\n",
      "INFO:tensorflow:global_step/sec: 228.432\n",
      "INFO:tensorflow:loss = 833.75024, step = 501 (0.438 sec)\n",
      "INFO:tensorflow:global_step/sec: 228.588\n",
      "INFO:tensorflow:loss = 1553.8085, step = 601 (0.437 sec)\n",
      "INFO:tensorflow:global_step/sec: 218.6\n",
      "INFO:tensorflow:loss = 836.0438, step = 701 (0.458 sec)\n",
      "INFO:tensorflow:global_step/sec: 220.252\n",
      "INFO:tensorflow:loss = 1152.658, step = 801 (0.454 sec)\n",
      "INFO:tensorflow:global_step/sec: 223.821\n",
      "INFO:tensorflow:loss = 617.57275, step = 901 (0.447 sec)\n",
      "INFO:tensorflow:global_step/sec: 233.673\n",
      "INFO:tensorflow:loss = 656.7887, step = 1001 (0.428 sec)\n",
      "INFO:tensorflow:Saving checkpoints for 1100 into tmp/tensorboard/model.ckpt.\n",
      "INFO:tensorflow:Loss for final step: 8019.208.\n"
     ]
    },
    {
     "data": {
      "text/plain": [
       "<tensorflow.python.estimator.canned.linear.LinearClassifier at 0x123bf6278>"
      ]
     },
     "execution_count": 6,
     "metadata": {},
     "output_type": "execute_result"
    }
   ],
   "source": [
    "feature_1 = tf.feature_column.numeric_column('x1')\n",
    "feature_2 = tf.feature_column.numeric_column('x2')\n",
    "features = [feature_1, feature_2]\n",
    "\n",
    "input_func = tf.estimator.inputs.numpy_input_fn( x={\n",
    "                                                    'x1': x1,\n",
    "                                                    'x2': x2\n",
    "                                                 },\n",
    "                                                 y=y,\n",
    "                                                 batch_size=1000,\n",
    "                                                 num_epochs=999999999,\n",
    "                                                 shuffle=True)\n",
    "optimizer = tf.train.AdamOptimizer(learning_rate=3)\n",
    "model = tf.estimator.LinearClassifier(feature_columns=features, optimizer=optimizer, model_dir='tmp/tensorboard')\n",
    "model.train(input_fn=input_func,steps=1000)"
   ]
  },
  {
   "cell_type": "code",
   "execution_count": 5,
   "metadata": {},
   "outputs": [
    {
     "name": "stdout",
     "output_type": "stream",
     "text": [
      "INFO:tensorflow:Calling model_fn.\n",
      "INFO:tensorflow:Done calling model_fn.\n",
      "INFO:tensorflow:Starting evaluation at 2018-04-18-05:05:19\n",
      "INFO:tensorflow:Graph was finalized.\n",
      "INFO:tensorflow:Restoring parameters from tmp/tensorboard/model.ckpt-100\n",
      "INFO:tensorflow:Running local_init_op.\n",
      "INFO:tensorflow:Done running local_init_op.\n",
      "INFO:tensorflow:Evaluation [1/1]\n",
      "INFO:tensorflow:Finished evaluation at 2018-04-18-05:05:20\n",
      "INFO:tensorflow:Saving dict for global step 100: accuracy = 1.0, accuracy_baseline = 1.0, auc = 0.0, auc_precision_recall = 1.0, average_loss = 0.0, global_step = 100, label/mean = 1.0, loss = 0.0, prediction/mean = 1.0\n"
     ]
    },
    {
     "data": {
      "text/plain": [
       "{'accuracy': 1.0,\n",
       " 'accuracy_baseline': 1.0,\n",
       " 'auc': 0.0,\n",
       " 'auc_precision_recall': 1.0,\n",
       " 'average_loss': 0.0,\n",
       " 'label/mean': 1.0,\n",
       " 'loss': 0.0,\n",
       " 'prediction/mean': 1.0,\n",
       " 'global_step': 100}"
      ]
     },
     "execution_count": 5,
     "metadata": {},
     "output_type": "execute_result"
    }
   ],
   "source": [
    "test_input_func = tf.estimator.inputs.numpy_input_fn(\n",
    "    x={\n",
    "        'x1': x1,\n",
    "        'x2': x2\n",
    "    },\n",
    "    y=y,\n",
    "    batch_size=1000,\n",
    "    num_epochs=1000,\n",
    "    shuffle=False)\n",
    "eval_metrics = model.evaluate(input_fn=test_input_func,steps=1)\n",
    "eval_metrics"
   ]
  },
  {
   "cell_type": "code",
   "execution_count": null,
   "metadata": {},
   "outputs": [],
   "source": []
  }
 ],
 "metadata": {
  "kernelspec": {
   "display_name": "Python 3",
   "language": "python",
   "name": "python3"
  },
  "language_info": {
   "codemirror_mode": {
    "name": "ipython",
    "version": 3
   },
   "file_extension": ".py",
   "mimetype": "text/x-python",
   "name": "python",
   "nbconvert_exporter": "python",
   "pygments_lexer": "ipython3",
   "version": "3.6.4"
  }
 },
 "nbformat": 4,
 "nbformat_minor": 2
}
