{
 "cells": [
  {
   "cell_type": "code",
   "execution_count": 2,
   "metadata": {},
   "outputs": [],
   "source": [
    "import pandas as pd\n",
    "import numpy as np\n",
    "import tensorflow as tf\n",
    "import matplotlib.pyplot as plt\n",
    "%matplotlib inline"
   ]
  },
  {
   "cell_type": "code",
   "execution_count": 3,
   "metadata": {},
   "outputs": [
    {
     "data": {
      "text/html": [
       "<div>\n",
       "<style scoped>\n",
       "    .dataframe tbody tr th:only-of-type {\n",
       "        vertical-align: middle;\n",
       "    }\n",
       "\n",
       "    .dataframe tbody tr th {\n",
       "        vertical-align: top;\n",
       "    }\n",
       "\n",
       "    .dataframe thead th {\n",
       "        text-align: right;\n",
       "    }\n",
       "</style>\n",
       "<table border=\"1\" class=\"dataframe\">\n",
       "  <thead>\n",
       "    <tr style=\"text-align: right;\">\n",
       "      <th></th>\n",
       "      <th>a</th>\n",
       "      <th>b</th>\n",
       "      <th>y</th>\n",
       "    </tr>\n",
       "  </thead>\n",
       "  <tbody>\n",
       "    <tr>\n",
       "      <th>0</th>\n",
       "      <td>44</td>\n",
       "      <td>49</td>\n",
       "      <td>93</td>\n",
       "    </tr>\n",
       "    <tr>\n",
       "      <th>1</th>\n",
       "      <td>47</td>\n",
       "      <td>69</td>\n",
       "      <td>116</td>\n",
       "    </tr>\n",
       "    <tr>\n",
       "      <th>2</th>\n",
       "      <td>64</td>\n",
       "      <td>41</td>\n",
       "      <td>105</td>\n",
       "    </tr>\n",
       "    <tr>\n",
       "      <th>3</th>\n",
       "      <td>67</td>\n",
       "      <td>35</td>\n",
       "      <td>102</td>\n",
       "    </tr>\n",
       "    <tr>\n",
       "      <th>4</th>\n",
       "      <td>67</td>\n",
       "      <td>64</td>\n",
       "      <td>131</td>\n",
       "    </tr>\n",
       "  </tbody>\n",
       "</table>\n",
       "</div>"
      ],
      "text/plain": [
       "    a   b    y\n",
       "0  44  49   93\n",
       "1  47  69  116\n",
       "2  64  41  105\n",
       "3  67  35  102\n",
       "4  67  64  131"
      ]
     },
     "execution_count": 3,
     "metadata": {},
     "output_type": "execute_result"
    },
    {
     "data": {
      "image/png": "[encoded data removed]",
      "text/plain": [
       "<Figure size 432x288 with 4 Axes>"
      ]
     },
     "metadata": {},
     "output_type": "display_data"
    }
   ],
   "source": [
    "np.random.seed(0)\n",
    "num_data = 100\n",
    "a = np.random.randint(low=0, high=100, size=[num_data])\n",
    "b = np.random.randint(low=0, high=100, size=[num_data])\n",
    "\n",
    "# gen output\n",
    "y = []\n",
    "for i in range(len(a)):\n",
    "    y.append(a[i]+b[i])\n",
    "y = np.array(y).T\n",
    "\n",
    "# display data\n",
    "data = np.array([a,b,y]).T\n",
    "data = pd.DataFrame(data, columns=['a','b','y'])\n",
    "data.hist(bins=10)\n",
    "data.head()"
   ]
  },
  {
   "cell_type": "code",
   "execution_count": 160,
   "metadata": {
    "collapsed": true
   },
   "outputs": [],
   "source": [
    "feature_a = tf.feature_column.numeric_column('a')\n",
    "feature_b = tf.feature_column.numeric_column('b')\n",
    "features = [feature_a, feature_b]"
   ]
  },
  {
   "cell_type": "markdown",
   "metadata": {},
   "source": [
    "### 1. Train"
   ]
  },
  {
   "cell_type": "code",
   "execution_count": 228,
   "metadata": {},
   "outputs": [
    {
     "name": "stdout",
     "output_type": "stream",
     "text": [
      "INFO:tensorflow:Using default config.\n",
      "WARNING:tensorflow:Using temporary folder as model directory: /var/folders/sr/9k0jqkfs33q22ppyt_t7yjt9716826/T/tmp6sgg8xgl\n",
      "INFO:tensorflow:Using config: {'_model_dir': '/var/folders/sr/9k0jqkfs33q22ppyt_t7yjt9716826/T/tmp6sgg8xgl', '_save_checkpoints_secs': 600, '_service': None, '_keep_checkpoint_every_n_hours': 10000, '_task_type': 'worker', '_tf_random_seed': None, '_cluster_spec': <tensorflow.python.training.server_lib.ClusterSpec object at 0x12a567978>, '_save_checkpoints_steps': None, '_master': '', '_num_worker_replicas': 1, '_keep_checkpoint_max': 5, '_global_id_in_cluster': 0, '_session_config': None, '_log_step_count_steps': 100, '_num_ps_replicas': 0, '_is_chief': True, '_evaluation_master': '', '_task_id': 0, '_save_summary_steps': 100}\n",
      "INFO:tensorflow:Calling model_fn.\n",
      "INFO:tensorflow:Done calling model_fn.\n",
      "INFO:tensorflow:Create CheckpointSaverHook.\n",
      "INFO:tensorflow:Graph was finalized.\n",
      "INFO:tensorflow:Running local_init_op.\n",
      "INFO:tensorflow:Done running local_init_op.\n",
      "INFO:tensorflow:Saving checkpoints for 1 into /var/folders/sr/9k0jqkfs33q22ppyt_t7yjt9716826/T/tmp6sgg8xgl/model.ckpt.\n",
      "INFO:tensorflow:loss = 1017680.0, step = 1\n",
      "INFO:tensorflow:global_step/sec: 676.438\n",
      "INFO:tensorflow:loss = 9.393065, step = 101 (0.149 sec)\n",
      "INFO:tensorflow:global_step/sec: 897.546\n",
      "INFO:tensorflow:loss = 6.3593464, step = 201 (0.111 sec)\n",
      "INFO:tensorflow:global_step/sec: 890.448\n",
      "INFO:tensorflow:loss = 2.2381883, step = 301 (0.112 sec)\n",
      "INFO:tensorflow:global_step/sec: 883.346\n",
      "INFO:tensorflow:loss = 0.6485611, step = 401 (0.113 sec)\n",
      "INFO:tensorflow:global_step/sec: 894.758\n",
      "INFO:tensorflow:loss = 0.25080705, step = 501 (0.112 sec)\n",
      "INFO:tensorflow:global_step/sec: 877.062\n",
      "INFO:tensorflow:loss = 0.062207427, step = 601 (0.114 sec)\n",
      "INFO:tensorflow:global_step/sec: 896.161\n",
      "INFO:tensorflow:loss = 0.0102898395, step = 701 (0.112 sec)\n",
      "INFO:tensorflow:global_step/sec: 872.067\n",
      "INFO:tensorflow:loss = 0.0021574765, step = 801 (0.115 sec)\n",
      "INFO:tensorflow:global_step/sec: 865.869\n",
      "INFO:tensorflow:loss = 0.0002702328, step = 901 (0.116 sec)\n",
      "INFO:tensorflow:Saving checkpoints for 1000 into /var/folders/sr/9k0jqkfs33q22ppyt_t7yjt9716826/T/tmp6sgg8xgl/model.ckpt.\n",
      "INFO:tensorflow:Loss for final step: 3.237538e-05.\n"
     ]
    },
    {
     "data": {
      "text/plain": [
       "<tensorflow.python.estimator.canned.linear.LinearRegressor at 0x12a5650f0>"
      ]
     },
     "execution_count": 228,
     "metadata": {},
     "output_type": "execute_result"
    }
   ],
   "source": [
    "input_func = tf.estimator.inputs.numpy_input_fn( x={\n",
    "                                                    'a': a,\n",
    "                                                    'b': b\n",
    "                                                 },\n",
    "                                                 y=y,\n",
    "                                                 batch_size=100,\n",
    "                                                 num_epochs=999999,\n",
    "                                                 shuffle=True)\n",
    "optimizer = tf.train.AdamOptimizer(learning_rate=0.3)\n",
    "model = tf.estimator.LinearRegressor(feature_columns=features, optimizer=optimizer)\n",
    "model.train(input_fn=input_func,steps=1000)"
   ]
  },
  {
   "cell_type": "code",
   "execution_count": 229,
   "metadata": {},
   "outputs": [
    {
     "name": "stdout",
     "output_type": "stream",
     "text": [
      "global_step 1000\n",
      "linear/beta1_power 0.0\n",
      "linear/beta2_power 0.36733255\n",
      "linear/linear_model/a/weights [[0.99998766]]\n",
      "linear/linear_model/a/weights/part_0/Adam [[0.05541265]]\n",
      "linear/linear_model/a/weights/part_0/Adam_1 [[1.4472042e+09]]\n",
      "linear/linear_model/b/weights [[0.99998903]]\n",
      "linear/linear_model/b/weights/part_0/Adam [[0.00813372]]\n",
      "linear/linear_model/b/weights/part_0/Adam_1 [[1.5167964e+09]]\n",
      "linear/linear_model/bias_weights [0.00143587]\n",
      "linear/linear_model/bias_weights/part_0/Adam [0.04879072]\n",
      "linear/linear_model/bias_weights/part_0/Adam_1 [462190.84]\n",
      "weigth a : 0.9999876618385315\n",
      "weigth b : 0.9999890327453613\n",
      "weigth bias : 0.0014358730986714363\n"
     ]
    }
   ],
   "source": [
    "var_names = tf.estimator.LinearRegressor.get_variable_names(model)\n",
    "for name in var_names:\n",
    "    var_value = tf.estimator.LinearRegressor.get_variable_value(model, name)\n",
    "    print(name, var_value)\n",
    "\n",
    "w_a = tf.estimator.LinearRegressor.get_variable_value(model, 'linear/linear_model/a/weights')\n",
    "w_b = tf.estimator.LinearRegressor.get_variable_value(model, 'linear/linear_model/b/weights')\n",
    "bias = tf.estimator.LinearRegressor.get_variable_value(model, 'linear/linear_model/bias_weights')\n",
    "print('weigth a :', np.asscalar(w_a))\n",
    "print('weigth b :', np.asscalar(w_b))\n",
    "print('weigth bias :', np.asscalar(bias))"
   ]
  },
  {
   "cell_type": "markdown",
   "metadata": {},
   "source": [
    "### 2. Test"
   ]
  },
  {
   "cell_type": "code",
   "execution_count": 117,
   "metadata": {},
   "outputs": [
    {
     "name": "stdout",
     "output_type": "stream",
     "text": [
      "INFO:tensorflow:Calling model_fn.\n",
      "INFO:tensorflow:Done calling model_fn.\n",
      "INFO:tensorflow:Starting evaluation at 2018-04-07-14:37:05\n",
      "INFO:tensorflow:Graph was finalized.\n",
      "INFO:tensorflow:Restoring parameters from /var/folders/sr/9k0jqkfs33q22ppyt_t7yjt9716826/T/tmpq0_cqp8v/model.ckpt-100000\n",
      "INFO:tensorflow:Running local_init_op.\n",
      "INFO:tensorflow:Done running local_init_op.\n",
      "INFO:tensorflow:Finished evaluation at 2018-04-07-14:37:05\n",
      "INFO:tensorflow:Saving dict for global step 100000: average_loss = 0.0, global_step = 100000, loss = 0.0\n"
     ]
    }
   ],
   "source": [
    "test_input_func = tf.estimator.inputs.numpy_input_fn(\n",
    "    x={\n",
    "    'a': a,\n",
    "    'b': b\n",
    "    },\n",
    "    y=y,\n",
    "    batch_size=1000,\n",
    "    num_epochs=1000,\n",
    "    shuffle=False)\n",
    "eval_metrics = model.evaluate(input_fn=test_input_func,steps=1000)"
   ]
  },
  {
   "cell_type": "markdown",
   "metadata": {},
   "source": [
    "### 3. Prdiction"
   ]
  },
  {
   "cell_type": "code",
   "execution_count": 118,
   "metadata": {},
   "outputs": [
    {
     "name": "stdout",
     "output_type": "stream",
     "text": [
      "INFO:tensorflow:Calling model_fn.\n",
      "INFO:tensorflow:Done calling model_fn.\n",
      "INFO:tensorflow:Graph was finalized.\n",
      "INFO:tensorflow:Restoring parameters from /var/folders/sr/9k0jqkfs33q22ppyt_t7yjt9716826/T/tmpq0_cqp8v/model.ckpt-100000\n",
      "INFO:tensorflow:Running local_init_op.\n",
      "INFO:tensorflow:Done running local_init_op.\n",
      "{'predictions': array([3.9565265], dtype=float32)}\n"
     ]
    }
   ],
   "source": [
    "input_fn_predict = tf.estimator.inputs.numpy_input_fn(x={\n",
    "    'a':np.array([1]),\n",
    "    'b':np.array([2])\n",
    "},shuffle=False)\n",
    "predict = model.predict(input_fn=input_fn_predict)\n",
    "\n",
    "for p in predict:\n",
    "    print(p)"
   ]
  },
  {
   "cell_type": "code",
   "execution_count": 119,
   "metadata": {},
   "outputs": [
    {
     "data": {
      "text/plain": [
       "3.000000663599792"
      ]
     },
     "execution_count": 119,
     "metadata": {},
     "output_type": "execute_result"
    }
   ],
   "source": [
    "np.asscalar(w_a)*1 + np.asscalar(w_b)*2 + np.asscalar(bias)"
   ]
  }
 ],
 "metadata": {
  "kernelspec": {
   "display_name": "Python 3",
   "language": "python",
   "name": "python3"
  },
  "language_info": {
   "codemirror_mode": {
    "name": "ipython",
    "version": 3
   },
   "file_extension": ".py",
   "mimetype": "text/x-python",
   "name": "python",
   "nbconvert_exporter": "python",
   "pygments_lexer": "ipython3",
   "version": "3.6.4"
  }
 },
 "nbformat": 4,
 "nbformat_minor": 2
}
