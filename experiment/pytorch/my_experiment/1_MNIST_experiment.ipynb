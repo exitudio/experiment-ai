{
 "cells": [
  {
   "cell_type": "markdown",
   "metadata": {},
   "source": [
    "from [here](https://github.com/pytorch/examples/blob/master/mnist/main.py)\n",
    "\n",
    "- change dataset, MNIST is too easy\n",
    "- todo try to adjust and understand conv layer"
   ]
  },
  {
   "cell_type": "code",
   "execution_count": 1,
   "metadata": {},
   "outputs": [],
   "source": [
    "import torch\n",
    "import torchvision.datasets as datasets\n",
    "from torch.utils.data import DataLoader, Dataset\n",
    "import torch.nn as nn\n",
    "import torch.nn.functional as F\n",
    "from torch import optim\n",
    "from torchvision import transforms\n",
    "\n",
    "%matplotlib inline\n",
    "import matplotlib.pyplot as plt"
   ]
  },
  {
   "cell_type": "code",
   "execution_count": 6,
   "metadata": {},
   "outputs": [
    {
     "data": {
      "text/plain": [
       "<torch._C.Generator at 0x7fe8ac01acf0>"
      ]
     },
     "execution_count": 6,
     "metadata": {},
     "output_type": "execute_result"
    }
   ],
   "source": [
    "device = torch.device(\"cuda\" if torch.cuda.is_available() else \"cpu\")\n",
    "torch.manual_seed(1)"
   ]
  },
  {
   "cell_type": "code",
   "execution_count": 7,
   "metadata": {},
   "outputs": [],
   "source": [
    "transform = transforms.Compose([\n",
    "                                   transforms.ToTensor(),\n",
    "                                   transforms.Normalize((0.5,), (1,))\n",
    "                               ])\n",
    "mnist_trainset = datasets.FashionMNIST(root='./data', train=True, download=True, transform=transform)\n",
    "mnist_testset = datasets.FashionMNIST(root='./data', train=False, download=False, transform=transform)\n",
    "data_loader_train = DataLoader(mnist_trainset, 64, shuffle=True, num_workers=8)\n",
    "data_loader_test = DataLoader(mnist_testset, 64, shuffle=True, num_workers=8)"
   ]
  },
  {
   "cell_type": "code",
   "execution_count": 9,
   "metadata": {},
   "outputs": [],
   "source": [
    "class LeNet(nn.Module):\n",
    "    def __init__(self):\n",
    "        super(LeNet, self).__init__()\n",
    "        self.conv1 = nn.Conv2d(1, 20, 5, 1)\n",
    "        self.conv2 = nn.Conv2d(20, 50, 5, 1)\n",
    "        self.fc1 = nn.Linear(4*4*50, 500)\n",
    "        self.fc2 = nn.Linear(500, 10)\n",
    "\n",
    "    def forward(self, x):\n",
    "        x = F.relu(self.conv1(x)) # conv1:      torch.Size([64, 20, 24, 24])\n",
    "        x = F.max_pool2d(x, 2, 2) # max_pool2d: torch.Size([64, 20, 12, 12])\n",
    "        x = F.relu(self.conv2(x)) # conv2:      torch.Size([64, 50, 8, 8])\n",
    "        x = F.max_pool2d(x, 2, 2) # max_pool2d: torch.Size([64, 50, 4, 4])\n",
    "        x = x.view(-1, 4*4*50)    # flatten:    torch.Size([64, 800])\n",
    "        x = F.relu(self.fc1(x))\n",
    "        x = self.fc2(x)\n",
    "        return F.log_softmax(x, dim=1)\n",
    "\n",
    "    \n",
    "    def name(self):\n",
    "        return \"LeNet\"\n",
    "model = LeNet().to(device)\n",
    "criterion = F.nll_loss\n",
    "optimizer = optim.Adam(model.parameters(), lr=0.003, weight_decay=0.0) #weight_decay (L2 regularization) makes thing worse"
   ]
  },
  {
   "cell_type": "code",
   "execution_count": 10,
   "metadata": {},
   "outputs": [],
   "source": [
    "def get_num_correct(output, target):\n",
    "    # max of dimension 1, keepdim, and [0] is value / [1] is index (we need only index)\n",
    "    pred = output.max(1, keepdim=True)[1] # get the index of the max log-probability\n",
    "    correct = pred.eq(target.view_as(pred)).sum().item()\n",
    "    return correct"
   ]
  },
  {
   "cell_type": "code",
   "execution_count": 84,
   "metadata": {},
   "outputs": [],
   "source": [
    "losses = []\n",
    "def train(epoch):\n",
    "    model.train()\n",
    "    for i, (data, target) in enumerate(data_loader_train):\n",
    "        data, target = data.to(device), target.to(device)\n",
    "        output = model(data)\n",
    "        loss = F.nll_loss(output, target)\n",
    "        optimizer.zero_grad()\n",
    "        loss.backward()\n",
    "        optimizer.step()\n",
    "        if i%100 == 0:\n",
    "            print(f'epoch: {epoch}, i: {i}, loss: {loss.item()}')\n",
    "            losses.append(loss.item())\n",
    "            \n",
    "        if i == len(data_loader_train)-1:\n",
    "            correct = get_num_correct(output, target)\n",
    "            print(f'training set last batch acc: {100. * correct / data.shape[0]}')\n",
    "def test(epoch):\n",
    "    model.eval()\n",
    "    test_loss = 0\n",
    "    correct = 0\n",
    "    with torch.no_grad():\n",
    "        for data, target in data_loader_test:\n",
    "            data, target = data.to(device), target.to(device)\n",
    "            output = model(data)\n",
    "            test_loss += F.nll_loss(output, target, reduction='sum').item() # sum up batch loss, default is mean\n",
    "            correct += get_num_correct(output, target)\n",
    "    test_loss /= len(data_loader_test.dataset)\n",
    "    \n",
    "    print('\\nTest set: Average loss: {:.4f}, Accuracy: {}/{} ({:.2f}%)\\n'.format(\n",
    "        test_loss, correct, len(data_loader_test.dataset),\n",
    "        100. * correct / len(data_loader_test.dataset)))"
   ]
  },
  {
   "cell_type": "markdown",
   "metadata": {},
   "source": [
    "### Train"
   ]
  },
  {
   "cell_type": "code",
   "execution_count": 53,
   "metadata": {},
   "outputs": [
    {
     "name": "stdout",
     "output_type": "stream",
     "text": [
      "epoch: 0, i: 0, loss: 2.293252468109131\n",
      "epoch: 0, i: 100, loss: 0.0666375681757927\n",
      "epoch: 0, i: 200, loss: 0.015951722860336304\n",
      "epoch: 0, i: 300, loss: 0.07768566161394119\n",
      "epoch: 0, i: 400, loss: 0.1630481481552124\n",
      "epoch: 0, i: 500, loss: 0.04356107488274574\n",
      "epoch: 0, i: 600, loss: 0.04158174991607666\n",
      "epoch: 0, i: 700, loss: 0.02045675367116928\n",
      "epoch: 0, i: 800, loss: 0.004636809229850769\n",
      "epoch: 0, i: 900, loss: 0.032663024961948395\n",
      "training set last batch acc: 96.875\n",
      "\n",
      "Test set: Average loss: 0.0446, Accuracy: 9846/10000 (98.46%)\n",
      "\n",
      "epoch: 1, i: 0, loss: 0.00787893682718277\n",
      "epoch: 1, i: 100, loss: 0.006622180342674255\n",
      "epoch: 1, i: 200, loss: 0.012585222721099854\n",
      "epoch: 1, i: 300, loss: 0.0023989006876945496\n",
      "epoch: 1, i: 400, loss: 0.00792037695646286\n",
      "epoch: 1, i: 500, loss: 0.019557740539312363\n",
      "epoch: 1, i: 600, loss: 0.07443836331367493\n",
      "epoch: 1, i: 700, loss: 0.0670129656791687\n",
      "epoch: 1, i: 800, loss: 0.1430397927761078\n",
      "epoch: 1, i: 900, loss: 0.006209813058376312\n",
      "training set last batch acc: 96.875\n",
      "\n",
      "Test set: Average loss: 0.0331, Accuracy: 9888/10000 (98.88%)\n",
      "\n",
      "epoch: 2, i: 0, loss: 0.021039128303527832\n",
      "epoch: 2, i: 100, loss: 0.03622555732727051\n",
      "epoch: 2, i: 200, loss: 0.0021075084805488586\n",
      "epoch: 2, i: 300, loss: 0.08382559567689896\n",
      "epoch: 2, i: 400, loss: 0.00725758820772171\n",
      "epoch: 2, i: 500, loss: 0.10942064225673676\n",
      "epoch: 2, i: 600, loss: 0.004084587097167969\n",
      "epoch: 2, i: 700, loss: 0.01022593304514885\n",
      "epoch: 2, i: 800, loss: 0.02422305941581726\n",
      "epoch: 2, i: 900, loss: 0.003127455711364746\n",
      "training set last batch acc: 96.875\n",
      "\n",
      "Test set: Average loss: 0.0365, Accuracy: 9893/10000 (98.93%)\n",
      "\n",
      "epoch: 3, i: 0, loss: 0.001860588788986206\n",
      "epoch: 3, i: 100, loss: 0.000627659261226654\n",
      "epoch: 3, i: 200, loss: 0.14673759043216705\n",
      "epoch: 3, i: 300, loss: 0.03529037907719612\n",
      "epoch: 3, i: 400, loss: 0.0010568499565124512\n",
      "epoch: 3, i: 500, loss: 0.00243397057056427\n",
      "epoch: 3, i: 600, loss: 0.006871536374092102\n",
      "epoch: 3, i: 700, loss: 0.06710010021924973\n",
      "epoch: 3, i: 800, loss: 0.04383556544780731\n",
      "epoch: 3, i: 900, loss: 0.006690867245197296\n",
      "training set last batch acc: 96.875\n",
      "\n",
      "Test set: Average loss: 0.0327, Accuracy: 9895/10000 (98.95%)\n",
      "\n",
      "epoch: 4, i: 0, loss: 0.0013402998447418213\n",
      "epoch: 4, i: 100, loss: 0.08815354853868484\n",
      "epoch: 4, i: 200, loss: 0.00019412487745285034\n",
      "epoch: 4, i: 300, loss: 0.0006169378757476807\n",
      "epoch: 4, i: 400, loss: 0.013448350131511688\n",
      "epoch: 4, i: 500, loss: 0.046293362975120544\n",
      "epoch: 4, i: 600, loss: 0.0023791566491127014\n",
      "epoch: 4, i: 700, loss: 0.0034731924533843994\n",
      "epoch: 4, i: 800, loss: 0.03202854096889496\n",
      "epoch: 4, i: 900, loss: 0.011304602026939392\n",
      "training set last batch acc: 100.0\n",
      "\n",
      "Test set: Average loss: 0.0442, Accuracy: 9883/10000 (98.83%)\n",
      "\n",
      "epoch: 5, i: 0, loss: 0.0006612539291381836\n",
      "epoch: 5, i: 100, loss: 0.00011389702558517456\n",
      "epoch: 5, i: 200, loss: 0.0040238648653030396\n",
      "epoch: 5, i: 300, loss: 0.02215755730867386\n",
      "epoch: 5, i: 400, loss: 0.000670410692691803\n",
      "epoch: 5, i: 500, loss: 0.0718480795621872\n",
      "epoch: 5, i: 600, loss: 0.05186961218714714\n",
      "epoch: 5, i: 700, loss: 0.02017270401120186\n",
      "epoch: 5, i: 800, loss: 0.00342492014169693\n",
      "epoch: 5, i: 900, loss: 0.0022073686122894287\n",
      "training set last batch acc: 100.0\n",
      "\n",
      "Test set: Average loss: 0.0324, Accuracy: 9903/10000 (99.03%)\n",
      "\n",
      "epoch: 6, i: 0, loss: 0.00527556985616684\n",
      "epoch: 6, i: 100, loss: 0.000591084361076355\n",
      "epoch: 6, i: 200, loss: 3.9987266063690186e-05\n",
      "epoch: 6, i: 300, loss: 0.0004075169563293457\n",
      "epoch: 6, i: 400, loss: 0.000750318169593811\n",
      "epoch: 6, i: 500, loss: 0.005287699401378632\n",
      "epoch: 6, i: 600, loss: 0.0012946277856826782\n",
      "epoch: 6, i: 700, loss: 0.15204723179340363\n",
      "epoch: 6, i: 800, loss: 0.0005341172218322754\n",
      "epoch: 6, i: 900, loss: 0.0033303461968898773\n",
      "training set last batch acc: 100.0\n",
      "\n",
      "Test set: Average loss: 0.0490, Accuracy: 9877/10000 (98.77%)\n",
      "\n",
      "epoch: 7, i: 0, loss: 0.03274552524089813\n",
      "epoch: 7, i: 100, loss: 0.0004099905490875244\n",
      "epoch: 7, i: 200, loss: 0.0734390839934349\n",
      "epoch: 7, i: 300, loss: 0.012547358870506287\n",
      "epoch: 7, i: 400, loss: 0.00043005868792533875\n",
      "epoch: 7, i: 500, loss: 0.010803841054439545\n",
      "epoch: 7, i: 600, loss: 0.0006290674209594727\n",
      "epoch: 7, i: 700, loss: 0.03208141773939133\n",
      "epoch: 7, i: 800, loss: 0.003847222775220871\n",
      "epoch: 7, i: 900, loss: 0.08475497364997864\n",
      "training set last batch acc: 100.0\n",
      "\n",
      "Test set: Average loss: 0.0467, Accuracy: 9892/10000 (98.92%)\n",
      "\n",
      "epoch: 8, i: 0, loss: 0.0030396655201911926\n",
      "epoch: 8, i: 100, loss: 0.01942088082432747\n",
      "epoch: 8, i: 200, loss: 0.07686994969844818\n",
      "epoch: 8, i: 300, loss: 0.0008283704519271851\n",
      "epoch: 8, i: 400, loss: 0.0005277097225189209\n",
      "epoch: 8, i: 500, loss: 0.016571320593357086\n",
      "epoch: 8, i: 600, loss: 1.2181699275970459e-05\n",
      "epoch: 8, i: 700, loss: 0.0005985796451568604\n",
      "epoch: 8, i: 800, loss: 0.0002901330590248108\n",
      "epoch: 8, i: 900, loss: 0.003129785880446434\n",
      "training set last batch acc: 100.0\n",
      "\n",
      "Test set: Average loss: 0.0399, Accuracy: 9902/10000 (99.02%)\n",
      "\n",
      "epoch: 9, i: 0, loss: 0.0001906752586364746\n",
      "epoch: 9, i: 100, loss: 0.0002160593867301941\n",
      "epoch: 9, i: 200, loss: 0.0005931034684181213\n",
      "epoch: 9, i: 300, loss: 0.059489425271749496\n",
      "epoch: 9, i: 400, loss: 0.004599094856530428\n",
      "epoch: 9, i: 500, loss: 0.002160601317882538\n",
      "epoch: 9, i: 600, loss: 0.0007951259613037109\n",
      "epoch: 9, i: 700, loss: 0.0007240697741508484\n",
      "epoch: 9, i: 800, loss: 0.04883335530757904\n",
      "epoch: 9, i: 900, loss: 4.9464404582977295e-05\n",
      "training set last batch acc: 96.875\n",
      "\n",
      "Test set: Average loss: 0.0570, Accuracy: 9875/10000 (98.75%)\n",
      "\n"
     ]
    },
    {
     "data": {
      "text/plain": [
       "[<matplotlib.lines.Line2D at 0x7fa9919a3828>]"
      ]
     },
     "execution_count": 53,
     "metadata": {},
     "output_type": "execute_result"
    },
    {
     "data": {
      "image/png": "[encoded data removed]",
      "text/plain": [
       "<Figure size 432x288 with 1 Axes>"
      ]
     },
     "metadata": {},
     "output_type": "display_data"
    }
   ],
   "source": [
    "for epoch in range(10):\n",
    "    train(epoch)\n",
    "    test(epoch)\n",
    "\n",
    "losses = losses[10:]\n",
    "x_data = [i for i in range(len(losses))]\n",
    "plt.plot(x_data, losses)"
   ]
  },
  {
   "cell_type": "code",
   "execution_count": null,
   "metadata": {},
   "outputs": [],
   "source": []
  }
 ],
 "metadata": {
  "kernelspec": {
   "display_name": "conda_pytorch_p36",
   "language": "python",
   "name": "conda_pytorch_p36"
  },
  "language_info": {
   "codemirror_mode": {
    "name": "ipython",
    "version": 3
   },
   "file_extension": ".py",
   "mimetype": "text/x-python",
   "name": "python",
   "nbconvert_exporter": "python",
   "pygments_lexer": "ipython3",
   "version": "3.6.5"
  }
 },
 "nbformat": 4,
 "nbformat_minor": 2
}
