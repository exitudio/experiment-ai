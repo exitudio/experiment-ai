{
 "cells": [
  {
   "cell_type": "markdown",
   "metadata": {},
   "source": [
    "list of techniques [here](https://blog.floydhub.com/ten-techniques-from-fast-ai/)\n",
    "\n",
    "TODO\n",
    "- learning rate diff each layer\n",
    "- freeze layer\n",
    "- data loader wrapper"
   ]
  },
  {
   "cell_type": "code",
   "execution_count": 10,
   "metadata": {},
   "outputs": [],
   "source": [
    "%reload_ext autoreload\n",
    "%autoreload 2\n",
    "import torch\n",
    "import torchvision.datasets as datasets\n",
    "from torch.utils.data import DataLoader, Dataset\n",
    "import torch.nn as nn\n",
    "import torch.nn.functional as F\n",
    "from torch import optim\n",
    "from torchvision import transforms\n",
    "import torchvision\n",
    "import copy\n",
    "\n",
    "%matplotlib inline\n",
    "import matplotlib.pyplot as plt"
   ]
  },
  {
   "cell_type": "code",
   "execution_count": 2,
   "metadata": {},
   "outputs": [
    {
     "data": {
      "text/plain": [
       "<torch._C.Generator at 0x10ad49b10>"
      ]
     },
     "execution_count": 2,
     "metadata": {},
     "output_type": "execute_result"
    }
   ],
   "source": [
    "device = torch.device(\"cuda\" if torch.cuda.is_available() else \"cpu\")\n",
    "torch.manual_seed(1)"
   ]
  },
  {
   "cell_type": "code",
   "execution_count": 3,
   "metadata": {},
   "outputs": [],
   "source": [
    "transform = transforms.Compose([\n",
    "#                                    transforms.RandomAffine(15, scale=(.9,1.2)),\n",
    "                                   transforms.ToTensor(),\n",
    "                                   transforms.Normalize((0.5,), (1,))\n",
    "                               ])\n",
    "# mnist_trainset = datasets.CIFAR10(root='./data', train=True, download=True, transform=transform)\n",
    "# mnist_testset = datasets.CIFAR10(root='./data', train=False, download=False, transform=transform)\n",
    "# data_loader_train = DataLoader(mnist_trainset, 64, shuffle=True, num_workers=8)\n",
    "# data_loader_test = DataLoader(mnist_testset, 64, shuffle=True, num_workers=8)"
   ]
  },
  {
   "cell_type": "code",
   "execution_count": 4,
   "metadata": {},
   "outputs": [
    {
     "name": "stdout",
     "output_type": "stream",
     "text": [
      "Files already downloaded and verified\n"
     ]
    }
   ],
   "source": [
    "temp_raw_data_set = datasets.CIFAR10(root='./data', train=False, download=True, transform=transform)\n",
    "class TempDataSet(Dataset):\n",
    "    def __getitem__(self, index):\n",
    "        return temp_raw_data_set[index]\n",
    "    def __len__(self):\n",
    "        return 6\n",
    "temp_data_set = TempDataSet()\n",
    "data_loader_train = DataLoader(temp_data_set, 3, shuffle=True, num_workers=8)\n",
    "data_loader_test = DataLoader(temp_data_set, 3, shuffle=True, num_workers=8)"
   ]
  },
  {
   "cell_type": "code",
   "execution_count": 5,
   "metadata": {},
   "outputs": [],
   "source": [
    "import RestNet\n",
    "model = RestNet.ResNet18().to(device)\n",
    "criterion = F.cross_entropy"
   ]
  },
  {
   "cell_type": "code",
   "execution_count": 52,
   "metadata": {},
   "outputs": [],
   "source": [
    "# model = torchvision.models.resnet18(pretrained=True)\n",
    "# num_ftrs = model.fc.in_features\n",
    "# model.fc = nn.Linear(num_ftrs, 10)\n",
    "# model = model.to(device)"
   ]
  },
  {
   "cell_type": "markdown",
   "metadata": {},
   "source": [
    "### Learning Rates [Choose one]\n",
    "1. Different LR [worse] (maybe we have to use log scale)"
   ]
  },
  {
   "cell_type": "code",
   "execution_count": 60,
   "metadata": {},
   "outputs": [],
   "source": [
    "lr = 0.001\n",
    "num_children = len([c for c in model.children()])\n",
    "param_groups = []\n",
    "for i, child in enumerate(model.children()):\n",
    "    denorm = num_children-i\n",
    "    param_groups.append({\n",
    "        'params': child.parameters(), 'lr': lr/denorm\n",
    "    })\n",
    "optimizer = optim.Adam(param_groups, lr=0.001, weight_decay=0.0) #weight_decay (L2 regularization) makes thing worse"
   ]
  },
  {
   "cell_type": "code",
   "execution_count": 61,
   "metadata": {},
   "outputs": [
    {
     "name": "stdout",
     "output_type": "stream",
     "text": [
      "0.00014285714285714287\n",
      "0.00016666666666666666\n",
      "0.0002\n",
      "0.00025\n",
      "0.0003333333333333333\n",
      "0.0005\n",
      "0.001\n"
     ]
    }
   ],
   "source": [
    "for param_group in optimizer.param_groups:\n",
    "    print(param_group['lr'])"
   ]
  },
  {
   "cell_type": "markdown",
   "metadata": {},
   "source": [
    "2. Static Learning Rate"
   ]
  },
  {
   "cell_type": "code",
   "execution_count": 76,
   "metadata": {},
   "outputs": [],
   "source": [
    "optimizer = optim.Adam(model.parameters(), lr=0.001)"
   ]
  },
  {
   "cell_type": "markdown",
   "metadata": {},
   "source": [
    "### Train"
   ]
  },
  {
   "cell_type": "code",
   "execution_count": 80,
   "metadata": {},
   "outputs": [
    {
     "name": "stdout",
     "output_type": "stream",
     "text": [
      "---- epoch:0 ------\n",
      "   [train] Average loss: 0.1066, acc: 100.00%\n",
      "   [test] Average loss: 0.0073, acc: 100.00%\n",
      "---- epoch:1 ------\n",
      "   [train] Average loss: 0.0197, acc: 100.00%\n",
      "   [test] Average loss: 0.0086, acc: 100.00%\n",
      "---- epoch:2 ------\n",
      "   [train] Average loss: 0.0090, acc: 100.00%\n",
      "   [test] Average loss: 0.0081, acc: 100.00%\n",
      "---- epoch:3 ------\n",
      "   [train] Average loss: 0.0025, acc: 100.00%\n",
      "   [test] Average loss: 0.0066, acc: 100.00%\n",
      "---- epoch:4 ------\n",
      "   [train] Average loss: 0.2988, acc: 100.00%\n",
      "   [test] Average loss: 0.0094, acc: 100.00%\n",
      "---- epoch:5 ------\n",
      "   [train] Average loss: 0.0019, acc: 100.00%\n",
      "   [test] Average loss: 0.0080, acc: 100.00%\n",
      "---- epoch:6 ------\n",
      "   [train] Average loss: 0.8034, acc: 100.00%\n",
      "   [test] Average loss: 0.0018, acc: 100.00%\n",
      "---- epoch:7 ------\n",
      "   [train] Average loss: 0.0076, acc: 100.00%\n",
      "   [test] Average loss: 0.0555, acc: 100.00%\n",
      "---- epoch:8 ------\n",
      "   [train] Average loss: 0.0276, acc: 100.00%\n",
      "   [test] Average loss: 0.4678, acc: 100.00%\n",
      "---- epoch:9 ------\n",
      "   [train] Average loss: 0.7708, acc: 100.00%\n",
      "   [test] Average loss: 0.0244, acc: 100.00%\n",
      "---- epoch:10 ------\n",
      "   [train] Average loss: 2.2913, acc: 100.00%\n",
      "   [test] Average loss: 0.0082, acc: 100.00%\n",
      "---- epoch:11 ------\n",
      "   [train] Average loss: 1.4219, acc: 100.00%\n",
      "   [test] Average loss: 0.0048, acc: 100.00%\n",
      "---- epoch:12 ------\n",
      "   [train] Average loss: 0.2948, acc: 100.00%\n",
      "   [test] Average loss: 0.0024, acc: 100.00%\n",
      "---- epoch:13 ------\n",
      "   [train] Average loss: 0.0016, acc: 100.00%\n",
      "   [test] Average loss: 0.0017, acc: 100.00%\n",
      "---- epoch:14 ------\n",
      "   [train] Average loss: 0.0067, acc: 100.00%\n",
      "   [test] Average loss: 0.0005, acc: 100.00%\n",
      "---- epoch:15 ------\n",
      "   [train] Average loss: 0.0027, acc: 100.00%\n",
      "   [test] Average loss: 0.0002, acc: 100.00%\n",
      "---- epoch:16 ------\n",
      "   [train] Average loss: 0.0301, acc: 100.00%\n",
      "   [test] Average loss: 0.0003, acc: 100.00%\n",
      "---- epoch:17 ------\n",
      "   [train] Average loss: 0.3479, acc: 100.00%\n",
      "   [test] Average loss: 0.0007, acc: 100.00%\n",
      "---- epoch:18 ------\n",
      "   [train] Average loss: 0.0299, acc: 100.00%\n",
      "   [test] Average loss: 0.0020, acc: 100.00%\n",
      "---- epoch:19 ------\n",
      "   [train] Average loss: 0.1393, acc: 100.00%\n",
      "   [test] Average loss: 0.0043, acc: 100.00%\n",
      "---- epoch:20 ------\n",
      "   [train] Average loss: 0.4961, acc: 100.00%\n",
      "   [test] Average loss: 0.0048, acc: 100.00%\n",
      "---- epoch:21 ------\n",
      "   [train] Average loss: 0.2156, acc: 100.00%\n",
      "   [test] Average loss: 0.0058, acc: 100.00%\n",
      "---- epoch:22 ------\n",
      "   [train] Average loss: 0.0078, acc: 100.00%\n",
      "   [test] Average loss: 0.0073, acc: 100.00%\n",
      "---- epoch:23 ------\n",
      "   [train] Average loss: 0.0060, acc: 100.00%\n",
      "   [test] Average loss: 0.0090, acc: 100.00%\n",
      "---- epoch:24 ------\n",
      "   [train] Average loss: 0.0055, acc: 100.00%\n",
      "   [test] Average loss: 0.0118, acc: 100.00%\n",
      "---- epoch:25 ------\n",
      "   [train] Average loss: 0.0211, acc: 100.00%\n",
      "   [test] Average loss: 0.0139, acc: 100.00%\n",
      "---- epoch:26 ------\n",
      "   [train] Average loss: 1.4346, acc: 100.00%\n",
      "   [test] Average loss: 0.0127, acc: 100.00%\n",
      "---- epoch:27 ------\n",
      "   [train] Average loss: 0.2363, acc: 100.00%\n",
      "   [test] Average loss: 0.0114, acc: 100.00%\n",
      "---- epoch:28 ------\n",
      "   [train] Average loss: 0.4028, acc: 100.00%\n",
      "   [test] Average loss: 0.0113, acc: 100.00%\n",
      "---- epoch:29 ------\n",
      "   [train] Average loss: 0.0181, acc: 100.00%\n",
      "   [test] Average loss: 0.0125, acc: 100.00%\n",
      "---- epoch:30 ------\n",
      "   [train] Average loss: 0.0146, acc: 100.00%\n",
      "   [test] Average loss: 0.0028, acc: 100.00%\n",
      "---- epoch:31 ------\n",
      "   [train] Average loss: 0.1213, acc: 100.00%\n",
      "   [test] Average loss: 0.0010, acc: 100.00%\n",
      "---- epoch:32 ------\n",
      "   [train] Average loss: 0.0016, acc: 100.00%\n",
      "   [test] Average loss: 0.0006, acc: 100.00%\n",
      "---- epoch:33 ------\n",
      "   [train] Average loss: 0.0056, acc: 100.00%\n",
      "   [test] Average loss: 0.0008, acc: 100.00%\n",
      "---- epoch:34 ------\n",
      "   [train] Average loss: 0.0012, acc: 100.00%\n",
      "   [test] Average loss: 0.0011, acc: 100.00%\n",
      "---- epoch:35 ------\n",
      "   [train] Average loss: 0.0869, acc: 100.00%\n",
      "   [test] Average loss: 0.0009, acc: 100.00%\n",
      "---- epoch:36 ------\n",
      "   [train] Average loss: 0.0397, acc: 100.00%\n",
      "   [test] Average loss: 0.0008, acc: 100.00%\n",
      "---- epoch:37 ------\n",
      "   [train] Average loss: 0.0064, acc: 100.00%\n",
      "   [test] Average loss: 0.0008, acc: 100.00%\n",
      "---- epoch:38 ------\n",
      "   [train] Average loss: 0.0110, acc: 100.00%\n",
      "   [test] Average loss: 0.0008, acc: 100.00%\n",
      "---- epoch:39 ------\n",
      "   [train] Average loss: 0.0105, acc: 100.00%\n",
      "   [test] Average loss: 0.0006, acc: 100.00%\n",
      "---- epoch:40 ------\n",
      "   [train] Average loss: 0.0020, acc: 100.00%\n",
      "   [test] Average loss: 0.0006, acc: 100.00%\n",
      "---- epoch:41 ------\n",
      "   [train] Average loss: 0.0013, acc: 100.00%\n",
      "   [test] Average loss: 0.0006, acc: 100.00%\n",
      "---- epoch:42 ------\n",
      "   [train] Average loss: 0.0089, acc: 100.00%\n",
      "   [test] Average loss: 0.0005, acc: 100.00%\n",
      "---- epoch:43 ------\n",
      "   [train] Average loss: 0.0215, acc: 100.00%\n",
      "   [test] Average loss: 0.0005, acc: 100.00%\n",
      "---- epoch:44 ------\n",
      "   [train] Average loss: 0.0014, acc: 100.00%\n",
      "   [test] Average loss: 0.0005, acc: 100.00%\n",
      "---- epoch:45 ------\n",
      "   [train] Average loss: 0.0054, acc: 100.00%\n",
      "   [test] Average loss: 0.0004, acc: 100.00%\n",
      "---- epoch:46 ------\n",
      "   [train] Average loss: 0.0078, acc: 100.00%\n",
      "   [test] Average loss: 0.0004, acc: 100.00%\n",
      "---- epoch:47 ------\n",
      "   [train] Average loss: 0.0007, acc: 100.00%\n",
      "   [test] Average loss: 0.0003, acc: 100.00%\n",
      "---- epoch:48 ------\n",
      "   [train] Average loss: 0.0064, acc: 100.00%\n",
      "   [test] Average loss: 0.0003, acc: 100.00%\n",
      "---- epoch:49 ------\n",
      "   [train] Average loss: 0.0006, acc: 100.00%\n",
      "   [test] Average loss: 0.0003, acc: 100.00%\n"
     ]
    },
    {
     "data": {
      "image/png": "[encoded data removed]",
      "text/plain": [
       "<Figure size 432x288 with 1 Axes>"
      ]
     },
     "metadata": {},
     "output_type": "display_data"
    }
   ],
   "source": [
    "from exitai.learner import Learner\n",
    "learner = Learner(data_loader_train, data_loader_test, model, criterion)\n",
    "\n",
    "# test\n",
    "learner.fit(0.003, 50)\n",
    "# learner.lr_find(1e-4, 1, 2)"
   ]
  },
  {
   "cell_type": "code",
   "execution_count": null,
   "metadata": {},
   "outputs": [],
   "source": []
  }
 ],
 "metadata": {
  "kernelspec": {
   "display_name": "Python 3",
   "language": "python",
   "name": "python3"
  },
  "language_info": {
   "codemirror_mode": {
    "name": "ipython",
    "version": 3
   },
   "file_extension": ".py",
   "mimetype": "text/x-python",
   "name": "python",
   "nbconvert_exporter": "python",
   "pygments_lexer": "ipython3",
   "version": "3.6.7"
  }
 },
 "nbformat": 4,
 "nbformat_minor": 2
}
