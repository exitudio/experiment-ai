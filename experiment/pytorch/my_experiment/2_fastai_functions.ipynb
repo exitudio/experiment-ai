{
 "cells": [
  {
   "cell_type": "markdown",
   "metadata": {},
   "source": [
    "list of techniques [here](https://blog.floydhub.com/ten-techniques-from-fast-ai/)\n",
    "\n",
    "TODO\n",
    "- learning rate diff each layer\n",
    "- freeze layer\n",
    "- data loader wrapper"
   ]
  },
  {
   "cell_type": "code",
   "execution_count": 1,
   "metadata": {},
   "outputs": [],
   "source": [
    "%reload_ext autoreload\n",
    "%autoreload 2\n",
    "import torch\n",
    "import torchvision.datasets as datasets\n",
    "from torch.utils.data import DataLoader, Dataset\n",
    "import torch.nn as nn\n",
    "import torch.nn.functional as F\n",
    "from torch import optim\n",
    "from torchvision import transforms\n",
    "import torchvision\n",
    "import copy\n",
    "\n",
    "%matplotlib inline\n",
    "import matplotlib.pyplot as plt"
   ]
  },
  {
   "cell_type": "code",
   "execution_count": 2,
   "metadata": {},
   "outputs": [
    {
     "data": {
      "text/plain": [
       "<torch._C.Generator at 0x105e55db0>"
      ]
     },
     "execution_count": 2,
     "metadata": {},
     "output_type": "execute_result"
    }
   ],
   "source": [
    "device = torch.device(\"cuda\" if torch.cuda.is_available() else \"cpu\")\n",
    "torch.manual_seed(1)"
   ]
  },
  {
   "cell_type": "code",
   "execution_count": 3,
   "metadata": {},
   "outputs": [],
   "source": [
    "transform = transforms.Compose([\n",
    "#                                    transforms.RandomAffine(15, scale=(.9,1.2)),\n",
    "                                   transforms.ToTensor(),\n",
    "                                   transforms.Normalize((0.5,), (1,))\n",
    "                               ])\n",
    "# mnist_trainset = datasets.CIFAR10(root='./data', train=True, download=True, transform=transform)\n",
    "# mnist_testset = datasets.CIFAR10(root='./data', train=False, download=False, transform=transform)\n",
    "# data_loader_train = DataLoader(mnist_trainset, 64, shuffle=True, num_workers=8)\n",
    "# data_loader_test = DataLoader(mnist_testset, 64, shuffle=True, num_workers=8)"
   ]
  },
  {
   "cell_type": "code",
   "execution_count": 4,
   "metadata": {},
   "outputs": [
    {
     "name": "stdout",
     "output_type": "stream",
     "text": [
      "Files already downloaded and verified\n"
     ]
    }
   ],
   "source": [
    "temp_raw_data_set = datasets.CIFAR10(root='./data', train=False, download=True, transform=transform)\n",
    "class TempDataSet(Dataset):\n",
    "    def __getitem__(self, index):\n",
    "        return temp_raw_data_set[index]\n",
    "    def __len__(self):\n",
    "        return 6\n",
    "temp_data_set = TempDataSet()\n",
    "data_loader_train = DataLoader(temp_data_set, 3, shuffle=True, num_workers=8)\n",
    "data_loader_test = DataLoader(temp_data_set, 3, shuffle=True, num_workers=8)"
   ]
  },
  {
   "cell_type": "code",
   "execution_count": 5,
   "metadata": {},
   "outputs": [],
   "source": [
    "import RestNet\n",
    "model = RestNet.ResNet18().to(device)\n",
    "criterion = F.cross_entropy"
   ]
  },
  {
   "cell_type": "code",
   "execution_count": 6,
   "metadata": {},
   "outputs": [],
   "source": [
    "# model = torchvision.models.resnet18(pretrained=True)\n",
    "# num_ftrs = model.fc.in_features\n",
    "# model.fc = nn.Linear(num_ftrs, 10)\n",
    "# model = model.to(device)"
   ]
  },
  {
   "cell_type": "markdown",
   "metadata": {},
   "source": [
    "### Learning Rates [Choose one]\n",
    "1. Different LR [worse] (maybe we have to use log scale)"
   ]
  },
  {
   "cell_type": "code",
   "execution_count": 7,
   "metadata": {},
   "outputs": [],
   "source": [
    "lr = 0.001\n",
    "num_children = len([c for c in model.children()])\n",
    "param_groups = []\n",
    "for i, child in enumerate(model.children()):\n",
    "    denorm = num_children-i\n",
    "    param_groups.append({\n",
    "        'params': child.parameters(), 'lr': lr/denorm\n",
    "    })\n",
    "optimizer = optim.Adam(param_groups, lr=0.001, weight_decay=0.0) #weight_decay (L2 regularization) makes thing worse"
   ]
  },
  {
   "cell_type": "code",
   "execution_count": 8,
   "metadata": {},
   "outputs": [
    {
     "name": "stdout",
     "output_type": "stream",
     "text": [
      "0.00014285714285714287\n",
      "0.00016666666666666666\n",
      "0.0002\n",
      "0.00025\n",
      "0.0003333333333333333\n",
      "0.0005\n",
      "0.001\n"
     ]
    }
   ],
   "source": [
    "for param_group in optimizer.param_groups:\n",
    "    print(param_group['lr'])"
   ]
  },
  {
   "cell_type": "markdown",
   "metadata": {},
   "source": [
    "2. Static Learning Rate"
   ]
  },
  {
   "cell_type": "code",
   "execution_count": 9,
   "metadata": {},
   "outputs": [],
   "source": [
    "optimizer = optim.Adam(model.parameters(), lr=0.001)"
   ]
  },
  {
   "cell_type": "markdown",
   "metadata": {},
   "source": [
    "### Train"
   ]
  },
  {
   "cell_type": "code",
   "execution_count": 16,
   "metadata": {},
   "outputs": [
    {
     "name": "stdout",
     "output_type": "stream",
     "text": [
      "b\n",
      "---- epoch:0 ------\n",
      "   [train] Average loss: 4.6791, acc: 100.00%\n",
      "   [test] Average loss: 257.7377, acc: 83.33%\n",
      "---- epoch:1 ------\n",
      "   [train] Average loss: 2.0920, acc: 100.00%\n",
      "   [test] Average loss: 248.8338, acc: 66.67%\n",
      "---- epoch:2 ------\n",
      "   [train] Average loss: 1.5576, acc: 100.00%\n",
      "   [test] Average loss: 156.7691, acc: 66.67%\n",
      "---- epoch:3 ------\n",
      "   [train] Average loss: 12.5802, acc: 83.33%\n",
      "   [test] Average loss: 13.6559, acc: 83.33%\n",
      "---- epoch:4 ------\n",
      "   [train] Average loss: 9.2837, acc: 83.33%\n",
      "   [test] Average loss: 0.1285, acc: 100.00%\n"
     ]
    },
    {
     "data": {
      "image/png": "[encoded data removed]",
      "text/plain": [
       "<Figure size 432x288 with 1 Axes>"
      ]
     },
     "metadata": {},
     "output_type": "display_data"
    }
   ],
   "source": [
    "from exitai.learner import Learner\n",
    "learner = Learner(data_loader_train, data_loader_test, model, criterion)\n",
    "\n",
    "# test\n",
    "learner.fit(0.003, 5, 0)\n",
    "# learner.lr_find(1e-4, 1, 2)"
   ]
  },
  {
   "cell_type": "code",
   "execution_count": 17,
   "metadata": {},
   "outputs": [
    {
     "name": "stdout",
     "output_type": "stream",
     "text": [
      "---- epoch:0 ------\n",
      "   [train] Average loss: 63.8604, acc: 33.33%\n",
      "   [test] Average loss: 0.5900, acc: 100.00%\n",
      "---- epoch:1 ------\n",
      "   [train] Average loss: 14.2752, acc: 83.33%\n",
      "   [test] Average loss: 1.2200, acc: 100.00%\n",
      "---- epoch:2 ------\n",
      "   [train] Average loss: 108.7035, acc: 50.00%\n",
      "   [test] Average loss: 88.9815, acc: 83.33%\n",
      "---- epoch:3 ------\n",
      "   [train] Average loss: 9.3211, acc: 83.33%\n",
      "   [test] Average loss: 126.0506, acc: 50.00%\n",
      "---- epoch:4 ------\n",
      "   [train] Average loss: 3.9441, acc: 100.00%\n",
      "   [test] Average loss: 157.8553, acc: 50.00%\n"
     ]
    },
    {
     "data": {
      "image/png": "[encoded data removed]",
      "text/plain": [
       "<Figure size 432x288 with 1 Axes>"
      ]
     },
     "metadata": {},
     "output_type": "display_data"
    }
   ],
   "source": [
    "learner.fit(0.003, 5, 2)"
   ]
  },
  {
   "cell_type": "code",
   "execution_count": null,
   "metadata": {},
   "outputs": [],
   "source": []
  }
 ],
 "metadata": {
  "kernelspec": {
   "display_name": "Python 3",
   "language": "python",
   "name": "python3"
  },
  "language_info": {
   "codemirror_mode": {
    "name": "ipython",
    "version": 3
   },
   "file_extension": ".py",
   "mimetype": "text/x-python",
   "name": "python",
   "nbconvert_exporter": "python",
   "pygments_lexer": "ipython3",
   "version": "3.6.7"
  }
 },
 "nbformat": 4,
 "nbformat_minor": 2
}
