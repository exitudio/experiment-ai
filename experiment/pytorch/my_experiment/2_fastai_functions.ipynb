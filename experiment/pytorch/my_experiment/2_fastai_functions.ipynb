{
 "cells": [
  {
   "cell_type": "code",
   "execution_count": 1,
   "metadata": {},
   "outputs": [],
   "source": [
    "import torch\n",
    "import torchvision.datasets as datasets\n",
    "from torch.utils.data import DataLoader, Dataset\n",
    "import torch.nn as nn\n",
    "import torch.nn.functional as F\n",
    "from torch import optim\n",
    "from torchvision import transforms\n",
    "import torchvision\n",
    "import copy\n",
    "\n",
    "%matplotlib inline\n",
    "import matplotlib.pyplot as plt"
   ]
  },
  {
   "cell_type": "code",
   "execution_count": 3,
   "metadata": {},
   "outputs": [
    {
     "data": {
      "text/plain": [
       "<torch._C.Generator at 0x7fb6c1fc4ed0>"
      ]
     },
     "execution_count": 3,
     "metadata": {},
     "output_type": "execute_result"
    }
   ],
   "source": [
    "device = torch.device(\"cuda\" if torch.cuda.is_available() else \"cpu\")\n",
    "torch.manual_seed(1)"
   ]
  },
  {
   "cell_type": "code",
   "execution_count": 4,
   "metadata": {},
   "outputs": [
    {
     "name": "stdout",
     "output_type": "stream",
     "text": [
      "Files already downloaded and verified\n"
     ]
    }
   ],
   "source": [
    "transform = transforms.Compose([\n",
    "                                   transforms.ToTensor(),\n",
    "                                   transforms.Normalize((0.5,), (1,))\n",
    "                               ])\n",
    "mnist_trainset = datasets.CIFAR10(root='./data', train=True, download=True, transform=transform)\n",
    "mnist_testset = datasets.CIFAR10(root='./data', train=False, download=False, transform=transform)\n",
    "data_loader_train = DataLoader(mnist_trainset, 64, shuffle=True, num_workers=8)\n",
    "data_loader_test = DataLoader(mnist_testset, 64, shuffle=True, num_workers=8)"
   ]
  },
  {
   "cell_type": "code",
   "execution_count": 16,
   "metadata": {},
   "outputs": [],
   "source": [
    "import RestNet\n",
    "model = RestNet.ResNet18().to(device)\n",
    "criterion = F.cross_entropy"
   ]
  },
  {
   "cell_type": "code",
   "execution_count": 52,
   "metadata": {},
   "outputs": [],
   "source": [
    "# model = torchvision.models.resnet18(pretrained=True)\n",
    "# num_ftrs = model.fc.in_features\n",
    "# model.fc = nn.Linear(num_ftrs, 10)\n",
    "# model = model.to(device)"
   ]
  },
  {
   "cell_type": "markdown",
   "metadata": {},
   "source": [
    "### Find learning rate"
   ]
  },
  {
   "cell_type": "code",
   "execution_count": 9,
   "metadata": {},
   "outputs": [
    {
     "data": {
      "text/plain": [
       "[<matplotlib.lines.Line2D at 0x7fa7b64d1ac8>]"
      ]
     },
     "execution_count": 9,
     "metadata": {},
     "output_type": "execute_result"
    },
    {
     "data": {
      "image/png": "[encoded data removed]",
      "text/plain": [
       "<Figure size 432x288 with 1 Axes>"
      ]
     },
     "metadata": {},
     "output_type": "display_data"
    }
   ],
   "source": [
    "import math\n",
    "lrs = []\n",
    "for i in [x for x in range(300)]:\n",
    "    lr = math.pow(1.1, i/3) / 10000\n",
    "    lrs.append(lr)\n",
    "plt.plot(lrs)"
   ]
  },
  {
   "cell_type": "code",
   "execution_count": 17,
   "metadata": {},
   "outputs": [
    {
     "data": {
      "text/plain": [
       "[<matplotlib.lines.Line2D at 0x7fa80823aba8>]"
      ]
     },
     "execution_count": 17,
     "metadata": {},
     "output_type": "execute_result"
    },
    {
     "data": {
      "image/png": "[encoded data removed]",
      "text/plain": [
       "<Figure size 432x288 with 1 Axes>"
      ]
     },
     "metadata": {},
     "output_type": "display_data"
    }
   ],
   "source": [
    "optimizer = optim.Adam(model.parameters(), lr=0.001)\n",
    "losses = []\n",
    "model.train()\n",
    "def is_running():\n",
    "    return len(losses) < len(lrs)\n",
    "count = 0\n",
    "batch_num = 10\n",
    "while is_running():\n",
    "    for i, (data, target) in enumerate(data_loader_train):\n",
    "        if count == 0:\n",
    "            loss_accumulate = 0\n",
    "            for param_group in optimizer.param_groups:\n",
    "                param_group['lr'] = lrs[len(losses)]\n",
    "\n",
    "        data, target = data.to(device), target.to(device)\n",
    "        output = model(data)\n",
    "        loss = criterion(output, target)\n",
    "        loss_accumulate += loss.item()\n",
    "        optimizer.zero_grad()\n",
    "        loss.backward()\n",
    "        optimizer.step()\n",
    "        if count == batch_num:\n",
    "            losses.append(loss_accumulate/batch_num)\n",
    "            count = -1\n",
    "        if not is_running(): break\n",
    "        count += 1\n",
    "        \n",
    "plt.semilogx(lrs, losses)"
   ]
  },
  {
   "cell_type": "markdown",
   "metadata": {},
   "source": [
    "### Learning Rates [Choose one]\n",
    "1. Different LR [worse] (maybe we have to use log scale)"
   ]
  },
  {
   "cell_type": "code",
   "execution_count": 60,
   "metadata": {},
   "outputs": [],
   "source": [
    "lr = 0.001\n",
    "num_children = len([c for c in model.children()])\n",
    "param_groups = []\n",
    "for i, child in enumerate(model.children()):\n",
    "    denorm = num_children-i\n",
    "    param_groups.append({\n",
    "        'params': child.parameters(), 'lr': lr/denorm\n",
    "    })\n",
    "optimizer = optim.Adam(param_groups, lr=0.001, weight_decay=0.0) #weight_decay (L2 regularization) makes thing worse"
   ]
  },
  {
   "cell_type": "code",
   "execution_count": 61,
   "metadata": {},
   "outputs": [
    {
     "name": "stdout",
     "output_type": "stream",
     "text": [
      "0.00014285714285714287\n",
      "0.00016666666666666666\n",
      "0.0002\n",
      "0.00025\n",
      "0.0003333333333333333\n",
      "0.0005\n",
      "0.001\n"
     ]
    }
   ],
   "source": [
    "for param_group in optimizer.param_groups:\n",
    "    print(param_group['lr'])"
   ]
  },
  {
   "cell_type": "markdown",
   "metadata": {},
   "source": [
    "2. Static Learning Rate"
   ]
  },
  {
   "cell_type": "code",
   "execution_count": 65,
   "metadata": {},
   "outputs": [],
   "source": [
    "optimizer = optim.Adam(model.parameters(), lr=0.001)"
   ]
  },
  {
   "cell_type": "markdown",
   "metadata": {},
   "source": [
    "### Train"
   ]
  },
  {
   "cell_type": "code",
   "execution_count": 62,
   "metadata": {},
   "outputs": [],
   "source": [
    "def get_num_correct(output, target):\n",
    "    # max of dimension 1, keepdim, and [0] is value / [1] is index (we need only index)\n",
    "    pred = output.max(1, keepdim=True)[1] # get the index of the max log-probability\n",
    "    correct = pred.eq(target.view_as(pred)).sum().item()\n",
    "    return correct"
   ]
  },
  {
   "cell_type": "code",
   "execution_count": 66,
   "metadata": {},
   "outputs": [
    {
     "name": "stdout",
     "output_type": "stream",
     "text": [
      "epoch: 0, i: 0, loss: 2.3027286529541016\n",
      "epoch: 0, i: 100, loss: 1.5100959539413452\n",
      "epoch: 0, i: 200, loss: 1.3491932153701782\n",
      "epoch: 0, i: 300, loss: 1.179503321647644\n",
      "epoch: 0, i: 400, loss: 1.1511296033859253\n",
      "epoch: 0, i: 500, loss: 1.4289417266845703\n",
      "epoch: 0, i: 600, loss: 1.0257619619369507\n",
      "epoch: 0, i: 700, loss: 1.097969889640808\n",
      "training set last batch acc: 62.5\n",
      "\n",
      "Test set: Average loss: -3.2426, Accuracy: 6636/10000 (66.36%)\n",
      "\n",
      "epoch: 1, i: 0, loss: 0.9795337915420532\n",
      "epoch: 1, i: 100, loss: 0.8168318271636963\n",
      "epoch: 1, i: 200, loss: 0.9601441025733948\n",
      "epoch: 1, i: 300, loss: 0.6688312888145447\n",
      "epoch: 1, i: 400, loss: 0.7390273213386536\n",
      "epoch: 1, i: 500, loss: 0.6067075729370117\n",
      "epoch: 1, i: 600, loss: 0.7342526316642761\n",
      "epoch: 1, i: 700, loss: 0.6065990328788757\n",
      "training set last batch acc: 62.5\n",
      "\n",
      "Test set: Average loss: -4.2356, Accuracy: 7674/10000 (76.74%)\n",
      "\n",
      "epoch: 2, i: 0, loss: 0.631231427192688\n",
      "epoch: 2, i: 100, loss: 0.383542001247406\n",
      "epoch: 2, i: 200, loss: 0.435830295085907\n",
      "epoch: 2, i: 300, loss: 0.5189615488052368\n",
      "epoch: 2, i: 400, loss: 0.38336342573165894\n",
      "epoch: 2, i: 500, loss: 0.5724778175354004\n",
      "epoch: 2, i: 600, loss: 0.5389590263366699\n",
      "epoch: 2, i: 700, loss: 0.4707634747028351\n",
      "training set last batch acc: 62.5\n",
      "\n",
      "Test set: Average loss: -4.4928, Accuracy: 7882/10000 (78.82%)\n",
      "\n",
      "epoch: 3, i: 0, loss: 0.43376386165618896\n",
      "epoch: 3, i: 100, loss: 0.5173331499099731\n",
      "epoch: 3, i: 200, loss: 0.38052111864089966\n",
      "epoch: 3, i: 300, loss: 0.6195315718650818\n",
      "epoch: 3, i: 400, loss: 0.7034571170806885\n",
      "epoch: 3, i: 500, loss: 0.4873087704181671\n",
      "epoch: 3, i: 600, loss: 0.5551488995552063\n",
      "epoch: 3, i: 700, loss: 0.5499013066291809\n",
      "training set last batch acc: 75.0\n",
      "\n",
      "Test set: Average loss: -4.8664, Accuracy: 8241/10000 (82.41%)\n",
      "\n",
      "epoch: 4, i: 0, loss: 0.2563418745994568\n",
      "epoch: 4, i: 100, loss: 0.27740922570228577\n",
      "epoch: 4, i: 200, loss: 0.5208228230476379\n",
      "epoch: 4, i: 300, loss: 0.2823456823825836\n",
      "epoch: 4, i: 400, loss: 0.2412426918745041\n",
      "epoch: 4, i: 500, loss: 0.3561515808105469\n",
      "epoch: 4, i: 600, loss: 0.21321512758731842\n",
      "epoch: 4, i: 700, loss: 0.21147200465202332\n",
      "training set last batch acc: 75.0\n",
      "\n",
      "Test set: Average loss: -5.7861, Accuracy: 8255/10000 (82.55%)\n",
      "\n",
      "epoch: 5, i: 0, loss: 0.3511001765727997\n",
      "epoch: 5, i: 100, loss: 0.12018245458602905\n",
      "epoch: 5, i: 200, loss: 0.23545630276203156\n",
      "epoch: 5, i: 300, loss: 0.34146788716316223\n",
      "epoch: 5, i: 400, loss: 0.1862134486436844\n",
      "epoch: 5, i: 500, loss: 0.23997916281223297\n",
      "epoch: 5, i: 600, loss: 0.12821520864963531\n",
      "epoch: 5, i: 700, loss: 0.2853282392024994\n",
      "training set last batch acc: 100.0\n",
      "\n",
      "Test set: Average loss: -5.8944, Accuracy: 8149/10000 (81.49%)\n",
      "\n",
      "epoch: 6, i: 0, loss: 0.31381717324256897\n",
      "epoch: 6, i: 100, loss: 0.1896945983171463\n",
      "epoch: 6, i: 200, loss: 0.08904897421598434\n",
      "epoch: 6, i: 300, loss: 0.377581387758255\n",
      "epoch: 6, i: 400, loss: 0.3582174479961395\n",
      "epoch: 6, i: 500, loss: 0.14912693202495575\n",
      "epoch: 6, i: 600, loss: 0.26278048753738403\n",
      "epoch: 6, i: 700, loss: 0.2378232330083847\n",
      "training set last batch acc: 81.25\n",
      "\n",
      "Test set: Average loss: -6.2155, Accuracy: 8272/10000 (82.72%)\n",
      "\n",
      "epoch: 7, i: 0, loss: 0.13599011301994324\n",
      "epoch: 7, i: 100, loss: 0.0734003558754921\n",
      "epoch: 7, i: 200, loss: 0.11001809686422348\n",
      "epoch: 7, i: 300, loss: 0.14085692167282104\n",
      "epoch: 7, i: 400, loss: 0.28264307975769043\n",
      "epoch: 7, i: 500, loss: 0.14867854118347168\n",
      "epoch: 7, i: 600, loss: 0.1694011241197586\n",
      "epoch: 7, i: 700, loss: 0.1483277678489685\n",
      "training set last batch acc: 93.75\n",
      "\n",
      "Test set: Average loss: -6.7179, Accuracy: 8137/10000 (81.37%)\n",
      "\n",
      "epoch: 8, i: 0, loss: 0.11790990829467773\n",
      "epoch: 8, i: 100, loss: 0.04773572459816933\n",
      "epoch: 8, i: 200, loss: 0.05898767709732056\n",
      "epoch: 8, i: 300, loss: 0.11442504823207855\n",
      "epoch: 8, i: 400, loss: 0.08724207431077957\n",
      "epoch: 8, i: 500, loss: 0.11088431626558304\n",
      "epoch: 8, i: 600, loss: 0.16132622957229614\n",
      "epoch: 8, i: 700, loss: 0.14620506763458252\n",
      "training set last batch acc: 100.0\n",
      "\n",
      "Test set: Average loss: -7.3960, Accuracy: 8308/10000 (83.08%)\n",
      "\n",
      "epoch: 9, i: 0, loss: 0.03230968117713928\n",
      "epoch: 9, i: 100, loss: 0.12355180829763412\n",
      "epoch: 9, i: 200, loss: 0.0850079357624054\n",
      "epoch: 9, i: 300, loss: 0.03654596954584122\n",
      "epoch: 9, i: 400, loss: 0.05866720527410507\n",
      "epoch: 9, i: 500, loss: 0.0805370956659317\n",
      "epoch: 9, i: 600, loss: 0.12238524109125137\n",
      "epoch: 9, i: 700, loss: 0.1796785444021225\n",
      "training set last batch acc: 100.0\n",
      "\n",
      "Test set: Average loss: -7.7942, Accuracy: 8376/10000 (83.76%)\n",
      "\n"
     ]
    }
   ],
   "source": [
    "losses = []\n",
    "def train(epoch):\n",
    "    model.train()\n",
    "    for i, (data, target) in enumerate(data_loader_train):\n",
    "        data, target = data.to(device), target.to(device)\n",
    "        output = model(data)\n",
    "        loss = F.cross_entropy(output, target)\n",
    "        optimizer.zero_grad()\n",
    "        loss.backward()\n",
    "        optimizer.step()\n",
    "        if i%100 == 0:\n",
    "            print(f'epoch: {epoch}, i: {i}, loss: {loss.item()}')\n",
    "            losses.append(loss.item())\n",
    "            \n",
    "        if i == len(data_loader_train)-1:\n",
    "            correct = get_num_correct(output, target)\n",
    "            print(f'training set last batch acc: {100. * correct / data.shape[0]}')\n",
    "def test(epoch):\n",
    "    model.eval()\n",
    "    test_loss = 0\n",
    "    correct = 0\n",
    "    with torch.no_grad():\n",
    "        for data, target in data_loader_test:\n",
    "            data, target = data.to(device), target.to(device)\n",
    "            output = model(data)\n",
    "            test_loss += F.nll_loss(output, target, reduction='sum').item() # sum up batch loss, default is mean\n",
    "            correct += get_num_correct(output, target)\n",
    "    test_loss /= len(data_loader_test.dataset)\n",
    "    \n",
    "    print('\\nTest set: Average loss: {:.4f}, Accuracy: {}/{} ({:.2f}%)\\n'.format(\n",
    "        test_loss, correct, len(data_loader_test.dataset),\n",
    "        100. * correct / len(data_loader_test.dataset)))\n",
    "    \n",
    "for epoch in range(10):\n",
    "    train(epoch)\n",
    "    test(epoch)\n",
    "    \n",
    "    "
   ]
  },
  {
   "cell_type": "markdown",
   "metadata": {},
   "source": [
    "epoch: 0, i: 0, loss: 1.9372303485870361\n",
    "epoch: 0, i: 100, loss: 2.0781328678131104\n",
    "epoch: 0, i: 200, loss: 1.7745529413223267\n",
    "epoch: 0, i: 300, loss: 1.8100001811981201\n",
    "epoch: 0, i: 400, loss: 1.8074313402175903\n",
    "epoch: 0, i: 500, loss: 1.6106815338134766\n",
    "epoch: 0, i: 600, loss: 1.8067936897277832\n",
    "epoch: 0, i: 700, loss: 1.9162516593933105\n",
    "training set last batch acc: 31.25\n",
    "\n",
    "Test set: Average loss: -0.8058, Accuracy: 3273/10000 (32.73%)\n",
    "\n",
    "epoch: 1, i: 0, loss: 1.955923318862915\n",
    "epoch: 1, i: 100, loss: 1.5723577737808228\n",
    "epoch: 1, i: 200, loss: 1.5829395055770874\n",
    "epoch: 1, i: 300, loss: 1.7195405960083008\n",
    "epoch: 1, i: 400, loss: 1.6098442077636719\n",
    "epoch: 1, i: 500, loss: 1.6989620923995972\n",
    "epoch: 1, i: 600, loss: 1.4761927127838135\n",
    "epoch: 1, i: 700, loss: 1.6192255020141602\n",
    "training set last batch acc: 43.75\n",
    "\n",
    "Test set: Average loss: -0.8359, Accuracy: 3412/10000 (34.12%)\n",
    "\n",
    "epoch: 2, i: 0, loss: 1.6493217945098877\n",
    "epoch: 2, i: 100, loss: 1.607711672782898\n",
    "epoch: 2, i: 200, loss: 1.5920279026031494\n",
    "epoch: 2, i: 300, loss: 1.471415638923645\n",
    "epoch: 2, i: 400, loss: 1.5355712175369263\n",
    "epoch: 2, i: 500, loss: 1.8134037256240845\n",
    "epoch: 2, i: 600, loss: 1.6875543594360352\n",
    "epoch: 2, i: 700, loss: 1.7968285083770752\n",
    "training set last batch acc: 43.75\n",
    "\n",
    "Test set: Average loss: -0.9376, Accuracy: 3964/10000 (39.64%)\n",
    "\n",
    "epoch: 3, i: 0, loss: 1.440176010131836\n",
    "epoch: 3, i: 100, loss: 1.5044665336608887\n",
    "epoch: 3, i: 200, loss: 1.4055570363998413\n",
    "epoch: 3, i: 300, loss: 1.3688474893569946\n",
    "epoch: 3, i: 400, loss: 1.4185792207717896\n",
    "epoch: 3, i: 500, loss: 1.272760272026062\n",
    "epoch: 3, i: 600, loss: 1.1619435548782349\n",
    "epoch: 3, i: 700, loss: 1.0746163129806519\n",
    "training set last batch acc: 50.0\n",
    "\n",
    "Test set: Average loss: -1.1260, Accuracy: 6123/10000 (61.23%)\n",
    "\n",
    "epoch: 4, i: 0, loss: 1.1414680480957031\n",
    "epoch: 4, i: 100, loss: 1.039971947669983\n",
    "epoch: 4, i: 200, loss: 1.0521355867385864\n",
    "epoch: 4, i: 300, loss: 1.175338625907898\n",
    "epoch: 4, i: 400, loss: 1.071406602859497\n",
    "epoch: 4, i: 500, loss: 1.130670428276062\n",
    "epoch: 4, i: 600, loss: 0.8909551501274109\n",
    "epoch: 4, i: 700, loss: 0.8861261010169983\n",
    "training set last batch acc: 56.25\n",
    "\n",
    "Test set: Average loss: -1.2064, Accuracy: 6616/10000 (66.16%)\n",
    "\n",
    "epoch: 5, i: 0, loss: 0.8181304931640625\n",
    "epoch: 5, i: 100, loss: 0.9175812005996704\n",
    "epoch: 5, i: 200, loss: 0.8948319554328918\n",
    "epoch: 5, i: 300, loss: 1.282103419303894\n",
    "epoch: 5, i: 400, loss: 1.282362461090088\n",
    "epoch: 5, i: 500, loss: 0.907379150390625\n",
    "epoch: 5, i: 600, loss: 0.8735712170600891\n",
    "epoch: 5, i: 700, loss: 0.7083377838134766\n",
    "training set last batch acc: 68.75\n",
    "\n",
    "Test set: Average loss: -1.1505, Accuracy: 6836/10000 (68.36%)\n",
    "\n",
    "epoch: 6, i: 0, loss: 0.8176227807998657\n",
    "epoch: 6, i: 100, loss: 1.0804920196533203\n",
    "epoch: 6, i: 200, loss: 1.0807372331619263\n",
    "epoch: 6, i: 300, loss: 0.791027843952179\n",
    "epoch: 6, i: 400, loss: 0.8846410512924194\n",
    "epoch: 6, i: 500, loss: 0.9763593673706055\n",
    "epoch: 6, i: 600, loss: 1.2476403713226318\n",
    "epoch: 6, i: 700, loss: 0.8191957473754883\n",
    "training set last batch acc: 56.25\n",
    "\n",
    "Test set: Average loss: -1.0978, Accuracy: 7061/10000 (70.61%)\n",
    "\n",
    "epoch: 7, i: 0, loss: 0.7772191762924194\n",
    "epoch: 7, i: 100, loss: 0.7814069986343384\n",
    "epoch: 7, i: 200, loss: 0.8066980838775635\n",
    "epoch: 7, i: 300, loss: 0.8930161595344543\n",
    "epoch: 7, i: 400, loss: 0.772737979888916\n",
    "epoch: 7, i: 500, loss: 0.8755106925964355\n",
    "epoch: 7, i: 600, loss: 0.8927198052406311\n",
    "epoch: 7, i: 700, loss: 1.0603454113006592\n",
    "training set last batch acc: 81.25\n",
    "\n",
    "Test set: Average loss: -1.1081, Accuracy: 7161/10000 (71.61%)\n",
    "\n",
    "epoch: 8, i: 0, loss: 1.0216169357299805\n",
    "epoch: 8, i: 100, loss: 0.9544908404350281\n",
    "epoch: 8, i: 200, loss: 0.6887960433959961\n",
    "epoch: 8, i: 300, loss: 0.8929368257522583\n",
    "epoch: 8, i: 400, loss: 0.8610466122627258\n",
    "epoch: 8, i: 500, loss: 0.8257967233657837\n",
    "epoch: 8, i: 600, loss: 0.8046884536743164\n",
    "epoch: 8, i: 700, loss: 0.8733950853347778\n",
    "training set last batch acc: 56.25\n",
    "\n",
    "Test set: Average loss: -1.0135, Accuracy: 7218/10000 (72.18%)\n",
    "\n",
    "epoch: 9, i: 0, loss: 0.6974706053733826\n",
    "epoch: 9, i: 100, loss: 1.0788565874099731\n",
    "epoch: 9, i: 200, loss: 0.6337925791740417\n",
    "epoch: 9, i: 300, loss: 0.7752048373222351\n",
    "epoch: 9, i: 400, loss: 0.6162928342819214\n",
    "epoch: 9, i: 500, loss: 0.8803157806396484\n",
    "epoch: 9, i: 600, loss: 0.9382606744766235\n",
    "epoch: 9, i: 700, loss: 0.932075023651123\n",
    "training set last batch acc: 87.5\n",
    "\n",
    "Test set: Average loss: -1.0436, Accuracy: 7359/10000 (73.59%)"
   ]
  },
  {
   "cell_type": "code",
   "execution_count": 30,
   "metadata": {},
   "outputs": [
    {
     "data": {
      "text/plain": [
       "[<matplotlib.lines.Line2D at 0x7fcc404c2780>]"
      ]
     },
     "execution_count": 30,
     "metadata": {},
     "output_type": "execute_result"
    },
    {
     "data": {
      "image/png": "[encoded data removed]",
      "text/plain": [
       "<Figure size 432x288 with 1 Axes>"
      ]
     },
     "metadata": {},
     "output_type": "display_data"
    }
   ],
   "source": [
    "losses = losses[10:]\n",
    "x_data = [i for i in range(len(losses))]\n",
    "plt.plot(x_data, losses)"
   ]
  },
  {
   "cell_type": "code",
   "execution_count": null,
   "metadata": {},
   "outputs": [],
   "source": []
  }
 ],
 "metadata": {
  "kernelspec": {
   "display_name": "conda_pytorch_p36",
   "language": "python",
   "name": "conda_pytorch_p36"
  },
  "language_info": {
   "codemirror_mode": {
    "name": "ipython",
    "version": 3
   },
   "file_extension": ".py",
   "mimetype": "text/x-python",
   "name": "python",
   "nbconvert_exporter": "python",
   "pygments_lexer": "ipython3",
   "version": "3.6.5"
  }
 },
 "nbformat": 4,
 "nbformat_minor": 2
}
