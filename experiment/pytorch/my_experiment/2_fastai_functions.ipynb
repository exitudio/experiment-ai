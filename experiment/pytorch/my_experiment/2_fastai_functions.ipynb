{
 "cells": [
  {
   "cell_type": "markdown",
   "metadata": {},
   "source": [
    "list of techniques [here](https://blog.floydhub.com/ten-techniques-from-fast-ai/)\n",
    "\n",
    "TODO\n",
    "- learning rate diff each layer\n",
    "- freeze layer\n",
    "- data loader wrapper\n",
    "- save model\n",
    "- early stop"
   ]
  },
  {
   "cell_type": "code",
   "execution_count": 9,
   "metadata": {},
   "outputs": [],
   "source": [
    "%reload_ext autoreload\n",
    "%autoreload 2\n",
    "import torch\n",
    "import torchvision.datasets as datasets\n",
    "from torch.utils.data import DataLoader, Dataset\n",
    "import torch.nn as nn\n",
    "import torch.nn.functional as F\n",
    "from torch import optim\n",
    "from torchvision import transforms\n",
    "import torchvision\n",
    "import copy\n",
    "\n",
    "%matplotlib inline\n",
    "import matplotlib.pyplot as plt"
   ]
  },
  {
   "cell_type": "code",
   "execution_count": 10,
   "metadata": {},
   "outputs": [
    {
     "data": {
      "text/plain": [
       "<torch._C.Generator at 0x7f53bd811e50>"
      ]
     },
     "execution_count": 10,
     "metadata": {},
     "output_type": "execute_result"
    }
   ],
   "source": [
    "device = torch.device(\"cuda\" if torch.cuda.is_available() else \"cpu\")\n",
    "torch.manual_seed(1)"
   ]
  },
  {
   "cell_type": "code",
   "execution_count": 11,
   "metadata": {},
   "outputs": [],
   "source": [
    "transform = transforms.Compose([\n",
    "#                                    transforms.RandomAffine(15, scale=(.9,1.2)),\n",
    "                                   transforms.ToTensor(),\n",
    "                                   transforms.Normalize((0.5,), (1,))\n",
    "                               ])\n",
    "# mnist_trainset = datasets.CIFAR10(root='./data', train=True, download=True, transform=transform)\n",
    "# mnist_testset = datasets.CIFAR10(root='./data', train=False, download=False, transform=transform)\n",
    "# data_loader_train = DataLoader(mnist_trainset, 64, shuffle=True, num_workers=8)\n",
    "# data_loader_test = DataLoader(mnist_testset, 64, shuffle=True, num_workers=8)"
   ]
  },
  {
   "cell_type": "code",
   "execution_count": 12,
   "metadata": {},
   "outputs": [
    {
     "name": "stdout",
     "output_type": "stream",
     "text": [
      "Files already downloaded and verified\n"
     ]
    }
   ],
   "source": [
    "temp_raw_data_set = datasets.CIFAR10(root='./data', train=False, download=True, transform=transform)\n",
    "class TempDataSet(Dataset):\n",
    "    def __getitem__(self, index):\n",
    "        return temp_raw_data_set[index]\n",
    "    def __len__(self):\n",
    "        return 6\n",
    "temp_data_set = TempDataSet()\n",
    "data_loader_train = DataLoader(temp_data_set, 3, shuffle=True, num_workers=8)\n",
    "data_loader_test = DataLoader(temp_data_set, 3, shuffle=True, num_workers=8)"
   ]
  },
  {
   "cell_type": "code",
   "execution_count": 13,
   "metadata": {},
   "outputs": [],
   "source": [
    "import RestNet\n",
    "model = RestNet.ResNet18().to(device)\n",
    "criterion = F.cross_entropy"
   ]
  },
  {
   "cell_type": "code",
   "execution_count": 6,
   "metadata": {},
   "outputs": [],
   "source": [
    "# model = torchvision.models.resnet18(pretrained=True)\n",
    "# num_ftrs = model.fc.in_features\n",
    "# model.fc = nn.Linear(num_ftrs, 10)\n",
    "# model = model.to(device)"
   ]
  },
  {
   "cell_type": "markdown",
   "metadata": {},
   "source": [
    "### Learning Rates [Choose one]\n",
    "1. Different LR [worse] (maybe we have to use log scale)"
   ]
  },
  {
   "cell_type": "code",
   "execution_count": 7,
   "metadata": {},
   "outputs": [],
   "source": [
    "lr = 0.001\n",
    "num_children = len([c for c in model.children()])\n",
    "param_groups = []\n",
    "for i, child in enumerate(model.children()):\n",
    "    denorm = num_children-i\n",
    "    param_groups.append({\n",
    "        'params': child.parameters(), 'lr': lr/denorm\n",
    "    })\n",
    "optimizer = optim.Adam(param_groups, lr=0.001, weight_decay=0.0) #weight_decay (L2 regularization) makes thing worse"
   ]
  },
  {
   "cell_type": "code",
   "execution_count": 8,
   "metadata": {},
   "outputs": [
    {
     "name": "stdout",
     "output_type": "stream",
     "text": [
      "0.00014285714285714287\n",
      "0.00016666666666666666\n",
      "0.0002\n",
      "0.00025\n",
      "0.0003333333333333333\n",
      "0.0005\n",
      "0.001\n"
     ]
    }
   ],
   "source": [
    "for param_group in optimizer.param_groups:\n",
    "    print(param_group['lr'])"
   ]
  },
  {
   "cell_type": "markdown",
   "metadata": {},
   "source": [
    "2. Static Learning Rate"
   ]
  },
  {
   "cell_type": "code",
   "execution_count": 9,
   "metadata": {},
   "outputs": [],
   "source": [
    "optimizer = optim.Adam(model.parameters(), lr=0.001)"
   ]
  },
  {
   "cell_type": "markdown",
   "metadata": {},
   "source": [
    "### Train"
   ]
  },
  {
   "cell_type": "markdown",
   "metadata": {},
   "source": [
    "### Find learning rate"
   ]
  },
  {
   "cell_type": "code",
   "execution_count": 21,
   "metadata": {},
   "outputs": [
    {
     "data": {
      "image/png": "[encoded data removed]",
      "text/plain": [
       "<Figure size 432x288 with 1 Axes>"
      ]
     },
     "metadata": {},
     "output_type": "display_data"
    }
   ],
   "source": [
    "from exitai.learner import Learner\n",
    "model = RestNet.ResNet18().to(device)\n",
    "learner = Learner(data_loader_train, data_loader_test, model, criterion)\n",
    "learner.lr_find(1e-7, 1)"
   ]
  },
  {
   "cell_type": "markdown",
   "metadata": {},
   "source": [
    "### Train with static lr"
   ]
  },
  {
   "cell_type": "code",
   "execution_count": 23,
   "metadata": {
    "scrolled": true
   },
   "outputs": [
    {
     "name": "stdout",
     "output_type": "stream",
     "text": [
      "---- epoch:0 ------\n",
      "   [train] Average loss: 2.7841, acc: 34.28%\n",
      "   [test] Average loss: 2.4879, acc: 43.33%\n",
      "---- epoch:1 ------\n",
      "   [train] Average loss: 1.8972, acc: 56.33%\n",
      "   [test] Average loss: 1.8697, acc: 58.17%\n",
      "---- epoch:2 ------\n",
      "   [train] Average loss: 1.5077, acc: 65.97%\n",
      "   [test] Average loss: 1.3887, acc: 68.50%\n",
      "---- epoch:3 ------\n",
      "   [train] Average loss: 1.2127, acc: 72.42%\n",
      "   [test] Average loss: 1.1955, acc: 73.29%\n",
      "---- epoch:4 ------\n",
      "   [train] Average loss: 0.9844, acc: 77.89%\n",
      "   [test] Average loss: 1.1887, acc: 74.70%\n",
      "---- epoch:5 ------\n",
      "   [train] Average loss: 0.8182, acc: 81.61%\n",
      "   [test] Average loss: 1.0386, acc: 77.59%\n",
      "---- epoch:6 ------\n",
      "   [train] Average loss: 0.6807, acc: 84.71%\n",
      "   [test] Average loss: 1.0607, acc: 78.15%\n",
      "---- epoch:7 ------\n",
      "   [train] Average loss: 0.5639, acc: 87.30%\n",
      "   [test] Average loss: 1.0978, acc: 78.06%\n",
      "---- epoch:8 ------\n",
      "   [train] Average loss: 0.4526, acc: 89.89%\n",
      "   [test] Average loss: 1.2193, acc: 77.65%\n",
      "---- epoch:9 ------\n",
      "   [train] Average loss: 0.3700, acc: 91.53%\n",
      "   [test] Average loss: 1.1522, acc: 79.31%\n",
      "---- epoch:10 ------\n",
      "   [train] Average loss: 0.2887, acc: 93.41%\n",
      "   [test] Average loss: 1.2203, acc: 78.47%\n",
      "---- epoch:11 ------\n",
      "   [train] Average loss: 0.2517, acc: 94.32%\n",
      "   [test] Average loss: 1.2732, acc: 79.39%\n",
      "---- epoch:12 ------\n",
      "   [train] Average loss: 0.2093, acc: 95.29%\n",
      "   [test] Average loss: 1.5104, acc: 78.31%\n",
      "---- epoch:13 ------\n",
      "   [train] Average loss: 0.1955, acc: 95.63%\n",
      "   [test] Average loss: 1.5659, acc: 77.82%\n",
      "---- epoch:14 ------\n",
      "   [train] Average loss: 0.1738, acc: 96.17%\n",
      "   [test] Average loss: 1.4548, acc: 79.89%\n",
      "---- epoch:15 ------\n",
      "   [train] Average loss: 0.1607, acc: 96.34%\n",
      "   [test] Average loss: 1.7370, acc: 78.92%\n",
      "---- epoch:16 ------\n",
      "   [train] Average loss: 0.1425, acc: 96.93%\n",
      "   [test] Average loss: 1.5836, acc: 80.22%\n",
      "---- epoch:17 ------\n",
      "   [train] Average loss: 0.1390, acc: 96.99%\n",
      "   [test] Average loss: 1.6128, acc: 80.03%\n",
      "---- epoch:18 ------\n",
      "   [train] Average loss: 0.1293, acc: 97.22%\n",
      "   [test] Average loss: 1.6153, acc: 80.13%\n",
      "---- epoch:19 ------\n",
      "   [train] Average loss: 0.1098, acc: 97.61%\n",
      "   [test] Average loss: 1.6344, acc: 79.86%\n"
     ]
    },
    {
     "data": {
      "image/png": "[encoded data removed]",
      "text/plain": [
       "<Figure size 432x288 with 1 Axes>"
      ]
     },
     "metadata": {},
     "output_type": "display_data"
    }
   ],
   "source": [
    "model = RestNet.ResNet18().to(device)\n",
    "learner = Learner(data_loader_train, data_loader_test, model, criterion)\n",
    "learner.fit(0.03, 20, 0)"
   ]
  },
  {
   "cell_type": "markdown",
   "metadata": {},
   "source": [
    "### Train with cos annealing lr"
   ]
  },
  {
   "cell_type": "code",
   "execution_count": 24,
   "metadata": {
    "scrolled": true
   },
   "outputs": [
    {
     "name": "stdout",
     "output_type": "stream",
     "text": [
      "---- epoch:0 ------\n",
      "   [train] Average loss: 2.8279, acc: 32.56%\n",
      "   [test] Average loss: 2.2512, acc: 47.37%\n",
      "---- epoch:1 ------\n",
      "   [train] Average loss: 1.8687, acc: 56.58%\n",
      "   [test] Average loss: 1.6774, acc: 61.63%\n",
      "---- epoch:2 ------\n",
      "   [train] Average loss: 1.8218, acc: 58.21%\n",
      "   [test] Average loss: 2.1404, acc: 54.02%\n",
      "---- epoch:3 ------\n",
      "   [train] Average loss: 1.3330, acc: 69.81%\n",
      "   [test] Average loss: 1.2065, acc: 73.23%\n",
      "---- epoch:4 ------\n",
      "   [train] Average loss: 0.9558, acc: 78.44%\n",
      "   [test] Average loss: 0.9790, acc: 78.72%\n",
      "---- epoch:5 ------\n",
      "   [train] Average loss: 0.6535, acc: 85.47%\n",
      "   [test] Average loss: 0.9373, acc: 79.62%\n",
      "---- epoch:6 ------\n",
      "   [train] Average loss: 1.0499, acc: 76.57%\n",
      "   [test] Average loss: 1.1462, acc: 75.61%\n",
      "---- epoch:7 ------\n",
      "   [train] Average loss: 0.8326, acc: 81.45%\n",
      "   [test] Average loss: 1.1128, acc: 76.49%\n",
      "---- epoch:8 ------\n",
      "   [train] Average loss: 0.6488, acc: 85.42%\n",
      "   [test] Average loss: 1.0235, acc: 79.45%\n",
      "---- epoch:9 ------\n",
      "   [train] Average loss: 0.4447, acc: 90.00%\n",
      "   [test] Average loss: 0.9760, acc: 81.06%\n",
      "---- epoch:10 ------\n",
      "   [train] Average loss: 0.2406, acc: 94.63%\n",
      "   [test] Average loss: 1.1214, acc: 81.28%\n",
      "---- epoch:11 ------\n",
      "   [train] Average loss: 0.0916, acc: 98.09%\n",
      "   [test] Average loss: 1.2092, acc: 82.52%\n",
      "---- epoch:12 ------\n",
      "   [train] Average loss: 0.0315, acc: 99.45%\n",
      "   [test] Average loss: 1.2821, acc: 83.05%\n",
      "---- epoch:13 ------\n",
      "   [train] Average loss: 0.0145, acc: 99.83%\n",
      "   [test] Average loss: 1.3171, acc: 83.15%\n",
      "---- epoch:14 ------\n",
      "   [train] Average loss: 0.6946, acc: 84.68%\n",
      "   [test] Average loss: 1.1199, acc: 79.05%\n",
      "---- epoch:15 ------\n",
      "   [train] Average loss: 0.4223, acc: 90.49%\n",
      "   [test] Average loss: 1.0980, acc: 79.94%\n",
      "---- epoch:16 ------\n",
      "   [train] Average loss: 0.3014, acc: 93.19%\n",
      "   [test] Average loss: 1.2384, acc: 78.98%\n",
      "---- epoch:17 ------\n",
      "   [train] Average loss: 0.2263, acc: 94.84%\n",
      "   [test] Average loss: 1.2320, acc: 80.55%\n",
      "---- epoch:18 ------\n",
      "   [train] Average loss: 0.1637, acc: 96.38%\n",
      "   [test] Average loss: 1.3402, acc: 81.01%\n",
      "---- epoch:19 ------\n",
      "   [train] Average loss: 0.1205, acc: 97.35%\n",
      "   [test] Average loss: 1.4752, acc: 80.18%\n"
     ]
    },
    {
     "data": {
      "image/png": "[encoded data removed]",
      "text/plain": [
       "<Figure size 432x288 with 1 Axes>"
      ]
     },
     "metadata": {},
     "output_type": "display_data"
    }
   ],
   "source": [
    "model = RestNet.ResNet18().to(device)\n",
    "learner = Learner(data_loader_train, data_loader_test, model, criterion)\n",
    "learner.fit(0.03, 20)"
   ]
  },
  {
   "cell_type": "code",
   "execution_count": null,
   "metadata": {},
   "outputs": [],
   "source": []
  }
 ],
 "metadata": {
  "kernelspec": {
   "display_name": "Python 3",
   "language": "python",
   "name": "python3"
  },
  "language_info": {
   "codemirror_mode": {
    "name": "ipython",
    "version": 3
   },
   "file_extension": ".py",
   "mimetype": "text/x-python",
   "name": "python",
   "nbconvert_exporter": "python",
   "pygments_lexer": "ipython3",
   "version": "3.6.7"
  }
 },
 "nbformat": 4,
 "nbformat_minor": 2
}
