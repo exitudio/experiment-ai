{
 "cells": [
  {
   "cell_type": "markdown",
   "metadata": {},
   "source": [
    "list of techniques [here](https://blog.floydhub.com/ten-techniques-from-fast-ai/)"
   ]
  },
  {
   "cell_type": "code",
   "execution_count": 2,
   "metadata": {},
   "outputs": [],
   "source": [
    "import torch\n",
    "import torchvision.datasets as datasets\n",
    "from torch.utils.data import DataLoader, Dataset\n",
    "import torch.nn as nn\n",
    "import torch.nn.functional as F\n",
    "from torch import optim\n",
    "from torchvision import transforms\n",
    "import torchvision\n",
    "import copy\n",
    "\n",
    "%matplotlib inline\n",
    "import matplotlib.pyplot as plt"
   ]
  },
  {
   "cell_type": "code",
   "execution_count": 5,
   "metadata": {},
   "outputs": [
    {
     "data": {
      "text/plain": [
       "<torch._C.Generator at 0x7fa4fe821d10>"
      ]
     },
     "execution_count": 5,
     "metadata": {},
     "output_type": "execute_result"
    }
   ],
   "source": [
    "device = torch.device(\"cuda\" if torch.cuda.is_available() else \"cpu\")\n",
    "torch.manual_seed(1)"
   ]
  },
  {
   "cell_type": "code",
   "execution_count": 74,
   "metadata": {},
   "outputs": [
    {
     "name": "stdout",
     "output_type": "stream",
     "text": [
      "Files already downloaded and verified\n"
     ]
    }
   ],
   "source": [
    "transform = transforms.Compose([\n",
    "#                                    transforms.RandomAffine(15, scale=(.9,1.2)),\n",
    "                                   transforms.ToTensor(),\n",
    "                                   transforms.Normalize((0.5,), (1,))\n",
    "                               ])\n",
    "mnist_trainset = datasets.CIFAR10(root='./data', train=True, download=True, transform=transform)\n",
    "mnist_testset = datasets.CIFAR10(root='./data', train=False, download=False, transform=transform)\n",
    "data_loader_train = DataLoader(mnist_trainset, 64, shuffle=True, num_workers=8)\n",
    "data_loader_test = DataLoader(mnist_testset, 64, shuffle=True, num_workers=8)"
   ]
  },
  {
   "cell_type": "code",
   "execution_count": 75,
   "metadata": {},
   "outputs": [],
   "source": [
    "import RestNet\n",
    "model = RestNet.ResNet18().to(device)\n",
    "criterion = F.cross_entropy"
   ]
  },
  {
   "cell_type": "code",
   "execution_count": 52,
   "metadata": {},
   "outputs": [],
   "source": [
    "# model = torchvision.models.resnet18(pretrained=True)\n",
    "# num_ftrs = model.fc.in_features\n",
    "# model.fc = nn.Linear(num_ftrs, 10)\n",
    "# model = model.to(device)"
   ]
  },
  {
   "cell_type": "markdown",
   "metadata": {},
   "source": [
    "### Find learning rate"
   ]
  },
  {
   "cell_type": "code",
   "execution_count": 7,
   "metadata": {},
   "outputs": [
    {
     "data": {
      "text/plain": [
       "[<matplotlib.lines.Line2D at 0x7fa4c790dcc0>]"
      ]
     },
     "execution_count": 7,
     "metadata": {},
     "output_type": "execute_result"
    },
    {
     "data": {
      "image/png": "[encoded data removed]",
      "text/plain": [
       "<Figure size 432x288 with 1 Axes>"
      ]
     },
     "metadata": {},
     "output_type": "display_data"
    }
   ],
   "source": [
    "import math\n",
    "lrs = []\n",
    "for i in [x for x in range(300)]:\n",
    "    lr = math.pow(1.1, i/3) / 10000\n",
    "    lrs.append(lr)\n",
    "plt.plot(lrs)"
   ]
  },
  {
   "cell_type": "code",
   "execution_count": 8,
   "metadata": {},
   "outputs": [
    {
     "data": {
      "text/plain": [
       "[<matplotlib.lines.Line2D at 0x7fa4c78994e0>]"
      ]
     },
     "execution_count": 8,
     "metadata": {},
     "output_type": "execute_result"
    },
    {
     "data": {
      "image/png": "[encoded data removed]",
      "text/plain": [
       "<Figure size 432x288 with 1 Axes>"
      ]
     },
     "metadata": {},
     "output_type": "display_data"
    }
   ],
   "source": [
    "optimizer = optim.Adam(model.parameters(), lr=0.001)\n",
    "losses = []\n",
    "model.train()\n",
    "def is_running():\n",
    "    return len(losses) < len(lrs)\n",
    "count = 0\n",
    "batch_num = 10\n",
    "while is_running():\n",
    "    for i, (data, target) in enumerate(data_loader_train):\n",
    "        if count == 0:\n",
    "            loss_accumulate = 0\n",
    "            for param_group in optimizer.param_groups:\n",
    "                param_group['lr'] = lrs[len(losses)]\n",
    "\n",
    "        data, target = data.to(device), target.to(device)\n",
    "        output = model(data)\n",
    "        loss = criterion(output, target)\n",
    "        loss_accumulate += loss.item()\n",
    "        optimizer.zero_grad()\n",
    "        loss.backward()\n",
    "        optimizer.step()\n",
    "        if count == batch_num:\n",
    "            losses.append(loss_accumulate/batch_num)\n",
    "            count = -1\n",
    "        if not is_running(): break\n",
    "        count += 1\n",
    "        \n",
    "plt.semilogx(lrs, losses)"
   ]
  },
  {
   "cell_type": "markdown",
   "metadata": {},
   "source": [
    "### Learning Rates [Choose one]\n",
    "1. Different LR [worse] (maybe we have to use log scale)"
   ]
  },
  {
   "cell_type": "code",
   "execution_count": 60,
   "metadata": {},
   "outputs": [],
   "source": [
    "lr = 0.001\n",
    "num_children = len([c for c in model.children()])\n",
    "param_groups = []\n",
    "for i, child in enumerate(model.children()):\n",
    "    denorm = num_children-i\n",
    "    param_groups.append({\n",
    "        'params': child.parameters(), 'lr': lr/denorm\n",
    "    })\n",
    "optimizer = optim.Adam(param_groups, lr=0.001, weight_decay=0.0) #weight_decay (L2 regularization) makes thing worse"
   ]
  },
  {
   "cell_type": "code",
   "execution_count": 61,
   "metadata": {},
   "outputs": [
    {
     "name": "stdout",
     "output_type": "stream",
     "text": [
      "0.00014285714285714287\n",
      "0.00016666666666666666\n",
      "0.0002\n",
      "0.00025\n",
      "0.0003333333333333333\n",
      "0.0005\n",
      "0.001\n"
     ]
    }
   ],
   "source": [
    "for param_group in optimizer.param_groups:\n",
    "    print(param_group['lr'])"
   ]
  },
  {
   "cell_type": "markdown",
   "metadata": {},
   "source": [
    "2. Static Learning Rate"
   ]
  },
  {
   "cell_type": "code",
   "execution_count": 76,
   "metadata": {},
   "outputs": [],
   "source": [
    "optimizer = optim.Adam(model.parameters(), lr=0.001)"
   ]
  },
  {
   "cell_type": "markdown",
   "metadata": {},
   "source": [
    "### Train"
   ]
  },
  {
   "cell_type": "code",
   "execution_count": 11,
   "metadata": {},
   "outputs": [],
   "source": [
    "def get_num_correct(output, target):\n",
    "    # max of dimension 1, keepdim, and [0] is value / [1] is index (we need only index)\n",
    "    pred = output.max(1, keepdim=True)[1] # get the index of the max log-probability\n",
    "    correct = pred.eq(target.view_as(pred)).sum().item()\n",
    "    return correct"
   ]
  },
  {
   "cell_type": "code",
   "execution_count": 77,
   "metadata": {},
   "outputs": [
    {
     "name": "stdout",
     "output_type": "stream",
     "text": [
      "epoch: 0, i: 0, loss: 2.350830078125\n",
      "epoch: 0, i: 100, loss: 1.5525232553482056\n",
      "epoch: 0, i: 200, loss: 1.4310418367385864\n",
      "epoch: 0, i: 300, loss: 1.5137114524841309\n",
      "epoch: 0, i: 400, loss: 1.2138307094573975\n",
      "epoch: 0, i: 500, loss: 1.1682647466659546\n",
      "epoch: 0, i: 600, loss: 1.3540397882461548\n",
      "epoch: 0, i: 700, loss: 0.8702763319015503\n",
      "training set last batch acc: 52.04\n",
      "\n",
      "Test set: Average loss: -3.4319, Accuracy: 6229/10000 (62.29%)\n",
      "\n",
      "epoch: 1, i: 0, loss: 0.8547930121421814\n",
      "epoch: 1, i: 100, loss: 0.750038743019104\n",
      "epoch: 1, i: 200, loss: 0.8301748037338257\n",
      "epoch: 1, i: 300, loss: 0.9035918116569519\n",
      "epoch: 1, i: 400, loss: 0.7828261256217957\n",
      "epoch: 1, i: 500, loss: 0.7730602025985718\n",
      "epoch: 1, i: 600, loss: 0.8201462030410767\n",
      "epoch: 1, i: 700, loss: 0.7080259323120117\n",
      "training set last batch acc: 71.004\n",
      "\n",
      "Test set: Average loss: -4.0504, Accuracy: 7426/10000 (74.26%)\n",
      "\n",
      "epoch: 2, i: 0, loss: 0.8628064393997192\n",
      "epoch: 2, i: 100, loss: 0.576935887336731\n",
      "epoch: 2, i: 200, loss: 0.6291021108627319\n",
      "epoch: 2, i: 300, loss: 0.6354672312736511\n",
      "epoch: 2, i: 400, loss: 0.4263388514518738\n",
      "epoch: 2, i: 500, loss: 0.79454505443573\n",
      "epoch: 2, i: 600, loss: 0.5694807767868042\n",
      "epoch: 2, i: 700, loss: 0.5314321517944336\n",
      "training set last batch acc: 79.364\n",
      "\n",
      "Test set: Average loss: -4.8592, Accuracy: 8034/10000 (80.34%)\n",
      "\n",
      "epoch: 3, i: 0, loss: 0.6054032444953918\n",
      "epoch: 3, i: 100, loss: 0.4417001008987427\n",
      "epoch: 3, i: 200, loss: 0.39628952741622925\n",
      "epoch: 3, i: 300, loss: 0.3469873070716858\n",
      "epoch: 3, i: 400, loss: 0.35374921560287476\n",
      "epoch: 3, i: 500, loss: 0.44342508912086487\n",
      "epoch: 3, i: 600, loss: 0.61812824010849\n",
      "epoch: 3, i: 700, loss: 0.2858504056930542\n",
      "training set last batch acc: 84.11\n",
      "\n",
      "Test set: Average loss: -5.4222, Accuracy: 8208/10000 (82.08%)\n",
      "\n",
      "epoch: 4, i: 0, loss: 0.3362519443035126\n",
      "epoch: 4, i: 100, loss: 0.32184457778930664\n",
      "epoch: 4, i: 200, loss: 0.19033348560333252\n",
      "epoch: 4, i: 300, loss: 0.25563910603523254\n",
      "epoch: 4, i: 400, loss: 0.27910804748535156\n",
      "epoch: 4, i: 500, loss: 0.2309952974319458\n",
      "epoch: 4, i: 600, loss: 0.2316790521144867\n",
      "epoch: 4, i: 700, loss: 0.3617756962776184\n",
      "training set last batch acc: 87.83\n",
      "\n",
      "Test set: Average loss: -5.5219, Accuracy: 8308/10000 (83.08%)\n",
      "\n",
      "epoch: 5, i: 0, loss: 0.2519574463367462\n",
      "epoch: 5, i: 100, loss: 0.23609380424022675\n",
      "epoch: 5, i: 200, loss: 0.23989632725715637\n",
      "epoch: 5, i: 300, loss: 0.30248790979385376\n",
      "epoch: 5, i: 400, loss: 0.45901578664779663\n",
      "epoch: 5, i: 500, loss: 0.1415294110774994\n",
      "epoch: 5, i: 600, loss: 0.23582834005355835\n",
      "epoch: 5, i: 700, loss: 0.19754211604595184\n",
      "training set last batch acc: 91.24\n",
      "\n",
      "Test set: Average loss: -6.1962, Accuracy: 8099/10000 (80.99%)\n",
      "\n",
      "epoch: 6, i: 0, loss: 0.20050039887428284\n",
      "epoch: 6, i: 100, loss: 0.1281718909740448\n",
      "epoch: 6, i: 200, loss: 0.09141417592763901\n",
      "epoch: 6, i: 300, loss: 0.22737494111061096\n",
      "epoch: 6, i: 400, loss: 0.22232000529766083\n",
      "epoch: 6, i: 500, loss: 0.09619637578725815\n",
      "epoch: 6, i: 600, loss: 0.27469611167907715\n",
      "epoch: 6, i: 700, loss: 0.19235245883464813\n",
      "training set last batch acc: 93.528\n",
      "\n",
      "Test set: Average loss: -7.0980, Accuracy: 8317/10000 (83.17%)\n",
      "\n",
      "epoch: 7, i: 0, loss: 0.08079756051301956\n",
      "epoch: 7, i: 100, loss: 0.07476584613323212\n",
      "epoch: 7, i: 200, loss: 0.03322687745094299\n",
      "epoch: 7, i: 300, loss: 0.12855690717697144\n",
      "epoch: 7, i: 400, loss: 0.1247277706861496\n",
      "epoch: 7, i: 500, loss: 0.23684942722320557\n",
      "epoch: 7, i: 600, loss: 0.16127130389213562\n",
      "epoch: 7, i: 700, loss: 0.20059478282928467\n",
      "training set last batch acc: 95.306\n",
      "\n",
      "Test set: Average loss: -7.5020, Accuracy: 8430/10000 (84.30%)\n",
      "\n",
      "epoch: 8, i: 0, loss: 0.08203982561826706\n",
      "epoch: 8, i: 100, loss: 0.0449063703417778\n",
      "epoch: 8, i: 200, loss: 0.051731474697589874\n",
      "epoch: 8, i: 300, loss: 0.14844289422035217\n",
      "epoch: 8, i: 400, loss: 0.1270151287317276\n",
      "epoch: 8, i: 500, loss: 0.03379350155591965\n",
      "epoch: 8, i: 600, loss: 0.16091430187225342\n",
      "epoch: 8, i: 700, loss: 0.15981590747833252\n",
      "training set last batch acc: 96.748\n",
      "\n",
      "Test set: Average loss: -7.7101, Accuracy: 8299/10000 (82.99%)\n",
      "\n",
      "epoch: 9, i: 0, loss: 0.08929483592510223\n",
      "epoch: 9, i: 100, loss: 0.019591715186834335\n",
      "epoch: 9, i: 200, loss: 0.04505757987499237\n",
      "epoch: 9, i: 300, loss: 0.1223960593342781\n",
      "epoch: 9, i: 400, loss: 0.08783133327960968\n",
      "epoch: 9, i: 500, loss: 0.048231158405542374\n",
      "epoch: 9, i: 600, loss: 0.11854266375303268\n",
      "epoch: 9, i: 700, loss: 0.05008469894528389\n",
      "training set last batch acc: 97.328\n",
      "\n",
      "Test set: Average loss: -7.9876, Accuracy: 8385/10000 (83.85%)\n",
      "\n"
     ]
    },
    {
     "data": {
      "text/plain": [
       "[<matplotlib.lines.Line2D at 0x7fa50ad43b38>]"
      ]
     },
     "execution_count": 77,
     "metadata": {},
     "output_type": "execute_result"
    },
    {
     "data": {
      "image/png": "[encoded data removed]",
      "text/plain": [
       "<Figure size 432x288 with 1 Axes>"
      ]
     },
     "metadata": {},
     "output_type": "display_data"
    }
   ],
   "source": [
    "losses = []\n",
    "def train(epoch):\n",
    "    model.train()\n",
    "    correct = 0\n",
    "    for i, (data, target) in enumerate(data_loader_train):\n",
    "        data, target = data.to(device), target.to(device)\n",
    "        output = model(data)\n",
    "        loss = criterion(output, target)\n",
    "        optimizer.zero_grad()\n",
    "        loss.backward()\n",
    "        optimizer.step()\n",
    "        if i%100 == 0:\n",
    "            print(f'epoch: {epoch}, i: {i}, loss: {loss.item()}')\n",
    "            losses.append(loss.item())\n",
    "            \n",
    "        correct += get_num_correct(output, target)            \n",
    "        if i == len(data_loader_train)-1:\n",
    "            print(f'training set last batch acc: {100. * correct / len(data_loader_train.dataset)}')\n",
    "def test(epoch):\n",
    "    model.eval()\n",
    "    test_loss = 0\n",
    "    correct = 0\n",
    "    with torch.no_grad():\n",
    "        for data, target in data_loader_test:\n",
    "            data, target = data.to(device), target.to(device)\n",
    "            output = model(data)\n",
    "            test_loss += criterion(output, target, reduction='sum').item() # sum up batch loss, default is mean\n",
    "            correct += get_num_correct(output, target)\n",
    "    test_loss /= len(data_loader_test.dataset)\n",
    "    \n",
    "    print('\\nTest set: Average loss: {:.4f}, Accuracy: {}/{} ({:.2f}%)\\n'.format(\n",
    "        test_loss, correct, len(data_loader_test.dataset),\n",
    "        100. * correct / len(data_loader_test.dataset)))\n",
    "    \n",
    "for epoch in range(10):\n",
    "    train(epoch)\n",
    "    test(epoch)\n",
    "    \n",
    "losses = losses[10:]\n",
    "x_data = [i for i in range(len(losses))]\n",
    "plt.plot(x_data, losses)    "
   ]
  },
  {
   "cell_type": "markdown",
   "metadata": {},
   "source": [
    "with random rotate+zoom : train:100, test 83.31"
   ]
  },
  {
   "cell_type": "code",
   "execution_count": null,
   "metadata": {},
   "outputs": [],
   "source": []
  }
 ],
 "metadata": {
  "kernelspec": {
   "display_name": "conda_pytorch_p36",
   "language": "python",
   "name": "conda_pytorch_p36"
  },
  "language_info": {
   "codemirror_mode": {
    "name": "ipython",
    "version": 3
   },
   "file_extension": ".py",
   "mimetype": "text/x-python",
   "name": "python",
   "nbconvert_exporter": "python",
   "pygments_lexer": "ipython3",
   "version": "3.6.5"
  }
 },
 "nbformat": 4,
 "nbformat_minor": 2
}
