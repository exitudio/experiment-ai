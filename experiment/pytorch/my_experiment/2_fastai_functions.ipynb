{
 "cells": [
  {
   "cell_type": "markdown",
   "metadata": {},
   "source": [
    "list of techniques [here](https://blog.floydhub.com/ten-techniques-from-fast-ai/)"
   ]
  },
  {
   "cell_type": "code",
   "execution_count": 25,
   "metadata": {},
   "outputs": [],
   "source": [
    "import torch\n",
    "import torchvision.datasets as datasets\n",
    "from torch.utils.data import DataLoader, Dataset\n",
    "import torch.nn as nn\n",
    "import torch.nn.functional as F\n",
    "from torch import optim\n",
    "from torchvision import transforms\n",
    "import torchvision\n",
    "import copy\n",
    "\n",
    "%matplotlib inline\n",
    "import matplotlib.pyplot as plt"
   ]
  },
  {
   "cell_type": "code",
   "execution_count": 26,
   "metadata": {},
   "outputs": [
    {
     "data": {
      "text/plain": [
       "<torch._C.Generator at 0x1051e8a70>"
      ]
     },
     "execution_count": 26,
     "metadata": {},
     "output_type": "execute_result"
    }
   ],
   "source": [
    "device = torch.device(\"cuda\" if torch.cuda.is_available() else \"cpu\")\n",
    "torch.manual_seed(1)"
   ]
  },
  {
   "cell_type": "code",
   "execution_count": 27,
   "metadata": {},
   "outputs": [
    {
     "name": "stdout",
     "output_type": "stream",
     "text": [
      "Files already downloaded and verified\n"
     ]
    }
   ],
   "source": [
    "transform = transforms.Compose([\n",
    "#                                    transforms.RandomAffine(15, scale=(.9,1.2)),\n",
    "                                   transforms.ToTensor(),\n",
    "                                   transforms.Normalize((0.5,), (1,))\n",
    "                               ])\n",
    "# mnist_trainset = datasets.CIFAR10(root='./data', train=True, download=True, transform=transform)\n",
    "# mnist_testset = datasets.CIFAR10(root='./data', train=False, download=False, transform=transform)\n",
    "# data_loader_train = DataLoader(mnist_trainset, 64, shuffle=True, num_workers=8)\n",
    "# data_loader_test = DataLoader(mnist_testset, 64, shuffle=True, num_workers=8)"
   ]
  },
  {
   "cell_type": "code",
   "execution_count": 59,
   "metadata": {},
   "outputs": [
    {
     "name": "stdout",
     "output_type": "stream",
     "text": [
      "Files already downloaded and verified\n"
     ]
    }
   ],
   "source": [
    "temp_raw_data_set = datasets.CIFAR10(root='./data', train=False, download=True, transform=transform)\n",
    "class TempDataSet(Dataset):\n",
    "    def __getitem__(self, index):\n",
    "        return temp_set[index]\n",
    "    def __len__(self):\n",
    "        return 6\n",
    "temp_data_set = TempDataSet()\n",
    "data_loader_train = DataLoader(temp_data_set, 3, shuffle=True, num_workers=8)\n",
    "data_loader_test = DataLoader(temp_data_set, 3, shuffle=True, num_workers=8)"
   ]
  },
  {
   "cell_type": "code",
   "execution_count": 28,
   "metadata": {},
   "outputs": [],
   "source": [
    "import RestNet\n",
    "model = RestNet.ResNet18().to(device)\n",
    "criterion = F.cross_entropy"
   ]
  },
  {
   "cell_type": "code",
   "execution_count": 52,
   "metadata": {},
   "outputs": [],
   "source": [
    "# model = torchvision.models.resnet18(pretrained=True)\n",
    "# num_ftrs = model.fc.in_features\n",
    "# model.fc = nn.Linear(num_ftrs, 10)\n",
    "# model = model.to(device)"
   ]
  },
  {
   "cell_type": "markdown",
   "metadata": {},
   "source": [
    "### Find learning rate"
   ]
  },
  {
   "cell_type": "code",
   "execution_count": 7,
   "metadata": {},
   "outputs": [
    {
     "data": {
      "text/plain": [
       "[<matplotlib.lines.Line2D at 0x7fa4c790dcc0>]"
      ]
     },
     "execution_count": 7,
     "metadata": {},
     "output_type": "execute_result"
    },
    {
     "data": {
      "image/png": "[encoded data removed]",
      "text/plain": [
       "<Figure size 432x288 with 1 Axes>"
      ]
     },
     "metadata": {},
     "output_type": "display_data"
    }
   ],
   "source": [
    "import math\n",
    "lrs = []\n",
    "for i in [x for x in range(300)]:\n",
    "    lr = math.pow(1.1, i/3) / 10000\n",
    "    lrs.append(lr)\n",
    "plt.plot(lrs)"
   ]
  },
  {
   "cell_type": "code",
   "execution_count": 8,
   "metadata": {},
   "outputs": [
    {
     "data": {
      "text/plain": [
       "[<matplotlib.lines.Line2D at 0x7fa4c78994e0>]"
      ]
     },
     "execution_count": 8,
     "metadata": {},
     "output_type": "execute_result"
    },
    {
     "data": {
      "image/png": "[encoded data removed]",
      "text/plain": [
       "<Figure size 432x288 with 1 Axes>"
      ]
     },
     "metadata": {},
     "output_type": "display_data"
    }
   ],
   "source": [
    "optimizer = optim.Adam(model.parameters(), lr=0.001)\n",
    "losses = []\n",
    "model.train()\n",
    "def is_running():\n",
    "    return len(losses) < len(lrs)\n",
    "count = 0\n",
    "batch_num = 10\n",
    "while is_running():\n",
    "    for i, (data, target) in enumerate(data_loader_train):\n",
    "        if count == 0:\n",
    "            loss_accumulate = 0\n",
    "            for param_group in optimizer.param_groups:\n",
    "                param_group['lr'] = lrs[len(losses)]\n",
    "\n",
    "        data, target = data.to(device), target.to(device)\n",
    "        output = model(data)\n",
    "        loss = criterion(output, target)\n",
    "        loss_accumulate += loss.item()\n",
    "        optimizer.zero_grad()\n",
    "        loss.backward()\n",
    "        optimizer.step()\n",
    "        if count == batch_num:\n",
    "            losses.append(loss_accumulate/batch_num)\n",
    "            count = -1\n",
    "        if not is_running(): break\n",
    "        count += 1\n",
    "        \n",
    "plt.semilogx(lrs, losses)"
   ]
  },
  {
   "cell_type": "markdown",
   "metadata": {},
   "source": [
    "### Learning Rates [Choose one]\n",
    "1. Different LR [worse] (maybe we have to use log scale)"
   ]
  },
  {
   "cell_type": "code",
   "execution_count": 60,
   "metadata": {},
   "outputs": [],
   "source": [
    "lr = 0.001\n",
    "num_children = len([c for c in model.children()])\n",
    "param_groups = []\n",
    "for i, child in enumerate(model.children()):\n",
    "    denorm = num_children-i\n",
    "    param_groups.append({\n",
    "        'params': child.parameters(), 'lr': lr/denorm\n",
    "    })\n",
    "optimizer = optim.Adam(param_groups, lr=0.001, weight_decay=0.0) #weight_decay (L2 regularization) makes thing worse"
   ]
  },
  {
   "cell_type": "code",
   "execution_count": 61,
   "metadata": {},
   "outputs": [
    {
     "name": "stdout",
     "output_type": "stream",
     "text": [
      "0.00014285714285714287\n",
      "0.00016666666666666666\n",
      "0.0002\n",
      "0.00025\n",
      "0.0003333333333333333\n",
      "0.0005\n",
      "0.001\n"
     ]
    }
   ],
   "source": [
    "for param_group in optimizer.param_groups:\n",
    "    print(param_group['lr'])"
   ]
  },
  {
   "cell_type": "markdown",
   "metadata": {},
   "source": [
    "2. Static Learning Rate"
   ]
  },
  {
   "cell_type": "code",
   "execution_count": 76,
   "metadata": {},
   "outputs": [],
   "source": [
    "optimizer = optim.Adam(model.parameters(), lr=0.001)"
   ]
  },
  {
   "cell_type": "markdown",
   "metadata": {},
   "source": [
    "### Train"
   ]
  },
  {
   "cell_type": "code",
   "execution_count": 189,
   "metadata": {},
   "outputs": [
    {
     "name": "stdout",
     "output_type": "stream",
     "text": [
      "self.lrs: 0\n",
      "self.lrs: 0\n",
      "self.lrs: 0\n",
      "self.lrs: 0\n",
      "self.lrs: 0\n",
      "self.lrs: 0\n",
      "self.lrs: 0\n",
      "self.lrs: 0\n",
      "self.lrs: 0\n",
      "self.lrs: 1\n",
      "self.lrs: 1\n",
      "self.lrs: 1\n",
      "self.lrs: 1\n",
      "self.lrs: 1\n",
      "self.lrs: 1\n",
      "self.lrs: 1\n",
      "self.lrs: 1\n",
      "self.lrs: 1\n",
      "self.lrs: 1\n",
      "self.lrs: 2\n",
      "self.lrs: 2\n",
      "self.lrs: 2\n",
      "self.lrs: 2\n",
      "self.lrs: 2\n",
      "self.lrs: 2\n",
      "self.lrs: 2\n",
      "self.lrs: 2\n",
      "self.lrs: 2\n",
      "self.lrs: 2\n",
      "self.lrs: 3\n",
      "self.lrs: 3\n",
      "self.lrs: 3\n",
      "self.lrs: 3\n",
      "self.lrs: 3\n",
      "self.lrs: 3\n",
      "self.lrs: 3\n",
      "self.lrs: 3\n",
      "self.lrs: 3\n",
      "self.lrs: 3\n",
      "self.lrs: 4\n",
      "self.lrs: 4\n",
      "self.lrs: 4\n",
      "self.lrs: 4\n",
      "self.lrs: 4\n",
      "self.lrs: 4\n",
      "self.lrs: 4\n",
      "self.lrs: 4\n",
      "self.lrs: 4\n",
      "self.lrs: 4\n"
     ]
    },
    {
     "name": "stderr",
     "output_type": "stream",
     "text": [
      "Traceback (most recent call last):\n",
      "  File \"/Users/epinyoanun/miniconda3/lib/python3.6/multiprocessing/queues.py\", line 240, in _feed\n",
      "    send_bytes(obj)\n",
      "  File \"/Users/epinyoanun/miniconda3/lib/python3.6/multiprocessing/connection.py\", line 200, in send_bytes\n",
      "    self._send_bytes(m[offset:offset + size])\n",
      "  File \"/Users/epinyoanun/miniconda3/lib/python3.6/multiprocessing/connection.py\", line 404, in _send_bytes\n",
      "    self._send(header + buf)\n",
      "  File \"/Users/epinyoanun/miniconda3/lib/python3.6/multiprocessing/connection.py\", line 368, in _send\n",
      "    n = write(self._handle, buf)\n",
      "Traceback (most recent call last):\n",
      "BrokenPipeError: [Errno 32] Broken pipe\n",
      "  File \"/Users/epinyoanun/miniconda3/lib/python3.6/multiprocessing/queues.py\", line 240, in _feed\n",
      "    send_bytes(obj)\n",
      "  File \"/Users/epinyoanun/miniconda3/lib/python3.6/multiprocessing/connection.py\", line 200, in send_bytes\n",
      "    self._send_bytes(m[offset:offset + size])\n",
      "  File \"/Users/epinyoanun/miniconda3/lib/python3.6/multiprocessing/connection.py\", line 404, in _send_bytes\n",
      "    self._send(header + buf)\n",
      "  File \"/Users/epinyoanun/miniconda3/lib/python3.6/multiprocessing/connection.py\", line 368, in _send\n",
      "    n = write(self._handle, buf)\n",
      "BrokenPipeError: [Errno 32] Broken pipe\n",
      "Traceback (most recent call last):\n",
      "  File \"/Users/epinyoanun/miniconda3/lib/python3.6/multiprocessing/queues.py\", line 240, in _feed\n",
      "    send_bytes(obj)\n",
      "  File \"/Users/epinyoanun/miniconda3/lib/python3.6/multiprocessing/connection.py\", line 200, in send_bytes\n",
      "    self._send_bytes(m[offset:offset + size])\n",
      "  File \"/Users/epinyoanun/miniconda3/lib/python3.6/multiprocessing/connection.py\", line 404, in _send_bytes\n",
      "    self._send(header + buf)\n",
      "  File \"/Users/epinyoanun/miniconda3/lib/python3.6/multiprocessing/connection.py\", line 368, in _send\n",
      "    n = write(self._handle, buf)\n",
      "BrokenPipeError: [Errno 32] Broken pipe\n",
      "Traceback (most recent call last):\n",
      "  File \"/Users/epinyoanun/miniconda3/lib/python3.6/multiprocessing/queues.py\", line 240, in _feed\n",
      "    send_bytes(obj)\n",
      "  File \"/Users/epinyoanun/miniconda3/lib/python3.6/multiprocessing/connection.py\", line 200, in send_bytes\n",
      "    self._send_bytes(m[offset:offset + size])\n",
      "  File \"/Users/epinyoanun/miniconda3/lib/python3.6/multiprocessing/connection.py\", line 404, in _send_bytes\n",
      "    self._send(header + buf)\n",
      "  File \"/Users/epinyoanun/miniconda3/lib/python3.6/multiprocessing/connection.py\", line 368, in _send\n",
      "    n = write(self._handle, buf)\n",
      "BrokenPipeError: [Errno 32] Broken pipe\n",
      "Traceback (most recent call last):\n",
      "  File \"/Users/epinyoanun/miniconda3/lib/python3.6/multiprocessing/queues.py\", line 240, in _feed\n",
      "    send_bytes(obj)\n",
      "  File \"/Users/epinyoanun/miniconda3/lib/python3.6/multiprocessing/connection.py\", line 200, in send_bytes\n",
      "    self._send_bytes(m[offset:offset + size])\n",
      "  File \"/Users/epinyoanun/miniconda3/lib/python3.6/multiprocessing/connection.py\", line 404, in _send_bytes\n",
      "    self._send(header + buf)\n",
      "  File \"/Users/epinyoanun/miniconda3/lib/python3.6/multiprocessing/connection.py\", line 368, in _send\n",
      "    n = write(self._handle, buf)\n",
      "BrokenPipeError: [Errno 32] Broken pipe\n",
      "Traceback (most recent call last):\n",
      "Traceback (most recent call last):\n",
      "  File \"/Users/epinyoanun/miniconda3/lib/python3.6/multiprocessing/queues.py\", line 240, in _feed\n",
      "    send_bytes(obj)\n",
      "  File \"/Users/epinyoanun/miniconda3/lib/python3.6/multiprocessing/connection.py\", line 200, in send_bytes\n",
      "    self._send_bytes(m[offset:offset + size])\n",
      "  File \"/Users/epinyoanun/miniconda3/lib/python3.6/multiprocessing/connection.py\", line 404, in _send_bytes\n",
      "    self._send(header + buf)\n",
      "  File \"/Users/epinyoanun/miniconda3/lib/python3.6/multiprocessing/connection.py\", line 368, in _send\n",
      "    n = write(self._handle, buf)\n",
      "BrokenPipeError: [Errno 32] Broken pipe\n",
      "  File \"/Users/epinyoanun/miniconda3/lib/python3.6/multiprocessing/queues.py\", line 240, in _feed\n",
      "    send_bytes(obj)\n",
      "  File \"/Users/epinyoanun/miniconda3/lib/python3.6/multiprocessing/connection.py\", line 200, in send_bytes\n",
      "    self._send_bytes(m[offset:offset + size])\n",
      "  File \"/Users/epinyoanun/miniconda3/lib/python3.6/multiprocessing/connection.py\", line 404, in _send_bytes\n",
      "    self._send(header + buf)\n",
      "  File \"/Users/epinyoanun/miniconda3/lib/python3.6/multiprocessing/connection.py\", line 368, in _send\n",
      "    n = write(self._handle, buf)\n",
      "BrokenPipeError: [Errno 32] Broken pipe\n"
     ]
    },
    {
     "ename": "KeyboardInterrupt",
     "evalue": "",
     "output_type": "error",
     "traceback": [
      "\u001b[0;31m---------------------------------------------------------------------------\u001b[0m",
      "\u001b[0;31mKeyboardInterrupt\u001b[0m                         Traceback (most recent call last)",
      "\u001b[0;32m<ipython-input-189-10258a9ce465>\u001b[0m in \u001b[0;36m<module>\u001b[0;34m()\u001b[0m\n\u001b[1;32m    117\u001b[0m \u001b[0mlearner\u001b[0m \u001b[0;34m=\u001b[0m \u001b[0mLearner\u001b[0m\u001b[0;34m(\u001b[0m\u001b[0mdata_loader_train\u001b[0m\u001b[0;34m,\u001b[0m \u001b[0mdata_loader_test\u001b[0m\u001b[0;34m,\u001b[0m \u001b[0mmodel\u001b[0m\u001b[0;34m,\u001b[0m \u001b[0;32mNone\u001b[0m\u001b[0;34m,\u001b[0m \u001b[0mcriterion\u001b[0m\u001b[0;34m)\u001b[0m\u001b[0;34m\u001b[0m\u001b[0;34m\u001b[0m\u001b[0m\n\u001b[1;32m    118\u001b[0m \u001b[0;31m# learner.fit(0.003, 3)\u001b[0m\u001b[0;34m\u001b[0m\u001b[0;34m\u001b[0m\u001b[0;34m\u001b[0m\u001b[0m\n\u001b[0;32m--> 119\u001b[0;31m \u001b[0mlearner\u001b[0m\u001b[0;34m.\u001b[0m\u001b[0mlr_find\u001b[0m\u001b[0;34m(\u001b[0m\u001b[0;34m)\u001b[0m\u001b[0;34m\u001b[0m\u001b[0;34m\u001b[0m\u001b[0m\n\u001b[0m",
      "\u001b[0;32m<ipython-input-189-10258a9ce465>\u001b[0m in \u001b[0;36mlr_find\u001b[0;34m(self, start_lr, end_lr, num_it)\u001b[0m\n\u001b[1;32m    110\u001b[0m         \u001b[0mlr_finder\u001b[0m \u001b[0;34m=\u001b[0m \u001b[0mLRFinder\u001b[0m\u001b[0;34m(\u001b[0m\u001b[0mstart_lr\u001b[0m\u001b[0;34m,\u001b[0m \u001b[0mend_lr\u001b[0m\u001b[0;34m,\u001b[0m \u001b[0mnum_it\u001b[0m\u001b[0;34m,\u001b[0m \u001b[0moptimizer\u001b[0m\u001b[0;34m)\u001b[0m\u001b[0;34m\u001b[0m\u001b[0;34m\u001b[0m\u001b[0m\n\u001b[1;32m    111\u001b[0m         \u001b[0;32mwhile\u001b[0m \u001b[0;32mTrue\u001b[0m\u001b[0;34m:\u001b[0m\u001b[0;34m\u001b[0m\u001b[0;34m\u001b[0m\u001b[0m\n\u001b[0;32m--> 112\u001b[0;31m             \u001b[0mself\u001b[0m\u001b[0;34m.\u001b[0m\u001b[0m_run_model\u001b[0m\u001b[0;34m(\u001b[0m\u001b[0;34m'train'\u001b[0m\u001b[0;34m,\u001b[0m \u001b[0moptimizer\u001b[0m\u001b[0;34m,\u001b[0m \u001b[0mlr_finder\u001b[0m\u001b[0;34m)\u001b[0m\u001b[0;34m\u001b[0m\u001b[0;34m\u001b[0m\u001b[0m\n\u001b[0m\u001b[1;32m    113\u001b[0m             \u001b[0;32mif\u001b[0m \u001b[0mlr_finder\u001b[0m\u001b[0;34m.\u001b[0m\u001b[0mis_done\u001b[0m\u001b[0;34m(\u001b[0m\u001b[0;34m)\u001b[0m\u001b[0;34m:\u001b[0m \u001b[0;32mbreak\u001b[0m\u001b[0;34m\u001b[0m\u001b[0;34m\u001b[0m\u001b[0m\n\u001b[1;32m    114\u001b[0m         \u001b[0mplt\u001b[0m\u001b[0;34m.\u001b[0m\u001b[0msemilogx\u001b[0m\u001b[0;34m(\u001b[0m\u001b[0mlr_finder\u001b[0m\u001b[0;34m.\u001b[0m\u001b[0mlrs\u001b[0m\u001b[0;34m,\u001b[0m \u001b[0mlr_finder\u001b[0m\u001b[0;34m.\u001b[0m\u001b[0mlosses\u001b[0m\u001b[0;34m)\u001b[0m\u001b[0;34m\u001b[0m\u001b[0;34m\u001b[0m\u001b[0m\n",
      "\u001b[0;32m<ipython-input-189-10258a9ce465>\u001b[0m in \u001b[0;36m_run_model\u001b[0;34m(self, phase, optimizer, callback)\u001b[0m\n\u001b[1;32m     90\u001b[0m                     \u001b[0moptimizer\u001b[0m\u001b[0;34m.\u001b[0m\u001b[0mzero_grad\u001b[0m\u001b[0;34m(\u001b[0m\u001b[0;34m)\u001b[0m\u001b[0;34m\u001b[0m\u001b[0;34m\u001b[0m\u001b[0m\n\u001b[1;32m     91\u001b[0m                     \u001b[0mloss\u001b[0m\u001b[0;34m.\u001b[0m\u001b[0mbackward\u001b[0m\u001b[0;34m(\u001b[0m\u001b[0;34m)\u001b[0m\u001b[0;34m\u001b[0m\u001b[0;34m\u001b[0m\u001b[0m\n\u001b[0;32m---> 92\u001b[0;31m                     \u001b[0moptimizer\u001b[0m\u001b[0;34m.\u001b[0m\u001b[0mstep\u001b[0m\u001b[0;34m(\u001b[0m\u001b[0;34m)\u001b[0m\u001b[0;34m\u001b[0m\u001b[0;34m\u001b[0m\u001b[0m\n\u001b[0m\u001b[1;32m     93\u001b[0m                     \u001b[0;32mif\u001b[0m \u001b[0mcallback\u001b[0m\u001b[0;34m:\u001b[0m\u001b[0;34m\u001b[0m\u001b[0;34m\u001b[0m\u001b[0m\n\u001b[1;32m     94\u001b[0m                         \u001b[0mcallback\u001b[0m\u001b[0;34m.\u001b[0m\u001b[0miterate\u001b[0m\u001b[0;34m(\u001b[0m\u001b[0mloss\u001b[0m\u001b[0;34m,\u001b[0m \u001b[0moutput\u001b[0m\u001b[0;34m,\u001b[0m \u001b[0mtarget\u001b[0m\u001b[0;34m)\u001b[0m\u001b[0;34m\u001b[0m\u001b[0;34m\u001b[0m\u001b[0m\n",
      "\u001b[0;32m~/miniconda3/lib/python3.6/site-packages/torch/optim/adam.py\u001b[0m in \u001b[0;36mstep\u001b[0;34m(self, closure)\u001b[0m\n\u001b[1;32m    105\u001b[0m                 \u001b[0mstep_size\u001b[0m \u001b[0;34m=\u001b[0m \u001b[0mgroup\u001b[0m\u001b[0;34m[\u001b[0m\u001b[0;34m'lr'\u001b[0m\u001b[0;34m]\u001b[0m \u001b[0;34m*\u001b[0m \u001b[0mmath\u001b[0m\u001b[0;34m.\u001b[0m\u001b[0msqrt\u001b[0m\u001b[0;34m(\u001b[0m\u001b[0mbias_correction2\u001b[0m\u001b[0;34m)\u001b[0m \u001b[0;34m/\u001b[0m \u001b[0mbias_correction1\u001b[0m\u001b[0;34m\u001b[0m\u001b[0;34m\u001b[0m\u001b[0m\n\u001b[1;32m    106\u001b[0m \u001b[0;34m\u001b[0m\u001b[0m\n\u001b[0;32m--> 107\u001b[0;31m                 \u001b[0mp\u001b[0m\u001b[0;34m.\u001b[0m\u001b[0mdata\u001b[0m\u001b[0;34m.\u001b[0m\u001b[0maddcdiv_\u001b[0m\u001b[0;34m(\u001b[0m\u001b[0;34m-\u001b[0m\u001b[0mstep_size\u001b[0m\u001b[0;34m,\u001b[0m \u001b[0mexp_avg\u001b[0m\u001b[0;34m,\u001b[0m \u001b[0mdenom\u001b[0m\u001b[0;34m)\u001b[0m\u001b[0;34m\u001b[0m\u001b[0;34m\u001b[0m\u001b[0m\n\u001b[0m\u001b[1;32m    108\u001b[0m \u001b[0;34m\u001b[0m\u001b[0m\n\u001b[1;32m    109\u001b[0m         \u001b[0;32mreturn\u001b[0m \u001b[0mloss\u001b[0m\u001b[0;34m\u001b[0m\u001b[0;34m\u001b[0m\u001b[0m\n",
      "\u001b[0;31mKeyboardInterrupt\u001b[0m: "
     ]
    }
   ],
   "source": [
    "from typing import Callable\n",
    "class Callback:\n",
    "    def iterate(self, loss, output, target): pass\n",
    "    def done(self, phase, num_data): pass\n",
    "    def is_done(self): pass\n",
    "    \n",
    "class FitTracker(Callback):\n",
    "    def __init__(self):\n",
    "        super().__init__()\n",
    "        self.total_loss = 0\n",
    "        self.total_correct = 0\n",
    "        \n",
    "    def iterate(self, loss, output, target):\n",
    "        # ------ find correct ----------\n",
    "        # max of dimension 1, keepdim, and [0] is value / [1] is index (we need only index)\n",
    "        pred = output.max(1)[1] # get the index of the max log-probability\n",
    "        correct = pred.eq(target).sum().item()\n",
    "        # ------------------------------\n",
    "        self.total_loss += loss.item()\n",
    "        self.total_correct += correct\n",
    "        \n",
    "    def done(self, phase, num_data):\n",
    "        epoch_loss = self.total_loss / num_data*100\n",
    "        epoch_acc = self.total_correct / num_data*100\n",
    "        print('   [{}] Average loss: {:.4f}, acc: {:.2f}%'.format(phase, epoch_loss, epoch_acc))\n",
    "        self.total_loss = 0\n",
    "        self.total_correct = 0\n",
    "        \n",
    "class LRFinder(Callback):\n",
    "    def __init__(self, start_lr, end_lr, num_it, optimizer, num_batch=10):\n",
    "        super().__init__()\n",
    "        self.start_lr = start_lr\n",
    "        self.end_lr = end_lr\n",
    "        self.num_it = num_it\n",
    "        self.optimizer = optimizer\n",
    "        self.num_batch = num_batch\n",
    "        \n",
    "        self.losses = []\n",
    "        self.total_loss = 0\n",
    "        self.lrs = []\n",
    "        self.count = 0\n",
    "        \n",
    "    def annealing_exp(self, start:float, end:float, pct:float)->float:\n",
    "        \"Exponentially anneal from `start` to `end` as pct goes from 0.0 to 1.0.\"\n",
    "        return start * (end/start) ** pct\n",
    "    \n",
    "    def update_lr(self):\n",
    "        lr = self.annealing_exp(self.start_lr, self.end_lr, len(self.lrs)/self.num_it)\n",
    "        for param_group in self.optimizer.param_groups:\n",
    "            param_group['lr'] = lr\n",
    "        return lr\n",
    "    \n",
    "    def iterate(self, loss, output, target):\n",
    "        self.total_loss += loss.item()\n",
    "        self.count += 1\n",
    "        if self.count == self.num_batch:\n",
    "            self.lrs.append(self.update_lr())\n",
    "            self.losses.append(self.total_loss/self.num_batch)\n",
    "            self.count = 0\n",
    "            self.total_loss =0\n",
    "            \n",
    "    def is_done(self): return len(self.losses)>self.num_it\n",
    "        \n",
    "class Learner:\n",
    "    \n",
    "    def __init__(self, data_loader_train, data_loader_test, model, scheduler, criterion):\n",
    "        self.data_loader_train = data_loader_train\n",
    "        self.data_loader_test  = data_loader_test\n",
    "        self.model             = model\n",
    "        self.scheduler         = scheduler\n",
    "        self.criterion         = criterion\n",
    "\n",
    "    def _run_model(self, phase, optimizer, callback:Callable=None):\n",
    "        running_correct = 0\n",
    "        running_loss = 0\n",
    "        if phase=='train':\n",
    "            if self.scheduler: self.scheduler.step()\n",
    "            model.train()\n",
    "            data_loader = self.data_loader_train\n",
    "        else:\n",
    "            model.eval() # to tell model to adjust to test phase (eg. no dropout)\n",
    "            data_loader = self.data_loader_test\n",
    "            \n",
    "        with torch.set_grad_enabled(phase=='train'):\n",
    "            for data in data_loader:\n",
    "                data, target = (i.to(device) for i in data)\n",
    "                output = self.model(data)\n",
    "                loss = self.criterion(output, target)\n",
    "                \n",
    "                if phase == 'train':\n",
    "                    optimizer.zero_grad()\n",
    "                    loss.backward()\n",
    "                    optimizer.step()\n",
    "                if callback: \n",
    "                    callback.iterate(loss, output, target)\n",
    "                    if callback.is_done(): break\n",
    "                \n",
    "                \n",
    "        if callback: callback.done(phase, len(data_loader.dataset))\n",
    "    \n",
    "    def fit(self, lr:float=0.003, num_epochs:int=25)->None:\n",
    "        optimizer = optim.Adam(self.model.parameters(), lr=lr)\n",
    "        fit_tracker = FitTracker()\n",
    "        for i in range(num_epochs):\n",
    "            print(f'---- epoch:{i} ------')\n",
    "            self._run_model('train', optimizer, fit_tracker)\n",
    "            self._run_model('test', optimizer, fit_tracker)\n",
    "            \n",
    "    def lr_find(self, start_lr:float=1e-7, end_lr:float=10, num_it:int=100)->None:\n",
    "        optimizer = optim.Adam(self.model.parameters(), lr=start_lr)\n",
    "        lr_finder = LRFinder(start_lr, end_lr, num_it, optimizer)\n",
    "        while True:\n",
    "            self._run_model('train', optimizer, lr_finder)\n",
    "            if lr_finder.is_done(): break\n",
    "        plt.semilogx(lr_finder.lrs, lr_finder.losses)\n",
    "\n",
    "learner = Learner(data_loader_train, data_loader_test, model, None, criterion)\n",
    "learner.fit(0.003, 3)\n",
    "# learner.lr_find(1e-4, 1)"
   ]
  },
  {
   "cell_type": "markdown",
   "metadata": {},
   "source": [
    "with random rotate+zoom : train:100, test 83.31"
   ]
  },
  {
   "cell_type": "code",
   "execution_count": 148,
   "metadata": {
    "scrolled": false
   },
   "outputs": [
    {
     "data": {
      "text/plain": [
       "[<matplotlib.lines.Line2D at 0x12661ad30>]"
      ]
     },
     "execution_count": 148,
     "metadata": {},
     "output_type": "execute_result"
    },
    {
     "data": {
      "image/png": "[encoded data removed]",
      "text/plain": [
       "<Figure size 432x288 with 1 Axes>"
      ]
     },
     "metadata": {},
     "output_type": "display_data"
    }
   ],
   "source": [
    "def annealing_exp(start:float, end:float, pct:float)->float:\n",
    "    \"Exponentially anneal from `start` to `end` as pct goes from 0.0 to 1.0.\"\n",
    "    return start * (end/start) ** pct\n",
    "y = [annealing_exp(1e-7, 10, i/300) for i in range(300)]\n",
    "plt.plot(y)"
   ]
  }
 ],
 "metadata": {
  "kernelspec": {
   "display_name": "Python 3",
   "language": "python",
   "name": "python3"
  },
  "language_info": {
   "codemirror_mode": {
    "name": "ipython",
    "version": 3
   },
   "file_extension": ".py",
   "mimetype": "text/x-python",
   "name": "python",
   "nbconvert_exporter": "python",
   "pygments_lexer": "ipython3",
   "version": "3.6.7"
  }
 },
 "nbformat": 4,
 "nbformat_minor": 2
}
