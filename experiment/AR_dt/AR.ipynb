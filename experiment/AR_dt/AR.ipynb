{
 "cells": [
  {
   "cell_type": "code",
   "execution_count": 1,
   "metadata": {},
   "outputs": [],
   "source": [
    "import cv2\n",
    "import numpy as np\n",
    "import matplotlib.pyplot as plt\n",
    "import pathlib\n",
    "import shutil\n",
    "import os\n",
    "import csv\n",
    "%matplotlib inline"
   ]
  },
  {
   "cell_type": "code",
   "execution_count": 2,
   "metadata": {},
   "outputs": [],
   "source": [
    "TRAIN_FOLDER = './data/train'\n",
    "VAL_FOLDER = './data/val'\n",
    "TEST_FOLDER = './data/test'\n",
    "IMAGE_SIZE = 224"
   ]
  },
  {
   "cell_type": "markdown",
   "metadata": {},
   "source": [
    "### 1. generate object images with perspective"
   ]
  },
  {
   "cell_type": "code",
   "execution_count": 77,
   "metadata": {},
   "outputs": [],
   "source": [
    "object_img = cv2.imread('source-data/dt.png', cv2.IMREAD_UNCHANGED)\n",
    "object_img = cv2.resize(object_img, (IMAGE_SIZE, IMAGE_SIZE))\n",
    "\n",
    "rows,cols,ch = object_img.shape\n",
    "\n",
    "SMALL_RECT_LEFT = rows*2/6\n",
    "SMALL_RECT_RIGHT = rows*4/6\n",
    "SMALL_RECT_TOP = cols*2/6\n",
    "SMALL_RECT_BOTTOM = cols*4/6"
   ]
  },
  {
   "cell_type": "code",
   "execution_count": 99,
   "metadata": {},
   "outputs": [],
   "source": [
    "def get_image(path, num_image=100):\n",
    "    if os.path.isdir(path):\n",
    "        shutil.rmtree(path)\n",
    "    os.mkdir(path)\n",
    "\n",
    "    corners = []\n",
    "\n",
    "    i = 0\n",
    "    while i < num_image:\n",
    "        # change color\n",
    "        hsv_color = cv2.cvtColor(object_img, cv2.COLOR_BGR2HSV)\n",
    "        rand = np.random.randint(0, 180)\n",
    "        hsv_color[:, :, 0] += rand\n",
    "        hsv_color = cv2.cvtColor(hsv_color, cv2.COLOR_HSV2BGR)\n",
    "        \n",
    "        # random all points\n",
    "        left = np.random.randint(0, SMALL_RECT_LEFT, size=2)\n",
    "        right = np.random.randint(SMALL_RECT_RIGHT, cols, size=2)\n",
    "        top = np.random.randint(0, SMALL_RECT_TOP, size=2)\n",
    "        bottom = np.random.randint(SMALL_RECT_BOTTOM, rows, size=2)\n",
    "\n",
    "        # re-random if bottom-left point is over the diagonal\n",
    "        # because image start from top-left so the y-axis should be opposite\n",
    "        top_right_to_bottom_left_slope = -(top[1]-bottom[0])/(right[0]-left[1])\n",
    "        bottom_right_to_bottom_left_slope = -(bottom[1]-bottom[0])/(right[1]-left[1])\n",
    "        if bottom_right_to_bottom_left_slope > top_right_to_bottom_left_slope:\n",
    "            print('re-random at ', path, i)\n",
    "            continue\n",
    "\n",
    "        # declare points\n",
    "        pts1 = np.float32([[0,0],[cols,0],[0,rows],[cols, rows]])\n",
    "\n",
    "        top_left = [left[0], top[0]]\n",
    "        right_top = [right[0], top[1]]\n",
    "        left_bottom = [left[1], bottom[0]]\n",
    "        right_bottom = [right[1], bottom[1]]\n",
    "        pts2 = np.float32([top_left, right_top, left_bottom, right_bottom])\n",
    "\n",
    "\n",
    "        # transform\n",
    "        perspectiveTransform = cv2.getPerspectiveTransform(pts1,pts2)\n",
    "        wrapPerspective = cv2.warpPerspective(hsv_color, perspectiveTransform, (cols, rows))\n",
    "        \n",
    "        pathlib.Path(path).mkdir(parents=True, exist_ok=True)\n",
    "        cv2.imwrite(f'{path}/object_image{i}.png',wrapPerspective)\n",
    "\n",
    "        points = np.concatenate((top_left, right_top, left_bottom, right_bottom))\n",
    "        corners.append(points)\n",
    "\n",
    "        i+=1\n",
    "    file = open(f'{path}/corners.csv', 'w')\n",
    "    with file:\n",
    "        writer = csv.writer(file)\n",
    "        writer.writerows(corners)"
   ]
  },
  {
   "cell_type": "code",
   "execution_count": 100,
   "metadata": {},
   "outputs": [],
   "source": [
    "get_image(TRAIN_FOLDER, 1024)\n",
    "get_image(VAL_FOLDER, 128)\n",
    "get_image(TEST_FOLDER, 128)"
   ]
  },
  {
   "cell_type": "markdown",
   "metadata": {},
   "source": [
    "### 2. Train"
   ]
  },
  {
   "cell_type": "code",
   "execution_count": 55,
   "metadata": {},
   "outputs": [
    {
     "name": "stderr",
     "output_type": "stream",
     "text": [
      "/Users/epinyoanun/miniconda3/lib/python3.6/site-packages/h5py/__init__.py:36: FutureWarning: Conversion of the second argument of issubdtype from `float` to `np.floating` is deprecated. In future, it will be treated as `np.float64 == np.dtype(float).type`.\n",
      "  from ._conv import register_converters as _register_converters\n",
      "Using TensorFlow backend.\n"
     ]
    }
   ],
   "source": [
    "import csv\n",
    "import math\n",
    "\n",
    "import cv2\n",
    "from keras.applications.mobilenet import MobileNet, _depthwise_conv_block\n",
    "from keras.callbacks import ModelCheckpoint, EarlyStopping\n",
    "from keras.layers import *\n",
    "from keras.models import *\n",
    "from keras.preprocessing.image import *\n",
    "from keras.utils import Sequence\n",
    "\n",
    "ALPHA = 0.25\n",
    "# IMAGE_SIZE = 128 move to top\n",
    "\n",
    "EPOCHS = 5000\n",
    "PATIENCE = 100\n",
    "\n",
    "\n",
    "class DataSequence(Sequence):\n",
    "\n",
    "    def __load_images(self, dataset):\n",
    "        out = []\n",
    "        for file_name in dataset:\n",
    "            im = cv2.resize(cv2.imread(file_name), (self.image_size, self.image_size))\n",
    "            out.append(im)\n",
    "\n",
    "        return np.array(out)\n",
    "\n",
    "    def __init__(self, csv_file, image_path, image_size, batch_size=32, feature_scaling=False):\n",
    "        self.csv_file = csv_file\n",
    "        with open(self.csv_file, \"r\") as file:\n",
    "            reader = csv.reader(file, delimiter=\",\")\n",
    "            arr = list(reader)\n",
    "\n",
    "        self.y = np.zeros((len(arr), 8))\n",
    "        self.x = []\n",
    "        self.image_size = image_size\n",
    "\n",
    "        # for index, (path, class_id, width, height, x0, y0, x1, y1) in enumerate(arr):\n",
    "        for index, coner_points in enumerate(arr):\n",
    "            self.y[index] = np.array(coner_points)\n",
    "            self.x.append(f'{image_path}/object_image{index}.png')\n",
    "\n",
    "        self.batch_size = batch_size\n",
    "        self.feature_scaling = feature_scaling\n",
    "        if self.feature_scaling:\n",
    "            dataset = self.__load_images(self.x)\n",
    "            broadcast_shape = [1, 1, 1]\n",
    "            broadcast_shape[2] = dataset.shape[3]\n",
    "\n",
    "            self.mean = np.mean(dataset, axis=(0, 1, 2))\n",
    "            self.mean = np.reshape(self.mean, broadcast_shape)\n",
    "            self.std = np.std(dataset, axis=(0, 1, 2))\n",
    "            self.std = np.reshape(self.std, broadcast_shape) + K.epsilon()\n",
    "\n",
    "    def __len__(self):\n",
    "        return math.ceil(len(self.x) / self.batch_size)\n",
    "\n",
    "    def __getitem__(self, idx):\n",
    "        batch_x = self.x[idx * self.batch_size:(idx + 1) * self.batch_size]\n",
    "        batch_y = self.y[idx * self.batch_size:(idx + 1) * self.batch_size]\n",
    "\n",
    "        images = self.__load_images(batch_x).astype('float32')\n",
    "        if self.feature_scaling:\n",
    "            images -= self.mean\n",
    "            images /= self.std\n",
    "\n",
    "        return images, batch_y\n",
    "\n",
    "\n",
    "def create_model(size, alpha):\n",
    "    model_net = MobileNet(input_shape=(size, size, 3), include_top=False, alpha=alpha)\n",
    "    x = _depthwise_conv_block(model_net.layers[-1].output, 1024, alpha, 1, block_id=14)\n",
    "    x = MaxPooling2D(pool_size=(4, 4))(x)\n",
    "    x = Conv2D(8, kernel_size=(1, 1), padding=\"same\")(x)\n",
    "    x = Reshape((8,))(x)\n",
    "    \n",
    "    # if I use flatten it will cause overfitting, I don't know why\n",
    "#     x = Flatten()(x)\n",
    "#     x = Dense(8)(x)\n",
    "\n",
    "    return Model(inputs=model_net.input, outputs=x)\n",
    "\n",
    "\n",
    "def train(model, epochs, image_size):\n",
    "    train_datagen = DataSequence(\"./data/train/corners.csv\", \"./data/train\", image_size)\n",
    "    validation_datagen = DataSequence(\"./data/val/corners.csv\", \"./data/val\", image_size)\n",
    "\n",
    "    model.compile(loss=\"mean_squared_error\", optimizer=\"adam\", metrics=[\"accuracy\"])\n",
    "    checkpoint = ModelCheckpoint(\"model-{val_acc:.2f}.h5\", monitor=\"val_acc\", verbose=1, save_best_only=True,\n",
    "                                 save_weights_only=True, mode=\"auto\", period=1)\n",
    "    stop = EarlyStopping(monitor=\"val_acc\", patience=PATIENCE, mode=\"auto\")\n",
    "\n",
    "    model.fit_generator(train_datagen, steps_per_epoch=1028, epochs=epochs, validation_data=validation_datagen,\n",
    "                        validation_steps=22, callbacks=[checkpoint, stop])\n"
   ]
  },
  {
   "cell_type": "code",
   "execution_count": null,
   "metadata": {},
   "outputs": [],
   "source": [
    "def main():\n",
    "    model = create_model(IMAGE_SIZE, ALPHA)\n",
    "    train(model, EPOCHS, IMAGE_SIZE)\n",
    "\n",
    "\n",
    "if __name__ == \"__main__\":\n",
    "    main()\n"
   ]
  },
  {
   "cell_type": "markdown",
   "metadata": {},
   "source": [
    "### 3. Validation/ gen prediction lines"
   ]
  },
  {
   "cell_type": "code",
   "execution_count": 56,
   "metadata": {},
   "outputs": [],
   "source": [
    "import shutil\n",
    "import glob\n",
    "\n",
    "OUTPUT_TEST_PATH = './data/output_test'\n",
    "if os.path.isdir(OUTPUT_TEST_PATH):\n",
    "    shutil.rmtree(OUTPUT_TEST_PATH)\n",
    "model = create_model(IMAGE_SIZE, ALPHA)\n",
    "model.load_weights('model-0.96.h5')\n",
    "\n",
    "image_paths = sorted(glob.glob('{}/*png'.format(TEST_FOLDER)))\n",
    "for i, image_path in enumerate(image_paths):\n",
    "    image = cv2.resize(cv2.imread(image_path), (IMAGE_SIZE, IMAGE_SIZE))\n",
    "    points = model.predict(x=np.array([image]))[0].astype(int)\n",
    "    points = np.array([[points[0], points[1]], \n",
    "                       [points[2], points[3]], \n",
    "                       [points[6], points[7]], \n",
    "                       [points[4], points[5]]])\n",
    "    cv2.polylines(image, [points], True, (255,255,255))\n",
    "    pathlib.Path(OUTPUT_TEST_PATH).mkdir(parents=True, exist_ok=True)\n",
    "    cv2.imwrite(f'{OUTPUT_TEST_PATH}/image{i}.png', image)"
   ]
  },
  {
   "cell_type": "code",
   "execution_count": null,
   "metadata": {},
   "outputs": [],
   "source": []
  }
 ],
 "metadata": {
  "kernelspec": {
   "display_name": "Python 3",
   "language": "python",
   "name": "python3"
  },
  "language_info": {
   "codemirror_mode": {
    "name": "ipython",
    "version": 3
   },
   "file_extension": ".py",
   "mimetype": "text/x-python",
   "name": "python",
   "nbconvert_exporter": "python",
   "pygments_lexer": "ipython3",
   "version": "3.6.4"
  }
 },
 "nbformat": 4,
 "nbformat_minor": 2
}
