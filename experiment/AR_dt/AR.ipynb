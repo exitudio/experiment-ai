{
 "cells": [
  {
   "cell_type": "code",
   "execution_count": 1,
   "metadata": {},
   "outputs": [],
   "source": [
    "import cv2\n",
    "import numpy as np\n",
    "import matplotlib.pyplot as plt\n",
    "import pathlib\n",
    "import shutil\n",
    "import os\n",
    "import csv\n",
    "%matplotlib inline"
   ]
  },
  {
   "cell_type": "code",
   "execution_count": 2,
   "metadata": {},
   "outputs": [],
   "source": [
    "DATA_PATH = './data'\n",
    "IMAGE_SIZE = 224"
   ]
  },
  {
   "cell_type": "markdown",
   "metadata": {},
   "source": [
    "### 1. generate object images with perspective"
   ]
  },
  {
   "cell_type": "code",
   "execution_count": 3,
   "metadata": {},
   "outputs": [],
   "source": [
    "object_img = cv2.imread('source-data/dt.png', cv2.IMREAD_UNCHANGED)\n",
    "object_img = cv2.resize(object_img, (IMAGE_SIZE, IMAGE_SIZE))\n",
    "\n",
    "rows,cols,ch = object_img.shape\n",
    "\n",
    "SMALL_RECT_LEFT = rows*2/6\n",
    "SMALL_RECT_RIGHT = rows*4/6\n",
    "SMALL_RECT_TOP = cols*2/6\n",
    "SMALL_RECT_BOTTOM = cols*4/6\n",
    "small_rectangle_border = ((SMALL_RECT_LEFT, SMALL_RECT_TOP),\n",
    "                         (SMALL_RECT_RIGHT, SMALL_RECT_TOP),\n",
    "                         (SMALL_RECT_LEFT, SMALL_RECT_BOTTOM),\n",
    "                         (SMALL_RECT_RIGHT, SMALL_RECT_BOTTOM))"
   ]
  },
  {
   "cell_type": "code",
   "execution_count": 4,
   "metadata": {},
   "outputs": [
    {
     "name": "stdout",
     "output_type": "stream",
     "text": [
      "re-random at  32\n"
     ]
    }
   ],
   "source": [
    "NUM_IMAGE = 100\n",
    "\n",
    "if os.path.isdir(DATA_PATH):\n",
    "    shutil.rmtree(DATA_PATH)\n",
    "os.mkdir(DATA_PATH)\n",
    "\n",
    "corners = []\n",
    "\n",
    "i = 0\n",
    "while i < NUM_IMAGE:\n",
    "    # random all points\n",
    "    left = np.random.randint(0, SMALL_RECT_LEFT, size=2)\n",
    "    right = np.random.randint(SMALL_RECT_RIGHT, cols, size=2)\n",
    "    top = np.random.randint(0, SMALL_RECT_TOP, size=2)\n",
    "    bottom = np.random.randint(SMALL_RECT_LEFT, rows, size=2)\n",
    "    \n",
    "    # re-random if bottom-left point is over the diagonal\n",
    "    # because image start from top-left so the y-axis should be opposite\n",
    "    top_right_to_bottom_left_slope = -(top[1]-bottom[0])/(right[0]-left[1])\n",
    "    bottom_right_to_bottom_left_slope = -(bottom[1]-bottom[0])/(right[1]-left[1])\n",
    "    if bottom_right_to_bottom_left_slope > top_right_to_bottom_left_slope:\n",
    "        print('re-random at ',i)\n",
    "        continue\n",
    "    \n",
    "    # declare points\n",
    "    pts1 = np.float32([[0,0],[cols,0],[0,rows],[cols, rows]])\n",
    "    \n",
    "    top_left = [left[0], top[0]]\n",
    "    right_top = [right[0], top[1]]\n",
    "    left_bottom = [left[1], bottom[0]]\n",
    "    right_bottom = [right[1], bottom[1]]\n",
    "    pts2 = np.float32([top_left, right_top, left_bottom, right_bottom])\n",
    "    \n",
    "    \n",
    "    # transform\n",
    "    perspectiveTransform = cv2.getPerspectiveTransform(pts1,pts2)\n",
    "    wrapPerspective = cv2.warpPerspective(object_img, perspectiveTransform, (cols, rows))\n",
    "    \n",
    "    pathlib.Path(DATA_PATH).mkdir(parents=True, exist_ok=True)\n",
    "    cv2.imwrite(f'{DATA_PATH}/object_image{i}.png',wrapPerspective)\n",
    "    \n",
    "    points = np.concatenate((top_left, right_top, left_bottom, right_bottom))\n",
    "    corners.append(points)\n",
    "    \n",
    "    i+=1\n"
   ]
  },
  {
   "cell_type": "code",
   "execution_count": 5,
   "metadata": {},
   "outputs": [],
   "source": [
    "file = open(f'{DATA_PATH}/corners.csv', 'w')\n",
    "with file:\n",
    "    writer = csv.writer(file)\n",
    "    writer.writerows(corners)"
   ]
  },
  {
   "cell_type": "markdown",
   "metadata": {},
   "source": [
    "### 2. Train"
   ]
  },
  {
   "cell_type": "code",
   "execution_count": null,
   "metadata": {},
   "outputs": [
    {
     "name": "stdout",
     "output_type": "stream",
     "text": [
      "Epoch 1/5000\n",
      "  55/1150 [>.............................] - ETA: 32:19 - loss: 8399.0164 - acc: 0.2108"
     ]
    }
   ],
   "source": [
    "import csv\n",
    "import math\n",
    "\n",
    "import cv2\n",
    "from keras.applications.mobilenet import MobileNet, _depthwise_conv_block\n",
    "from keras.callbacks import ModelCheckpoint, EarlyStopping\n",
    "from keras.layers import *\n",
    "from keras.models import *\n",
    "from keras.preprocessing.image import *\n",
    "from keras.utils import Sequence\n",
    "\n",
    "ALPHA = 0.25\n",
    "# IMAGE_SIZE = 128 move to top\n",
    "\n",
    "EPOCHS = 5000\n",
    "PATIENCE = 100\n",
    "\n",
    "\n",
    "class DataSequence(Sequence):\n",
    "\n",
    "    def __load_images(self, dataset):\n",
    "        out = []\n",
    "        for file_name in dataset:\n",
    "            im = cv2.resize(cv2.imread(file_name), (self.image_size, self.image_size))\n",
    "            out.append(im)\n",
    "\n",
    "        return np.array(out)\n",
    "\n",
    "    def __init__(self, csv_file, image_path, image_size, batch_size=32, feature_scaling=False):\n",
    "        self.csv_file = csv_file\n",
    "        with open(self.csv_file, \"r\") as file:\n",
    "            reader = csv.reader(file, delimiter=\",\")\n",
    "            arr = list(reader)\n",
    "\n",
    "        self.y = np.zeros((len(arr), 8))\n",
    "        self.x = []\n",
    "        self.image_size = image_size\n",
    "\n",
    "        # for index, (path, class_id, width, height, x0, y0, x1, y1) in enumerate(arr):\n",
    "        for index, coner_points in enumerate(arr):\n",
    "            self.y[index] = np.array(coner_points)\n",
    "            self.x.append(f'{image_path}/object_image{index}.png')\n",
    "\n",
    "        self.batch_size = batch_size\n",
    "        self.feature_scaling = feature_scaling\n",
    "        if self.feature_scaling:\n",
    "            dataset = self.__load_images(self.x)\n",
    "            broadcast_shape = [1, 1, 1]\n",
    "            broadcast_shape[2] = dataset.shape[3]\n",
    "\n",
    "            self.mean = np.mean(dataset, axis=(0, 1, 2))\n",
    "            self.mean = np.reshape(self.mean, broadcast_shape)\n",
    "            self.std = np.std(dataset, axis=(0, 1, 2))\n",
    "            self.std = np.reshape(self.std, broadcast_shape) + K.epsilon()\n",
    "\n",
    "    def __len__(self):\n",
    "        return math.ceil(len(self.x) / self.batch_size)\n",
    "\n",
    "    def __getitem__(self, idx):\n",
    "        batch_x = self.x[idx * self.batch_size:(idx + 1) * self.batch_size]\n",
    "        batch_y = self.y[idx * self.batch_size:(idx + 1) * self.batch_size]\n",
    "\n",
    "        images = self.__load_images(batch_x).astype('float32')\n",
    "        if self.feature_scaling:\n",
    "            images -= self.mean\n",
    "            images /= self.std\n",
    "\n",
    "        return images, batch_y\n",
    "\n",
    "\n",
    "def create_model(size, alpha):\n",
    "    model_net = MobileNet(input_shape=(size, size, 3), include_top=False, alpha=alpha)\n",
    "    x = _depthwise_conv_block(model_net.layers[-1].output, 1024, alpha, 1, block_id=14)\n",
    "    x = MaxPooling2D(pool_size=(3, 3))(x)\n",
    "    x = Conv2D(4, kernel_size=(1, 1), padding=\"same\")(x)\n",
    "#     x = Reshape((4,))(x)\n",
    "    x = Flatten()(x)\n",
    "    x = Dense(8)(x)\n",
    "\n",
    "    return Model(inputs=model_net.input, outputs=x)\n",
    "\n",
    "\n",
    "def train(model, epochs, image_size):\n",
    "    train_datagen = DataSequence(\"./data/corners.csv\", \"./data\", image_size)\n",
    "    validation_datagen = DataSequence(\"./data/corners.csv\", \"./data\", image_size)\n",
    "\n",
    "    model.compile(loss=\"mean_squared_error\", optimizer=\"adam\", metrics=[\"accuracy\"])\n",
    "    checkpoint = ModelCheckpoint(\"model-{val_acc:.2f}.h5\", monitor=\"val_acc\", verbose=1, save_best_only=True,\n",
    "                                 save_weights_only=True, mode=\"auto\", period=1)\n",
    "    stop = EarlyStopping(monitor=\"val_acc\", patience=PATIENCE, mode=\"auto\")\n",
    "\n",
    "    model.fit_generator(train_datagen, steps_per_epoch=1150, epochs=epochs, validation_data=validation_datagen,\n",
    "                        validation_steps=22, callbacks=[checkpoint, stop])\n",
    "\n",
    "\n",
    "def main():\n",
    "    model = create_model(IMAGE_SIZE, ALPHA)\n",
    "    train(model, EPOCHS, IMAGE_SIZE)\n",
    "\n",
    "\n",
    "if __name__ == \"__main__\":\n",
    "    main()\n"
   ]
  },
  {
   "cell_type": "code",
   "execution_count": null,
   "metadata": {},
   "outputs": [],
   "source": []
  }
 ],
 "metadata": {
  "kernelspec": {
   "display_name": "Python 3",
   "language": "python",
   "name": "python3"
  },
  "language_info": {
   "codemirror_mode": {
    "name": "ipython",
    "version": 3
   },
   "file_extension": ".py",
   "mimetype": "text/x-python",
   "name": "python",
   "nbconvert_exporter": "python",
   "pygments_lexer": "ipython3",
   "version": "3.6.4"
  }
 },
 "nbformat": 4,
 "nbformat_minor": 2
}
