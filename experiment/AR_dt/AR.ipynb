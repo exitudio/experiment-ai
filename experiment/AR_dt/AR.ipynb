{
 "cells": [
  {
   "cell_type": "code",
   "execution_count": 1,
   "metadata": {},
   "outputs": [],
   "source": [
    "import cv2\n",
    "import numpy as np\n",
    "import matplotlib.pyplot as plt\n",
    "%matplotlib inline"
   ]
  },
  {
   "cell_type": "markdown",
   "metadata": {},
   "source": [
    "### 1. manipulate object image"
   ]
  },
  {
   "cell_type": "code",
   "execution_count": 2,
   "metadata": {},
   "outputs": [],
   "source": [
    "img = cv2.imread('source-data/dt.png', cv2.IMREAD_UNCHANGED)\n",
    "rows,cols,ch = img.shape\n",
    "\n",
    "SMALL_RECT_LEFT = rows*2/6\n",
    "SMALL_RECT_RIGHT = rows*4/6\n",
    "SMALL_RECT_TOP = cols*2/6\n",
    "SMALL_RECT_BOTTOM = cols*4/6\n",
    "small_rectangle_border = ((SMALL_RECT_LEFT, SMALL_RECT_TOP),\n",
    "                         (SMALL_RECT_RIGHT, SMALL_RECT_TOP),\n",
    "                         (SMALL_RECT_LEFT, SMALL_RECT_BOTTOM),\n",
    "                         (SMALL_RECT_RIGHT, SMALL_RECT_BOTTOM))"
   ]
  },
  {
   "cell_type": "code",
   "execution_count": null,
   "metadata": {},
   "outputs": [],
   "source": []
  },
  {
   "cell_type": "code",
   "execution_count": null,
   "metadata": {},
   "outputs": [],
   "source": [
    "\n",
    "\n",
    "\n",
    "\n",
    "pts1 = np.float32([[0,0],[cols,0],[0,rows],[cols, rows]])\n",
    "pts2 = np.float32([[0,0],[cols-10,20],[20,rows-10],[cols,rows]])\n",
    "\n",
    "M = cv2.getPerspectiveTransform(pts1,pts2)\n",
    "\n",
    "# cv2.warpPerspective( img, getPerspectiveTransform, (cols, rows))\n",
    "dst = cv2.warpPerspective(img,M,(cols+100,rows+100))\n",
    "\n",
    "imgRGB = cv2.cvtColor(img, cv2.COLOR_BGR2RGB)\n",
    "dstRGB = cv2.cvtColor(dst, cv2.COLOR_BGR2RGB)\n",
    "plt.subplot(121),plt.imshow(imgRGB),plt.title('Input')\n",
    "plt.subplot(122),plt.imshow(dstRGB),plt.title('Output')\n",
    "plt.show()\n",
    "dst.shape"
   ]
  }
 ],
 "metadata": {
  "kernelspec": {
   "display_name": "Python 3",
   "language": "python",
   "name": "python3"
  },
  "language_info": {
   "codemirror_mode": {
    "name": "ipython",
    "version": 3
   },
   "file_extension": ".py",
   "mimetype": "text/x-python",
   "name": "python",
   "nbconvert_exporter": "python",
   "pygments_lexer": "ipython3",
   "version": "3.6.4"
  }
 },
 "nbformat": 4,
 "nbformat_minor": 2
}
