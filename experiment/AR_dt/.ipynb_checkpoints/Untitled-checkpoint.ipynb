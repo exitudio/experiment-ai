{
 "cells": [
  {
   "cell_type": "code",
   "execution_count": 7,
   "metadata": {},
   "outputs": [],
   "source": [
    "from PIL import Image, ImageDraw\n",
    "import glob\n",
    "import csv\n",
    "import cv2\n",
    "import pathlib\n",
    "import numpy as np\n",
    "import matplotlib.pyplot as plt\n",
    "%matplotlib inline"
   ]
  },
  {
   "cell_type": "code",
   "execution_count": 5,
   "metadata": {},
   "outputs": [],
   "source": [
    "DATA_PATH = './data'\n",
    "IMAGE_SIZE = 224"
   ]
  },
  {
   "cell_type": "code",
   "execution_count": 4,
   "metadata": {},
   "outputs": [],
   "source": [
    "import csv\n",
    "import math\n",
    "\n",
    "import cv2\n",
    "from keras.applications.mobilenet import MobileNet, _depthwise_conv_block\n",
    "from keras.callbacks import ModelCheckpoint, EarlyStopping\n",
    "from keras.layers import *\n",
    "from keras.models import *\n",
    "from keras.preprocessing.image import *\n",
    "from keras.utils import Sequence\n",
    "\n",
    "ALPHA = 0.25\n",
    "# IMAGE_SIZE = 128 move to top\n",
    "\n",
    "EPOCHS = 5000\n",
    "PATIENCE = 100\n",
    "\n",
    "\n",
    "class DataSequence(Sequence):\n",
    "\n",
    "    def __load_images(self, dataset):\n",
    "        out = []\n",
    "        for file_name in dataset:\n",
    "            im = cv2.resize(cv2.imread(file_name), (self.image_size, self.image_size))\n",
    "            out.append(im)\n",
    "\n",
    "        return np.array(out)\n",
    "\n",
    "    def __init__(self, csv_file, image_path, image_size, batch_size=32, feature_scaling=False):\n",
    "        self.csv_file = csv_file\n",
    "        with open(self.csv_file, \"r\") as file:\n",
    "            reader = csv.reader(file, delimiter=\",\")\n",
    "            arr = list(reader)\n",
    "\n",
    "        self.y = np.zeros((len(arr), 8))\n",
    "        self.x = []\n",
    "        self.image_size = image_size\n",
    "\n",
    "        # for index, (path, class_id, width, height, x0, y0, x1, y1) in enumerate(arr):\n",
    "        for index, coner_points in enumerate(arr):\n",
    "            self.y[index] = np.array(coner_points)\n",
    "            self.x.append(f'{image_path}/object_image{index}.png')\n",
    "\n",
    "        self.batch_size = batch_size\n",
    "        self.feature_scaling = feature_scaling\n",
    "        if self.feature_scaling:\n",
    "            dataset = self.__load_images(self.x)\n",
    "            broadcast_shape = [1, 1, 1]\n",
    "            broadcast_shape[2] = dataset.shape[3]\n",
    "\n",
    "            self.mean = np.mean(dataset, axis=(0, 1, 2))\n",
    "            self.mean = np.reshape(self.mean, broadcast_shape)\n",
    "            self.std = np.std(dataset, axis=(0, 1, 2))\n",
    "            self.std = np.reshape(self.std, broadcast_shape) + K.epsilon()\n",
    "\n",
    "    def __len__(self):\n",
    "        return math.ceil(len(self.x) / self.batch_size)\n",
    "\n",
    "    def __getitem__(self, idx):\n",
    "        batch_x = self.x[idx * self.batch_size:(idx + 1) * self.batch_size]\n",
    "        batch_y = self.y[idx * self.batch_size:(idx + 1) * self.batch_size]\n",
    "\n",
    "        images = self.__load_images(batch_x).astype('float32')\n",
    "        if self.feature_scaling:\n",
    "            images -= self.mean\n",
    "            images /= self.std\n",
    "\n",
    "        return images, batch_y\n",
    "\n",
    "\n",
    "def create_model(size, alpha):\n",
    "    model_net = MobileNet(input_shape=(size, size, 3), include_top=False, alpha=alpha)\n",
    "    x = _depthwise_conv_block(model_net.layers[-1].output, 1024, alpha, 1, block_id=14)\n",
    "    x = MaxPooling2D(pool_size=(3, 3))(x)\n",
    "    x = Conv2D(4, kernel_size=(1, 1), padding=\"same\")(x)\n",
    "#     x = Reshape((4,))(x)\n",
    "    x = Flatten()(x)\n",
    "    x = Dense(8)(x)\n",
    "\n",
    "    return Model(inputs=model_net.input, outputs=x)\n",
    "\n",
    "\n",
    "def train(model, epochs, image_size):\n",
    "    train_datagen = DataSequence(\"./data/train/corners.csv\", \"./data/train\", image_size)\n",
    "    validation_datagen = DataSequence(\"./data/val/corners.csv\", \"./data/val\", image_size)\n",
    "\n",
    "    model.compile(loss=\"mean_squared_error\", optimizer=\"adam\", metrics=[\"accuracy\"])\n",
    "    checkpoint = ModelCheckpoint(\"model-{val_acc:.2f}.h5\", monitor=\"val_acc\", verbose=1, save_best_only=True,\n",
    "                                 save_weights_only=True, mode=\"auto\", period=1)\n",
    "    stop = EarlyStopping(monitor=\"val_acc\", patience=PATIENCE, mode=\"auto\")\n",
    "\n",
    "    model.fit_generator(train_datagen, steps_per_epoch=1150, epochs=epochs, validation_data=validation_datagen,\n",
    "                        validation_steps=22, callbacks=[checkpoint, stop])\n",
    "\n",
    "\n",
    "def main():\n",
    "    model = create_model(IMAGE_SIZE, ALPHA)\n",
    "    train(model, EPOCHS, IMAGE_SIZE)\n"
   ]
  },
  {
   "cell_type": "code",
   "execution_count": 68,
   "metadata": {},
   "outputs": [],
   "source": [
    "TEST_SET_FOLDER = './data/test'\n",
    "OUTPUT_TEST_PATH = './data/output_test'\n",
    "\n",
    "model = create_model(IMAGE_SIZE, ALPHA)\n",
    "model.load_weights('model-0.69.h5')\n",
    "\n",
    "image_paths = sorted(glob.glob('{}/*png'.format(TEST_SET_FOLDER)))\n",
    "for i, image_path in enumerate(image_paths):\n",
    "    image = cv2.resize(cv2.imread(image_path), (IMAGE_SIZE, IMAGE_SIZE))\n",
    "    points = model.predict(x=np.array([image]))[0].astype(int)\n",
    "    points = np.array([[points[0], points[1]], \n",
    "                       [points[2], points[3]], \n",
    "                       [points[6], points[7]], \n",
    "                       [points[4], points[5]]])\n",
    "    cv2.polylines(image, [points], True, (255,255,255))\n",
    "    pathlib.Path(OUTPUT_TEST_PATH).mkdir(parents=True, exist_ok=True)\n",
    "    cv2.imwrite(f'{OUTPUT_TEST_PATH}/image{i}.png', image)"
   ]
  },
  {
   "cell_type": "code",
   "execution_count": 67,
   "metadata": {},
   "outputs": [
    {
     "data": {
      "text/plain": [
       "<matplotlib.image.AxesImage at 0x7ff8955f6be0>"
      ]
     },
     "execution_count": 67,
     "metadata": {},
     "output_type": "execute_result"
    },
    {
     "data": {
      "image/png": "[encoded data removed]",
      "text/plain": [
       "<Figure size 432x288 with 1 Axes>"
      ]
     },
     "metadata": {},
     "output_type": "display_data"
    }
   ],
   "source": [
    "img = np.zeros((100,100,3))\n",
    "image = cv2.resize(cv2.imread('./data/test/object_image0.png'), (IMAGE_SIZE, IMAGE_SIZE))\n",
    "points = model.predict(x=np.array([image]))[0].astype(int)\n",
    "points = np.array([[points[0], points[1]], [points[2], points[3]], [points[6], points[7]], [points[4], points[5]]])\n",
    "\n",
    "# points = np.array([[10, 10], [40, 10], [50, 40], [20, 40]])\n",
    "cv2.polylines(img, [points], True, (255,255,255))\n",
    "plt.imshow(img.astype(int))\n"
   ]
  },
  {
   "cell_type": "code",
   "execution_count": 64,
   "metadata": {},
   "outputs": [
    {
     "data": {
      "text/plain": [
       "array([1, 1, 1])"
      ]
     },
     "execution_count": 64,
     "metadata": {},
     "output_type": "execute_result"
    }
   ],
   "source": [
    "np.array([1.1,1.2,1.3]).astype(int)"
   ]
  },
  {
   "cell_type": "code",
   "execution_count": null,
   "metadata": {},
   "outputs": [],
   "source": []
  }
 ],
 "metadata": {
  "kernelspec": {
   "display_name": "Python 3",
   "language": "python",
   "name": "python3"
  },
  "language_info": {
   "codemirror_mode": {
    "name": "ipython",
    "version": 3
   },
   "file_extension": ".py",
   "mimetype": "text/x-python",
   "name": "python",
   "nbconvert_exporter": "python",
   "pygments_lexer": "ipython3",
   "version": "3.6.4"
  }
 },
 "nbformat": 4,
 "nbformat_minor": 2
}
