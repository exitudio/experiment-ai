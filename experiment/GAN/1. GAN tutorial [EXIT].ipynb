{
 "cells": [
  {
   "cell_type": "markdown",
   "metadata": {},
   "source": [
    "### GAN\n",
    "- [https://github.com/jonbruner/generative-adversarial-networks/blob/master/gan-script.py](https://github.com/jonbruner/generative-adversarial-networks/blob/master/gan-script.py) \n",
    "<br>\n",
    "From [https://www.oreilly.com/learning/generative-adversarial-networks-for-beginners](https://www.oreilly.com/learning/generative-adversarial-networks-for-beginners)\n",
    "<br>\n",
    "- [https://github.com/diegoalejogm/gans](https://github.com/diegoalejogm/gans)"
   ]
  },
  {
   "cell_type": "markdown",
   "metadata": {},
   "source": [
    "![diagram](images/diagram.png)"
   ]
  },
  {
   "cell_type": "markdown",
   "metadata": {},
   "source": [
    "[diagram](https://www.draw.io/#G17bPIBw8J0l-u_aD3TjViTyJ5l-3az0bz)"
   ]
  },
  {
   "cell_type": "code",
   "execution_count": 1,
   "metadata": {},
   "outputs": [],
   "source": [
    "%matplotlib inline"
   ]
  },
  {
   "cell_type": "code",
   "execution_count": 2,
   "metadata": {
    "scrolled": true
   },
   "outputs": [
    {
     "name": "stderr",
     "output_type": "stream",
     "text": [
      "/Users/epinyoanun/miniconda3/lib/python3.6/site-packages/h5py/__init__.py:36: FutureWarning: Conversion of the second argument of issubdtype from `float` to `np.floating` is deprecated. In future, it will be treated as `np.float64 == np.dtype(float).type`.\n",
      "  from ._conv import register_converters as _register_converters\n"
     ]
    }
   ],
   "source": [
    "import tensorflow as tf\n",
    "import numpy as np\n",
    "import datetime\n",
    "import matplotlib.pyplot as plt\n",
    "import cv2\n",
    "from IPython import display\n",
    "\n",
    "# Load MNIST data\n",
    "# from tensorflow.examples.tutorials.mnist import input_data\n",
    "# mnist = input_data.read_data_sets(\"MNIST_data/\")"
   ]
  },
  {
   "cell_type": "code",
   "execution_count": 3,
   "metadata": {},
   "outputs": [],
   "source": [
    "# Define the discriminator network\n",
    "def discriminator(images, reuse_variables=None):\n",
    "    with tf.variable_scope(tf.get_variable_scope(), reuse=reuse_variables) as scope:\n",
    "        # First convolutional and pool layers\n",
    "        # This finds 32 different 5 x 5 pixel features\n",
    "        d_w1 = tf.get_variable('d_w1', [5, 5, 1, 32], initializer=tf.truncated_normal_initializer(stddev=0.02))\n",
    "        d_b1 = tf.get_variable('d_b1', [32], initializer=tf.constant_initializer(0))\n",
    "        d1 = tf.nn.conv2d(input=images, filter=d_w1, strides=[1, 1, 1, 1], padding='SAME')\n",
    "        d1 = d1 + d_b1\n",
    "        d1 = tf.nn.relu(d1)\n",
    "        d1 = tf.nn.avg_pool(d1, ksize=[1, 2, 2, 1], strides=[1, 2, 2, 1], padding='SAME')\n",
    "\n",
    "        # Second convolutional and pool layers\n",
    "        # This finds 64 different 5 x 5 pixel features\n",
    "        d_w2 = tf.get_variable('d_w2', [5, 5, 32, 64], initializer=tf.truncated_normal_initializer(stddev=0.02))\n",
    "        d_b2 = tf.get_variable('d_b2', [64], initializer=tf.constant_initializer(0))\n",
    "        d2 = tf.nn.conv2d(input=d1, filter=d_w2, strides=[1, 1, 1, 1], padding='SAME')\n",
    "        d2 = d2 + d_b2\n",
    "        d2 = tf.nn.relu(d2)\n",
    "        d2 = tf.nn.avg_pool(d2, ksize=[1, 2, 2, 1], strides=[1, 2, 2, 1], padding='SAME')\n",
    "\n",
    "        # First fully connected layer\n",
    "        d_w3 = tf.get_variable('d_w3', [7 * 7 * 64, 1024], initializer=tf.truncated_normal_initializer(stddev=0.02))\n",
    "        d_b3 = tf.get_variable('d_b3', [1024], initializer=tf.constant_initializer(0))\n",
    "        d3 = tf.reshape(d2, [-1, 7 * 7 * 64])\n",
    "        d3 = tf.matmul(d3, d_w3)\n",
    "        d3 = d3 + d_b3\n",
    "        d3 = tf.nn.relu(d3)\n",
    "\n",
    "        # Second fully connected layer\n",
    "        d_w4 = tf.get_variable('d_w4', [1024, 1], initializer=tf.truncated_normal_initializer(stddev=0.02))\n",
    "        d_b4 = tf.get_variable('d_b4', [1], initializer=tf.constant_initializer(0))\n",
    "        d4 = tf.matmul(d3, d_w4) + d_b4\n",
    "\n",
    "        # d4 contains unscaled values\n",
    "        return d4\n",
    "\n",
    "# Define the generator network\n",
    "# TODO remove batch_size???\n",
    "def generator(z, batch_size, z_dim):\n",
    "    g_w1 = tf.get_variable('g_w1', [z_dim, 3136], dtype=tf.float32, initializer=tf.truncated_normal_initializer(stddev=0.02))\n",
    "    g_b1 = tf.get_variable('g_b1', [3136], initializer=tf.truncated_normal_initializer(stddev=0.02))\n",
    "    g1 = tf.matmul(z, g_w1) + g_b1\n",
    "    g1 = tf.reshape(g1, [-1, 56, 56, 1])\n",
    "    g1 = tf.contrib.layers.batch_norm(g1, epsilon=1e-5, scope='g_b1')\n",
    "    g1 = tf.nn.relu(g1)\n",
    "\n",
    "    # Generate 50 features\n",
    "    g_w2 = tf.get_variable('g_w2', [3, 3, 1, z_dim/2], dtype=tf.float32, initializer=tf.truncated_normal_initializer(stddev=0.02))\n",
    "    g_b2 = tf.get_variable('g_b2', [z_dim/2], initializer=tf.truncated_normal_initializer(stddev=0.02))\n",
    "    g2 = tf.nn.conv2d(g1, g_w2, strides=[1, 2, 2, 1], padding='SAME')\n",
    "    g2 = g2 + g_b2\n",
    "    g2 = tf.contrib.layers.batch_norm(g2, epsilon=1e-5, scope='g_b2')\n",
    "    g2 = tf.nn.relu(g2)\n",
    "    g2 = tf.image.resize_images(g2, [56, 56])\n",
    "\n",
    "    # Generate 25 features\n",
    "    g_w3 = tf.get_variable('g_w3', [3, 3, z_dim/2, z_dim/4], dtype=tf.float32, initializer=tf.truncated_normal_initializer(stddev=0.02))\n",
    "    g_b3 = tf.get_variable('g_b3', [z_dim/4], initializer=tf.truncated_normal_initializer(stddev=0.02))\n",
    "    g3 = tf.nn.conv2d(g2, g_w3, strides=[1, 2, 2, 1], padding='SAME')\n",
    "    g3 = g3 + g_b3\n",
    "    g3 = tf.contrib.layers.batch_norm(g3, epsilon=1e-5, scope='g_b3')\n",
    "    g3 = tf.nn.relu(g3)\n",
    "    g3 = tf.image.resize_images(g3, [56, 56])\n",
    "\n",
    "    # Final convolution with one output channel\n",
    "    g_w4 = tf.get_variable('g_w4', [1, 1, z_dim/4, 1], dtype=tf.float32, initializer=tf.truncated_normal_initializer(stddev=0.02))\n",
    "    g_b4 = tf.get_variable('g_b4', [1], initializer=tf.truncated_normal_initializer(stddev=0.02))\n",
    "    g4 = tf.nn.conv2d(g3, g_w4, strides=[1, 2, 2, 1], padding='SAME')\n",
    "    g4 = g4 + g_b4\n",
    "    g4 = tf.sigmoid(g4)\n",
    "\n",
    "    # Dimensions of g4: batch_size x 28 x 28 x 1\n",
    "    return g4"
   ]
  },
  {
   "cell_type": "code",
   "execution_count": 4,
   "metadata": {},
   "outputs": [
    {
     "name": "stdout",
     "output_type": "stream",
     "text": [
      "WARNING:tensorflow:From /Users/epinyoanun/miniconda3/lib/python3.6/site-packages/tensorflow/contrib/learn/python/learn/datasets/base.py:198: retry (from tensorflow.contrib.learn.python.learn.datasets.base) is deprecated and will be removed in a future version.\n",
      "Instructions for updating:\n",
      "Use the retry module or similar alternatives.\n"
     ]
    },
    {
     "data": {
      "text/plain": [
       "<function tensorflow.python.ops.array_ops.ones_like(tensor, dtype=None, name=None, optimize=True)>"
      ]
     },
     "execution_count": 4,
     "metadata": {},
     "output_type": "execute_result"
    }
   ],
   "source": [
    "z_dimensions = 100\n",
    "batch_size = 50\n",
    "\n",
    "# z is the noise for Generator\n",
    "z_placeholder = tf.placeholder(tf.float32, [None, z_dimensions], name='z_placeholder')\n",
    "generator_z = generator(z_placeholder, batch_size, z_dimensions)\n",
    "\n",
    "# x is the source data for Discreminator\n",
    "x_placeholder = tf.placeholder(tf.float32, shape = [None,28,28,1], name='x_placeholder')\n",
    "discriminator_x = discriminator(x_placeholder)\n",
    "discriminator_generator = discriminator(generator_z, reuse_variables=True)\n",
    "\n",
    "loss_discriminator_real = tf.reduce_mean(\n",
    "                            tf.nn.sigmoid_cross_entropy_with_logits(\n",
    "                                logits = discriminator_x, \n",
    "                                labels = tf.ones_like(discriminator_x)\n",
    "                            )\n",
    "                          )\n",
    "loss_discriminator_fake = tf.reduce_mean(\n",
    "                            tf.nn.sigmoid_cross_entropy_with_logits(\n",
    "                                logits = discriminator_generator, \n",
    "                                labels = tf.zeros_like(discriminator_generator)\n",
    "                            )\n",
    "                          )\n",
    "loss_generator = tf.reduce_mean(\n",
    "                    tf.nn.sigmoid_cross_entropy_with_logits(\n",
    "                        logits = discriminator_generator, \n",
    "                        labels = tf.ones_like(discriminator_generator)\n",
    "                    )\n",
    "                 )\n",
    "tf.ones_like"
   ]
  },
  {
   "cell_type": "code",
   "execution_count": 5,
   "metadata": {},
   "outputs": [],
   "source": [
    "# Define variable lists\n",
    "tvars = tf.trainable_variables()\n",
    "vars_discriminator = [var for var in tvars if 'd_' in var.name]\n",
    "vars_generator = [var for var in tvars if 'g_' in var.name]\n",
    "\n",
    "# Define the optimizers\n",
    "# Train the discriminatora\n",
    "trainer_discriminator_fake = tf.train.AdamOptimizer(0.0003).minimize(\n",
    "                                loss_discriminator_fake, \n",
    "                                var_list=vars_discriminator # update only variable of discriminator\n",
    "                             )\n",
    "trainer_discriminator_real = tf.train.AdamOptimizer(0.0003).minimize(\n",
    "                                loss_discriminator_real, \n",
    "                                var_list=vars_discriminator # update only variable of discriminator\n",
    "                             )\n",
    "\n",
    "# Train the generator\n",
    "trainer_generator = tf.train.AdamOptimizer(0.0001).minimize(\n",
    "                                loss_generator, \n",
    "                                var_list=vars_generator # update only variable of generator\n",
    "                    )"
   ]
  },
  {
   "cell_type": "code",
   "execution_count": 6,
   "metadata": {},
   "outputs": [],
   "source": [
    "# From this point forward, reuse variables\n",
    "tf.get_variable_scope().reuse_variables()\n",
    "sess = tf.InteractiveSession()\n",
    "sess.run(tf.global_variables_initializer())"
   ]
  },
  {
   "cell_type": "markdown",
   "metadata": {},
   "source": [
    "## Train"
   ]
  },
  {
   "cell_type": "markdown",
   "metadata": {},
   "source": [
    "#### helper"
   ]
  },
  {
   "cell_type": "code",
   "execution_count": 7,
   "metadata": {},
   "outputs": [
    {
     "data": {
      "text/plain": [
       "(50, 28, 28, 1)"
      ]
     },
     "execution_count": 7,
     "metadata": {},
     "output_type": "execute_result"
    }
   ],
   "source": [
    "def random_rect():\n",
    "    img = np.zeros((28,28,1), np.uint8)\n",
    "    x1 = np.random.randint(0, 20)\n",
    "    y1 = np.random.randint(0, 20)\n",
    "    x2 = np.random.randint(x1, 28)\n",
    "    y2 = np.random.randint(x2, 28)\n",
    "    cv2.rectangle(img,(x1, y1), (x2, y2),(1), -1)\n",
    "#     plt.imshow(img.reshape(28, 28), cmap='gist_gray')\n",
    "    return img\n",
    "def random_rects(num):\n",
    "    images = []\n",
    "    for i in range(num):\n",
    "        images.append(random_rect())\n",
    "    return np.array(images)\n",
    "\n",
    "random_rects(50).shape"
   ]
  },
  {
   "cell_type": "markdown",
   "metadata": {},
   "source": [
    "#### Plot function helper"
   ]
  },
  {
   "cell_type": "code",
   "execution_count": 8,
   "metadata": {},
   "outputs": [],
   "source": [
    "row = 4\n",
    "column = 4\n",
    "def plot_batch_images(batch_images):\n",
    "    figure = plt.figure(figsize=(10, 10))\n",
    "    for i in range(_generate_image.shape[0]):\n",
    "        figure.add_subplot(row, column, i+1)\n",
    "        plt.axis('off')\n",
    "        plt.imshow(batch_images[i].reshape(28, 28), cmap='gist_gray')\n",
    "    display.display(plt.gcf())\n",
    "    plt.close()"
   ]
  },
  {
   "cell_type": "markdown",
   "metadata": {},
   "source": [
    "#### Run Session"
   ]
  },
  {
   "cell_type": "code",
   "execution_count": 9,
   "metadata": {},
   "outputs": [],
   "source": [
    "def run_session_train_discriminator():\n",
    "    z_batch = np.random.normal(0, 1, size=[batch_size, z_dimensions])\n",
    "#     real_image_batch = mnist.train.next_batch(batch_size)[0].reshape([batch_size, 28, 28, 1])\n",
    "    real_image_batch = random_rects(50).reshape([batch_size, 28, 28, 1])\n",
    "    return sess.run([\n",
    "                    trainer_discriminator_real, \n",
    "                    trainer_discriminator_fake, \n",
    "                    loss_discriminator_real, \n",
    "                    loss_discriminator_fake\n",
    "                   ],\n",
    "                   {\n",
    "                    x_placeholder: real_image_batch, \n",
    "                    z_placeholder: z_batch\n",
    "                   })"
   ]
  },
  {
   "cell_type": "code",
   "execution_count": 10,
   "metadata": {},
   "outputs": [],
   "source": [
    "def run_session_train_generator():\n",
    "    z_batch = np.random.normal(0, 1, size=[batch_size, z_dimensions])\n",
    "    return sess.run([\n",
    "                        trainer_generator, \n",
    "                        loss_generator\n",
    "                    ] , \n",
    "                    feed_dict={\n",
    "                        z_placeholder: z_batch\n",
    "                    })"
   ]
  },
  {
   "cell_type": "markdown",
   "metadata": {},
   "source": [
    "### Test"
   ]
  },
  {
   "cell_type": "code",
   "execution_count": 11,
   "metadata": {
    "scrolled": true
   },
   "outputs": [],
   "source": [
    "num_test_samples = 16\n",
    "generate_test = generator(z_placeholder, num_test_samples, z_dimensions)\n",
    "def run_session_test():\n",
    "    z_batch = np.random.normal(0, 1, size=[num_test_samples, z_dimensions])\n",
    "    return sess.run(generate_test,  feed_dict={ z_placeholder: z_batch })"
   ]
  },
  {
   "cell_type": "markdown",
   "metadata": {},
   "source": [
    "### Train Discriminator\n",
    "Discriminitor should be better than generator (to tell generator good or bad)"
   ]
  },
  {
   "cell_type": "code",
   "execution_count": 12,
   "metadata": {
    "scrolled": true
   },
   "outputs": [
    {
     "name": "stdout",
     "output_type": "stream",
     "text": [
      "_loss_discriminator_real: 0.69329476 _loss_discriminator_fake: 0.7094936\n",
      "_loss_discriminator_real: 0.66984004 _loss_discriminator_fake: 0.7123817\n",
      "_loss_discriminator_real: 0.6121781 _loss_discriminator_fake: 0.7484052\n",
      "_loss_discriminator_real: 0.51777977 _loss_discriminator_fake: 0.822513\n",
      "_loss_discriminator_real: 0.43277383 _loss_discriminator_fake: 0.9207193\n",
      "_loss_discriminator_real: 0.36926907 _loss_discriminator_fake: 0.9830324\n",
      "_loss_discriminator_real: 0.30592197 _loss_discriminator_fake: 0.89180565\n",
      "_loss_discriminator_real: 0.19148642 _loss_discriminator_fake: 0.8307801\n",
      "_loss_discriminator_real: 0.08054672 _loss_discriminator_fake: 0.7270413\n",
      "_loss_discriminator_real: 0.047315225 _loss_discriminator_fake: 0.61372286\n",
      "_loss_discriminator_real: 0.0064638164 _loss_discriminator_fake: 0.4981229\n",
      "_loss_discriminator_real: 0.015556711 _loss_discriminator_fake: 0.29023215\n",
      "_loss_discriminator_real: 0.029257193 _loss_discriminator_fake: 0.25555488\n",
      "_loss_discriminator_real: 0.07574189 _loss_discriminator_fake: 0.306019\n",
      "_loss_discriminator_real: 0.048403133 _loss_discriminator_fake: 0.17180409\n",
      "_loss_discriminator_real: 0.015618961 _loss_discriminator_fake: 0.14283961\n",
      "_loss_discriminator_real: 0.015451206 _loss_discriminator_fake: 0.123976566\n",
      "_loss_discriminator_real: 0.02375072 _loss_discriminator_fake: 0.070972264\n",
      "_loss_discriminator_real: 0.18694055 _loss_discriminator_fake: 0.4554966\n",
      "_loss_discriminator_real: 0.05777069 _loss_discriminator_fake: 0.1599702\n",
      "_loss_discriminator_real: 0.12960596 _loss_discriminator_fake: 0.056696855\n",
      "_loss_discriminator_real: 0.0001689988 _loss_discriminator_fake: 0.05167892\n",
      "_loss_discriminator_real: 0.00014701925 _loss_discriminator_fake: 0.062487565\n",
      "_loss_discriminator_real: 0.00017923096 _loss_discriminator_fake: 0.068041086\n",
      "_loss_discriminator_real: 0.0041059772 _loss_discriminator_fake: 0.010196962\n",
      "_loss_discriminator_real: 0.0018617882 _loss_discriminator_fake: 0.03206732\n",
      "_loss_discriminator_real: 0.049905695 _loss_discriminator_fake: 0.07664905\n",
      "_loss_discriminator_real: 0.004363865 _loss_discriminator_fake: 0.01635554\n",
      "_loss_discriminator_real: 0.0006287835 _loss_discriminator_fake: 0.06860747\n",
      "_loss_discriminator_real: 0.0007019182 _loss_discriminator_fake: 0.07372688\n"
     ]
    }
   ],
   "source": [
    "for i in range(300):\n",
    "    _, __, _loss_discriminator_real, _loss_discriminator_fake = run_session_train_discriminator()\n",
    "    if i%10==0:\n",
    "        print('_loss_discriminator_real:', _loss_discriminator_real, \n",
    "              '_loss_discriminator_fake:', _loss_discriminator_fake)"
   ]
  },
  {
   "cell_type": "markdown",
   "metadata": {},
   "source": [
    "### Train All"
   ]
  },
  {
   "cell_type": "code",
   "execution_count": 22,
   "metadata": {
    "scrolled": true
   },
   "outputs": [
    {
     "data": {
      "image/png": "[encoded data removed]",
      "text/plain": [
       "<Figure size 720x720 with 16 Axes>"
      ]
     },
     "metadata": {},
     "output_type": "display_data"
    },
    {
     "name": "stdout",
     "output_type": "stream",
     "text": [
      "_loss_generator: 19.915703 _loss_discriminator_real: 2.2967951 _loss_discriminator_fake: 10.279461\n"
     ]
    }
   ],
   "source": [
    "for i in range(10000):\n",
    "    _, __, _loss_discriminator_real, _loss_discriminator_fake = run_session_train_discriminator()\n",
    "    _, _loss_generator = run_session_train_generator()\n",
    "    \n",
    "    if i%10==0:\n",
    "        _generate_image = run_session_test()\n",
    "        display.clear_output()\n",
    "        plot_batch_images(_generate_image)\n",
    "        print('_loss_generator:',_loss_generator, \n",
    "              '_loss_discriminator_real:', _loss_discriminator_real, \n",
    "              '_loss_discriminator_fake:', _loss_discriminator_fake)\n",
    "        "
   ]
  },
  {
   "cell_type": "code",
   "execution_count": null,
   "metadata": {},
   "outputs": [],
   "source": []
  }
 ],
 "metadata": {
  "kernelspec": {
   "display_name": "Python 3",
   "language": "python",
   "name": "python3"
  },
  "language_info": {
   "codemirror_mode": {
    "name": "ipython",
    "version": 3
   },
   "file_extension": ".py",
   "mimetype": "text/x-python",
   "name": "python",
   "nbconvert_exporter": "python",
   "pygments_lexer": "ipython3",
   "version": "3.6.4"
  }
 },
 "nbformat": 4,
 "nbformat_minor": 2
}
