{
 "cells": [
  {
   "cell_type": "code",
   "execution_count": 47,
   "metadata": {
    "scrolled": true
   },
   "outputs": [
    {
     "name": "stdout",
     "output_type": "stream",
     "text": [
      "Extracting MNIST_data/train-images-idx3-ubyte.gz\n",
      "Extracting MNIST_data/train-labels-idx1-ubyte.gz\n",
      "Extracting MNIST_data/t10k-images-idx3-ubyte.gz\n",
      "Extracting MNIST_data/t10k-labels-idx1-ubyte.gz\n"
     ]
    }
   ],
   "source": [
    "import tensorflow as tf\n",
    "import numpy as np\n",
    "from tensorflow.examples.tutorials.mnist import input_data\n",
    "mnist = input_data.read_data_sets(\"MNIST_data/\",one_hot=True)\n",
    "import math"
   ]
  },
  {
   "cell_type": "code",
   "execution_count": 2,
   "metadata": {},
   "outputs": [
    {
     "data": {
      "text/plain": [
       "tensorflow.contrib.learn.python.learn.datasets.base.Datasets"
      ]
     },
     "execution_count": 2,
     "metadata": {},
     "output_type": "execute_result"
    }
   ],
   "source": [
    "type(mnist)"
   ]
  },
  {
   "cell_type": "code",
   "execution_count": 3,
   "metadata": {},
   "outputs": [
    {
     "data": {
      "text/plain": [
       "array([[0., 0., 0., ..., 0., 0., 0.],\n",
       "       [0., 0., 0., ..., 0., 0., 0.],\n",
       "       [0., 0., 0., ..., 0., 0., 0.],\n",
       "       ...,\n",
       "       [0., 0., 0., ..., 0., 0., 0.],\n",
       "       [0., 0., 0., ..., 0., 0., 0.],\n",
       "       [0., 0., 0., ..., 0., 0., 0.]], dtype=float32)"
      ]
     },
     "execution_count": 3,
     "metadata": {},
     "output_type": "execute_result"
    }
   ],
   "source": [
    "mnist.train.images"
   ]
  },
  {
   "cell_type": "code",
   "execution_count": 4,
   "metadata": {},
   "outputs": [
    {
     "data": {
      "text/plain": [
       "55000"
      ]
     },
     "execution_count": 4,
     "metadata": {},
     "output_type": "execute_result"
    }
   ],
   "source": [
    "mnist.train.num_examples"
   ]
  },
  {
   "cell_type": "code",
   "execution_count": 5,
   "metadata": {},
   "outputs": [
    {
     "data": {
      "text/plain": [
       "10000"
      ]
     },
     "execution_count": 5,
     "metadata": {},
     "output_type": "execute_result"
    }
   ],
   "source": [
    "mnist.test.num_examples"
   ]
  },
  {
   "cell_type": "code",
   "execution_count": 6,
   "metadata": {},
   "outputs": [],
   "source": [
    "import matplotlib.pyplot as plt\n",
    "%matplotlib inline"
   ]
  },
  {
   "cell_type": "code",
   "execution_count": 7,
   "metadata": {},
   "outputs": [
    {
     "data": {
      "text/plain": [
       "<tensorflow.contrib.learn.python.learn.datasets.mnist.DataSet at 0x11ce67a90>"
      ]
     },
     "execution_count": 7,
     "metadata": {},
     "output_type": "execute_result"
    }
   ],
   "source": [
    "mnist.train"
   ]
  },
  {
   "cell_type": "code",
   "execution_count": 8,
   "metadata": {},
   "outputs": [
    {
     "name": "stdout",
     "output_type": "stream",
     "text": [
      "{'_epochs_completed': 0,\n",
      " '_images': array([[0., 0., 0., ..., 0., 0., 0.],\n",
      "       [0., 0., 0., ..., 0., 0., 0.],\n",
      "       [0., 0., 0., ..., 0., 0., 0.],\n",
      "       ...,\n",
      "       [0., 0., 0., ..., 0., 0., 0.],\n",
      "       [0., 0., 0., ..., 0., 0., 0.],\n",
      "       [0., 0., 0., ..., 0., 0., 0.]], dtype=float32),\n",
      " '_index_in_epoch': 0,\n",
      " '_labels': array([[0., 0., 0., ..., 1., 0., 0.],\n",
      "       [0., 0., 0., ..., 0., 0., 0.],\n",
      "       [0., 0., 0., ..., 0., 0., 0.],\n",
      "       ...,\n",
      "       [0., 0., 0., ..., 0., 0., 0.],\n",
      "       [0., 0., 0., ..., 0., 0., 0.],\n",
      "       [0., 0., 0., ..., 0., 1., 0.]]),\n",
      " '_num_examples': 55000}\n"
     ]
    }
   ],
   "source": [
    "from pprint import pprint\n",
    "pprint(mnist.train.__dict__)"
   ]
  },
  {
   "cell_type": "code",
   "execution_count": 9,
   "metadata": {},
   "outputs": [
    {
     "data": {
      "text/plain": [
       "<matplotlib.image.AxesImage at 0x126d91b00>"
      ]
     },
     "execution_count": 9,
     "metadata": {},
     "output_type": "execute_result"
    },
    {
     "data": {
      "image/png": "[encoded data removed]",
      "text/plain": [
       "<Figure size 432x288 with 1 Axes>"
      ]
     },
     "metadata": {},
     "output_type": "display_data"
    }
   ],
   "source": [
    "single_image = mnist.train.images[1].reshape(28,28)\n",
    "plt.imshow(single_image,cmap='gist_gray')"
   ]
  },
  {
   "cell_type": "code",
   "execution_count": 10,
   "metadata": {},
   "outputs": [
    {
     "data": {
      "text/plain": [
       "0.0"
      ]
     },
     "execution_count": 10,
     "metadata": {},
     "output_type": "execute_result"
    }
   ],
   "source": [
    "single_image.min()"
   ]
  },
  {
   "cell_type": "code",
   "execution_count": 11,
   "metadata": {},
   "outputs": [
    {
     "data": {
      "text/plain": [
       "1.0"
      ]
     },
     "execution_count": 11,
     "metadata": {},
     "output_type": "execute_result"
    }
   ],
   "source": [
    "single_image.max()"
   ]
  },
  {
   "cell_type": "markdown",
   "metadata": {},
   "source": [
    "### Create Model"
   ]
  },
  {
   "cell_type": "code",
   "execution_count": 12,
   "metadata": {},
   "outputs": [],
   "source": [
    "from datetime import datetime\n",
    "\n",
    "now = datetime.utcnow().strftime(\"%Y%m%d%H%M%S\")\n",
    "root_logdir = \"tf_logs\"\n",
    "logdir = \"{}/run-{}/\".format(root_logdir, now)"
   ]
  },
  {
   "cell_type": "code",
   "execution_count": 13,
   "metadata": {
    "scrolled": true
   },
   "outputs": [
    {
     "name": "stdout",
     "output_type": "stream",
     "text": [
      "step: 0  cross_entropy: 2.3025827\n",
      "step: 100  cross_entropy: 0.39260146\n",
      "step: 200  cross_entropy: 0.35557562\n",
      "step: 300  cross_entropy: 0.31407818\n",
      "step: 400  cross_entropy: 0.34018102\n",
      "step: 500  cross_entropy: 0.29533985\n",
      "step: 600  cross_entropy: 0.2953984\n",
      "step: 700  cross_entropy: 0.31214824\n",
      "step: 800  cross_entropy: 0.31619886\n",
      "step: 900  cross_entropy: 0.29433283\n",
      "step: 1000  cross_entropy: 0.29301843\n",
      "step: 1100  cross_entropy: 0.23124777\n",
      "step: 1200  cross_entropy: 0.22920758\n",
      "step: 1300  cross_entropy: 0.28965038\n",
      "step: 1400  cross_entropy: 0.21948606\n",
      "step: 1500  cross_entropy: 0.3084684\n",
      "step: 1600  cross_entropy: 0.27968967\n",
      "step: 1700  cross_entropy: 0.29636636\n",
      "step: 1800  cross_entropy: 0.2435506\n",
      "step: 1900  cross_entropy: 0.27549574\n",
      "step: 2000  cross_entropy: 0.2707849\n",
      "step: 2100  cross_entropy: 0.24027519\n",
      "step: 2200  cross_entropy: 0.32442725\n",
      "step: 2300  cross_entropy: 0.27586958\n",
      "step: 2400  cross_entropy: 0.22272693\n",
      "step: 2500  cross_entropy: 0.294308\n",
      "step: 2600  cross_entropy: 0.22381248\n",
      "step: 2700  cross_entropy: 0.23954974\n",
      "step: 2800  cross_entropy: 0.29518238\n",
      "step: 2900  cross_entropy: 0.2387373\n",
      "step: 3000  cross_entropy: 0.26919675\n",
      "step: 3100  cross_entropy: 0.2575932\n",
      "step: 3200  cross_entropy: 0.22453855\n",
      "step: 3300  cross_entropy: 0.2416307\n",
      "step: 3400  cross_entropy: 0.25987285\n",
      "step: 3500  cross_entropy: 0.23391034\n",
      "step: 3600  cross_entropy: 0.25941595\n",
      "step: 3700  cross_entropy: 0.26732495\n",
      "step: 3800  cross_entropy: 0.27095318\n",
      "step: 3900  cross_entropy: 0.25845355\n",
      "step: 4000  cross_entropy: 0.27772328\n",
      "step: 4100  cross_entropy: 0.23832852\n",
      "step: 4200  cross_entropy: 0.24403664\n",
      "step: 4300  cross_entropy: 0.2845066\n",
      "step: 4400  cross_entropy: 0.22824655\n",
      "step: 4500  cross_entropy: 0.29045123\n",
      "step: 4600  cross_entropy: 0.27703577\n",
      "step: 4700  cross_entropy: 0.25313932\n",
      "step: 4800  cross_entropy: 0.26477063\n",
      "step: 4900  cross_entropy: 0.24407463\n"
     ]
    },
    {
     "data": {
      "text/plain": [
       "0.9243"
      ]
     },
     "execution_count": 13,
     "metadata": {},
     "output_type": "execute_result"
    }
   ],
   "source": [
    "sess = tf.InteractiveSession()\n",
    "\n",
    "x = tf.placeholder(tf.float32,shape=[None,784], name=\"x\")\n",
    "W = tf.Variable(tf.zeros([784,10]), name=\"W\")\n",
    "b = tf.Variable(tf.zeros([10]), name=\"b\")\n",
    "y = tf.matmul(x,W) + b \n",
    "\n",
    "y_true = tf.placeholder(tf.float32,[None,10])\n",
    "\n",
    "# cross entropy\n",
    "all_cross_entropy = tf.nn.softmax_cross_entropy_with_logits_v2(labels=y_true,logits=y)\n",
    "cross_entropy = tf.reduce_mean(all_cross_entropy) # reduce_mean: reduce matrix dimension by mean\n",
    "\n",
    "# optimizer\n",
    "optimizer = tf.train.GradientDescentOptimizer(learning_rate=0.5)\n",
    "train = optimizer.minimize(cross_entropy)\n",
    "\n",
    "# plot loss\n",
    "summer_op = tf.summary.scalar(\"loss\", cross_entropy)\n",
    "summary_writer = tf.summary.FileWriter('./tmp/tfboard', graph=tf.get_default_graph())\n",
    "# session\n",
    "init = tf.global_variables_initializer()\n",
    "\n",
    "sess.run(init)\n",
    "all_loss = []\n",
    "for step in range(1000):\n",
    "    batch_x, batch_y = mnist.train.next_batch(1000)\n",
    "    _, cross_entropy_val, summary = sess.run([train, cross_entropy, summer_op], feed_dict={x:batch_x, y_true:batch_y})\n",
    "    summary_writer.add_summary(summary, step)\n",
    "    if step%100 == 0:\n",
    "        print('step:', step,' cross_entropy:',cross_entropy_val)\n",
    "        all_loss.append(cross_entropy_val)\n",
    "matches = tf.equal(tf.argmax(y,1), tf.argmax(y_true,1)) # argmax: index of max value\n",
    "acc = tf.reduce_mean(tf.cast(matches,tf.float32)) # cast: change type\n",
    "\n",
    "acc_val, matches_val, y_eval = sess.run([acc, matches, y] ,feed_dict={x:mnist.test.images,y_true:mnist.test.labels})\n",
    "acc_val"
   ]
  },
  {
   "cell_type": "code",
   "execution_count": 14,
   "metadata": {},
   "outputs": [
    {
     "data": {
      "text/plain": [
       "[<matplotlib.lines.Line2D at 0x127b91dd8>]"
      ]
     },
     "execution_count": 14,
     "metadata": {},
     "output_type": "execute_result"
    },
    {
     "data": {
      "image/png": "[encoded data removed]",
      "text/plain": [
       "<Figure size 432x288 with 1 Axes>"
      ]
     },
     "metadata": {},
     "output_type": "display_data"
    }
   ],
   "source": [
    "plt.plot(all_loss)"
   ]
  },
  {
   "cell_type": "code",
   "execution_count": 29,
   "metadata": {},
   "outputs": [],
   "source": [
    "def create_sprite_image(images):\n",
    "    \"\"\"Returns a sprite image consisting of images passed as argument. Images should be count x width x height\"\"\"\n",
    "    if isinstance(images, list):\n",
    "        images = np.array(images)\n",
    "    img_h = images.shape[1]\n",
    "    img_w = images.shape[2]\n",
    "    n_plots = int(np.ceil(np.sqrt(images.shape[0])))\n",
    "    \n",
    "    \n",
    "    spriteimage = np.ones((img_h * n_plots ,img_w * n_plots ))\n",
    "    \n",
    "    for i in range(n_plots):\n",
    "        for j in range(n_plots):\n",
    "            this_filter = i * n_plots + j\n",
    "            if this_filter < images.shape[0]:\n",
    "                this_img = images[this_filter]\n",
    "                spriteimage[i * img_h:(i + 1) * img_h,\n",
    "                  j * img_w:(j + 1) * img_w] = this_img\n",
    "    return spriteimage"
   ]
  },
  {
   "cell_type": "code",
   "execution_count": 61,
   "metadata": {},
   "outputs": [
    {
     "data": {
      "text/plain": [
       "('label:', array([[6, 6, 2, 7, 4, 9, 3, 5, 7, 5],\n",
       "        [7, 8, 5, 6, 0, 4, 6, 9, 5, 3],\n",
       "        [7, 7, 3, 5, 0, 4, 7, 7, 5, 3],\n",
       "        [7, 8, 0, 8, 9, 8, 3, 3, 5, 1],\n",
       "        [6, 1, 2, 3, 1, 9, 5, 2, 1, 8],\n",
       "        [3, 8, 8, 4, 9, 6, 8, 3, 4, 9],\n",
       "        [5, 6, 2, 8, 9, 8, 9, 5, 9, 3],\n",
       "        [7, 3, 2, 9, 7, 5, 2, 7, 5, 0],\n",
       "        [9, 2, 6, 0, 3, 8, 7, 3, 9, 5],\n",
       "        [2, 5, 8, 9, 8, 9, 4, 3, 2, 3]]))"
      ]
     },
     "execution_count": 61,
     "metadata": {},
     "output_type": "execute_result"
    },
    {
     "data": {
      "image/png": "[encoded data removed]",
      "text/plain": [
       "<Figure size 432x288 with 1 Axes>"
      ]
     },
     "metadata": {},
     "output_type": "display_data"
    }
   ],
   "source": [
    "num_display = 100\n",
    "false_index = np.where(matches_val==False)[0][0:num_display]\n",
    "plt.imshow(create_sprite_image(mnist.test.images[false_index].reshape(-1, 28,28)), cmap='gist_gray')\n",
    "# print(y_eval[false_index])\n",
    "\n",
    "num_column = math.ceil(math.sqrt(num_display))\n",
    "'label:', np.argmax(y_eval[false_index], axis=1).reshape(-1, num_column)\n",
    "\n"
   ]
  },
  {
   "cell_type": "markdown",
   "metadata": {},
   "source": [
    "### Weight"
   ]
  },
  {
   "cell_type": "code",
   "execution_count": 59,
   "metadata": {},
   "outputs": [
    {
     "data": {
      "text/plain": [
       "(-0.58829176, 0.33051315)"
      ]
     },
     "execution_count": 59,
     "metadata": {},
     "output_type": "execute_result"
    },
    {
     "data": {
      "image/png": "[encoded data removed]",
      "text/plain": [
       "<Figure size 432x288 with 1 Axes>"
      ]
     },
     "metadata": {},
     "output_type": "display_data"
    }
   ],
   "source": [
    "# understand how gist_gray works\n",
    "plt.imshow([[1,0],[-1,-10]], cmap='gist_gray')\n",
    "img_0.min(),img_0.max()"
   ]
  },
  {
   "cell_type": "code",
   "execution_count": 71,
   "metadata": {},
   "outputs": [
    {
     "data": {
      "text/plain": [
       "<matplotlib.image.AxesImage at 0x11c684da0>"
      ]
     },
     "execution_count": 71,
     "metadata": {},
     "output_type": "execute_result"
    },
    {
     "data": {
      "image/png": "[encoded data removed]",
      "text/plain": [
       "<Figure size 432x288 with 1 Axes>"
      ]
     },
     "metadata": {},
     "output_type": "display_data"
    }
   ],
   "source": [
    "weight = W.eval()\n",
    "\n",
    "img_0 = weight[:,0].reshape(28,-1)\n",
    "plt.imshow(img_0, cmap='gist_gray')"
   ]
  },
  {
   "cell_type": "code",
   "execution_count": 72,
   "metadata": {},
   "outputs": [
    {
     "data": {
      "text/plain": [
       "<matplotlib.image.AxesImage at 0x12272ddd8>"
      ]
     },
     "execution_count": 72,
     "metadata": {},
     "output_type": "execute_result"
    },
    {
     "data": {
      "image/png": "[encoded data removed]",
      "text/plain": [
       "<Figure size 432x288 with 1 Axes>"
      ]
     },
     "metadata": {},
     "output_type": "display_data"
    }
   ],
   "source": [
    "img_1 = weight[:,1].reshape(28,-1)\n",
    "plt.imshow(img_1, cmap='gist_gray')"
   ]
  },
  {
   "cell_type": "code",
   "execution_count": 73,
   "metadata": {},
   "outputs": [
    {
     "data": {
      "text/plain": [
       "<matplotlib.image.AxesImage at 0x1227c2e48>"
      ]
     },
     "execution_count": 73,
     "metadata": {},
     "output_type": "execute_result"
    },
    {
     "data": {
      "image/png": "[encoded data removed]",
      "text/plain": [
       "<Figure size 432x288 with 1 Axes>"
      ]
     },
     "metadata": {},
     "output_type": "display_data"
    }
   ],
   "source": [
    "img_2 = weight[:,2].reshape(28,-1)\n",
    "plt.imshow(img_2, cmap='gist_gray')"
   ]
  },
  {
   "cell_type": "code",
   "execution_count": 74,
   "metadata": {},
   "outputs": [
    {
     "data": {
      "text/plain": [
       "<matplotlib.image.AxesImage at 0x12281af28>"
      ]
     },
     "execution_count": 74,
     "metadata": {},
     "output_type": "execute_result"
    },
    {
     "data": {
      "image/png": "[encoded data removed]",
      "text/plain": [
       "<Figure size 432x288 with 1 Axes>"
      ]
     },
     "metadata": {},
     "output_type": "display_data"
    }
   ],
   "source": [
    "img_3 = weight[:,3].reshape(28,-1)\n",
    "plt.imshow(img_3, cmap='gist_gray')"
   ]
  },
  {
   "cell_type": "code",
   "execution_count": 75,
   "metadata": {},
   "outputs": [
    {
     "data": {
      "text/plain": [
       "<matplotlib.image.AxesImage at 0x1228f0d68>"
      ]
     },
     "execution_count": 75,
     "metadata": {},
     "output_type": "execute_result"
    },
    {
     "data": {
      "image/png": "[encoded data removed]",
      "text/plain": [
       "<Figure size 432x288 with 1 Axes>"
      ]
     },
     "metadata": {},
     "output_type": "display_data"
    }
   ],
   "source": [
    "img_4 = weight[:,4].reshape(28,-1)\n",
    "plt.imshow(img_4, cmap='gist_gray')"
   ]
  },
  {
   "cell_type": "code",
   "execution_count": 76,
   "metadata": {},
   "outputs": [
    {
     "data": {
      "text/plain": [
       "<matplotlib.image.AxesImage at 0x122948d30>"
      ]
     },
     "execution_count": 76,
     "metadata": {},
     "output_type": "execute_result"
    },
    {
     "data": {
      "image/png": "[encoded data removed]",
      "text/plain": [
       "<Figure size 432x288 with 1 Axes>"
      ]
     },
     "metadata": {},
     "output_type": "display_data"
    }
   ],
   "source": [
    "img_5 = weight[:,5].reshape(28,-1)\n",
    "plt.imshow(img_5, cmap='gist_gray')"
   ]
  },
  {
   "cell_type": "code",
   "execution_count": 67,
   "metadata": {},
   "outputs": [
    {
     "data": {
      "text/plain": [
       "<matplotlib.image.AxesImage at 0x12ed74c18>"
      ]
     },
     "execution_count": 67,
     "metadata": {},
     "output_type": "execute_result"
    },
    {
     "data": {
      "image/png": "[encoded data removed]",
      "text/plain": [
       "<Figure size 432x288 with 1 Axes>"
      ]
     },
     "metadata": {},
     "output_type": "display_data"
    }
   ],
   "source": [
    "img_6 = weight[:,6].reshape(28,-1)\n",
    "plt.imshow(img_6, cmap='gist_gray')"
   ]
  },
  {
   "cell_type": "code",
   "execution_count": 61,
   "metadata": {},
   "outputs": [
    {
     "data": {
      "text/plain": [
       "<matplotlib.image.AxesImage at 0x12ef2f470>"
      ]
     },
     "execution_count": 61,
     "metadata": {},
     "output_type": "execute_result"
    },
    {
     "data": {
      "image/png": "[encoded data removed]",
      "text/plain": [
       "<Figure size 432x288 with 1 Axes>"
      ]
     },
     "metadata": {},
     "output_type": "display_data"
    }
   ],
   "source": [
    "img_7 = weight[:,7].reshape(28,-1)\n",
    "plt.imshow(img_7, cmap='gist_gray')"
   ]
  },
  {
   "cell_type": "code",
   "execution_count": 68,
   "metadata": {},
   "outputs": [
    {
     "data": {
      "text/plain": [
       "<matplotlib.image.AxesImage at 0x12dff9b38>"
      ]
     },
     "execution_count": 68,
     "metadata": {},
     "output_type": "execute_result"
    },
    {
     "data": {
      "image/png": "[encoded data removed]",
      "text/plain": [
       "<Figure size 432x288 with 1 Axes>"
      ]
     },
     "metadata": {},
     "output_type": "display_data"
    }
   ],
   "source": [
    "img_8 = weight[:,8].reshape(28,-1)\n",
    "plt.imshow(img_8, cmap='gist_gray')"
   ]
  },
  {
   "cell_type": "code",
   "execution_count": 69,
   "metadata": {},
   "outputs": [
    {
     "data": {
      "text/plain": [
       "<matplotlib.image.AxesImage at 0x12ed0db38>"
      ]
     },
     "execution_count": 69,
     "metadata": {},
     "output_type": "execute_result"
    },
    {
     "data": {
      "image/png": "[encoded data removed]",
      "text/plain": [
       "<Figure size 432x288 with 1 Axes>"
      ]
     },
     "metadata": {},
     "output_type": "display_data"
    }
   ],
   "source": [
    "img_9 = weight[:,9].reshape(28,-1)\n",
    "plt.imshow(img_9, cmap='gist_gray')"
   ]
  },
  {
   "cell_type": "code",
   "execution_count": null,
   "metadata": {},
   "outputs": [],
   "source": []
  }
 ],
 "metadata": {
  "kernelspec": {
   "display_name": "Python 3",
   "language": "python",
   "name": "python3"
  },
  "language_info": {
   "codemirror_mode": {
    "name": "ipython",
    "version": 3
   },
   "file_extension": ".py",
   "mimetype": "text/x-python",
   "name": "python",
   "nbconvert_exporter": "python",
   "pygments_lexer": "ipython3",
   "version": "3.6.4"
  }
 },
 "nbformat": 4,
 "nbformat_minor": 2
}
