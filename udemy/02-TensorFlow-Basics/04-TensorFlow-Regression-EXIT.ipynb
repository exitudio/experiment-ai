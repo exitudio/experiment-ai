{
 "cells": [
  {
   "cell_type": "code",
   "execution_count": 99,
   "metadata": {},
   "outputs": [
    {
     "data": {
      "text/html": [
       "<div>\n",
       "<style scoped>\n",
       "    .dataframe tbody tr th:only-of-type {\n",
       "        vertical-align: middle;\n",
       "    }\n",
       "\n",
       "    .dataframe tbody tr th {\n",
       "        vertical-align: top;\n",
       "    }\n",
       "\n",
       "    .dataframe thead th {\n",
       "        text-align: right;\n",
       "    }\n",
       "</style>\n",
       "<table border=\"1\" class=\"dataframe\">\n",
       "  <thead>\n",
       "    <tr style=\"text-align: right;\">\n",
       "      <th></th>\n",
       "      <th>X data</th>\n",
       "      <th>Y data</th>\n",
       "    </tr>\n",
       "  </thead>\n",
       "  <tbody>\n",
       "    <tr>\n",
       "      <th>0</th>\n",
       "      <td>0.00000</td>\n",
       "      <td>4.408926</td>\n",
       "    </tr>\n",
       "    <tr>\n",
       "      <th>1</th>\n",
       "      <td>0.10101</td>\n",
       "      <td>5.361620</td>\n",
       "    </tr>\n",
       "    <tr>\n",
       "      <th>2</th>\n",
       "      <td>0.20202</td>\n",
       "      <td>4.136791</td>\n",
       "    </tr>\n",
       "    <tr>\n",
       "      <th>3</th>\n",
       "      <td>0.30303</td>\n",
       "      <td>7.228123</td>\n",
       "    </tr>\n",
       "    <tr>\n",
       "      <th>4</th>\n",
       "      <td>0.40404</td>\n",
       "      <td>6.484173</td>\n",
       "    </tr>\n",
       "  </tbody>\n",
       "</table>\n",
       "</div>"
      ],
      "text/plain": [
       "    X data    Y data\n",
       "0  0.00000  4.408926\n",
       "1  0.10101  5.361620\n",
       "2  0.20202  4.136791\n",
       "3  0.30303  7.228123\n",
       "4  0.40404  6.484173"
      ]
     },
     "execution_count": 99,
     "metadata": {},
     "output_type": "execute_result"
    }
   ],
   "source": [
    "import numpy as np\n",
    "import pandas as pd\n",
    "import matplotlib.pylab as plt\n",
    "%matplotlib inline\n",
    "\n",
    "x_data = np.linspace(0.0,10.0,100)\n",
    "noise = np.random.randn(len(x_data))\n",
    "\n",
    "w_data = 0.5\n",
    "b_data = 5\n",
    "y_data = w_data*x_data + b_data + noise\n",
    "\n",
    "x_data_frame = pd.DataFrame(data=x_data,columns=['X data'])\n",
    "y_data_frame = pd.DataFrame(data=y_data,columns=['Y data'])\n",
    "all_data_frame = pd.concat([x_data_frame,y_data_frame],axis=1)\n",
    "all_data_frame.head()"
   ]
  },
  {
   "cell_type": "code",
   "execution_count": 100,
   "metadata": {},
   "outputs": [
    {
     "data": {
      "text/plain": [
       "<matplotlib.axes._subplots.AxesSubplot at 0x142cd8cf8>"
      ]
     },
     "execution_count": 100,
     "metadata": {},
     "output_type": "execute_result"
    },
    {
     "data": {
      "image/png": "[encoded data removed]",
      "text/plain": [
       "<Figure size 432x288 with 1 Axes>"
      ]
     },
     "metadata": {},
     "output_type": "display_data"
    }
   ],
   "source": [
    "all_data_frame.sample(n=100).plot(kind='scatter',x='X data',y='Y data')"
   ]
  },
  {
   "cell_type": "markdown",
   "metadata": {},
   "source": [
    "# Tensorflow"
   ]
  },
  {
   "cell_type": "code",
   "execution_count": 101,
   "metadata": {},
   "outputs": [
    {
     "name": "stdout",
     "output_type": "stream",
     "text": [
      "model_w: 1.0742606\n",
      "model_b: 1.3150421\n"
     ]
    }
   ],
   "source": [
    "import tensorflow as tf\n",
    "batch_size = 8\n",
    "w = tf.Variable(0.5)\n",
    "b = tf.Variable(1.0)\n",
    "xph = tf.placeholder(tf.float32,[batch_size])\n",
    "yph = tf.placeholder(tf.float32,[batch_size])\n",
    "\n",
    "y_model = w*xph + b\n",
    "error = tf.reduce_sum( tf.square(y_model-yph) )\n",
    "\n",
    "optimizer = tf.train.GradientDescentOptimizer(learning_rate=0.001)\n",
    "train = optimizer.minimize(error)\n",
    "\n",
    "init = tf.global_variables_initializer()\n",
    "with tf.Session() as sess:\n",
    "    sess.run(init)\n",
    "    batches = 10\n",
    "    \n",
    "    for i in range(batches):\n",
    "        rand_ind = np.arange(i*batch_size,(i+1)*batch_size) # need to check for more than epoch\n",
    "        feed = {xph:x_data[rand_ind],yph:y_data[rand_ind]}\n",
    "        sess.run(train,feed_dict=feed)\n",
    "        \n",
    "    model_w,model_b = sess.run([w,b])\n",
    "print('model_w:',model_w)\n",
    "print('model_b:',model_b)"
   ]
  },
  {
   "cell_type": "code",
   "execution_count": 34,
   "metadata": {},
   "outputs": [
    {
     "data": {
      "text/plain": [
       "[<matplotlib.lines.Line2D at 0x13fae32e8>]"
      ]
     },
     "execution_count": 34,
     "metadata": {},
     "output_type": "execute_result"
    },
    {
     "data": {
      "image/png": "[encoded data removed]",
      "text/plain": [
       "<Figure size 432x288 with 1 Axes>"
      ]
     },
     "metadata": {},
     "output_type": "display_data"
    }
   ],
   "source": [
    "y_hat = model_w * x_data + model_b\n",
    "all_data_frame.sample(250).plot(kind='scatter',x='X data',y='Y data')\n",
    "plt.plot(x_data,y_hat,'b')"
   ]
  },
  {
   "cell_type": "markdown",
   "metadata": {},
   "source": [
    "# tf.estimator API"
   ]
  },
  {
   "cell_type": "markdown",
   "metadata": {},
   "source": [
    "### 1. split data"
   ]
  },
  {
   "cell_type": "code",
   "execution_count": 255,
   "metadata": {},
   "outputs": [
    {
     "name": "stdout",
     "output_type": "stream",
     "text": [
      "(700000,)\n",
      "(300000,)\n",
      "(700000,)\n",
      "(300000,)\n"
     ]
    }
   ],
   "source": [
    "from sklearn.model_selection import train_test_split\n",
    "x_train, x_eval, y_train, y_eval = train_test_split(x_data,y_data,test_size=0.3,random_state=101)\n",
    "\n",
    "print(x_train.shape)\n",
    "print(x_eval.shape)\n",
    "print(y_train.shape)\n",
    "print(y_eval.shape)"
   ]
  },
  {
   "cell_type": "markdown",
   "metadata": {},
   "source": [
    "### 2. train data"
   ]
  },
  {
   "cell_type": "code",
   "execution_count": 271,
   "metadata": {},
   "outputs": [
    {
     "name": "stdout",
     "output_type": "stream",
     "text": [
      "INFO:tensorflow:Using default config.\n",
      "WARNING:tensorflow:Using temporary folder as model directory: /var/folders/sr/9k0jqkfs33q22ppyt_t7yjt9716826/T/tmpewlf4yrn\n",
      "INFO:tensorflow:Using config: {'_model_dir': '/var/folders/sr/9k0jqkfs33q22ppyt_t7yjt9716826/T/tmpewlf4yrn', '_tf_random_seed': None, '_save_summary_steps': 100, '_save_checkpoints_steps': None, '_save_checkpoints_secs': 600, '_session_config': None, '_keep_checkpoint_max': 5, '_keep_checkpoint_every_n_hours': 10000, '_log_step_count_steps': 100, '_service': None, '_cluster_spec': <tensorflow.python.training.server_lib.ClusterSpec object at 0x183712c6d8>, '_task_type': 'worker', '_task_id': 0, '_master': '', '_is_chief': True, '_num_ps_replicas': 0, '_num_worker_replicas': 1}\n"
     ]
    }
   ],
   "source": [
    "# x is key, shape has only one dimension. And we have only one feature in this case.\n",
    "feat_cols = [tf.feature_column.numeric_column('x',shape=[1])] \n",
    "estimator = tf.estimator.LinearRegressor(feature_columns=feat_cols)"
   ]
  },
  {
   "cell_type": "code",
   "execution_count": 272,
   "metadata": {},
   "outputs": [
    {
     "name": "stdout",
     "output_type": "stream",
     "text": [
      "------- TRAIN -------\n",
      "INFO:tensorflow:Create CheckpointSaverHook.\n",
      "INFO:tensorflow:Saving checkpoints for 1 into /var/folders/sr/9k0jqkfs33q22ppyt_t7yjt9716826/T/tmpewlf4yrn/model.ckpt.\n",
      "INFO:tensorflow:loss = 195.673, step = 1\n",
      "INFO:tensorflow:global_step/sec: 1583.86\n",
      "INFO:tensorflow:loss = 10.0812, step = 101 (0.066 sec)\n",
      "INFO:tensorflow:global_step/sec: 1858.98\n",
      "INFO:tensorflow:loss = 5.10195, step = 201 (0.054 sec)\n",
      "INFO:tensorflow:global_step/sec: 1867.73\n",
      "INFO:tensorflow:loss = 1.43044, step = 301 (0.054 sec)\n",
      "INFO:tensorflow:global_step/sec: 1808.78\n",
      "INFO:tensorflow:loss = 3.29441, step = 401 (0.055 sec)\n",
      "INFO:tensorflow:global_step/sec: 1850.92\n",
      "INFO:tensorflow:loss = 6.35149, step = 501 (0.054 sec)\n",
      "INFO:tensorflow:global_step/sec: 1589.42\n",
      "INFO:tensorflow:loss = 4.5877, step = 601 (0.062 sec)\n",
      "INFO:tensorflow:global_step/sec: 1670.92\n",
      "INFO:tensorflow:loss = 4.34617, step = 701 (0.060 sec)\n",
      "INFO:tensorflow:global_step/sec: 1727.35\n",
      "INFO:tensorflow:loss = 4.27894, step = 801 (0.058 sec)\n",
      "INFO:tensorflow:global_step/sec: 1673.42\n",
      "INFO:tensorflow:loss = 0.50633, step = 901 (0.060 sec)\n",
      "INFO:tensorflow:Saving checkpoints for 1000 into /var/folders/sr/9k0jqkfs33q22ppyt_t7yjt9716826/T/tmpewlf4yrn/model.ckpt.\n",
      "INFO:tensorflow:Loss for final step: 3.27207.\n"
     ]
    },
    {
     "data": {
      "text/plain": [
       "<tensorflow.python.estimator.canned.linear.LinearRegressor at 0x18374f7ac8>"
      ]
     },
     "execution_count": 272,
     "metadata": {},
     "output_type": "execute_result"
    }
   ],
   "source": [
    "print('------- TRAIN -------')\n",
    "# Train\n",
    "input_func = tf.estimator.inputs.numpy_input_fn(\n",
    "    {'x':x_train},\n",
    "    y_train,\n",
    "    batch_size=4,\n",
    "    num_epochs=None,\n",
    "    shuffle=True)\n",
    "estimator.train(input_fn=input_func,steps=1000)"
   ]
  },
  {
   "cell_type": "code",
   "execution_count": 266,
   "metadata": {},
   "outputs": [
    {
     "name": "stdout",
     "output_type": "stream",
     "text": [
      "------- Evaluate Train Set -------\n",
      "INFO:tensorflow:Starting evaluation at 2018-02-26-02:48:07\n",
      "INFO:tensorflow:Restoring parameters from /var/folders/sr/9k0jqkfs33q22ppyt_t7yjt9716826/T/tmp928o4wxn/model.ckpt-1000\n",
      "INFO:tensorflow:Evaluation [100/1000]\n",
      "INFO:tensorflow:Evaluation [200/1000]\n",
      "INFO:tensorflow:Evaluation [300/1000]\n",
      "INFO:tensorflow:Evaluation [400/1000]\n",
      "INFO:tensorflow:Evaluation [500/1000]\n",
      "INFO:tensorflow:Evaluation [600/1000]\n",
      "INFO:tensorflow:Evaluation [700/1000]\n",
      "INFO:tensorflow:Evaluation [800/1000]\n",
      "INFO:tensorflow:Evaluation [900/1000]\n",
      "INFO:tensorflow:Evaluation [1000/1000]\n",
      "INFO:tensorflow:Finished evaluation at 2018-02-26-02:48:08\n",
      "INFO:tensorflow:Saving dict for global step 1000: average_loss = 1.15341, global_step = 1000, loss = 4.61366\n"
     ]
    }
   ],
   "source": [
    "print('------- Evaluate Train Set -------')\n",
    "# Evaluate train set\n",
    "train_input_func = tf.estimator.inputs.numpy_input_fn(\n",
    "    {'x':x_train},\n",
    "    y_train,\n",
    "    batch_size=4,\n",
    "    num_epochs=1000,\n",
    "    shuffle=False)\n",
    "train_metrics = estimator.evaluate(input_fn=train_input_func,steps=1000)"
   ]
  },
  {
   "cell_type": "code",
   "execution_count": 269,
   "metadata": {},
   "outputs": [
    {
     "name": "stdout",
     "output_type": "stream",
     "text": [
      "------- Evaluate Test Set -------\n",
      "INFO:tensorflow:Starting evaluation at 2018-02-26-02:48:26\n",
      "INFO:tensorflow:Restoring parameters from /var/folders/sr/9k0jqkfs33q22ppyt_t7yjt9716826/T/tmp928o4wxn/model.ckpt-1000\n",
      "INFO:tensorflow:Evaluation [100/1000]\n",
      "INFO:tensorflow:Evaluation [200/1000]\n",
      "INFO:tensorflow:Evaluation [300/1000]\n",
      "INFO:tensorflow:Evaluation [400/1000]\n",
      "INFO:tensorflow:Evaluation [500/1000]\n",
      "INFO:tensorflow:Evaluation [600/1000]\n",
      "INFO:tensorflow:Evaluation [700/1000]\n",
      "INFO:tensorflow:Evaluation [800/1000]\n",
      "INFO:tensorflow:Evaluation [900/1000]\n",
      "INFO:tensorflow:Evaluation [1000/1000]\n",
      "INFO:tensorflow:Finished evaluation at 2018-02-26-02:48:26\n",
      "INFO:tensorflow:Saving dict for global step 1000: average_loss = 1.14771, global_step = 1000, loss = 4.59085\n"
     ]
    }
   ],
   "source": [
    "print('------- Evaluate Test Set -------')\n",
    "# Evaluate eval set\n",
    "eval_input_func = tf.estimator.inputs.numpy_input_fn(\n",
    "    {'x':x_eval},\n",
    "    y_eval,\n",
    "    batch_size=4,\n",
    "    num_epochs=1000,\n",
    "    shuffle=False)\n",
    "eval_metrics = estimator.evaluate(input_fn=eval_input_func,steps=1000)"
   ]
  },
  {
   "cell_type": "code",
   "execution_count": 268,
   "metadata": {},
   "outputs": [
    {
     "name": "stdout",
     "output_type": "stream",
     "text": [
      "\n",
      " *********************************************************\n",
      "\n",
      " ******* See MATRIC to indicate under/over fitting *******\n",
      "\n",
      " *********************************************************\n",
      "train metrics:  {'average_loss': 1.1534146, 'loss': 4.6136584, 'global_step': 1000}\n",
      "eval metrics: {'average_loss': 1.1477122, 'loss': 4.5908489, 'global_step': 1000}\n"
     ]
    }
   ],
   "source": [
    "print(\"\\n *********************************************************\")\n",
    "print(\"\\n ******* See MATRIC to indicate under/over fitting *******\")\n",
    "print(\"\\n *********************************************************\")\n",
    "print(\"train metrics: \",(train_metrics))\n",
    "print(\"eval metrics: {}\".format(eval_metrics)) # it's the same as above, I don't know why we have to write this way"
   ]
  },
  {
   "cell_type": "markdown",
   "metadata": {},
   "source": [
    "### 3. predict data"
   ]
  },
  {
   "cell_type": "code",
   "execution_count": 276,
   "metadata": {},
   "outputs": [
    {
     "name": "stdout",
     "output_type": "stream",
     "text": [
      "INFO:tensorflow:Restoring parameters from /var/folders/sr/9k0jqkfs33q22ppyt_t7yjt9716826/T/tmpewlf4yrn/model.ckpt-1000\n",
      "predictions: [array([ 4.37933683], dtype=float32), array([ 10.49108505], dtype=float32)]\n"
     ]
    },
    {
     "data": {
      "text/plain": [
       "[<matplotlib.lines.Line2D at 0x1835a5cf60>]"
      ]
     },
     "execution_count": 276,
     "metadata": {},
     "output_type": "execute_result"
    },
    {
     "data": {
      "image/png": "[encoded data removed]",
      "text/plain": [
       "<matplotlib.figure.Figure at 0x18377b1438>"
      ]
     },
     "metadata": {},
     "output_type": "display_data"
    }
   ],
   "source": [
    "input_fn_predict = tf.estimator.inputs.numpy_input_fn({'x':np.linspace(0,10,2)},shuffle=False)\n",
    "\n",
    "predictions = []\n",
    "for p in estimator.predict(input_fn=input_fn_predict):\n",
    "    predictions.append(p['predictions'])\n",
    "print('predictions:',predictions)\n",
    "\n",
    "all_data_frame.sample(n=250).plot(kind='scatter',x='X data',y='Y data')\n",
    "plt.plot(np.linspace(0,10,2),predictions,'r')"
   ]
  },
  {
   "cell_type": "code",
   "execution_count": null,
   "metadata": {
    "collapsed": true
   },
   "outputs": [],
   "source": []
  }
 ],
 "metadata": {
  "kernelspec": {
   "display_name": "Python 3",
   "language": "python",
   "name": "python3"
  },
  "language_info": {
   "codemirror_mode": {
    "name": "ipython",
    "version": 3
   },
   "file_extension": ".py",
   "mimetype": "text/x-python",
   "name": "python",
   "nbconvert_exporter": "python",
   "pygments_lexer": "ipython3",
   "version": "3.6.4"
  }
 },
 "nbformat": 4,
 "nbformat_minor": 2
}
