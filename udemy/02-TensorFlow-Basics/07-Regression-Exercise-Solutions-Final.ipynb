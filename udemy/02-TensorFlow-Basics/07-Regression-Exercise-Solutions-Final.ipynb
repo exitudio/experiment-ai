{
 "cells": [
  {
   "cell_type": "markdown",
   "metadata": {},
   "source": [
    "# Regression Exercise - Solutions\n",
    "\n",
    "California Housing Data\n",
    "\n",
    "This data set contains information about all the block groups in California from the 1990 Census. In this sample a block group on average includes 1425.5 individuals living in a geographically compact area. \n",
    "\n",
    "The task is to aproximate the median house value of each block from the values of the rest of the variables. \n",
    "\n",
    " It has been obtained from the LIACC repository. The original page where the data set can be found is: http://www.liaad.up.pt/~ltorgo/Regression/DataSets.html.\n",
    " "
   ]
  },
  {
   "cell_type": "markdown",
   "metadata": {
    "collapsed": true
   },
   "source": [
    "The Features:\n",
    " \n",
    "* housingMedianAge: continuous. \n",
    "* totalRooms: continuous. \n",
    "* totalBedrooms: continuous. \n",
    "* population: continuous. \n",
    "* households: continuous. \n",
    "* medianIncome: continuous. \n",
    "* medianHouseValue: continuous. "
   ]
  },
  {
   "cell_type": "markdown",
   "metadata": {},
   "source": [
    "## The Data"
   ]
  },
  {
   "cell_type": "markdown",
   "metadata": {},
   "source": [
    "** Import the cal_housing.csv file with pandas. Separate it into a training (70%) and testing set(30%).**"
   ]
  },
  {
   "cell_type": "code",
   "execution_count": 89,
   "metadata": {
    "collapsed": true
   },
   "outputs": [],
   "source": [
    "import pandas as pd"
   ]
  },
  {
   "cell_type": "code",
   "execution_count": 90,
   "metadata": {
    "collapsed": true
   },
   "outputs": [],
   "source": [
    "housing = pd.read_csv('cal_housing_clean.csv')"
   ]
  },
  {
   "cell_type": "code",
   "execution_count": 91,
   "metadata": {},
   "outputs": [
    {
     "data": {
      "text/html": [
       "<div>\n",
       "<style>\n",
       "    .dataframe thead tr:only-child th {\n",
       "        text-align: right;\n",
       "    }\n",
       "\n",
       "    .dataframe thead th {\n",
       "        text-align: left;\n",
       "    }\n",
       "\n",
       "    .dataframe tbody tr th {\n",
       "        vertical-align: top;\n",
       "    }\n",
       "</style>\n",
       "<table border=\"1\" class=\"dataframe\">\n",
       "  <thead>\n",
       "    <tr style=\"text-align: right;\">\n",
       "      <th></th>\n",
       "      <th>housingMedianAge</th>\n",
       "      <th>totalRooms</th>\n",
       "      <th>totalBedrooms</th>\n",
       "      <th>population</th>\n",
       "      <th>households</th>\n",
       "      <th>medianIncome</th>\n",
       "      <th>medianHouseValue</th>\n",
       "    </tr>\n",
       "  </thead>\n",
       "  <tbody>\n",
       "    <tr>\n",
       "      <th>0</th>\n",
       "      <td>41.0</td>\n",
       "      <td>880.0</td>\n",
       "      <td>129.0</td>\n",
       "      <td>322.0</td>\n",
       "      <td>126.0</td>\n",
       "      <td>8.3252</td>\n",
       "      <td>452600.0</td>\n",
       "    </tr>\n",
       "    <tr>\n",
       "      <th>1</th>\n",
       "      <td>21.0</td>\n",
       "      <td>7099.0</td>\n",
       "      <td>1106.0</td>\n",
       "      <td>2401.0</td>\n",
       "      <td>1138.0</td>\n",
       "      <td>8.3014</td>\n",
       "      <td>358500.0</td>\n",
       "    </tr>\n",
       "    <tr>\n",
       "      <th>2</th>\n",
       "      <td>52.0</td>\n",
       "      <td>1467.0</td>\n",
       "      <td>190.0</td>\n",
       "      <td>496.0</td>\n",
       "      <td>177.0</td>\n",
       "      <td>7.2574</td>\n",
       "      <td>352100.0</td>\n",
       "    </tr>\n",
       "    <tr>\n",
       "      <th>3</th>\n",
       "      <td>52.0</td>\n",
       "      <td>1274.0</td>\n",
       "      <td>235.0</td>\n",
       "      <td>558.0</td>\n",
       "      <td>219.0</td>\n",
       "      <td>5.6431</td>\n",
       "      <td>341300.0</td>\n",
       "    </tr>\n",
       "    <tr>\n",
       "      <th>4</th>\n",
       "      <td>52.0</td>\n",
       "      <td>1627.0</td>\n",
       "      <td>280.0</td>\n",
       "      <td>565.0</td>\n",
       "      <td>259.0</td>\n",
       "      <td>3.8462</td>\n",
       "      <td>342200.0</td>\n",
       "    </tr>\n",
       "  </tbody>\n",
       "</table>\n",
       "</div>"
      ],
      "text/plain": [
       "   housingMedianAge  totalRooms  totalBedrooms  population  households  \\\n",
       "0              41.0       880.0          129.0       322.0       126.0   \n",
       "1              21.0      7099.0         1106.0      2401.0      1138.0   \n",
       "2              52.0      1467.0          190.0       496.0       177.0   \n",
       "3              52.0      1274.0          235.0       558.0       219.0   \n",
       "4              52.0      1627.0          280.0       565.0       259.0   \n",
       "\n",
       "   medianIncome  medianHouseValue  \n",
       "0        8.3252          452600.0  \n",
       "1        8.3014          358500.0  \n",
       "2        7.2574          352100.0  \n",
       "3        5.6431          341300.0  \n",
       "4        3.8462          342200.0  "
      ]
     },
     "execution_count": 91,
     "metadata": {},
     "output_type": "execute_result"
    }
   ],
   "source": [
    "housing.head()"
   ]
  },
  {
   "cell_type": "code",
   "execution_count": 92,
   "metadata": {},
   "outputs": [
    {
     "data": {
      "text/html": [
       "<div>\n",
       "<style>\n",
       "    .dataframe thead tr:only-child th {\n",
       "        text-align: right;\n",
       "    }\n",
       "\n",
       "    .dataframe thead th {\n",
       "        text-align: left;\n",
       "    }\n",
       "\n",
       "    .dataframe tbody tr th {\n",
       "        vertical-align: top;\n",
       "    }\n",
       "</style>\n",
       "<table border=\"1\" class=\"dataframe\">\n",
       "  <thead>\n",
       "    <tr style=\"text-align: right;\">\n",
       "      <th></th>\n",
       "      <th>count</th>\n",
       "      <th>mean</th>\n",
       "      <th>std</th>\n",
       "      <th>min</th>\n",
       "      <th>25%</th>\n",
       "      <th>50%</th>\n",
       "      <th>75%</th>\n",
       "      <th>max</th>\n",
       "    </tr>\n",
       "  </thead>\n",
       "  <tbody>\n",
       "    <tr>\n",
       "      <th>housingMedianAge</th>\n",
       "      <td>20640.0</td>\n",
       "      <td>28.639486</td>\n",
       "      <td>12.585558</td>\n",
       "      <td>1.0000</td>\n",
       "      <td>18.0000</td>\n",
       "      <td>29.0000</td>\n",
       "      <td>37.00000</td>\n",
       "      <td>52.0000</td>\n",
       "    </tr>\n",
       "    <tr>\n",
       "      <th>totalRooms</th>\n",
       "      <td>20640.0</td>\n",
       "      <td>2635.763081</td>\n",
       "      <td>2181.615252</td>\n",
       "      <td>2.0000</td>\n",
       "      <td>1447.7500</td>\n",
       "      <td>2127.0000</td>\n",
       "      <td>3148.00000</td>\n",
       "      <td>39320.0000</td>\n",
       "    </tr>\n",
       "    <tr>\n",
       "      <th>totalBedrooms</th>\n",
       "      <td>20640.0</td>\n",
       "      <td>537.898014</td>\n",
       "      <td>421.247906</td>\n",
       "      <td>1.0000</td>\n",
       "      <td>295.0000</td>\n",
       "      <td>435.0000</td>\n",
       "      <td>647.00000</td>\n",
       "      <td>6445.0000</td>\n",
       "    </tr>\n",
       "    <tr>\n",
       "      <th>population</th>\n",
       "      <td>20640.0</td>\n",
       "      <td>1425.476744</td>\n",
       "      <td>1132.462122</td>\n",
       "      <td>3.0000</td>\n",
       "      <td>787.0000</td>\n",
       "      <td>1166.0000</td>\n",
       "      <td>1725.00000</td>\n",
       "      <td>35682.0000</td>\n",
       "    </tr>\n",
       "    <tr>\n",
       "      <th>households</th>\n",
       "      <td>20640.0</td>\n",
       "      <td>499.539680</td>\n",
       "      <td>382.329753</td>\n",
       "      <td>1.0000</td>\n",
       "      <td>280.0000</td>\n",
       "      <td>409.0000</td>\n",
       "      <td>605.00000</td>\n",
       "      <td>6082.0000</td>\n",
       "    </tr>\n",
       "    <tr>\n",
       "      <th>medianIncome</th>\n",
       "      <td>20640.0</td>\n",
       "      <td>3.870671</td>\n",
       "      <td>1.899822</td>\n",
       "      <td>0.4999</td>\n",
       "      <td>2.5634</td>\n",
       "      <td>3.5348</td>\n",
       "      <td>4.74325</td>\n",
       "      <td>15.0001</td>\n",
       "    </tr>\n",
       "    <tr>\n",
       "      <th>medianHouseValue</th>\n",
       "      <td>20640.0</td>\n",
       "      <td>206855.816909</td>\n",
       "      <td>115395.615874</td>\n",
       "      <td>14999.0000</td>\n",
       "      <td>119600.0000</td>\n",
       "      <td>179700.0000</td>\n",
       "      <td>264725.00000</td>\n",
       "      <td>500001.0000</td>\n",
       "    </tr>\n",
       "  </tbody>\n",
       "</table>\n",
       "</div>"
      ],
      "text/plain": [
       "                    count           mean            std         min  \\\n",
       "housingMedianAge  20640.0      28.639486      12.585558      1.0000   \n",
       "totalRooms        20640.0    2635.763081    2181.615252      2.0000   \n",
       "totalBedrooms     20640.0     537.898014     421.247906      1.0000   \n",
       "population        20640.0    1425.476744    1132.462122      3.0000   \n",
       "households        20640.0     499.539680     382.329753      1.0000   \n",
       "medianIncome      20640.0       3.870671       1.899822      0.4999   \n",
       "medianHouseValue  20640.0  206855.816909  115395.615874  14999.0000   \n",
       "\n",
       "                          25%          50%           75%          max  \n",
       "housingMedianAge      18.0000      29.0000      37.00000      52.0000  \n",
       "totalRooms          1447.7500    2127.0000    3148.00000   39320.0000  \n",
       "totalBedrooms        295.0000     435.0000     647.00000    6445.0000  \n",
       "population           787.0000    1166.0000    1725.00000   35682.0000  \n",
       "households           280.0000     409.0000     605.00000    6082.0000  \n",
       "medianIncome           2.5634       3.5348       4.74325      15.0001  \n",
       "medianHouseValue  119600.0000  179700.0000  264725.00000  500001.0000  "
      ]
     },
     "execution_count": 92,
     "metadata": {},
     "output_type": "execute_result"
    }
   ],
   "source": [
    "housing.describe().transpose()"
   ]
  },
  {
   "cell_type": "code",
   "execution_count": 93,
   "metadata": {
    "collapsed": true,
    "scrolled": true
   },
   "outputs": [],
   "source": [
    "x_data = housing.drop(['medianHouseValue'],axis=1)"
   ]
  },
  {
   "cell_type": "code",
   "execution_count": 94,
   "metadata": {
    "collapsed": true
   },
   "outputs": [],
   "source": [
    "y_val = housing['medianHouseValue']"
   ]
  },
  {
   "cell_type": "code",
   "execution_count": 95,
   "metadata": {
    "collapsed": true
   },
   "outputs": [],
   "source": [
    "from sklearn.model_selection import train_test_split"
   ]
  },
  {
   "cell_type": "code",
   "execution_count": 96,
   "metadata": {},
   "outputs": [],
   "source": [
    "X_train, X_test, y_train, y_test = train_test_split(x_data,y_val,test_size=0.3,random_state=101)"
   ]
  },
  {
   "cell_type": "markdown",
   "metadata": {},
   "source": [
    "### Scale the Feature Data\n",
    "\n",
    "** Use sklearn preprocessing to create a MinMaxScaler for the feature data. Fit this scaler only to the training data. Then use it to transform X_test and X_train. Then use the scaled X_test and X_train along with pd.Dataframe to re-create two dataframes of scaled data.**"
   ]
  },
  {
   "cell_type": "code",
   "execution_count": 97,
   "metadata": {
    "collapsed": true
   },
   "outputs": [],
   "source": [
    "from sklearn.preprocessing import MinMaxScaler"
   ]
  },
  {
   "cell_type": "code",
   "execution_count": 98,
   "metadata": {
    "collapsed": true
   },
   "outputs": [],
   "source": [
    "scaler = MinMaxScaler()"
   ]
  },
  {
   "cell_type": "code",
   "execution_count": 99,
   "metadata": {},
   "outputs": [
    {
     "data": {
      "text/plain": [
       "MinMaxScaler(copy=True, feature_range=(0, 1))"
      ]
     },
     "execution_count": 99,
     "metadata": {},
     "output_type": "execute_result"
    }
   ],
   "source": [
    "scaler.fit(X_train)"
   ]
  },
  {
   "cell_type": "code",
   "execution_count": 100,
   "metadata": {
    "collapsed": true
   },
   "outputs": [],
   "source": [
    "X_train = pd.DataFrame(data=scaler.transform(X_train),columns = X_train.columns,index=X_train.index)"
   ]
  },
  {
   "cell_type": "code",
   "execution_count": 101,
   "metadata": {
    "collapsed": true
   },
   "outputs": [],
   "source": [
    "X_test = pd.DataFrame(data=scaler.transform(X_test),columns = X_test.columns,index=X_test.index)"
   ]
  },
  {
   "cell_type": "markdown",
   "metadata": {},
   "source": [
    "### Create Feature Columns\n",
    "\n",
    "** Create the necessary tf.feature_column objects for the estimator. They should all be trated as continuous numeric_columns. **"
   ]
  },
  {
   "cell_type": "code",
   "execution_count": 102,
   "metadata": {},
   "outputs": [
    {
     "data": {
      "text/plain": [
       "Index(['housingMedianAge', 'totalRooms', 'totalBedrooms', 'population',\n",
       "       'households', 'medianIncome', 'medianHouseValue'],\n",
       "      dtype='object')"
      ]
     },
     "execution_count": 102,
     "metadata": {},
     "output_type": "execute_result"
    }
   ],
   "source": [
    "housing.columns"
   ]
  },
  {
   "cell_type": "code",
   "execution_count": 103,
   "metadata": {
    "collapsed": true
   },
   "outputs": [],
   "source": [
    "import tensorflow as tf"
   ]
  },
  {
   "cell_type": "code",
   "execution_count": 104,
   "metadata": {
    "collapsed": true
   },
   "outputs": [],
   "source": [
    "age = tf.feature_column.numeric_column('housingMedianAge')\n",
    "rooms = tf.feature_column.numeric_column('totalRooms')\n",
    "bedrooms = tf.feature_column.numeric_column('totalBedrooms')\n",
    "pop = tf.feature_column.numeric_column('population')\n",
    "households = tf.feature_column.numeric_column('households')\n",
    "income = tf.feature_column.numeric_column('medianIncome')"
   ]
  },
  {
   "cell_type": "code",
   "execution_count": 105,
   "metadata": {
    "collapsed": true
   },
   "outputs": [],
   "source": [
    "feat_cols = [ age,rooms,bedrooms,pop,households,income]"
   ]
  },
  {
   "cell_type": "markdown",
   "metadata": {},
   "source": [
    "** Create the input function for the estimator object. (play around with batch_size and num_epochs)**"
   ]
  },
  {
   "cell_type": "code",
   "execution_count": 106,
   "metadata": {
    "collapsed": true
   },
   "outputs": [],
   "source": [
    "input_func = tf.estimator.inputs.pandas_input_fn(x=X_train,y=y_train ,batch_size=10,num_epochs=1000,\n",
    "                                            shuffle=True)"
   ]
  },
  {
   "cell_type": "markdown",
   "metadata": {},
   "source": [
    "** Create the estimator model. Use a DNNRegressor. Play around with the hidden units! **"
   ]
  },
  {
   "cell_type": "code",
   "execution_count": 107,
   "metadata": {},
   "outputs": [
    {
     "name": "stdout",
     "output_type": "stream",
     "text": [
      "INFO:tensorflow:Using default config.\n",
      "WARNING:tensorflow:Using temporary folder as model directory: /var/folders/sr/9k0jqkfs33q22ppyt_t7yjt9716826/T/tmpbhqmebe6\n",
      "INFO:tensorflow:Using config: {'_model_dir': '/var/folders/sr/9k0jqkfs33q22ppyt_t7yjt9716826/T/tmpbhqmebe6', '_tf_random_seed': None, '_save_summary_steps': 100, '_save_checkpoints_steps': None, '_save_checkpoints_secs': 600, '_session_config': None, '_keep_checkpoint_max': 5, '_keep_checkpoint_every_n_hours': 10000, '_log_step_count_steps': 100, '_service': None, '_cluster_spec': <tensorflow.python.training.server_lib.ClusterSpec object at 0x10d6830b8>, '_task_type': 'worker', '_task_id': 0, '_master': '', '_is_chief': True, '_num_ps_replicas': 0, '_num_worker_replicas': 1}\n"
     ]
    }
   ],
   "source": [
    "model = tf.estimator.DNNRegressor(hidden_units=[6,6,6],feature_columns=feat_cols)"
   ]
  },
  {
   "cell_type": "markdown",
   "metadata": {},
   "source": [
    "##### ** Train the model for ~1,000 steps. (Later come back to this and train it for more and check for improvement) **"
   ]
  },
  {
   "cell_type": "code",
   "execution_count": 108,
   "metadata": {},
   "outputs": [
    {
     "name": "stdout",
     "output_type": "stream",
     "text": [
      "INFO:tensorflow:Create CheckpointSaverHook.\n",
      "INFO:tensorflow:Saving checkpoints for 1 into /var/folders/sr/9k0jqkfs33q22ppyt_t7yjt9716826/T/tmpbhqmebe6/model.ckpt.\n",
      "INFO:tensorflow:loss = 4.70844e+11, step = 1\n",
      "INFO:tensorflow:global_step/sec: 633.373\n",
      "INFO:tensorflow:loss = 9.45479e+11, step = 101 (0.159 sec)\n",
      "INFO:tensorflow:global_step/sec: 730.107\n",
      "INFO:tensorflow:loss = 5.96638e+11, step = 201 (0.137 sec)\n",
      "INFO:tensorflow:global_step/sec: 796.56\n",
      "INFO:tensorflow:loss = 5.46255e+11, step = 301 (0.126 sec)\n",
      "INFO:tensorflow:global_step/sec: 797.721\n",
      "INFO:tensorflow:loss = 9.06621e+11, step = 401 (0.125 sec)\n",
      "INFO:tensorflow:global_step/sec: 768.026\n",
      "INFO:tensorflow:loss = 2.61556e+11, step = 501 (0.130 sec)\n",
      "INFO:tensorflow:global_step/sec: 623.196\n",
      "INFO:tensorflow:loss = 3.03787e+11, step = 601 (0.160 sec)\n",
      "INFO:tensorflow:global_step/sec: 589.418\n",
      "INFO:tensorflow:loss = 3.99056e+11, step = 701 (0.170 sec)\n",
      "INFO:tensorflow:global_step/sec: 581.757\n",
      "INFO:tensorflow:loss = 4.01421e+11, step = 801 (0.176 sec)\n",
      "INFO:tensorflow:global_step/sec: 523.415\n",
      "INFO:tensorflow:loss = 4.92997e+11, step = 901 (0.189 sec)\n",
      "INFO:tensorflow:global_step/sec: 550.701\n",
      "INFO:tensorflow:loss = 3.61815e+11, step = 1001 (0.182 sec)\n",
      "INFO:tensorflow:global_step/sec: 540.484\n",
      "INFO:tensorflow:loss = 1.62245e+11, step = 1101 (0.188 sec)\n",
      "INFO:tensorflow:global_step/sec: 668.646\n",
      "INFO:tensorflow:loss = 7.14276e+10, step = 1201 (0.143 sec)\n",
      "INFO:tensorflow:global_step/sec: 740.418\n",
      "INFO:tensorflow:loss = 3.55699e+11, step = 1301 (0.135 sec)\n",
      "INFO:tensorflow:global_step/sec: 754.352\n",
      "INFO:tensorflow:loss = 6.95778e+10, step = 1401 (0.132 sec)\n",
      "INFO:tensorflow:global_step/sec: 745.845\n",
      "INFO:tensorflow:loss = 6.26113e+10, step = 1501 (0.134 sec)\n",
      "INFO:tensorflow:global_step/sec: 655.823\n",
      "INFO:tensorflow:loss = 2.25309e+11, step = 1601 (0.153 sec)\n",
      "INFO:tensorflow:global_step/sec: 624.466\n",
      "INFO:tensorflow:loss = 4.96873e+10, step = 1701 (0.160 sec)\n",
      "INFO:tensorflow:global_step/sec: 635.135\n",
      "INFO:tensorflow:loss = 1.56798e+11, step = 1801 (0.157 sec)\n",
      "INFO:tensorflow:global_step/sec: 546.069\n",
      "INFO:tensorflow:loss = 2.06187e+10, step = 1901 (0.183 sec)\n",
      "INFO:tensorflow:global_step/sec: 707.544\n",
      "INFO:tensorflow:loss = 1.45356e+11, step = 2001 (0.141 sec)\n",
      "INFO:tensorflow:global_step/sec: 694.034\n",
      "INFO:tensorflow:loss = 1.05425e+11, step = 2101 (0.144 sec)\n",
      "INFO:tensorflow:global_step/sec: 770.309\n",
      "INFO:tensorflow:loss = 1.53631e+10, step = 2201 (0.130 sec)\n",
      "INFO:tensorflow:global_step/sec: 736.811\n",
      "INFO:tensorflow:loss = 7.77709e+10, step = 2301 (0.137 sec)\n",
      "INFO:tensorflow:global_step/sec: 626.61\n",
      "INFO:tensorflow:loss = 7.88049e+10, step = 2401 (0.160 sec)\n",
      "INFO:tensorflow:global_step/sec: 607.636\n",
      "INFO:tensorflow:loss = 1.88538e+11, step = 2501 (0.164 sec)\n",
      "INFO:tensorflow:global_step/sec: 752.922\n",
      "INFO:tensorflow:loss = 1.61822e+11, step = 2601 (0.133 sec)\n",
      "INFO:tensorflow:global_step/sec: 811.372\n",
      "INFO:tensorflow:loss = 1.4093e+11, step = 2701 (0.123 sec)\n",
      "INFO:tensorflow:global_step/sec: 630.215\n",
      "INFO:tensorflow:loss = 8.23357e+10, step = 2801 (0.159 sec)\n",
      "INFO:tensorflow:global_step/sec: 602.915\n",
      "INFO:tensorflow:loss = 1.62229e+11, step = 2901 (0.166 sec)\n",
      "INFO:tensorflow:global_step/sec: 552.678\n",
      "INFO:tensorflow:loss = 1.71394e+11, step = 3001 (0.181 sec)\n",
      "INFO:tensorflow:global_step/sec: 616.17\n",
      "INFO:tensorflow:loss = 1.25742e+11, step = 3101 (0.162 sec)\n",
      "INFO:tensorflow:global_step/sec: 673.13\n",
      "INFO:tensorflow:loss = 7.68858e+10, step = 3201 (0.148 sec)\n",
      "INFO:tensorflow:global_step/sec: 743.334\n",
      "INFO:tensorflow:loss = 2.13468e+11, step = 3301 (0.135 sec)\n",
      "INFO:tensorflow:global_step/sec: 782.057\n",
      "INFO:tensorflow:loss = 4.16273e+10, step = 3401 (0.127 sec)\n",
      "INFO:tensorflow:global_step/sec: 829.166\n",
      "INFO:tensorflow:loss = 2.03784e+11, step = 3501 (0.121 sec)\n",
      "INFO:tensorflow:global_step/sec: 736.806\n",
      "INFO:tensorflow:loss = 9.33442e+10, step = 3601 (0.136 sec)\n",
      "INFO:tensorflow:global_step/sec: 646.529\n",
      "INFO:tensorflow:loss = 2.84252e+10, step = 3701 (0.155 sec)\n",
      "INFO:tensorflow:global_step/sec: 733.574\n",
      "INFO:tensorflow:loss = 1.39103e+11, step = 3801 (0.136 sec)\n",
      "INFO:tensorflow:global_step/sec: 733.003\n",
      "INFO:tensorflow:loss = 5.10844e+10, step = 3901 (0.136 sec)\n",
      "INFO:tensorflow:global_step/sec: 798.991\n",
      "INFO:tensorflow:loss = 1.0257e+11, step = 4001 (0.125 sec)\n",
      "INFO:tensorflow:global_step/sec: 813.067\n",
      "INFO:tensorflow:loss = 5.48884e+10, step = 4101 (0.123 sec)\n",
      "INFO:tensorflow:global_step/sec: 784.917\n",
      "INFO:tensorflow:loss = 5.66934e+10, step = 4201 (0.127 sec)\n",
      "INFO:tensorflow:global_step/sec: 792.663\n",
      "INFO:tensorflow:loss = 6.8863e+10, step = 4301 (0.126 sec)\n",
      "INFO:tensorflow:global_step/sec: 814.898\n",
      "INFO:tensorflow:loss = 4.18673e+10, step = 4401 (0.123 sec)\n",
      "INFO:tensorflow:global_step/sec: 784.824\n",
      "INFO:tensorflow:loss = 5.88281e+10, step = 4501 (0.127 sec)\n",
      "INFO:tensorflow:global_step/sec: 788.625\n",
      "INFO:tensorflow:loss = 2.077e+11, step = 4601 (0.127 sec)\n",
      "INFO:tensorflow:global_step/sec: 798.161\n",
      "INFO:tensorflow:loss = 9.36221e+10, step = 4701 (0.125 sec)\n",
      "INFO:tensorflow:global_step/sec: 803.065\n",
      "INFO:tensorflow:loss = 1.26329e+11, step = 4801 (0.124 sec)\n",
      "INFO:tensorflow:global_step/sec: 776.952\n",
      "INFO:tensorflow:loss = 1.73082e+11, step = 4901 (0.129 sec)\n",
      "INFO:tensorflow:global_step/sec: 758.524\n",
      "INFO:tensorflow:loss = 1.52434e+11, step = 5001 (0.131 sec)\n",
      "INFO:tensorflow:global_step/sec: 813.709\n",
      "INFO:tensorflow:loss = 1.17857e+11, step = 5101 (0.123 sec)\n",
      "INFO:tensorflow:global_step/sec: 744.135\n",
      "INFO:tensorflow:loss = 5.92147e+10, step = 5201 (0.134 sec)\n",
      "INFO:tensorflow:global_step/sec: 755.06\n",
      "INFO:tensorflow:loss = 1.68951e+11, step = 5301 (0.132 sec)\n",
      "INFO:tensorflow:global_step/sec: 765.901\n",
      "INFO:tensorflow:loss = 1.02344e+11, step = 5401 (0.131 sec)\n",
      "INFO:tensorflow:global_step/sec: 596.091\n",
      "INFO:tensorflow:loss = 1.46399e+11, step = 5501 (0.168 sec)\n",
      "INFO:tensorflow:global_step/sec: 722.61\n",
      "INFO:tensorflow:loss = 1.23487e+11, step = 5601 (0.137 sec)\n",
      "INFO:tensorflow:global_step/sec: 822.634\n",
      "INFO:tensorflow:loss = 1.19102e+11, step = 5701 (0.122 sec)\n",
      "INFO:tensorflow:global_step/sec: 785.108\n",
      "INFO:tensorflow:loss = 1.65104e+11, step = 5801 (0.127 sec)\n",
      "INFO:tensorflow:global_step/sec: 821.023\n",
      "INFO:tensorflow:loss = 9.87911e+10, step = 5901 (0.122 sec)\n",
      "INFO:tensorflow:global_step/sec: 604.899\n",
      "INFO:tensorflow:loss = 9.79893e+10, step = 6001 (0.166 sec)\n",
      "INFO:tensorflow:global_step/sec: 642.512\n",
      "INFO:tensorflow:loss = 1.09567e+11, step = 6101 (0.155 sec)\n",
      "INFO:tensorflow:global_step/sec: 707.609\n",
      "INFO:tensorflow:loss = 1.43214e+11, step = 6201 (0.141 sec)\n",
      "INFO:tensorflow:global_step/sec: 858.524\n",
      "INFO:tensorflow:loss = 5.93056e+10, step = 6301 (0.117 sec)\n",
      "INFO:tensorflow:global_step/sec: 765.286\n",
      "INFO:tensorflow:loss = 3.47567e+11, step = 6401 (0.130 sec)\n",
      "INFO:tensorflow:global_step/sec: 729.496\n",
      "INFO:tensorflow:loss = 9.66956e+10, step = 6501 (0.137 sec)\n",
      "INFO:tensorflow:global_step/sec: 661.884\n",
      "INFO:tensorflow:loss = 8.74556e+10, step = 6601 (0.151 sec)\n",
      "INFO:tensorflow:global_step/sec: 764.519\n",
      "INFO:tensorflow:loss = 4.58497e+10, step = 6701 (0.131 sec)\n",
      "INFO:tensorflow:global_step/sec: 722.445\n",
      "INFO:tensorflow:loss = 1.17948e+11, step = 6801 (0.138 sec)\n",
      "INFO:tensorflow:global_step/sec: 842.035\n",
      "INFO:tensorflow:loss = 1.0985e+11, step = 6901 (0.119 sec)\n",
      "INFO:tensorflow:global_step/sec: 736.815\n",
      "INFO:tensorflow:loss = 2.14339e+11, step = 7001 (0.135 sec)\n",
      "INFO:tensorflow:global_step/sec: 691.506\n",
      "INFO:tensorflow:loss = 2.01544e+11, step = 7101 (0.145 sec)\n",
      "INFO:tensorflow:global_step/sec: 871.164\n",
      "INFO:tensorflow:loss = 1.01656e+11, step = 7201 (0.115 sec)\n",
      "INFO:tensorflow:global_step/sec: 621.045\n",
      "INFO:tensorflow:loss = 4.28552e+10, step = 7301 (0.163 sec)\n",
      "INFO:tensorflow:global_step/sec: 587.523\n",
      "INFO:tensorflow:loss = 1.8795e+11, step = 7401 (0.169 sec)\n",
      "INFO:tensorflow:global_step/sec: 640.077\n",
      "INFO:tensorflow:loss = 1.60919e+11, step = 7501 (0.156 sec)\n",
      "INFO:tensorflow:global_step/sec: 729.97\n",
      "INFO:tensorflow:loss = 1.42397e+11, step = 7601 (0.137 sec)\n",
      "INFO:tensorflow:global_step/sec: 764.369\n",
      "INFO:tensorflow:loss = 1.06736e+11, step = 7701 (0.131 sec)\n",
      "INFO:tensorflow:global_step/sec: 840.661\n",
      "INFO:tensorflow:loss = 6.19818e+10, step = 7801 (0.119 sec)\n",
      "INFO:tensorflow:global_step/sec: 838.081\n",
      "INFO:tensorflow:loss = 1.26552e+11, step = 7901 (0.119 sec)\n",
      "INFO:tensorflow:global_step/sec: 758.455\n"
     ]
    },
    {
     "name": "stdout",
     "output_type": "stream",
     "text": [
      "INFO:tensorflow:loss = 8.09601e+10, step = 8001 (0.133 sec)\n",
      "INFO:tensorflow:global_step/sec: 563.476\n",
      "INFO:tensorflow:loss = 8.35997e+10, step = 8101 (0.177 sec)\n",
      "INFO:tensorflow:global_step/sec: 631.05\n",
      "INFO:tensorflow:loss = 5.90797e+10, step = 8201 (0.160 sec)\n",
      "INFO:tensorflow:global_step/sec: 626.725\n",
      "INFO:tensorflow:loss = 4.78233e+10, step = 8301 (0.158 sec)\n",
      "INFO:tensorflow:global_step/sec: 745.711\n",
      "INFO:tensorflow:loss = 4.02899e+10, step = 8401 (0.134 sec)\n",
      "INFO:tensorflow:global_step/sec: 841.405\n",
      "INFO:tensorflow:loss = 8.63236e+10, step = 8501 (0.119 sec)\n",
      "INFO:tensorflow:global_step/sec: 793.108\n",
      "INFO:tensorflow:loss = 1.39572e+11, step = 8601 (0.126 sec)\n",
      "INFO:tensorflow:global_step/sec: 774.78\n",
      "INFO:tensorflow:loss = 1.64849e+11, step = 8701 (0.129 sec)\n",
      "INFO:tensorflow:global_step/sec: 761.689\n",
      "INFO:tensorflow:loss = 2.95631e+10, step = 8801 (0.132 sec)\n",
      "INFO:tensorflow:global_step/sec: 681.654\n",
      "INFO:tensorflow:loss = 6.60554e+10, step = 8901 (0.147 sec)\n",
      "INFO:tensorflow:global_step/sec: 788.446\n",
      "INFO:tensorflow:loss = 1.08738e+11, step = 9001 (0.127 sec)\n",
      "INFO:tensorflow:global_step/sec: 829.931\n",
      "INFO:tensorflow:loss = 6.69799e+10, step = 9101 (0.120 sec)\n",
      "INFO:tensorflow:global_step/sec: 816.906\n",
      "INFO:tensorflow:loss = 8.11132e+10, step = 9201 (0.122 sec)\n",
      "INFO:tensorflow:global_step/sec: 832.264\n",
      "INFO:tensorflow:loss = 7.23763e+10, step = 9301 (0.121 sec)\n",
      "INFO:tensorflow:global_step/sec: 792.369\n",
      "INFO:tensorflow:loss = 1.79399e+11, step = 9401 (0.126 sec)\n",
      "INFO:tensorflow:global_step/sec: 825.007\n",
      "INFO:tensorflow:loss = 7.47751e+10, step = 9501 (0.121 sec)\n",
      "INFO:tensorflow:global_step/sec: 878.162\n",
      "INFO:tensorflow:loss = 1.42068e+11, step = 9601 (0.114 sec)\n",
      "INFO:tensorflow:global_step/sec: 639.297\n",
      "INFO:tensorflow:loss = 9.48467e+10, step = 9701 (0.157 sec)\n",
      "INFO:tensorflow:global_step/sec: 654.977\n",
      "INFO:tensorflow:loss = 1.01295e+11, step = 9801 (0.152 sec)\n",
      "INFO:tensorflow:global_step/sec: 641.228\n",
      "INFO:tensorflow:loss = 5.86833e+10, step = 9901 (0.155 sec)\n",
      "INFO:tensorflow:global_step/sec: 656.284\n",
      "INFO:tensorflow:loss = 1.40157e+11, step = 10001 (0.153 sec)\n",
      "INFO:tensorflow:global_step/sec: 680.115\n",
      "INFO:tensorflow:loss = 1.08816e+11, step = 10101 (0.146 sec)\n",
      "INFO:tensorflow:global_step/sec: 713.521\n",
      "INFO:tensorflow:loss = 5.54835e+10, step = 10201 (0.140 sec)\n",
      "INFO:tensorflow:global_step/sec: 704.732\n",
      "INFO:tensorflow:loss = 1.45885e+11, step = 10301 (0.141 sec)\n",
      "INFO:tensorflow:global_step/sec: 732.659\n",
      "INFO:tensorflow:loss = 1.40889e+11, step = 10401 (0.137 sec)\n",
      "INFO:tensorflow:global_step/sec: 602.127\n",
      "INFO:tensorflow:loss = 8.25815e+10, step = 10501 (0.167 sec)\n",
      "INFO:tensorflow:global_step/sec: 698.173\n",
      "INFO:tensorflow:loss = 5.55994e+10, step = 10601 (0.143 sec)\n",
      "INFO:tensorflow:global_step/sec: 607.349\n",
      "INFO:tensorflow:loss = 7.73272e+10, step = 10701 (0.165 sec)\n",
      "INFO:tensorflow:global_step/sec: 618.856\n",
      "INFO:tensorflow:loss = 1.37694e+11, step = 10801 (0.163 sec)\n",
      "INFO:tensorflow:global_step/sec: 594.736\n",
      "INFO:tensorflow:loss = 7.70755e+10, step = 10901 (0.167 sec)\n",
      "INFO:tensorflow:global_step/sec: 658.411\n",
      "INFO:tensorflow:loss = 1.22648e+11, step = 11001 (0.152 sec)\n",
      "INFO:tensorflow:global_step/sec: 908.322\n",
      "INFO:tensorflow:loss = 5.57055e+10, step = 11101 (0.110 sec)\n",
      "INFO:tensorflow:global_step/sec: 816.052\n",
      "INFO:tensorflow:loss = 1.13205e+11, step = 11201 (0.123 sec)\n",
      "INFO:tensorflow:global_step/sec: 672.486\n",
      "INFO:tensorflow:loss = 1.43293e+11, step = 11301 (0.149 sec)\n",
      "INFO:tensorflow:global_step/sec: 771.349\n",
      "INFO:tensorflow:loss = 3.94377e+10, step = 11401 (0.130 sec)\n",
      "INFO:tensorflow:global_step/sec: 725.737\n",
      "INFO:tensorflow:loss = 1.60991e+11, step = 11501 (0.138 sec)\n",
      "INFO:tensorflow:global_step/sec: 794.198\n",
      "INFO:tensorflow:loss = 1.21162e+11, step = 11601 (0.125 sec)\n",
      "INFO:tensorflow:global_step/sec: 861.252\n",
      "INFO:tensorflow:loss = 7.9684e+10, step = 11701 (0.116 sec)\n",
      "INFO:tensorflow:global_step/sec: 820.325\n",
      "INFO:tensorflow:loss = 1.22874e+11, step = 11801 (0.121 sec)\n",
      "INFO:tensorflow:global_step/sec: 816.414\n",
      "INFO:tensorflow:loss = 1.54449e+11, step = 11901 (0.123 sec)\n",
      "INFO:tensorflow:global_step/sec: 751.308\n",
      "INFO:tensorflow:loss = 1.4623e+11, step = 12001 (0.133 sec)\n",
      "INFO:tensorflow:global_step/sec: 811.934\n",
      "INFO:tensorflow:loss = 7.77559e+10, step = 12101 (0.123 sec)\n",
      "INFO:tensorflow:global_step/sec: 830.723\n",
      "INFO:tensorflow:loss = 1.18962e+11, step = 12201 (0.121 sec)\n",
      "INFO:tensorflow:global_step/sec: 831.144\n",
      "INFO:tensorflow:loss = 6.2706e+10, step = 12301 (0.120 sec)\n",
      "INFO:tensorflow:global_step/sec: 803.756\n",
      "INFO:tensorflow:loss = 1.30145e+11, step = 12401 (0.125 sec)\n",
      "INFO:tensorflow:global_step/sec: 789.085\n",
      "INFO:tensorflow:loss = 1.48749e+11, step = 12501 (0.127 sec)\n",
      "INFO:tensorflow:global_step/sec: 846.588\n",
      "INFO:tensorflow:loss = 5.49899e+10, step = 12601 (0.118 sec)\n",
      "INFO:tensorflow:global_step/sec: 776.415\n",
      "INFO:tensorflow:loss = 1.19178e+11, step = 12701 (0.129 sec)\n",
      "INFO:tensorflow:global_step/sec: 813.444\n",
      "INFO:tensorflow:loss = 4.54806e+10, step = 12801 (0.123 sec)\n",
      "INFO:tensorflow:global_step/sec: 847.781\n",
      "INFO:tensorflow:loss = 1.12514e+11, step = 12901 (0.118 sec)\n",
      "INFO:tensorflow:global_step/sec: 846.547\n",
      "INFO:tensorflow:loss = 8.85222e+10, step = 13001 (0.118 sec)\n",
      "INFO:tensorflow:global_step/sec: 884.533\n",
      "INFO:tensorflow:loss = 6.11221e+10, step = 13101 (0.113 sec)\n",
      "INFO:tensorflow:global_step/sec: 825.124\n",
      "INFO:tensorflow:loss = 1.95519e+11, step = 13201 (0.121 sec)\n",
      "INFO:tensorflow:global_step/sec: 812.426\n",
      "INFO:tensorflow:loss = 7.06335e+10, step = 13301 (0.123 sec)\n",
      "INFO:tensorflow:global_step/sec: 774.323\n",
      "INFO:tensorflow:loss = 7.88776e+10, step = 13401 (0.129 sec)\n",
      "INFO:tensorflow:global_step/sec: 807.227\n",
      "INFO:tensorflow:loss = 9.79921e+10, step = 13501 (0.124 sec)\n",
      "INFO:tensorflow:global_step/sec: 862.091\n",
      "INFO:tensorflow:loss = 8.05874e+10, step = 13601 (0.116 sec)\n",
      "INFO:tensorflow:global_step/sec: 822.706\n",
      "INFO:tensorflow:loss = 9.72683e+10, step = 13701 (0.122 sec)\n",
      "INFO:tensorflow:global_step/sec: 798.781\n",
      "INFO:tensorflow:loss = 5.54927e+10, step = 13801 (0.125 sec)\n",
      "INFO:tensorflow:global_step/sec: 786.682\n",
      "INFO:tensorflow:loss = 8.22884e+10, step = 13901 (0.127 sec)\n",
      "INFO:tensorflow:global_step/sec: 833.946\n",
      "INFO:tensorflow:loss = 8.02762e+10, step = 14001 (0.120 sec)\n",
      "INFO:tensorflow:global_step/sec: 827.24\n",
      "INFO:tensorflow:loss = 5.80792e+10, step = 14101 (0.121 sec)\n",
      "INFO:tensorflow:global_step/sec: 868.56\n",
      "INFO:tensorflow:loss = 3.31875e+10, step = 14201 (0.115 sec)\n",
      "INFO:tensorflow:global_step/sec: 788.464\n",
      "INFO:tensorflow:loss = 9.76143e+10, step = 14301 (0.127 sec)\n",
      "INFO:tensorflow:global_step/sec: 824.579\n",
      "INFO:tensorflow:loss = 6.29551e+10, step = 14401 (0.121 sec)\n",
      "INFO:tensorflow:global_step/sec: 829.442\n",
      "INFO:tensorflow:loss = 8.15589e+10, step = 14501 (0.121 sec)\n",
      "INFO:tensorflow:global_step/sec: 799.968\n",
      "INFO:tensorflow:loss = 4.09196e+10, step = 14601 (0.125 sec)\n",
      "INFO:tensorflow:global_step/sec: 777.985\n",
      "INFO:tensorflow:loss = 5.18763e+10, step = 14701 (0.129 sec)\n",
      "INFO:tensorflow:global_step/sec: 732.098\n",
      "INFO:tensorflow:loss = 1.1349e+11, step = 14801 (0.137 sec)\n",
      "INFO:tensorflow:global_step/sec: 838.468\n",
      "INFO:tensorflow:loss = 4.79744e+10, step = 14901 (0.119 sec)\n",
      "INFO:tensorflow:global_step/sec: 798.155\n",
      "INFO:tensorflow:loss = 1.66018e+11, step = 15001 (0.125 sec)\n",
      "INFO:tensorflow:global_step/sec: 725.469\n",
      "INFO:tensorflow:loss = 7.40207e+10, step = 15101 (0.138 sec)\n",
      "INFO:tensorflow:global_step/sec: 636.327\n",
      "INFO:tensorflow:loss = 5.68305e+10, step = 15201 (0.157 sec)\n",
      "INFO:tensorflow:global_step/sec: 575.576\n",
      "INFO:tensorflow:loss = 1.4461e+11, step = 15301 (0.174 sec)\n",
      "INFO:tensorflow:global_step/sec: 595.848\n",
      "INFO:tensorflow:loss = 2.2115e+10, step = 15401 (0.168 sec)\n",
      "INFO:tensorflow:global_step/sec: 619.114\n",
      "INFO:tensorflow:loss = 6.34306e+10, step = 15501 (0.162 sec)\n",
      "INFO:tensorflow:global_step/sec: 606.995\n",
      "INFO:tensorflow:loss = 7.05209e+10, step = 15601 (0.164 sec)\n",
      "INFO:tensorflow:global_step/sec: 504.707\n",
      "INFO:tensorflow:loss = 9.82794e+10, step = 15701 (0.199 sec)\n",
      "INFO:tensorflow:global_step/sec: 667.531\n",
      "INFO:tensorflow:loss = 4.428e+10, step = 15801 (0.149 sec)\n",
      "INFO:tensorflow:global_step/sec: 697.773\n",
      "INFO:tensorflow:loss = 1.06327e+11, step = 15901 (0.144 sec)\n",
      "INFO:tensorflow:global_step/sec: 705.527\n",
      "INFO:tensorflow:loss = 9.94007e+10, step = 16001 (0.141 sec)\n",
      "INFO:tensorflow:global_step/sec: 725.168\n"
     ]
    },
    {
     "name": "stdout",
     "output_type": "stream",
     "text": [
      "INFO:tensorflow:loss = 4.2545e+10, step = 16101 (0.138 sec)\n",
      "INFO:tensorflow:global_step/sec: 636.578\n",
      "INFO:tensorflow:loss = 2.99563e+10, step = 16201 (0.158 sec)\n",
      "INFO:tensorflow:global_step/sec: 603.132\n",
      "INFO:tensorflow:loss = 1.74897e+11, step = 16301 (0.165 sec)\n",
      "INFO:tensorflow:global_step/sec: 590.281\n",
      "INFO:tensorflow:loss = 5.60105e+10, step = 16401 (0.169 sec)\n",
      "INFO:tensorflow:global_step/sec: 719.848\n",
      "INFO:tensorflow:loss = 1.32348e+11, step = 16501 (0.139 sec)\n",
      "INFO:tensorflow:global_step/sec: 852.485\n",
      "INFO:tensorflow:loss = 5.70093e+10, step = 16601 (0.117 sec)\n",
      "INFO:tensorflow:global_step/sec: 850.791\n",
      "INFO:tensorflow:loss = 7.80698e+10, step = 16701 (0.118 sec)\n",
      "INFO:tensorflow:global_step/sec: 847.939\n",
      "INFO:tensorflow:loss = 5.89704e+10, step = 16801 (0.118 sec)\n",
      "INFO:tensorflow:global_step/sec: 770.018\n",
      "INFO:tensorflow:loss = 5.54862e+10, step = 16901 (0.130 sec)\n",
      "INFO:tensorflow:global_step/sec: 740.703\n",
      "INFO:tensorflow:loss = 7.24299e+10, step = 17001 (0.135 sec)\n",
      "INFO:tensorflow:global_step/sec: 847.004\n",
      "INFO:tensorflow:loss = 4.50055e+10, step = 17101 (0.118 sec)\n",
      "INFO:tensorflow:global_step/sec: 849.177\n",
      "INFO:tensorflow:loss = 8.75328e+10, step = 17201 (0.118 sec)\n",
      "INFO:tensorflow:global_step/sec: 854.425\n",
      "INFO:tensorflow:loss = 1.09138e+11, step = 17301 (0.117 sec)\n",
      "INFO:tensorflow:global_step/sec: 887.918\n",
      "INFO:tensorflow:loss = 1.12673e+11, step = 17401 (0.113 sec)\n",
      "INFO:tensorflow:global_step/sec: 847.99\n",
      "INFO:tensorflow:loss = 1.15554e+11, step = 17501 (0.118 sec)\n",
      "INFO:tensorflow:global_step/sec: 801.897\n",
      "INFO:tensorflow:loss = 7.38351e+10, step = 17601 (0.125 sec)\n",
      "INFO:tensorflow:global_step/sec: 768.947\n",
      "INFO:tensorflow:loss = 1.5476e+11, step = 17701 (0.130 sec)\n",
      "INFO:tensorflow:global_step/sec: 620.513\n",
      "INFO:tensorflow:loss = 7.2421e+10, step = 17801 (0.162 sec)\n",
      "INFO:tensorflow:global_step/sec: 636.769\n",
      "INFO:tensorflow:loss = 1.01133e+11, step = 17901 (0.157 sec)\n",
      "INFO:tensorflow:global_step/sec: 600.539\n",
      "INFO:tensorflow:loss = 8.15023e+10, step = 18001 (0.166 sec)\n",
      "INFO:tensorflow:global_step/sec: 648.234\n",
      "INFO:tensorflow:loss = 8.67737e+10, step = 18101 (0.154 sec)\n",
      "INFO:tensorflow:global_step/sec: 644.546\n",
      "INFO:tensorflow:loss = 1.26432e+11, step = 18201 (0.155 sec)\n",
      "INFO:tensorflow:global_step/sec: 723.805\n",
      "INFO:tensorflow:loss = 4.2395e+10, step = 18301 (0.138 sec)\n",
      "INFO:tensorflow:global_step/sec: 707.008\n",
      "INFO:tensorflow:loss = 1.44618e+11, step = 18401 (0.142 sec)\n",
      "INFO:tensorflow:global_step/sec: 604.401\n",
      "INFO:tensorflow:loss = 6.33254e+10, step = 18501 (0.165 sec)\n",
      "INFO:tensorflow:global_step/sec: 545.432\n",
      "INFO:tensorflow:loss = 1.30477e+11, step = 18601 (0.185 sec)\n",
      "INFO:tensorflow:global_step/sec: 715.333\n",
      "INFO:tensorflow:loss = 5.78979e+10, step = 18701 (0.141 sec)\n",
      "INFO:tensorflow:global_step/sec: 730.466\n",
      "INFO:tensorflow:loss = 1.11449e+11, step = 18801 (0.134 sec)\n",
      "INFO:tensorflow:global_step/sec: 814.678\n",
      "INFO:tensorflow:loss = 8.2475e+10, step = 18901 (0.121 sec)\n",
      "INFO:tensorflow:global_step/sec: 672.848\n",
      "INFO:tensorflow:loss = 8.31041e+10, step = 19001 (0.149 sec)\n",
      "INFO:tensorflow:global_step/sec: 576.378\n",
      "INFO:tensorflow:loss = 4.68187e+10, step = 19101 (0.175 sec)\n",
      "INFO:tensorflow:global_step/sec: 778.889\n",
      "INFO:tensorflow:loss = 1.46149e+11, step = 19201 (0.127 sec)\n",
      "INFO:tensorflow:global_step/sec: 816.88\n",
      "INFO:tensorflow:loss = 1.60397e+11, step = 19301 (0.122 sec)\n",
      "INFO:tensorflow:global_step/sec: 740.692\n",
      "INFO:tensorflow:loss = 1.73453e+11, step = 19401 (0.137 sec)\n",
      "INFO:tensorflow:global_step/sec: 725.125\n",
      "INFO:tensorflow:loss = 8.42048e+10, step = 19501 (0.138 sec)\n",
      "INFO:tensorflow:global_step/sec: 678.598\n",
      "INFO:tensorflow:loss = 4.95705e+10, step = 19601 (0.148 sec)\n",
      "INFO:tensorflow:global_step/sec: 718.813\n",
      "INFO:tensorflow:loss = 2.65898e+11, step = 19701 (0.140 sec)\n",
      "INFO:tensorflow:global_step/sec: 773.126\n",
      "INFO:tensorflow:loss = 5.26382e+10, step = 19801 (0.126 sec)\n",
      "INFO:tensorflow:global_step/sec: 810.47\n",
      "INFO:tensorflow:loss = 8.53165e+10, step = 19901 (0.123 sec)\n",
      "INFO:tensorflow:global_step/sec: 807.983\n",
      "INFO:tensorflow:loss = 8.50335e+10, step = 20001 (0.124 sec)\n",
      "INFO:tensorflow:global_step/sec: 818.224\n",
      "INFO:tensorflow:loss = 1.08732e+11, step = 20101 (0.122 sec)\n",
      "INFO:tensorflow:global_step/sec: 818.64\n",
      "INFO:tensorflow:loss = 3.33401e+10, step = 20201 (0.123 sec)\n",
      "INFO:tensorflow:global_step/sec: 836.085\n",
      "INFO:tensorflow:loss = 1.12442e+11, step = 20301 (0.119 sec)\n",
      "INFO:tensorflow:global_step/sec: 827.581\n",
      "INFO:tensorflow:loss = 7.79375e+10, step = 20401 (0.121 sec)\n",
      "INFO:tensorflow:global_step/sec: 790.571\n",
      "INFO:tensorflow:loss = 2.04625e+11, step = 20501 (0.127 sec)\n",
      "INFO:tensorflow:global_step/sec: 609.142\n",
      "INFO:tensorflow:loss = 1.08957e+11, step = 20601 (0.164 sec)\n",
      "INFO:tensorflow:global_step/sec: 663.046\n",
      "INFO:tensorflow:loss = 7.86486e+10, step = 20701 (0.150 sec)\n",
      "INFO:tensorflow:global_step/sec: 814.592\n",
      "INFO:tensorflow:loss = 6.73887e+10, step = 20801 (0.123 sec)\n",
      "INFO:tensorflow:global_step/sec: 740.664\n",
      "INFO:tensorflow:loss = 9.73414e+10, step = 20901 (0.135 sec)\n",
      "INFO:tensorflow:global_step/sec: 832.958\n",
      "INFO:tensorflow:loss = 6.17615e+10, step = 21001 (0.120 sec)\n",
      "INFO:tensorflow:global_step/sec: 791.383\n",
      "INFO:tensorflow:loss = 1.34209e+11, step = 21101 (0.127 sec)\n",
      "INFO:tensorflow:global_step/sec: 628.126\n",
      "INFO:tensorflow:loss = 9.69718e+10, step = 21201 (0.159 sec)\n",
      "INFO:tensorflow:global_step/sec: 587.896\n",
      "INFO:tensorflow:loss = 2.83001e+10, step = 21301 (0.170 sec)\n",
      "INFO:tensorflow:global_step/sec: 590.134\n",
      "INFO:tensorflow:loss = 2.96031e+10, step = 21401 (0.170 sec)\n",
      "INFO:tensorflow:global_step/sec: 582.584\n",
      "INFO:tensorflow:loss = 2.984e+10, step = 21501 (0.172 sec)\n",
      "INFO:tensorflow:global_step/sec: 613.195\n",
      "INFO:tensorflow:loss = 7.28783e+10, step = 21601 (0.163 sec)\n",
      "INFO:tensorflow:global_step/sec: 618.605\n",
      "INFO:tensorflow:loss = 7.89742e+10, step = 21701 (0.161 sec)\n",
      "INFO:tensorflow:global_step/sec: 609.66\n",
      "INFO:tensorflow:loss = 8.54205e+10, step = 21801 (0.164 sec)\n",
      "INFO:tensorflow:global_step/sec: 600.55\n",
      "INFO:tensorflow:loss = 1.26475e+11, step = 21901 (0.166 sec)\n",
      "INFO:tensorflow:global_step/sec: 582.641\n",
      "INFO:tensorflow:loss = 7.07483e+10, step = 22001 (0.172 sec)\n",
      "INFO:tensorflow:global_step/sec: 556.173\n",
      "INFO:tensorflow:loss = 6.77966e+10, step = 22101 (0.181 sec)\n",
      "INFO:tensorflow:global_step/sec: 563.53\n",
      "INFO:tensorflow:loss = 6.59408e+10, step = 22201 (0.179 sec)\n",
      "INFO:tensorflow:global_step/sec: 536.311\n",
      "INFO:tensorflow:loss = 7.8494e+10, step = 22301 (0.187 sec)\n",
      "INFO:tensorflow:global_step/sec: 582.846\n",
      "INFO:tensorflow:loss = 5.45591e+10, step = 22401 (0.175 sec)\n",
      "INFO:tensorflow:global_step/sec: 551.487\n",
      "INFO:tensorflow:loss = 7.64166e+10, step = 22501 (0.175 sec)\n",
      "INFO:tensorflow:global_step/sec: 569.304\n",
      "INFO:tensorflow:loss = 1.63301e+11, step = 22601 (0.176 sec)\n",
      "INFO:tensorflow:global_step/sec: 621.563\n",
      "INFO:tensorflow:loss = 4.86742e+10, step = 22701 (0.160 sec)\n",
      "INFO:tensorflow:global_step/sec: 574.821\n",
      "INFO:tensorflow:loss = 4.87388e+10, step = 22801 (0.174 sec)\n",
      "INFO:tensorflow:global_step/sec: 755.823\n",
      "INFO:tensorflow:loss = 6.99653e+10, step = 22901 (0.132 sec)\n",
      "INFO:tensorflow:global_step/sec: 772.334\n",
      "INFO:tensorflow:loss = 8.18501e+10, step = 23001 (0.130 sec)\n",
      "INFO:tensorflow:global_step/sec: 499.139\n",
      "INFO:tensorflow:loss = 1.28177e+11, step = 23101 (0.201 sec)\n",
      "INFO:tensorflow:global_step/sec: 541.239\n",
      "INFO:tensorflow:loss = 1.06354e+11, step = 23201 (0.188 sec)\n",
      "INFO:tensorflow:global_step/sec: 575.484\n",
      "INFO:tensorflow:loss = 9.79086e+10, step = 23301 (0.175 sec)\n",
      "INFO:tensorflow:global_step/sec: 639.864\n",
      "INFO:tensorflow:loss = 1.35174e+11, step = 23401 (0.151 sec)\n",
      "INFO:tensorflow:global_step/sec: 810.577\n",
      "INFO:tensorflow:loss = 7.52948e+10, step = 23501 (0.124 sec)\n",
      "INFO:tensorflow:global_step/sec: 834.802\n",
      "INFO:tensorflow:loss = 1.47476e+11, step = 23601 (0.119 sec)\n",
      "INFO:tensorflow:global_step/sec: 727.522\n",
      "INFO:tensorflow:loss = 1.47775e+11, step = 23701 (0.138 sec)\n",
      "INFO:tensorflow:global_step/sec: 645.723\n",
      "INFO:tensorflow:loss = 6.48362e+10, step = 23801 (0.156 sec)\n",
      "INFO:tensorflow:global_step/sec: 770.578\n",
      "INFO:tensorflow:loss = 3.49557e+10, step = 23901 (0.129 sec)\n",
      "INFO:tensorflow:global_step/sec: 822.387\n",
      "INFO:tensorflow:loss = 1.14531e+11, step = 24001 (0.122 sec)\n",
      "INFO:tensorflow:global_step/sec: 837.044\n",
      "INFO:tensorflow:loss = 1.13497e+11, step = 24101 (0.120 sec)\n"
     ]
    },
    {
     "name": "stdout",
     "output_type": "stream",
     "text": [
      "INFO:tensorflow:global_step/sec: 808.806\n",
      "INFO:tensorflow:loss = 8.94404e+10, step = 24201 (0.124 sec)\n",
      "INFO:tensorflow:global_step/sec: 794.15\n",
      "INFO:tensorflow:loss = 1.14481e+11, step = 24301 (0.126 sec)\n",
      "INFO:tensorflow:global_step/sec: 631.197\n",
      "INFO:tensorflow:loss = 5.61752e+10, step = 24401 (0.159 sec)\n",
      "INFO:tensorflow:global_step/sec: 586.218\n",
      "INFO:tensorflow:loss = 9.47448e+10, step = 24501 (0.170 sec)\n",
      "INFO:tensorflow:global_step/sec: 636.517\n",
      "INFO:tensorflow:loss = 4.79966e+10, step = 24601 (0.157 sec)\n",
      "INFO:tensorflow:global_step/sec: 589.507\n",
      "INFO:tensorflow:loss = 1.01608e+11, step = 24701 (0.170 sec)\n",
      "INFO:tensorflow:global_step/sec: 602.54\n",
      "INFO:tensorflow:loss = 1.19791e+11, step = 24801 (0.165 sec)\n",
      "INFO:tensorflow:global_step/sec: 722.664\n",
      "INFO:tensorflow:loss = 4.99066e+10, step = 24901 (0.138 sec)\n",
      "INFO:tensorflow:Saving checkpoints for 25000 into /var/folders/sr/9k0jqkfs33q22ppyt_t7yjt9716826/T/tmpbhqmebe6/model.ckpt.\n",
      "INFO:tensorflow:Loss for final step: 1.45864e+11.\n"
     ]
    },
    {
     "data": {
      "text/plain": [
       "<tensorflow.python.estimator.canned.dnn.DNNRegressor at 0x10d683b38>"
      ]
     },
     "execution_count": 108,
     "metadata": {},
     "output_type": "execute_result"
    }
   ],
   "source": [
    "model.train(input_fn=input_func,steps=25000)"
   ]
  },
  {
   "cell_type": "markdown",
   "metadata": {},
   "source": [
    "** Create a prediction input function and then use the .predict method off your estimator model to create a list or predictions on your test data. **"
   ]
  },
  {
   "cell_type": "code",
   "execution_count": 109,
   "metadata": {
    "collapsed": true
   },
   "outputs": [],
   "source": [
    "predict_input_func = tf.estimator.inputs.pandas_input_fn(\n",
    "      x=X_test,\n",
    "      batch_size=10,\n",
    "      num_epochs=1,\n",
    "      shuffle=False)"
   ]
  },
  {
   "cell_type": "code",
   "execution_count": 110,
   "metadata": {
    "collapsed": true
   },
   "outputs": [],
   "source": [
    "pred_gen = model.predict(predict_input_func)"
   ]
  },
  {
   "cell_type": "code",
   "execution_count": 111,
   "metadata": {},
   "outputs": [
    {
     "name": "stdout",
     "output_type": "stream",
     "text": [
      "INFO:tensorflow:Restoring parameters from /var/folders/sr/9k0jqkfs33q22ppyt_t7yjt9716826/T/tmpbhqmebe6/model.ckpt-25000\n"
     ]
    }
   ],
   "source": [
    "predictions = list(pred_gen)"
   ]
  },
  {
   "cell_type": "markdown",
   "metadata": {},
   "source": [
    "** Calculate the RMSE. Do this manually or use [sklearn.metrics](http://scikit-learn.org/stable/modules/generated/sklearn.metrics.mean_squared_error.html) **"
   ]
  },
  {
   "cell_type": "code",
   "execution_count": 112,
   "metadata": {},
   "outputs": [],
   "source": [
    "final_preds = []\n",
    "for pred in predictions:\n",
    "    final_preds.append(pred['predictions'])"
   ]
  },
  {
   "cell_type": "code",
   "execution_count": 113,
   "metadata": {
    "collapsed": true
   },
   "outputs": [],
   "source": [
    "from sklearn.metrics import mean_squared_error"
   ]
  },
  {
   "cell_type": "code",
   "execution_count": 114,
   "metadata": {},
   "outputs": [
    {
     "data": {
      "text/plain": [
       "98321.662413254002"
      ]
     },
     "execution_count": 114,
     "metadata": {},
     "output_type": "execute_result"
    }
   ],
   "source": [
    "mean_squared_error(y_test,final_preds)**0.5"
   ]
  },
  {
   "cell_type": "markdown",
   "metadata": {},
   "source": [
    "# Great Job!"
   ]
  }
 ],
 "metadata": {
  "kernelspec": {
   "display_name": "Python 3",
   "language": "python",
   "name": "python3"
  },
  "language_info": {
   "codemirror_mode": {
    "name": "ipython",
    "version": 3
   },
   "file_extension": ".py",
   "mimetype": "text/x-python",
   "name": "python",
   "nbconvert_exporter": "python",
   "pygments_lexer": "ipython3",
   "version": "3.6.3"
  }
 },
 "nbformat": 4,
 "nbformat_minor": 2
}
