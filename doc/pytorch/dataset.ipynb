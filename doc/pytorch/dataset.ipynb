{
 "cells": [
  {
   "cell_type": "markdown",
   "metadata": {},
   "source": [
    "# Torch vision"
   ]
  },
  {
   "cell_type": "code",
   "execution_count": 3,
   "metadata": {},
   "outputs": [
    {
     "data": {
      "text/plain": [
       "Dataset ImageFolder\n",
       "    Number of datapoints: 7\n",
       "    Root Location: display_data/testing\n",
       "    Transforms (if any): None\n",
       "    Target Transforms (if any): None"
      ]
     },
     "execution_count": 3,
     "metadata": {},
     "output_type": "execute_result"
    }
   ],
   "source": [
    "import torchvision\n",
    "import torchvision.datasets as datasets\n",
    "from torch.utils.data import DataLoader\n",
    "dataset = datasets.ImageFolder(root='display_data/testing')\n",
    "dataset"
   ]
  },
  {
   "cell_type": "code",
   "execution_count": 10,
   "metadata": {
    "scrolled": true
   },
   "outputs": [
    {
     "data": {
      "text/plain": [
       "([('display_data/testing/s5/1.pgm', 0),\n",
       "  ('display_data/testing/s5/2.pgm', 0),\n",
       "  ('display_data/testing/s5/3.pgm', 0),\n",
       "  ('display_data/testing/s6/1.pgm', 1),\n",
       "  ('display_data/testing/s6/2.pgm', 1),\n",
       "  ('display_data/testing/s7/1.pgm', 2),\n",
       "  ('display_data/testing/s7/2.pgm', 2)],\n",
       " [('display_data/testing/s5/1.pgm', 0),\n",
       "  ('display_data/testing/s5/2.pgm', 0),\n",
       "  ('display_data/testing/s5/3.pgm', 0),\n",
       "  ('display_data/testing/s6/1.pgm', 1),\n",
       "  ('display_data/testing/s6/2.pgm', 1),\n",
       "  ('display_data/testing/s7/1.pgm', 2),\n",
       "  ('display_data/testing/s7/2.pgm', 2)])"
      ]
     },
     "execution_count": 10,
     "metadata": {},
     "output_type": "execute_result"
    }
   ],
   "source": [
    "dataset.imgs, dataset.samples # SAME THING"
   ]
  },
  {
   "cell_type": "code",
   "execution_count": 6,
   "metadata": {},
   "outputs": [
    {
     "data": {
      "text/plain": [
       "['s5', 's6', 's7']"
      ]
     },
     "execution_count": 6,
     "metadata": {},
     "output_type": "execute_result"
    }
   ],
   "source": [
    "dataset.classes"
   ]
  },
  {
   "cell_type": "code",
   "execution_count": 11,
   "metadata": {},
   "outputs": [
    {
     "data": {
      "text/plain": [
       "{'s5': 0, 's6': 1, 's7': 2}"
      ]
     },
     "execution_count": 11,
     "metadata": {},
     "output_type": "execute_result"
    }
   ],
   "source": [
    "dataset.class_to_idx"
   ]
  },
  {
   "cell_type": "markdown",
   "metadata": {},
   "source": [
    "#### DataLoader\n",
    "DataLoader contains all batches"
   ]
  },
  {
   "cell_type": "code",
   "execution_count": 6,
   "metadata": {},
   "outputs": [
    {
     "data": {
      "text/plain": [
       "(3, 7)"
      ]
     },
     "execution_count": 6,
     "metadata": {},
     "output_type": "execute_result"
    }
   ],
   "source": [
    "data_loader = DataLoader(dataset, 3, shuffle=True, num_workers=8)\n",
    "len(data_loader), len(data_loader.dataset)"
   ]
  }
 ],
 "metadata": {
  "kernelspec": {
   "display_name": "Python 3",
   "language": "python",
   "name": "python3"
  },
  "language_info": {
   "codemirror_mode": {
    "name": "ipython",
    "version": 3
   },
   "file_extension": ".py",
   "mimetype": "text/x-python",
   "name": "python",
   "nbconvert_exporter": "python",
   "pygments_lexer": "ipython3",
   "version": "3.8.5"
  }
 },
 "nbformat": 4,
 "nbformat_minor": 2
}
