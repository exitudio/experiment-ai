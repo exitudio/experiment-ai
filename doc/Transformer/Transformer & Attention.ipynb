{
 "cells": [
  {
   "cell_type": "code",
   "execution_count": 1,
   "metadata": {},
   "outputs": [],
   "source": [
    "import torch"
   ]
  },
  {
   "cell_type": "markdown",
   "metadata": {},
   "source": [
    "### Self Attention"
   ]
  },
  {
   "cell_type": "code",
   "execution_count": 2,
   "metadata": {},
   "outputs": [
    {
     "name": "stdout",
     "output_type": "stream",
     "text": [
      "torch.Size([2, 3]) torch.Size([3, 2]) torch.Size([3, 3]) torch.Size([3, 2])\n",
      "W: tensor([[1.0000, 1.0000, 0.5000],\n",
      "        [1.0000, 1.0000, 0.5000],\n",
      "        [0.5000, 0.5000, 1.2500]])\n",
      "Ws: tensor([[0.3837, 0.3837, 0.2327],\n",
      "        [0.3837, 0.3837, 0.2327],\n",
      "        [0.2429, 0.2429, 0.5142]])\n",
      "y: tensor([[0.5000, 2.2500],\n",
      "        [0.5000, 2.2500],\n",
      "        [1.2500, 1.6250]])\n"
     ]
    }
   ],
   "source": [
    "X = torch.Tensor([[0,0,1],\n",
    "                   [1,1,0.5]])\n",
    "XT = X.transpose(0,1)\n",
    "W = XT.mm(X)\n",
    "Ws = torch.nn.functional.softmax(W, dim=1)\n",
    "y = W.mm(XT)\n",
    "print(X.shape, XT.shape, W.shape, y.shape)\n",
    "print(\"W:\", W)\n",
    "print(\"Ws:\", Ws)\n",
    "print(\"y:\", y)"
   ]
  },
  {
   "cell_type": "markdown",
   "metadata": {},
   "source": [
    "### Recommendation System\n",
    "user1 = [1,1,0] => best match with Movie1 = 2 <br>\n",
    "user2 = [0,1,0] => least match with Move2 = 0\n"
   ]
  },
  {
   "cell_type": "code",
   "execution_count": 37,
   "metadata": {},
   "outputs": [
    {
     "data": {
      "text/plain": [
       "tensor([[2., 1., 0.],\n",
       "        [1., 0., 0.]])"
      ]
     },
     "execution_count": 37,
     "metadata": {},
     "output_type": "execute_result"
    }
   ],
   "source": [
    "U = torch.Tensor([[1,1,0],\n",
    "                  [0,1,0]])\n",
    "M = torch.Tensor([[1,1,0],\n",
    "                  [1,0,1],\n",
    "                  [0,0,0]])\n",
    "U.mm(M.T)"
   ]
  }
 ],
 "metadata": {
  "kernelspec": {
   "display_name": "Python 3",
   "language": "python",
   "name": "python3"
  },
  "language_info": {
   "codemirror_mode": {
    "name": "ipython",
    "version": 3
   },
   "file_extension": ".py",
   "mimetype": "text/x-python",
   "name": "python",
   "nbconvert_exporter": "python",
   "pygments_lexer": "ipython3",
   "version": "3.8.5"
  }
 },
 "nbformat": 4,
 "nbformat_minor": 4
}
