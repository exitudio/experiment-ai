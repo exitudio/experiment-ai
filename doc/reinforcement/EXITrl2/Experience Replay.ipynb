{
 "cells": [
  {
   "cell_type": "code",
   "execution_count": 132,
   "metadata": {},
   "outputs": [],
   "source": [
    "%reload_ext autoreload\n",
    "%autoreload 2\n",
    "from EXITrl.helpers import ExperienceReplay2\n",
    "import numpy as np"
   ]
  },
  {
   "cell_type": "code",
   "execution_count": 133,
   "metadata": {},
   "outputs": [
    {
     "data": {
      "text/plain": [
       "(tensor([[  11.,  110.],\n",
       "         [ 111., 1110.]]), tensor([ 22., 222.]), tensor([[ 33.],\n",
       "         [333.]]), tensor([1., 0.]), tensor([[[11., 12.,  3.],\n",
       "          [14., 15., 16.]],\n",
       " \n",
       "         [[21., 22., 23.],\n",
       "          [24., 25., 26.]]]))"
      ]
     },
     "execution_count": 133,
     "metadata": {},
     "output_type": "execute_result"
    }
   ],
   "source": [
    " # 1. convert np object to float\n",
    "# 2. convert np float to tensor float\n",
    "\n",
    "memory = ExperienceReplay2(3, 2)\n",
    "memory.remember([1,10],2,[3],False, [[1,2,3],[4,5,6]])\n",
    "memory.remember([11,110],22,[33], True, [[11,12,3],[14,15,16]])\n",
    "memory.remember([111,1110],222,[333], False, [[21,22,23],[24,25,26]])\n",
    "\n",
    "memory.recall()\n"
   ]
  }
 ],
 "metadata": {
  "kernelspec": {
   "display_name": "Python 3",
   "language": "python",
   "name": "python3"
  },
  "language_info": {
   "codemirror_mode": {
    "name": "ipython",
    "version": 3
   },
   "file_extension": ".py",
   "mimetype": "text/x-python",
   "name": "python",
   "nbconvert_exporter": "python",
   "pygments_lexer": "ipython3",
   "version": "3.6.7"
  }
 },
 "nbformat": 4,
 "nbformat_minor": 2
}
