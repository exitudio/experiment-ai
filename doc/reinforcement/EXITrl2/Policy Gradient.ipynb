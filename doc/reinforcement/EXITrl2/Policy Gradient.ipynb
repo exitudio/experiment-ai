{
 "cells": [
  {
   "cell_type": "markdown",
   "metadata": {},
   "source": [
    "[source](https://github.com/udacity/deep-reinforcement-learning/blob/master/reinforce/REINFORCE.ipynb)"
   ]
  },
  {
   "cell_type": "code",
   "execution_count": 2,
   "metadata": {},
   "outputs": [],
   "source": [
    "%reload_ext autoreload\n",
    "%autoreload 2\n",
    "import sys\n",
    "if \"../\" not in sys.path:\n",
    "  sys.path.append(\"../\") \n",
    "import torch\n",
    "import numpy as np\n",
    "import math\n",
    "from EXITrl.trainer import Trainer\n",
    "from EXITrl.actor import Actor\n",
    "from EXITrl.critic import Critic\n",
    "from EXITrl.helpers import get_simple_model, get_state_action_shape_from_env\n",
    "import gym"
   ]
  },
  {
   "cell_type": "markdown",
   "metadata": {},
   "source": [
    "### REINFORCE\n",
    "- using Monte Carlo\n",
    "- R. Sutton page 328\n",
    "- REINFORCE : “REward Increment = Nonnegative Factor × Offset Reinforcement ×Characteristic Eligibility”"
   ]
  },
  {
   "cell_type": "markdown",
   "metadata": {},
   "source": [
    "![image](../media/REINFORCE.png)"
   ]
  },
  {
   "cell_type": "code",
   "execution_count": 3,
   "metadata": {
    "scrolled": true
   },
   "outputs": [
    {
     "name": "stderr",
     "output_type": "stream",
     "text": [
      "/Users/epinyoanun/miniconda3/lib/python3.6/site-packages/gym/envs/registration.py:14: PkgResourcesDeprecationWarning: Parameters to load are deprecated.  Call .resolve and .require separately.\n",
      "  result = entry_point.load(False)\n"
     ]
    },
    {
     "name": "stdout",
     "output_type": "stream",
     "text": [
      "\u001b[33mWARN: gym.spaces.Box autodetected dtype as <class 'numpy.float32'>. Please provide explicit dtype.\u001b[0m\n",
      "Episode 10\tAverage Score: 18.90 \tother{}\n",
      "Episode 20\tAverage Score: 20.80 \tother{}\n",
      "Episode 30\tAverage Score: 22.40 \tother{}\n",
      "Episode 40\tAverage Score: 25.60 \tother{}\n",
      "Episode 50\tAverage Score: 47.40 \tother{}\n",
      "Episode 60\tAverage Score: 41.20 \tother{}\n",
      "Episode 70\tAverage Score: 38.10 \tother{}\n",
      "Episode 80\tAverage Score: 46.90 \tother{}\n",
      "Episode 90\tAverage Score: 52.00 \tother{}\n",
      "Episode 100\tAverage Score: 55.80 \tother{}\n",
      "Episode 110\tAverage Score: 58.40 \tother{}\n",
      "Episode 120\tAverage Score: 65.00 \tother{}\n",
      "Episode 130\tAverage Score: 83.60 \tother{}\n",
      "Episode 140\tAverage Score: 70.10 \tother{}\n",
      "Episode 150\tAverage Score: 104.80 \tother{}\n",
      "Episode 160\tAverage Score: 140.30 \tother{}\n",
      "Episode 170\tAverage Score: 121.40 \tother{}\n",
      "Episode 180\tAverage Score: 173.20 \tother{}\n",
      "Episode 190\tAverage Score: 194.90 \tother{}\n",
      "Episode 200\tAverage Score: 121.30 \tother{}\n",
      "Episode 210\tAverage Score: 92.20 \tother{}}\n",
      "Episode 220\tAverage Score: 179.30 \tother{}\n",
      "Episode 230\tAverage Score: 155.40 \tother{}\n",
      "Episode 240\tAverage Score: 125.10 \tother{}\n",
      "Episode 250\tAverage Score: 136.00 \tother{}\n",
      "Episode 260\tAverage Score: 132.30 \tother{}\n",
      "Episode 270\tAverage Score: 280.30 \tother{}\n",
      "Episode 280\tAverage Score: 107.80 \tother{}\n",
      "Episode 290\tAverage Score: 83.80 \tother{}}\n",
      "Episode 300\tAverage Score: 104.20 \tother{}\n",
      "Episode 310\tAverage Score: 116.70 \tother{}\n",
      "Episode 320\tAverage Score: 151.90 \tother{}\n",
      "Episode 330\tAverage Score: 235.60 \tother{}\n",
      "Episode 340\tAverage Score: 468.50 \tother{}\n",
      "Episode 350\tAverage Score: 430.50 \tother{}\n",
      "Episode 360\tAverage Score: 500.00 \tother{}\n",
      "Episode 370\tAverage Score: 500.00 \tother{}\n",
      "Episode 380\tAverage Score: 500.00 \tother{}\n",
      "Episode 390\tAverage Score: 488.20 \tother{}\n",
      "Episode 400\tAverage Score: 394.50 \tother{}\n",
      "Episode 410\tAverage Score: 387.20 \tother{}\n",
      "Episode 420\tAverage Score: 363.60 \tother{}\n",
      "Episode 430\tAverage Score: 306.00 \tother{}\n",
      "Episode 440\tAverage Score: 314.60 \tother{}\n",
      "Episode 450\tAverage Score: 232.00 \tother{}\n",
      "Episode 460\tAverage Score: 218.40 \tother{}\n",
      "Episode 470\tAverage Score: 310.00 \tother{}\n",
      "Episode 480\tAverage Score: 225.90 \tother{}\n",
      "Episode 490\tAverage Score: 190.00 \tother{}\n",
      "Episode 500\tAverage Score: 329.00 \tother{}\n"
     ]
    }
   ],
   "source": [
    "try: env.close()\n",
    "except: pass\n",
    "env = gym.make('CartPole-v1')\n",
    "\n",
    "class REINFORCE(Trainer):\n",
    "    def __init__(self, env, num_episodes, gamma, lr):\n",
    "        super().__init__(env, num_episodes)\n",
    "        state_shape, num_action = get_state_action_shape_from_env(env)\n",
    "        \n",
    "        model = get_simple_model(state_shape, 16, num_action)\n",
    "        \n",
    "        self.actor = Actor(model=model, lr=lr)\n",
    "        self.gamma = gamma\n",
    "    \n",
    "    def _loop(self, episode) -> int:\n",
    "        done = False\n",
    "        total_reward, reward = 0, 0\n",
    "        state = self.env.reset()\n",
    "        trajectory = []\n",
    "        for i in range(1000):\n",
    "            action, log_prob = self.actor.softmax_policy(state)\n",
    "            _state, reward, done, _ = self.env.step(action)\n",
    "            trajectory.append((state, reward, done, log_prob))\n",
    "            total_reward += reward\n",
    "            state = _state\n",
    "            if done: break\n",
    "                \n",
    "        loss = []\n",
    "        for t in range(len(trajectory)):\n",
    "            G = sum([self.gamma**k * reward for k, (state, reward, done, _) in enumerate(trajectory[t:])])\n",
    "            _, _, _, log_prob = trajectory[t]\n",
    "            # from Sutton's book said multiply by gamma**t \n",
    "            # but from David course no need too \n",
    "            # I tried both work\n",
    "            \n",
    "            # -log b/c we are trying to maximize reward but the algorithm using Gradient Descent\n",
    "            # and actually it's not a 'loss' just the gradient of policy just write in term of pytorch loss\n",
    "            loss.append(self.gamma**t * G * (-log_prob))\n",
    "        self.actor.update(torch.stack(loss).sum())\n",
    "        return total_reward\n",
    "    \n",
    "    def _policy(self, state):\n",
    "        action, log_prob = self.actor.softmax_policy(state)\n",
    "        return action\n",
    "    \n",
    "s = REINFORCE(env, \n",
    "              num_episodes=500,\n",
    "              gamma=.99,\n",
    "              lr=1e-2)\n",
    "s.train(True)\n"
   ]
  },
  {
   "cell_type": "code",
   "execution_count": 4,
   "metadata": {},
   "outputs": [
    {
     "data": {
      "image/png": "[encoded data removed]",
      "text/plain": [
       "<Figure size 432x288 with 1 Axes>"
      ]
     },
     "metadata": {},
     "output_type": "display_data"
    }
   ],
   "source": [
    "s.plot_rewards()"
   ]
  },
  {
   "cell_type": "markdown",
   "metadata": {},
   "source": [
    "### REINFORCE with Baseline\n",
    "![image](../media/REINFORCE_Baseline.png)"
   ]
  },
  {
   "cell_type": "code",
   "execution_count": null,
   "metadata": {
    "scrolled": true
   },
   "outputs": [
    {
     "name": "stderr",
     "output_type": "stream",
     "text": [
      "/Users/epinyoanun/miniconda3/lib/python3.6/site-packages/gym/envs/registration.py:14: PkgResourcesDeprecationWarning: Parameters to load are deprecated.  Call .resolve and .require separately.\n",
      "  result = entry_point.load(False)\n"
     ]
    },
    {
     "name": "stdout",
     "output_type": "stream",
     "text": [
      "\u001b[33mWARN: gym.spaces.Box autodetected dtype as <class 'numpy.float32'>. Please provide explicit dtype.\u001b[0m\n",
      "Episode 10\tAverage Score: 18.50 \tother{}\n",
      "Episode 20\tAverage Score: 20.60 \tother{}\n",
      "Episode 30\tAverage Score: 24.10 \tother{}\n",
      "Episode 40\tAverage Score: 30.70 \tother{}\n",
      "Episode 50\tAverage Score: 34.70 \tother{}\n",
      "Episode 60\tAverage Score: 40.30 \tother{}\n",
      "Episode 70\tAverage Score: 59.00 \tother{}\n",
      "Episode 80\tAverage Score: 63.20 \tother{}\n",
      "Episode 90\tAverage Score: 90.90 \tother{}\n",
      "Episode 100\tAverage Score: 104.20 \tother{}\n",
      "Episode 110\tAverage Score: 143.90 \tother{}\n",
      "Episode 120\tAverage Score: 182.20 \tother{}\n",
      "Episode 130\tAverage Score: 209.70 \tother{}\n",
      "Episode 140\tAverage Score: 153.80 \tother{}\n",
      "Episode 150\tAverage Score: 156.00 \tother{}\n",
      "Episode 160\tAverage Score: 178.50 \tother{}\n",
      "Episode 170\tAverage Score: 369.90 \tother{}\n",
      "Episode 180\tAverage Score: 352.30 \tother{}\n",
      "Episode 190\tAverage Score: 500.00 \tother{}\n",
      "Episode 200\tAverage Score: 482.20 \tother{}\n",
      "Episode 210\tAverage Score: 471.40 \tother{}\n",
      "Episode 220\tAverage Score: 258.90 \tother{}\n",
      "Episode 230\tAverage Score: 246.00 \tother{}\n",
      "Episode 240\tAverage Score: 473.00 \tother{}\n",
      "Episode 250\tAverage Score: 472.60 \tother{}\n",
      "Episode 260\tAverage Score: 500.00 \tother{}\n",
      "Episode 270\tAverage Score: 500.00 \tother{}\n",
      "Episode 280\tAverage Score: 500.00 \tother{}\n",
      "Episode 290\tAverage Score: 500.00 \tother{}\n",
      "Episode 300\tAverage Score: 496.40 \tother{}\n",
      "Episode 310\tAverage Score: 463.30 \tother{}\n",
      "Episode 311\tAverage Score: 446.80 \tother{}"
     ]
    }
   ],
   "source": [
    "try: env.close()\n",
    "except: pass\n",
    "env = gym.make('CartPole-v1')\n",
    "\n",
    "class REINFORCE_baseline(Trainer):\n",
    "    def __init__(self, env, num_episodes, gamma):\n",
    "        super().__init__(env, num_episodes)\n",
    "        state_shape, num_action = get_state_action_shape_from_env(env)\n",
    "        \n",
    "        self.actor = Actor(\n",
    "                        model=get_simple_model(state_shape, 16, num_action), \n",
    "                        lr=1e-2)\n",
    "        self.critic = Critic(\n",
    "                        model=get_simple_model(state_shape, 16, num_action), \n",
    "                        lr=1e-2)\n",
    "        self.gamma = gamma\n",
    "        self.loss_value_fn = torch.nn.MSELoss(reduction='sum')\n",
    "    \n",
    "    def _loop(self, episode) -> int:\n",
    "        done = False\n",
    "        total_reward, reward = 0, 0\n",
    "        state = self.env.reset()\n",
    "        trajectory = []\n",
    "        for i in range(1000):\n",
    "            action, log_prob = self.actor.softmax_policy(state)\n",
    "            _state, reward, done, _ = self.env.step(action)\n",
    "            trajectory.append((state, action, reward, done, log_prob))\n",
    "            total_reward += reward\n",
    "            state = _state\n",
    "            if done: break\n",
    "                \n",
    "        td_targets = []\n",
    "        qs = []\n",
    "        loss_policy = []\n",
    "        for t in range(len(trajectory)):\n",
    "            G = sum([self.gamma**k * reward for k, (state, action, reward, done, log_prob) in enumerate(trajectory[t:])])\n",
    "            state, action, reward, done, log_prob = trajectory[t]\n",
    "            td_error = G - self.critic.get_value(state)[action]\n",
    "            td_targets.append(G)\n",
    "            qs.append(self.critic.get_value(state)[action])\n",
    "            loss_policy.append(self.gamma**t * td_error * (-log_prob))\n",
    "            \n",
    "        self.actor.update(torch.stack(loss_policy).sum())\n",
    "        self.critic.update(\n",
    "            self.loss_value_fn(\n",
    "                torch.Tensor(td_targets), \n",
    "                torch.stack(qs)\n",
    "            )\n",
    "        )\n",
    "        return total_reward\n",
    "    \n",
    "    def _policy(self, state):\n",
    "        action, log_prob = self.actor.softmax_policy(state)\n",
    "        return action\n",
    "    \n",
    "s = REINFORCE_baseline(env, \n",
    "              num_episodes=500,\n",
    "              gamma=.99)\n",
    "s.train(True)\n"
   ]
  },
  {
   "cell_type": "code",
   "execution_count": null,
   "metadata": {
    "scrolled": true
   },
   "outputs": [],
   "source": [
    "s.plot_rewards()"
   ]
  },
  {
   "cell_type": "markdown",
   "metadata": {},
   "source": [
    "### Actor-Critic\n",
    "![image](../media/Actor-Critic.png)\n",
    "[source](https://github.com/pytorch/examples/blob/6c51ca5a614cfdbdcd4e8c3e70321c5f6defb177/reinforcement_learning/actor_critic.py)"
   ]
  },
  {
   "cell_type": "code",
   "execution_count": null,
   "metadata": {},
   "outputs": [],
   "source": [
    "try: env.close()\n",
    "except: pass\n",
    "env = gym.make('CartPole-v1')\n",
    "\n",
    "class REINFORCE(Trainer):\n",
    "    def __init__(self, env, num_episodes, gamma, lr):\n",
    "        super().__init__(env, num_episodes)\n",
    "        state_shape, num_action = get_state_action_shape_from_env(env)\n",
    "        \n",
    "        model = get_simple_model(state_shape, 16, num_action)\n",
    "        \n",
    "        self.actor = Actor(model=model, lr=lr)\n",
    "        self.gamma = gamma\n",
    "    \n",
    "    def _loop(self, episode) -> int:\n",
    "        done = False\n",
    "        total_reward, reward = 0, 0\n",
    "        state = self.env.reset()\n",
    "        trajectory = []\n",
    "        for i in range(1000):\n",
    "            action, log_prob = self.actor.softmax_policy(state)\n",
    "            _state, reward, done, _ = self.env.step(action)\n",
    "            trajectory.append((state, reward, done, log_prob))\n",
    "            total_reward += reward\n",
    "            state = _state\n",
    "            if done: break\n",
    "                \n",
    "        loss = []\n",
    "        for t in range(len(trajectory)):\n",
    "            G = sum([self.gamma**k * reward for k, (state, reward, done, _) in enumerate(trajectory[t:])])\n",
    "            _, _, _, log_prob = trajectory[t]\n",
    "            # from Sutton's book said multiply by gamma**t \n",
    "            # but from David course no need too \n",
    "            # I tried both work\n",
    "            \n",
    "            # -log b/c we are trying to maximize reward but the algorithm using Gradient Descent\n",
    "            # and actually it's not a 'loss' just the gradient of policy just write in term of pytorch loss\n",
    "            loss.append(self.gamma**t * G * (-log_prob))\n",
    "        self.actor.update(torch.stack(loss).sum())\n",
    "        return total_reward\n",
    "    \n",
    "    def _policy(self, state):\n",
    "        action, log_prob = self.actor.softmax_policy(state)\n",
    "        return action\n",
    "    \n",
    "s = REINFORCE(env, \n",
    "              num_episodes=500,\n",
    "              gamma=.99,\n",
    "              lr=1e-2)\n",
    "s.train(True)\n"
   ]
  }
 ],
 "metadata": {
  "kernelspec": {
   "display_name": "Python 3",
   "language": "python",
   "name": "python3"
  },
  "language_info": {
   "codemirror_mode": {
    "name": "ipython",
    "version": 3
   },
   "file_extension": ".py",
   "mimetype": "text/x-python",
   "name": "python",
   "nbconvert_exporter": "python",
   "pygments_lexer": "ipython3",
   "version": "3.6.7"
  }
 },
 "nbformat": 4,
 "nbformat_minor": 2
}
