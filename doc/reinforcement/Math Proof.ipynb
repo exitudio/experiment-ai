{
 "cells": [
  {
   "cell_type": "code",
   "execution_count": 33,
   "metadata": {},
   "outputs": [
    {
     "name": "stdout",
     "output_type": "stream",
     "text": [
      "1.0\n",
      "1.0\n"
     ]
    }
   ],
   "source": [
    "gamma = 0.9\n",
    "n = 3\n",
    "\n",
    "def geometric_series_infinite(gamma):\n",
    "    return 1/(1-gamma)\n",
    "def geometric_series_partial(n, gamma):\n",
    "    total = 0\n",
    "    for i in range(n):\n",
    "        total += 1*gamma**i\n",
    "    return total\n",
    "\n",
    "# infinite\n",
    "print((1-gamma) * geometric_series_infinite(gamma))\n",
    "\n",
    "# partial\n",
    "print(\n",
    "    (1-gamma) * geometric_series_partial(n, gamma) + \n",
    "    gamma**n\n",
    ")\n"
   ]
  }
 ],
 "metadata": {
  "kernelspec": {
   "display_name": "Python 3",
   "language": "python",
   "name": "python3"
  },
  "language_info": {
   "codemirror_mode": {
    "name": "ipython",
    "version": 3
   },
   "file_extension": ".py",
   "mimetype": "text/x-python",
   "name": "python",
   "nbconvert_exporter": "python",
   "pygments_lexer": "ipython3",
   "version": "3.6.7"
  }
 },
 "nbformat": 4,
 "nbformat_minor": 2
}
