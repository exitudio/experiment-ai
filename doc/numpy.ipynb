{
 "cells": [
  {
   "cell_type": "code",
   "execution_count": 7,
   "metadata": {},
   "outputs": [],
   "source": [
    "import numpy as np"
   ]
  },
  {
   "cell_type": "markdown",
   "metadata": {},
   "source": [
    "### Min Max"
   ]
  },
  {
   "cell_type": "code",
   "execution_count": 3,
   "metadata": {},
   "outputs": [
    {
     "name": "stdout",
     "output_type": "stream",
     "text": [
      "1\n",
      "4\n"
     ]
    },
    {
     "data": {
      "text/plain": [
       "array([1, 2, 3, 4])"
      ]
     },
     "execution_count": 3,
     "metadata": {},
     "output_type": "execute_result"
    }
   ],
   "source": [
    "a = np.array([1,2,3,4])\n",
    "print(a.min())\n",
    "print(a.max())\n",
    "a"
   ]
  },
  {
   "cell_type": "markdown",
   "metadata": {},
   "source": [
    "### Transpose"
   ]
  },
  {
   "cell_type": "code",
   "execution_count": 28,
   "metadata": {},
   "outputs": [
    {
     "name": "stdout",
     "output_type": "stream",
     "text": [
      "[[[1 2 3]\n",
      "  [4 5 6]]]\n",
      "(1, 2, 3)\n",
      "------------\n",
      "[[[1]\n",
      "  [4]]\n",
      "\n",
      " [[2]\n",
      "  [5]]\n",
      "\n",
      " [[3]\n",
      "  [6]]]\n",
      "(3, 2, 1)\n",
      "------------\n",
      "[[[1 4]\n",
      "  [2 5]\n",
      "  [3 6]]]\n",
      "(1, 3, 2)\n"
     ]
    }
   ],
   "source": [
    "X = np.array([[[1,2,3],[4,5,6]]] )\n",
    "print(X)\n",
    "print(X.shape)\n",
    "print('------------')\n",
    "print(X.transpose())\n",
    "print(X.transpose().shape)\n",
    "print('------------')\n",
    "print(X.transpose(0,2,1)) \n",
    "# 1. direction 0 same\n",
    "# 2. move direction 2 to direction 1\n",
    "# 3. move direction 1 to direction 2\n",
    "print(X.transpose(0,2,1).shape)"
   ]
  },
  {
   "cell_type": "markdown",
   "metadata": {
    "collapsed": true
   },
   "source": [
    "### Miscellaneous"
   ]
  },
  {
   "cell_type": "code",
   "execution_count": 11,
   "metadata": {},
   "outputs": [
    {
     "name": "stdout",
     "output_type": "stream",
     "text": [
      "(2, 3)\n",
      "6\n",
      "1\n",
      "[1 2 3 4 5 6]\n",
      "[[1 2]\n",
      " [3 4]\n",
      " [5 6]]\n",
      "[10 11 12 13 14 15 16 17 18 19]\n",
      "[10.         13.33333333 16.66666667 20.        ]\n",
      "(array([0, 1, 1]), array([1, 0, 2]))\n"
     ]
    }
   ],
   "source": [
    "A = np.array([[1,2,3], [4,5,6]])\n",
    "print(A.shape)\n",
    "print(A.max())\n",
    "print(A.min())\n",
    "print(A.flatten())\n",
    "print(A.reshape(-1,2))\n",
    "print(np.arange(start=10, stop=20))\n",
    "print(np.linspace(start=10, stop=20, num =4))\n",
    "print(np.where(A%2==0))"
   ]
  },
  {
   "cell_type": "markdown",
   "metadata": {},
   "source": [
    "### Apply if to batch"
   ]
  },
  {
   "cell_type": "code",
   "execution_count": 3,
   "metadata": {},
   "outputs": [
    {
     "data": {
      "text/plain": [
       "array([[10, 11],\n",
       "       [12,  3]])"
      ]
     },
     "execution_count": 3,
     "metadata": {},
     "output_type": "execute_result"
    }
   ],
   "source": [
    "a = np.array([[0,1],[2,3]])\n",
    "np.where(a>2, a, a+10)"
   ]
  }
 ],
 "metadata": {
  "kernelspec": {
   "display_name": "Python 3",
   "language": "python",
   "name": "python3"
  },
  "language_info": {
   "codemirror_mode": {
    "name": "ipython",
    "version": 3
   },
   "file_extension": ".py",
   "mimetype": "text/x-python",
   "name": "python",
   "nbconvert_exporter": "python",
   "pygments_lexer": "ipython3",
   "version": "3.6.4"
  }
 },
 "nbformat": 4,
 "nbformat_minor": 2
}
