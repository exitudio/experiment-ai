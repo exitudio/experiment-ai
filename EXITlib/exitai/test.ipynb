{
 "cells": [
  {
   "cell_type": "code",
   "execution_count": 1,
   "metadata": {},
   "outputs": [],
   "source": [
    "%reload_ext autoreload\n",
    "%autoreload 2\n",
    "import torch\n",
    "import torchvision.datasets as datasets\n",
    "from torch.utils.data import DataLoader, Dataset\n",
    "import torch.nn as nn\n",
    "import torch.nn.functional as F\n",
    "from torch import optim\n",
    "from torchvision import transforms\n",
    "import torchvision\n",
    "import copy\n",
    "from exitai.learner import Learner\n",
    "from exitai.const import LR_TRACKER\n",
    "\n",
    "%matplotlib inline\n",
    "import matplotlib.pyplot as plt"
   ]
  },
  {
   "cell_type": "code",
   "execution_count": 2,
   "metadata": {},
   "outputs": [
    {
     "data": {
      "text/plain": [
       "<torch._C.Generator at 0x10b2e9b10>"
      ]
     },
     "execution_count": 2,
     "metadata": {},
     "output_type": "execute_result"
    }
   ],
   "source": [
    "device = torch.device(\"cuda\" if torch.cuda.is_available() else \"cpu\")\n",
    "torch.manual_seed(1)"
   ]
  },
  {
   "cell_type": "code",
   "execution_count": 3,
   "metadata": {},
   "outputs": [],
   "source": [
    "class TempDataSet(Dataset):\n",
    "    def __getitem__(self, index):\n",
    "        return torch.tensor([1.,0.]), 1\n",
    "    def __len__(self):\n",
    "        return 3\n",
    "temp_data_set = TempDataSet()\n",
    "data_loader_train = DataLoader(temp_data_set, 2, shuffle=True, num_workers=8)\n",
    "data_loader_test = DataLoader(temp_data_set, 2, shuffle=True, num_workers=8)"
   ]
  },
  {
   "cell_type": "code",
   "execution_count": 4,
   "metadata": {},
   "outputs": [],
   "source": [
    "def model_loss_func(input_data, model, phase):\n",
    "    input, target = input_data\n",
    "    output = model(input)\n",
    "    return output, F.cross_entropy(output, target)\n",
    "    \n",
    "model = nn.Linear(2, 2)"
   ]
  },
  {
   "cell_type": "markdown",
   "metadata": {},
   "source": [
    "### 1. lr_find"
   ]
  },
  {
   "cell_type": "code",
   "execution_count": 5,
   "metadata": {},
   "outputs": [
    {
     "data": {
      "image/png": "[encoded data removed]",
      "text/plain": [
       "<Figure size 432x288 with 1 Axes>"
      ]
     },
     "metadata": {},
     "output_type": "display_data"
    }
   ],
   "source": [
    "learner = Learner(data_loader_train, data_loader_test, model)\n",
    "learner.lr_find(model_loss_func, start_lr=1e-7, end_lr=1, num_it=2, num_batch=1)"
   ]
  },
  {
   "cell_type": "markdown",
   "metadata": {},
   "source": [
    "### 2. fit"
   ]
  },
  {
   "cell_type": "markdown",
   "metadata": {},
   "source": [
    "#### 2.1 LR Cos Annealing + multi layer LR"
   ]
  },
  {
   "cell_type": "code",
   "execution_count": 6,
   "metadata": {
    "scrolled": true
   },
   "outputs": [
    {
     "name": "stdout",
     "output_type": "stream",
     "text": [
      "---- epoch:0 ------\n",
      "   [train] Average loss: 38.1702, acc: 33.33%\n",
      "   [test] Average loss: 0.5860, acc: 100.00%\n",
      "---- epoch:1 ------\n",
      "   [train] Average loss: 0.3418, acc: 100.00%\n",
      "   [test] Average loss: 0.0604, acc: 100.00%\n",
      "---- epoch:2 ------\n",
      "   [train] Average loss: 0.0315, acc: 100.00%\n",
      "   [test] Average loss: 0.0001, acc: 100.00%\n",
      "---- epoch:3 ------\n",
      "   [train] Average loss: 0.0001, acc: 100.00%\n",
      "   [test] Average loss: 0.0000, acc: 100.00%\n",
      "---- epoch:4 ------\n",
      "   [train] Average loss: 0.0000, acc: 100.00%\n",
      "   [test] Average loss: 0.0000, acc: 100.00%\n",
      "---- epoch:5 ------\n",
      "   [train] Average loss: 0.0000, acc: 100.00%\n",
      "   [test] Average loss: 0.0000, acc: 100.00%\n",
      "---- epoch:6 ------\n",
      "   [train] Average loss: 0.0000, acc: 100.00%\n",
      "   [test] Average loss: 0.0000, acc: 100.00%\n",
      "---- epoch:7 ------\n",
      "   [train] Average loss: 0.0000, acc: 100.00%\n",
      "   [test] Average loss: 0.0000, acc: 100.00%\n",
      "---- epoch:8 ------\n",
      "   [train] Average loss: 0.0000, acc: 100.00%\n",
      "   [test] Average loss: 0.0000, acc: 100.00%\n",
      "---- epoch:9 ------\n",
      "   [train] Average loss: 0.0000, acc: 100.00%\n",
      "   [test] Average loss: 0.0000, acc: 100.00%\n",
      "---- epoch:10 ------\n",
      "   [train] Average loss: 0.0000, acc: 100.00%\n",
      "   [test] Average loss: 0.0000, acc: 100.00%\n",
      "---- epoch:11 ------\n",
      "   [train] Average loss: 0.0000, acc: 100.00%\n",
      "   [test] Average loss: 0.0000, acc: 100.00%\n",
      "---- epoch:12 ------\n",
      "   [train] Average loss: 0.0000, acc: 100.00%\n",
      "   [test] Average loss: 0.0000, acc: 100.00%\n",
      "---- epoch:13 ------\n",
      "   [train] Average loss: 0.0000, acc: 100.00%\n",
      "   [test] Average loss: 0.0000, acc: 100.00%\n",
      "---- epoch:14 ------\n",
      "   [train] Average loss: 0.0000, acc: 100.00%\n",
      "   [test] Average loss: 0.0000, acc: 100.00%\n",
      "---- epoch:15 ------\n",
      "   [train] Average loss: 0.0000, acc: 100.00%\n",
      "   [test] Average loss: 0.0000, acc: 100.00%\n",
      "---- epoch:16 ------\n",
      "   [train] Average loss: 0.0000, acc: 100.00%\n",
      "   [test] Average loss: 0.0000, acc: 100.00%\n",
      "---- epoch:17 ------\n",
      "   [train] Average loss: 0.0000, acc: 100.00%\n",
      "   [test] Average loss: 0.0000, acc: 100.00%\n",
      "---- epoch:18 ------\n",
      "   [train] Average loss: 0.0000, acc: 100.00%\n",
      "   [test] Average loss: 0.0000, acc: 100.00%\n",
      "---- epoch:19 ------\n",
      "   [train] Average loss: 0.0000, acc: 100.00%\n",
      "   [test] Average loss: 0.0000, acc: 100.00%\n",
      "---- epoch:20 ------\n",
      "   [train] Average loss: 0.0000, acc: 100.00%\n",
      "   [test] Average loss: 0.0000, acc: 100.00%\n"
     ]
    },
    {
     "data": {
      "image/png": "[encoded data removed]",
      "text/plain": [
       "<Figure size 432x288 with 1 Axes>"
      ]
     },
     "metadata": {},
     "output_type": "display_data"
    }
   ],
   "source": [
    "model = nn.Sequential(\n",
    "    nn.Linear(2, 2), \n",
    "    nn.Linear(2, 2),\n",
    "    nn.Linear(2, 2),\n",
    "    nn.Linear(2, 2),\n",
    ")\n",
    "learner = Learner(data_loader_train, data_loader_test, model)\n",
    "learner.fit(model_loss_func, [0.1, 0.3], callbacks=LR_TRACKER)"
   ]
  },
  {
   "cell_type": "markdown",
   "metadata": {},
   "source": [
    "#### 2.2 static LR"
   ]
  },
  {
   "cell_type": "code",
   "execution_count": 7,
   "metadata": {},
   "outputs": [
    {
     "name": "stdout",
     "output_type": "stream",
     "text": [
      "---- epoch:0 ------\n",
      "   [train] Average loss: 0.2930, acc: 100.00%\n",
      "   [test] Average loss: 0.0000, acc: 100.00%\n",
      "---- epoch:1 ------\n",
      "   [train] Average loss: 0.0000, acc: 100.00%\n",
      "   [test] Average loss: 0.0000, acc: 100.00%\n"
     ]
    },
    {
     "data": {
      "image/png": "[encoded data removed]",
      "text/plain": [
       "<Figure size 432x288 with 1 Axes>"
      ]
     },
     "metadata": {},
     "output_type": "display_data"
    }
   ],
   "source": [
    "learner.fit(model_loss_func, 1, num_epochs=2, cycle=None, callbacks=LR_TRACKER)"
   ]
  },
  {
   "cell_type": "markdown",
   "metadata": {},
   "source": [
    "#### 2.3 no callbacks"
   ]
  },
  {
   "cell_type": "code",
   "execution_count": 8,
   "metadata": {},
   "outputs": [
    {
     "name": "stdout",
     "output_type": "stream",
     "text": [
      "---- epoch:0 ------\n",
      "   [train] Average loss: 0.0000, acc: 100.00%\n",
      "   [test] Average loss: 0.0000, acc: 100.00%\n",
      "---- epoch:1 ------\n",
      "   [train] Average loss: 0.0000, acc: 100.00%\n",
      "   [test] Average loss: 0.0000, acc: 100.00%\n"
     ]
    }
   ],
   "source": [
    "learner.fit(model_loss_func, 1, num_epochs=2)"
   ]
  },
  {
   "cell_type": "markdown",
   "metadata": {},
   "source": [
    "#### 2.4. Predict"
   ]
  },
  {
   "cell_type": "code",
   "execution_count": 9,
   "metadata": {
    "scrolled": true
   },
   "outputs": [
    {
     "name": "stdout",
     "output_type": "stream",
     "text": [
      "   [test] Average loss: 0.0000, acc: 100.00%\n"
     ]
    }
   ],
   "source": [
    "learner.predict(model_loss_func)"
   ]
  },
  {
   "cell_type": "markdown",
   "metadata": {},
   "source": [
    "### 2.5 Skip batch"
   ]
  },
  {
   "cell_type": "code",
   "execution_count": 10,
   "metadata": {},
   "outputs": [
    {
     "name": "stdout",
     "output_type": "stream",
     "text": [
      "---- epoch:0 ------\n",
      "   [train] Average loss: 0.0000, acc: 100.00%\n",
      "   [test] Average loss: 0.0000, acc: 100.00%\n",
      "---- epoch:1 ------\n",
      "   [train] Average loss: 0.0000, acc: 100.00%\n",
      "   [test] Average loss: 0.0000, acc: 100.00%\n"
     ]
    }
   ],
   "source": [
    "def model_loss_func(input_data, model, phase):\n",
    "    input, target = input_data\n",
    "    output = model(input)\n",
    "    return output, F.cross_entropy(output, target), True\n",
    "learner.fit(model_loss_func, 1, num_epochs=2)"
   ]
  },
  {
   "cell_type": "markdown",
   "metadata": {},
   "source": [
    "### 3. Custom Loss function / eval_func"
   ]
  },
  {
   "cell_type": "code",
   "execution_count": 11,
   "metadata": {
    "scrolled": false
   },
   "outputs": [
    {
     "name": "stdout",
     "output_type": "stream",
     "text": [
      "---- epoch:0 ------\n",
      "   [train] Average loss: -15.6992, acc: 0.00%\n",
      "   [test] Average loss: -123.9834, acc: 0.00%\n"
     ]
    },
    {
     "data": {
      "image/png": "[encoded data removed]",
      "text/plain": [
       "<Figure size 432x288 with 1 Axes>"
      ]
     },
     "metadata": {},
     "output_type": "display_data"
    }
   ],
   "source": [
    "class CustomModel(nn.Module):\n",
    "    def __init__(self):\n",
    "        super(CustomModel, self).__init__()\n",
    "        self.fc = nn.Linear(2, 2)\n",
    "        \n",
    "    def forward(self, args):\n",
    "        return self.fc(args), self.fc(args)\n",
    "    \n",
    "class ContrastiveLoss(nn.Module):\n",
    "    def __init__(self, margin=2.0):\n",
    "        super(ContrastiveLoss, self).__init__()\n",
    "        self.margin = margin\n",
    "\n",
    "    def forward(self, output1, output2, target):\n",
    "        sum_output = output1.float() + output2.float()\n",
    "        return torch.mean(sum_output)\n",
    "\n",
    "def eval_func(input_data, output, loss):\n",
    "    input, target = input_data\n",
    "    output1, output2 = output\n",
    "    predict = (output1 - output2)\n",
    "    return predict.eq(target.squeeze().float()).sum().item()\n",
    "\n",
    "def model_loss_func(input_data, model, phase):\n",
    "    input, target = input_data\n",
    "    output1, output2 = model(input)\n",
    "    return (output1, output2), criterion(output1, output2, target)\n",
    "    \n",
    "model = CustomModel()\n",
    "criterion = ContrastiveLoss()\n",
    "learner = Learner(data_loader_train, data_loader_test, model)\n",
    "learner.fit(model_loss_func, [0.1, 0.3], num_epochs=1, callbacks=LR_TRACKER, eval_func=eval_func)"
   ]
  },
  {
   "cell_type": "code",
   "execution_count": null,
   "metadata": {},
   "outputs": [],
   "source": []
  }
 ],
 "metadata": {
  "kernelspec": {
   "display_name": "Python 3",
   "language": "python",
   "name": "python3"
  },
  "language_info": {
   "codemirror_mode": {
    "name": "ipython",
    "version": 3
   },
   "file_extension": ".py",
   "mimetype": "text/x-python",
   "name": "python",
   "nbconvert_exporter": "python",
   "pygments_lexer": "ipython3",
   "version": "3.6.7"
  }
 },
 "nbformat": 4,
 "nbformat_minor": 2
}
